{
  "nbformat": 4,
  "nbformat_minor": 0,
  "metadata": {
    "colab": {
      "provenance": [],
      "authorship_tag": "ABX9TyP5UE9cyunsSeLYT7nXKIf9",
      "include_colab_link": true
    },
    "kernelspec": {
      "name": "python3",
      "display_name": "Python 3"
    },
    "language_info": {
      "name": "python"
    }
  },
  "cells": [
    {
      "cell_type": "markdown",
      "metadata": {
        "id": "view-in-github",
        "colab_type": "text"
      },
      "source": [
        "<a href=\"https://colab.research.google.com/github/Sunnn-y/NaturalLanguageProcessing/blob/main/20231019_%EA%B0%90%EC%A0%95%EB%B6%84%EC%84%9D_%EC%8B%A4%EC%8A%B5(Naive_Bayse%2C_RNN).ipynb\" target=\"_parent\"><img src=\"https://colab.research.google.com/assets/colab-badge.svg\" alt=\"Open In Colab\"/></a>"
      ]
    },
    {
      "cell_type": "markdown",
      "source": [
        "# Naive Bayse 감정분석"
      ],
      "metadata": {
        "id": "prFFm0WZva2e"
      }
    },
    {
      "cell_type": "markdown",
      "source": [
        "- 참고<br/>\n",
        "<img src=\"https://drive.google.com/uc?id=1I7cu4UoWZpDwXgkym1SvijVewoVPuFZr\" height = 300 width = 500>\n",
        "<img src=\"https://drive.google.com/uc?id=1q-DdZoqt0fTpb7mpoFnd6xijM1pRLY34\" height = 500 width = 500>\n"
      ],
      "metadata": {
        "id": "nRp5XlbYV2Cd"
      }
    },
    {
      "cell_type": "markdown",
      "source": [
        "## 실습 1\n",
        "- \"happy weekend\" 라는 단어가 포함된 문장이 긍정일 확률과 부정일 확률은 각각 얼마일까요?"
      ],
      "metadata": {
        "id": "7kc7zgzqvpDf"
      }
    },
    {
      "cell_type": "markdown",
      "source": [
        "### 모델링 날코딩 (진행중)"
      ],
      "metadata": {
        "id": "rupoJ6ApRIej"
      }
    },
    {
      "cell_type": "code",
      "source": [
        "text = [(\"I love you\", \"P\"),\n",
        "        (\"love happy weekend\", \"P\"),\n",
        "        (\"bore work job\", \"N\"),\n",
        "        (\"I hate you\", \"N\"),\n",
        "        (\"bore weekend\", \"N\"),\n",
        "        (\"happy together\", \"P\")]"
      ],
      "metadata": {
        "id": "HSnVZjYyRPPO"
      },
      "execution_count": null,
      "outputs": []
    },
    {
      "cell_type": "code",
      "source": [
        "word = []\n",
        "for doc in text:\n",
        "  word.append(doc[0].split(' '))\n",
        "\n",
        "word"
      ],
      "metadata": {
        "colab": {
          "base_uri": "https://localhost:8080/"
        },
        "id": "a64x4e58yzrv",
        "outputId": "bd6cdb82-322e-4137-dc3b-86ddc9b57cd2"
      },
      "execution_count": null,
      "outputs": [
        {
          "output_type": "execute_result",
          "data": {
            "text/plain": [
              "[['I', 'love', 'you'],\n",
              " ['love', 'happy', 'weekend'],\n",
              " ['bore', 'work', 'job'],\n",
              " ['I', 'hate', 'you'],\n",
              " ['bore', 'weekend'],\n",
              " ['happy', 'together']]"
            ]
          },
          "metadata": {},
          "execution_count": 11
        }
      ]
    },
    {
      "cell_type": "code",
      "source": [
        "# 고유 토큰 추출 후 인덱스 붙이기\n",
        "docu = set() # 중복값 제거를 위해 빈 세트 설정\n",
        "doc_ls = []\n",
        "for doc in text:\n",
        "  doc_ls.append(doc[0])\n",
        "\n",
        "for i in range(len(doc_ls)):\n",
        "  token = doc_ls[i].split(' ')\n",
        "  for k in token:\n",
        "    docu.add(k)\n",
        "\n",
        "docu"
      ],
      "metadata": {
        "colab": {
          "base_uri": "https://localhost:8080/"
        },
        "id": "VAIb-DmK5Xl4",
        "outputId": "8c318664-764a-4e3e-ebcf-739f731c629d"
      },
      "execution_count": null,
      "outputs": [
        {
          "output_type": "execute_result",
          "data": {
            "text/plain": [
              "{'I',\n",
              " 'bore',\n",
              " 'happy',\n",
              " 'hate',\n",
              " 'job',\n",
              " 'love',\n",
              " 'together',\n",
              " 'weekend',\n",
              " 'work',\n",
              " 'you'}"
            ]
          },
          "metadata": {},
          "execution_count": 52
        }
      ]
    },
    {
      "cell_type": "code",
      "source": [
        "docu = list(docu)"
      ],
      "metadata": {
        "id": "bCmhxT5lTSsE"
      },
      "execution_count": null,
      "outputs": []
    },
    {
      "cell_type": "code",
      "source": [
        "# 여기서부터 다시 하기!!\n",
        "count_token = []\n",
        "for doc in text:\n",
        "  # print(doc[1])\n",
        "  if doc[1] == \"P\":\n",
        "#     for i in range(len(docu)):\n",
        "#       count_token.append(doc[0].count(docu[i]))\n",
        "# count_token"
      ],
      "metadata": {
        "id": "gXIbNPef8J5K"
      },
      "execution_count": null,
      "outputs": []
    },
    {
      "cell_type": "markdown",
      "source": [
        "## 실습 1 - 다른 풀이(sklearn 패키지 사용)"
      ],
      "metadata": {
        "id": "1aeFR1yIRSRx"
      }
    },
    {
      "cell_type": "code",
      "execution_count": null,
      "metadata": {
        "id": "JME6v627dW7A"
      },
      "outputs": [],
      "source": [
        "from sklearn.feature_extraction.text import CountVectorizer\n",
        "from sklearn.naive_bayes import MultinomialNB\n",
        "\n",
        "text = [(\"I love you\", \"P\"),\n",
        "        (\"love happy weekend\", \"P\"),\n",
        "        (\"bore work job\", \"N\"),\n",
        "        (\"I hate you\", \"N\"),\n",
        "        (\"bore weekend\", \"N\"),\n",
        "        (\"happy together\", \"P\")]"
      ]
    },
    {
      "cell_type": "code",
      "source": [
        "X_train = [t[0] for t in text]\n",
        "Y_train = [t[1] for t in text]\n",
        "X_train"
      ],
      "metadata": {
        "colab": {
          "base_uri": "https://localhost:8080/"
        },
        "id": "kg-AyBCLYJq5",
        "outputId": "e61bd3a0-9d3d-4cc7-e77a-aec0f47a924a"
      },
      "execution_count": null,
      "outputs": [
        {
          "output_type": "execute_result",
          "data": {
            "text/plain": [
              "['I love you',\n",
              " 'love happy weekend',\n",
              " 'bore work job',\n",
              " 'I hate you',\n",
              " 'bore weekend',\n",
              " 'happy together']"
            ]
          },
          "metadata": {},
          "execution_count": 62
        }
      ]
    },
    {
      "cell_type": "code",
      "source": [
        "Y_train"
      ],
      "metadata": {
        "colab": {
          "base_uri": "https://localhost:8080/"
        },
        "id": "jMOQnCJBY-__",
        "outputId": "9109b6dd-6ce3-417d-8543-7101a805b0b2"
      },
      "execution_count": null,
      "outputs": [
        {
          "output_type": "execute_result",
          "data": {
            "text/plain": [
              "['P', 'P', 'N', 'N', 'N', 'P']"
            ]
          },
          "metadata": {},
          "execution_count": 63
        }
      ]
    },
    {
      "cell_type": "markdown",
      "source": [
        "- sklearn CountVectorizer<br/>\n",
        "https://scikit-learn.org/stable/modules/generated/sklearn.feature_extraction.text.CountVectorizer.html<br/>\n",
        "문서 집합에서 단어 토큰을 생성하고 각 단어수를 세어 BOW 인코딩 벡터를 만든다"
      ],
      "metadata": {
        "id": "FOGZJjsWZFFp"
      }
    },
    {
      "cell_type": "code",
      "source": [
        "count_vect = CountVectorizer() # CountVectorizer 선언\n",
        "X_train_counts = count_vect.fit_transform(X_train) # fit : 학습, transform : 적용  # 토큰화 안 해도 모듈이 알아서 공백으로 토큰화해줌\n",
        "model = MultinomialNB() # MultinomialNB 선언\n",
        "model.fit(X_train_counts, Y_train)"
      ],
      "metadata": {
        "colab": {
          "base_uri": "https://localhost:8080/",
          "height": 74
        },
        "id": "pqwLA83mZBLm",
        "outputId": "ae5993e7-363e-4196-8dc8-61f8d85f4cdb"
      },
      "execution_count": null,
      "outputs": [
        {
          "output_type": "execute_result",
          "data": {
            "text/plain": [
              "MultinomialNB()"
            ],
            "text/html": [
              "<style>#sk-container-id-1 {color: black;background-color: white;}#sk-container-id-1 pre{padding: 0;}#sk-container-id-1 div.sk-toggleable {background-color: white;}#sk-container-id-1 label.sk-toggleable__label {cursor: pointer;display: block;width: 100%;margin-bottom: 0;padding: 0.3em;box-sizing: border-box;text-align: center;}#sk-container-id-1 label.sk-toggleable__label-arrow:before {content: \"▸\";float: left;margin-right: 0.25em;color: #696969;}#sk-container-id-1 label.sk-toggleable__label-arrow:hover:before {color: black;}#sk-container-id-1 div.sk-estimator:hover label.sk-toggleable__label-arrow:before {color: black;}#sk-container-id-1 div.sk-toggleable__content {max-height: 0;max-width: 0;overflow: hidden;text-align: left;background-color: #f0f8ff;}#sk-container-id-1 div.sk-toggleable__content pre {margin: 0.2em;color: black;border-radius: 0.25em;background-color: #f0f8ff;}#sk-container-id-1 input.sk-toggleable__control:checked~div.sk-toggleable__content {max-height: 200px;max-width: 100%;overflow: auto;}#sk-container-id-1 input.sk-toggleable__control:checked~label.sk-toggleable__label-arrow:before {content: \"▾\";}#sk-container-id-1 div.sk-estimator input.sk-toggleable__control:checked~label.sk-toggleable__label {background-color: #d4ebff;}#sk-container-id-1 div.sk-label input.sk-toggleable__control:checked~label.sk-toggleable__label {background-color: #d4ebff;}#sk-container-id-1 input.sk-hidden--visually {border: 0;clip: rect(1px 1px 1px 1px);clip: rect(1px, 1px, 1px, 1px);height: 1px;margin: -1px;overflow: hidden;padding: 0;position: absolute;width: 1px;}#sk-container-id-1 div.sk-estimator {font-family: monospace;background-color: #f0f8ff;border: 1px dotted black;border-radius: 0.25em;box-sizing: border-box;margin-bottom: 0.5em;}#sk-container-id-1 div.sk-estimator:hover {background-color: #d4ebff;}#sk-container-id-1 div.sk-parallel-item::after {content: \"\";width: 100%;border-bottom: 1px solid gray;flex-grow: 1;}#sk-container-id-1 div.sk-label:hover label.sk-toggleable__label {background-color: #d4ebff;}#sk-container-id-1 div.sk-serial::before {content: \"\";position: absolute;border-left: 1px solid gray;box-sizing: border-box;top: 0;bottom: 0;left: 50%;z-index: 0;}#sk-container-id-1 div.sk-serial {display: flex;flex-direction: column;align-items: center;background-color: white;padding-right: 0.2em;padding-left: 0.2em;position: relative;}#sk-container-id-1 div.sk-item {position: relative;z-index: 1;}#sk-container-id-1 div.sk-parallel {display: flex;align-items: stretch;justify-content: center;background-color: white;position: relative;}#sk-container-id-1 div.sk-item::before, #sk-container-id-1 div.sk-parallel-item::before {content: \"\";position: absolute;border-left: 1px solid gray;box-sizing: border-box;top: 0;bottom: 0;left: 50%;z-index: -1;}#sk-container-id-1 div.sk-parallel-item {display: flex;flex-direction: column;z-index: 1;position: relative;background-color: white;}#sk-container-id-1 div.sk-parallel-item:first-child::after {align-self: flex-end;width: 50%;}#sk-container-id-1 div.sk-parallel-item:last-child::after {align-self: flex-start;width: 50%;}#sk-container-id-1 div.sk-parallel-item:only-child::after {width: 0;}#sk-container-id-1 div.sk-dashed-wrapped {border: 1px dashed gray;margin: 0 0.4em 0.5em 0.4em;box-sizing: border-box;padding-bottom: 0.4em;background-color: white;}#sk-container-id-1 div.sk-label label {font-family: monospace;font-weight: bold;display: inline-block;line-height: 1.2em;}#sk-container-id-1 div.sk-label-container {text-align: center;}#sk-container-id-1 div.sk-container {/* jupyter's `normalize.less` sets `[hidden] { display: none; }` but bootstrap.min.css set `[hidden] { display: none !important; }` so we also need the `!important` here to be able to override the default hidden behavior on the sphinx rendered scikit-learn.org. See: https://github.com/scikit-learn/scikit-learn/issues/21755 */display: inline-block !important;position: relative;}#sk-container-id-1 div.sk-text-repr-fallback {display: none;}</style><div id=\"sk-container-id-1\" class=\"sk-top-container\"><div class=\"sk-text-repr-fallback\"><pre>MultinomialNB()</pre><b>In a Jupyter environment, please rerun this cell to show the HTML representation or trust the notebook. <br />On GitHub, the HTML representation is unable to render, please try loading this page with nbviewer.org.</b></div><div class=\"sk-container\" hidden><div class=\"sk-item\"><div class=\"sk-estimator sk-toggleable\"><input class=\"sk-toggleable__control sk-hidden--visually\" id=\"sk-estimator-id-1\" type=\"checkbox\" checked><label for=\"sk-estimator-id-1\" class=\"sk-toggleable__label sk-toggleable__label-arrow\">MultinomialNB</label><div class=\"sk-toggleable__content\"><pre>MultinomialNB()</pre></div></div></div></div></div>"
            ]
          },
          "metadata": {},
          "execution_count": 64
        }
      ]
    },
    {
      "cell_type": "code",
      "source": [
        "# label 예측\n",
        "model.predict(count_vect.transform([\"happy weekend\"]))"
      ],
      "metadata": {
        "colab": {
          "base_uri": "https://localhost:8080/"
        },
        "id": "_rrmpUSkZ0R5",
        "outputId": "3de21ac9-6696-454a-b5f3-ef37ca8f0ba3"
      },
      "execution_count": null,
      "outputs": [
        {
          "output_type": "execute_result",
          "data": {
            "text/plain": [
              "array(['P'], dtype='<U1')"
            ]
          },
          "metadata": {},
          "execution_count": 65
        }
      ]
    },
    {
      "cell_type": "code",
      "source": [
        "# label 예측의 확률값\n",
        "model.predict_proba(count_vect.transform([\"happy weekend\"]))\n",
        "# y label은 설정 안하면 알파벳 순으로 인덱스 매겨짐(N -> P순이니까 N=0, P=1)\n",
        "# 그래서 보통 전처리 단계에서 y label을 숫자로 다 바꿔준다"
      ],
      "metadata": {
        "colab": {
          "base_uri": "https://localhost:8080/"
        },
        "id": "trbtPdjyZ_m3",
        "outputId": "65e610f9-ac80-4e8a-f323-dfbba43bb750"
      },
      "execution_count": null,
      "outputs": [
        {
          "output_type": "execute_result",
          "data": {
            "text/plain": [
              "array([[0.25, 0.75]])"
            ]
          },
          "metadata": {},
          "execution_count": 66
        }
      ]
    },
    {
      "cell_type": "markdown",
      "source": [
        "## 실습 2 (DTM 사용)\n",
        "- 네이버 영화 리뷰데이터로 감정 분석"
      ],
      "metadata": {
        "id": "U_gm3m9wbS4a"
      }
    },
    {
      "cell_type": "code",
      "source": [
        "# 구글 드라이브 마운트(연결)\n",
        "from google.colab import drive\n",
        "drive.mount('/content/drive')"
      ],
      "metadata": {
        "colab": {
          "base_uri": "https://localhost:8080/"
        },
        "id": "BzSzs16QaF2x",
        "outputId": "b05b0c45-2ef4-409d-fa74-accf4ecc10c1"
      },
      "execution_count": null,
      "outputs": [
        {
          "output_type": "stream",
          "name": "stdout",
          "text": [
            "Drive already mounted at /content/drive; to attempt to forcibly remount, call drive.mount(\"/content/drive\", force_remount=True).\n"
          ]
        }
      ]
    },
    {
      "cell_type": "code",
      "source": [
        "import pandas as pd\n",
        "df = pd.read_csv('/content/drive/MyDrive/핀테크 데이터분석/자연어 처리/review.csv',\n",
        "                 sep = '\\t') # tap을 기준으로 파일 저장해서 읽을 때도 tap 옵션 설정해줘야 함\n",
        "# df = df[:100]\n",
        "df.head()"
      ],
      "metadata": {
        "colab": {
          "base_uri": "https://localhost:8080/",
          "height": 206
        },
        "id": "Y3hpinI9b2sh",
        "outputId": "866d94b2-a15a-4153-a56b-298dacd813e1"
      },
      "execution_count": null,
      "outputs": [
        {
          "output_type": "execute_result",
          "data": {
            "text/plain": [
              "         id                                           document  label\n",
              "0   9976970                                아 더빙.. 진짜 짜증나네요 목소리      0\n",
              "1   3819312                  흠...포스터보고 초딩영화줄....오버연기조차 가볍지 않구나      1\n",
              "2  10265843                                  너무재밓었다그래서보는것을추천한다      0\n",
              "3   9045019                      교도소 이야기구먼 ..솔직히 재미는 없다..평점 조정      0\n",
              "4   6483659  사이몬페그의 익살스런 연기가 돋보였던 영화!스파이더맨에서 늙어보이기만 했던 커스틴 ...      1"
            ],
            "text/html": [
              "\n",
              "  <div id=\"df-c793139b-cc72-498b-94c2-fd39c626c89e\" class=\"colab-df-container\">\n",
              "    <div>\n",
              "<style scoped>\n",
              "    .dataframe tbody tr th:only-of-type {\n",
              "        vertical-align: middle;\n",
              "    }\n",
              "\n",
              "    .dataframe tbody tr th {\n",
              "        vertical-align: top;\n",
              "    }\n",
              "\n",
              "    .dataframe thead th {\n",
              "        text-align: right;\n",
              "    }\n",
              "</style>\n",
              "<table border=\"1\" class=\"dataframe\">\n",
              "  <thead>\n",
              "    <tr style=\"text-align: right;\">\n",
              "      <th></th>\n",
              "      <th>id</th>\n",
              "      <th>document</th>\n",
              "      <th>label</th>\n",
              "    </tr>\n",
              "  </thead>\n",
              "  <tbody>\n",
              "    <tr>\n",
              "      <th>0</th>\n",
              "      <td>9976970</td>\n",
              "      <td>아 더빙.. 진짜 짜증나네요 목소리</td>\n",
              "      <td>0</td>\n",
              "    </tr>\n",
              "    <tr>\n",
              "      <th>1</th>\n",
              "      <td>3819312</td>\n",
              "      <td>흠...포스터보고 초딩영화줄....오버연기조차 가볍지 않구나</td>\n",
              "      <td>1</td>\n",
              "    </tr>\n",
              "    <tr>\n",
              "      <th>2</th>\n",
              "      <td>10265843</td>\n",
              "      <td>너무재밓었다그래서보는것을추천한다</td>\n",
              "      <td>0</td>\n",
              "    </tr>\n",
              "    <tr>\n",
              "      <th>3</th>\n",
              "      <td>9045019</td>\n",
              "      <td>교도소 이야기구먼 ..솔직히 재미는 없다..평점 조정</td>\n",
              "      <td>0</td>\n",
              "    </tr>\n",
              "    <tr>\n",
              "      <th>4</th>\n",
              "      <td>6483659</td>\n",
              "      <td>사이몬페그의 익살스런 연기가 돋보였던 영화!스파이더맨에서 늙어보이기만 했던 커스틴 ...</td>\n",
              "      <td>1</td>\n",
              "    </tr>\n",
              "  </tbody>\n",
              "</table>\n",
              "</div>\n",
              "    <div class=\"colab-df-buttons\">\n",
              "\n",
              "  <div class=\"colab-df-container\">\n",
              "    <button class=\"colab-df-convert\" onclick=\"convertToInteractive('df-c793139b-cc72-498b-94c2-fd39c626c89e')\"\n",
              "            title=\"Convert this dataframe to an interactive table.\"\n",
              "            style=\"display:none;\">\n",
              "\n",
              "  <svg xmlns=\"http://www.w3.org/2000/svg\" height=\"24px\" viewBox=\"0 -960 960 960\">\n",
              "    <path d=\"M120-120v-720h720v720H120Zm60-500h600v-160H180v160Zm220 220h160v-160H400v160Zm0 220h160v-160H400v160ZM180-400h160v-160H180v160Zm440 0h160v-160H620v160ZM180-180h160v-160H180v160Zm440 0h160v-160H620v160Z\"/>\n",
              "  </svg>\n",
              "    </button>\n",
              "\n",
              "  <style>\n",
              "    .colab-df-container {\n",
              "      display:flex;\n",
              "      gap: 12px;\n",
              "    }\n",
              "\n",
              "    .colab-df-convert {\n",
              "      background-color: #E8F0FE;\n",
              "      border: none;\n",
              "      border-radius: 50%;\n",
              "      cursor: pointer;\n",
              "      display: none;\n",
              "      fill: #1967D2;\n",
              "      height: 32px;\n",
              "      padding: 0 0 0 0;\n",
              "      width: 32px;\n",
              "    }\n",
              "\n",
              "    .colab-df-convert:hover {\n",
              "      background-color: #E2EBFA;\n",
              "      box-shadow: 0px 1px 2px rgba(60, 64, 67, 0.3), 0px 1px 3px 1px rgba(60, 64, 67, 0.15);\n",
              "      fill: #174EA6;\n",
              "    }\n",
              "\n",
              "    .colab-df-buttons div {\n",
              "      margin-bottom: 4px;\n",
              "    }\n",
              "\n",
              "    [theme=dark] .colab-df-convert {\n",
              "      background-color: #3B4455;\n",
              "      fill: #D2E3FC;\n",
              "    }\n",
              "\n",
              "    [theme=dark] .colab-df-convert:hover {\n",
              "      background-color: #434B5C;\n",
              "      box-shadow: 0px 1px 3px 1px rgba(0, 0, 0, 0.15);\n",
              "      filter: drop-shadow(0px 1px 2px rgba(0, 0, 0, 0.3));\n",
              "      fill: #FFFFFF;\n",
              "    }\n",
              "  </style>\n",
              "\n",
              "    <script>\n",
              "      const buttonEl =\n",
              "        document.querySelector('#df-c793139b-cc72-498b-94c2-fd39c626c89e button.colab-df-convert');\n",
              "      buttonEl.style.display =\n",
              "        google.colab.kernel.accessAllowed ? 'block' : 'none';\n",
              "\n",
              "      async function convertToInteractive(key) {\n",
              "        const element = document.querySelector('#df-c793139b-cc72-498b-94c2-fd39c626c89e');\n",
              "        const dataTable =\n",
              "          await google.colab.kernel.invokeFunction('convertToInteractive',\n",
              "                                                    [key], {});\n",
              "        if (!dataTable) return;\n",
              "\n",
              "        const docLinkHtml = 'Like what you see? Visit the ' +\n",
              "          '<a target=\"_blank\" href=https://colab.research.google.com/notebooks/data_table.ipynb>data table notebook</a>'\n",
              "          + ' to learn more about interactive tables.';\n",
              "        element.innerHTML = '';\n",
              "        dataTable['output_type'] = 'display_data';\n",
              "        await google.colab.output.renderOutput(dataTable, element);\n",
              "        const docLink = document.createElement('div');\n",
              "        docLink.innerHTML = docLinkHtml;\n",
              "        element.appendChild(docLink);\n",
              "      }\n",
              "    </script>\n",
              "  </div>\n",
              "\n",
              "\n",
              "<div id=\"df-1f4df015-349d-48b4-a8cb-6aa5d4054df8\">\n",
              "  <button class=\"colab-df-quickchart\" onclick=\"quickchart('df-1f4df015-349d-48b4-a8cb-6aa5d4054df8')\"\n",
              "            title=\"Suggest charts.\"\n",
              "            style=\"display:none;\">\n",
              "\n",
              "<svg xmlns=\"http://www.w3.org/2000/svg\" height=\"24px\"viewBox=\"0 0 24 24\"\n",
              "     width=\"24px\">\n",
              "    <g>\n",
              "        <path d=\"M19 3H5c-1.1 0-2 .9-2 2v14c0 1.1.9 2 2 2h14c1.1 0 2-.9 2-2V5c0-1.1-.9-2-2-2zM9 17H7v-7h2v7zm4 0h-2V7h2v10zm4 0h-2v-4h2v4z\"/>\n",
              "    </g>\n",
              "</svg>\n",
              "  </button>\n",
              "\n",
              "<style>\n",
              "  .colab-df-quickchart {\n",
              "      --bg-color: #E8F0FE;\n",
              "      --fill-color: #1967D2;\n",
              "      --hover-bg-color: #E2EBFA;\n",
              "      --hover-fill-color: #174EA6;\n",
              "      --disabled-fill-color: #AAA;\n",
              "      --disabled-bg-color: #DDD;\n",
              "  }\n",
              "\n",
              "  [theme=dark] .colab-df-quickchart {\n",
              "      --bg-color: #3B4455;\n",
              "      --fill-color: #D2E3FC;\n",
              "      --hover-bg-color: #434B5C;\n",
              "      --hover-fill-color: #FFFFFF;\n",
              "      --disabled-bg-color: #3B4455;\n",
              "      --disabled-fill-color: #666;\n",
              "  }\n",
              "\n",
              "  .colab-df-quickchart {\n",
              "    background-color: var(--bg-color);\n",
              "    border: none;\n",
              "    border-radius: 50%;\n",
              "    cursor: pointer;\n",
              "    display: none;\n",
              "    fill: var(--fill-color);\n",
              "    height: 32px;\n",
              "    padding: 0;\n",
              "    width: 32px;\n",
              "  }\n",
              "\n",
              "  .colab-df-quickchart:hover {\n",
              "    background-color: var(--hover-bg-color);\n",
              "    box-shadow: 0 1px 2px rgba(60, 64, 67, 0.3), 0 1px 3px 1px rgba(60, 64, 67, 0.15);\n",
              "    fill: var(--button-hover-fill-color);\n",
              "  }\n",
              "\n",
              "  .colab-df-quickchart-complete:disabled,\n",
              "  .colab-df-quickchart-complete:disabled:hover {\n",
              "    background-color: var(--disabled-bg-color);\n",
              "    fill: var(--disabled-fill-color);\n",
              "    box-shadow: none;\n",
              "  }\n",
              "\n",
              "  .colab-df-spinner {\n",
              "    border: 2px solid var(--fill-color);\n",
              "    border-color: transparent;\n",
              "    border-bottom-color: var(--fill-color);\n",
              "    animation:\n",
              "      spin 1s steps(1) infinite;\n",
              "  }\n",
              "\n",
              "  @keyframes spin {\n",
              "    0% {\n",
              "      border-color: transparent;\n",
              "      border-bottom-color: var(--fill-color);\n",
              "      border-left-color: var(--fill-color);\n",
              "    }\n",
              "    20% {\n",
              "      border-color: transparent;\n",
              "      border-left-color: var(--fill-color);\n",
              "      border-top-color: var(--fill-color);\n",
              "    }\n",
              "    30% {\n",
              "      border-color: transparent;\n",
              "      border-left-color: var(--fill-color);\n",
              "      border-top-color: var(--fill-color);\n",
              "      border-right-color: var(--fill-color);\n",
              "    }\n",
              "    40% {\n",
              "      border-color: transparent;\n",
              "      border-right-color: var(--fill-color);\n",
              "      border-top-color: var(--fill-color);\n",
              "    }\n",
              "    60% {\n",
              "      border-color: transparent;\n",
              "      border-right-color: var(--fill-color);\n",
              "    }\n",
              "    80% {\n",
              "      border-color: transparent;\n",
              "      border-right-color: var(--fill-color);\n",
              "      border-bottom-color: var(--fill-color);\n",
              "    }\n",
              "    90% {\n",
              "      border-color: transparent;\n",
              "      border-bottom-color: var(--fill-color);\n",
              "    }\n",
              "  }\n",
              "</style>\n",
              "\n",
              "  <script>\n",
              "    async function quickchart(key) {\n",
              "      const quickchartButtonEl =\n",
              "        document.querySelector('#' + key + ' button');\n",
              "      quickchartButtonEl.disabled = true;  // To prevent multiple clicks.\n",
              "      quickchartButtonEl.classList.add('colab-df-spinner');\n",
              "      try {\n",
              "        const charts = await google.colab.kernel.invokeFunction(\n",
              "            'suggestCharts', [key], {});\n",
              "      } catch (error) {\n",
              "        console.error('Error during call to suggestCharts:', error);\n",
              "      }\n",
              "      quickchartButtonEl.classList.remove('colab-df-spinner');\n",
              "      quickchartButtonEl.classList.add('colab-df-quickchart-complete');\n",
              "    }\n",
              "    (() => {\n",
              "      let quickchartButtonEl =\n",
              "        document.querySelector('#df-1f4df015-349d-48b4-a8cb-6aa5d4054df8 button');\n",
              "      quickchartButtonEl.style.display =\n",
              "        google.colab.kernel.accessAllowed ? 'block' : 'none';\n",
              "    })();\n",
              "  </script>\n",
              "</div>\n",
              "    </div>\n",
              "  </div>\n"
            ]
          },
          "metadata": {},
          "execution_count": 93
        }
      ]
    },
    {
      "cell_type": "markdown",
      "source": [
        "### 토큰화 및 데이터 전처리"
      ],
      "metadata": {
        "id": "sVzhU8ytcAdh"
      }
    },
    {
      "cell_type": "code",
      "source": [
        "# !pip install konlpy"
      ],
      "metadata": {
        "colab": {
          "base_uri": "https://localhost:8080/"
        },
        "id": "nSls74aycJSX",
        "outputId": "970bfb3d-292a-41c3-f0b6-c4a36201525d"
      },
      "execution_count": null,
      "outputs": [
        {
          "output_type": "stream",
          "name": "stdout",
          "text": [
            "Collecting konlpy\n",
            "  Downloading konlpy-0.6.0-py2.py3-none-any.whl (19.4 MB)\n",
            "\u001b[2K     \u001b[90m━━━━━━━━━━━━━━━━━━━━━━━━━━━━━━━━━━━━━━━━\u001b[0m \u001b[32m19.4/19.4 MB\u001b[0m \u001b[31m73.0 MB/s\u001b[0m eta \u001b[36m0:00:00\u001b[0m\n",
            "\u001b[?25hCollecting JPype1>=0.7.0 (from konlpy)\n",
            "  Downloading JPype1-1.4.1-cp310-cp310-manylinux_2_12_x86_64.manylinux2010_x86_64.whl (465 kB)\n",
            "\u001b[2K     \u001b[90m━━━━━━━━━━━━━━━━━━━━━━━━━━━━━━━━━━━━━━━━\u001b[0m \u001b[32m465.3/465.3 kB\u001b[0m \u001b[31m34.4 MB/s\u001b[0m eta \u001b[36m0:00:00\u001b[0m\n",
            "\u001b[?25hRequirement already satisfied: lxml>=4.1.0 in /usr/local/lib/python3.10/dist-packages (from konlpy) (4.9.3)\n",
            "Requirement already satisfied: numpy>=1.6 in /usr/local/lib/python3.10/dist-packages (from konlpy) (1.23.5)\n",
            "Requirement already satisfied: packaging in /usr/local/lib/python3.10/dist-packages (from JPype1>=0.7.0->konlpy) (23.2)\n",
            "Installing collected packages: JPype1, konlpy\n",
            "Successfully installed JPype1-1.4.1 konlpy-0.6.0\n"
          ]
        }
      ]
    },
    {
      "cell_type": "code",
      "source": [
        "from konlpy.tag import Okt\n",
        "tokenizer = Okt()\n",
        "\n",
        "df['morphs'] = None\n",
        "for i, row in df.iterrows():\n",
        "  df['morphs'][i] = ' '.join(tokenizer.morphs(row['document']))"
      ],
      "metadata": {
        "colab": {
          "base_uri": "https://localhost:8080/"
        },
        "id": "4imB0QXIb8o3",
        "outputId": "67b25e9c-8951-46d6-9dd9-62172b320e6d"
      },
      "execution_count": null,
      "outputs": [
        {
          "output_type": "stream",
          "name": "stderr",
          "text": [
            "<ipython-input-94-eab88834c7d3>:6: SettingWithCopyWarning: \n",
            "A value is trying to be set on a copy of a slice from a DataFrame\n",
            "\n",
            "See the caveats in the documentation: https://pandas.pydata.org/pandas-docs/stable/user_guide/indexing.html#returning-a-view-versus-a-copy\n",
            "  df['morphs'][i] = ' '.join(tokenizer.morphs(row['document']))\n"
          ]
        }
      ]
    },
    {
      "cell_type": "code",
      "source": [
        "df.head()"
      ],
      "metadata": {
        "colab": {
          "base_uri": "https://localhost:8080/",
          "height": 206
        },
        "id": "KRkzBSN2cIAU",
        "outputId": "4c8cafa5-1a71-4375-c1f2-0891de6f667f"
      },
      "execution_count": null,
      "outputs": [
        {
          "output_type": "execute_result",
          "data": {
            "text/plain": [
              "         id                                           document  label  \\\n",
              "0   9976970                                아 더빙.. 진짜 짜증나네요 목소리      0   \n",
              "1   3819312                  흠...포스터보고 초딩영화줄....오버연기조차 가볍지 않구나      1   \n",
              "2  10265843                                  너무재밓었다그래서보는것을추천한다      0   \n",
              "3   9045019                      교도소 이야기구먼 ..솔직히 재미는 없다..평점 조정      0   \n",
              "4   6483659  사이몬페그의 익살스런 연기가 돋보였던 영화!스파이더맨에서 늙어보이기만 했던 커스틴 ...      1   \n",
              "\n",
              "                                              morphs  \n",
              "0                               아 더빙 .. 진짜 짜증나네요 목소리  \n",
              "1         흠 ... 포스터 보고 초딩 영화 줄 .... 오버 연기 조차 가볍지 않구나  \n",
              "2                          너 무재 밓었 다그 래서 보는것을 추천 한 다  \n",
              "3                 교도소 이야기 구먼 .. 솔직히 재미 는 없다 .. 평점 조정  \n",
              "4  사이 몬페 그 의 익살스런 연기 가 돋보였던 영화 ! 스파이더맨 에서 늙어 보이기만...  "
            ],
            "text/html": [
              "\n",
              "  <div id=\"df-4b33ba12-8f75-4231-bbc5-975a24a79d9d\" class=\"colab-df-container\">\n",
              "    <div>\n",
              "<style scoped>\n",
              "    .dataframe tbody tr th:only-of-type {\n",
              "        vertical-align: middle;\n",
              "    }\n",
              "\n",
              "    .dataframe tbody tr th {\n",
              "        vertical-align: top;\n",
              "    }\n",
              "\n",
              "    .dataframe thead th {\n",
              "        text-align: right;\n",
              "    }\n",
              "</style>\n",
              "<table border=\"1\" class=\"dataframe\">\n",
              "  <thead>\n",
              "    <tr style=\"text-align: right;\">\n",
              "      <th></th>\n",
              "      <th>id</th>\n",
              "      <th>document</th>\n",
              "      <th>label</th>\n",
              "      <th>morphs</th>\n",
              "    </tr>\n",
              "  </thead>\n",
              "  <tbody>\n",
              "    <tr>\n",
              "      <th>0</th>\n",
              "      <td>9976970</td>\n",
              "      <td>아 더빙.. 진짜 짜증나네요 목소리</td>\n",
              "      <td>0</td>\n",
              "      <td>아 더빙 .. 진짜 짜증나네요 목소리</td>\n",
              "    </tr>\n",
              "    <tr>\n",
              "      <th>1</th>\n",
              "      <td>3819312</td>\n",
              "      <td>흠...포스터보고 초딩영화줄....오버연기조차 가볍지 않구나</td>\n",
              "      <td>1</td>\n",
              "      <td>흠 ... 포스터 보고 초딩 영화 줄 .... 오버 연기 조차 가볍지 않구나</td>\n",
              "    </tr>\n",
              "    <tr>\n",
              "      <th>2</th>\n",
              "      <td>10265843</td>\n",
              "      <td>너무재밓었다그래서보는것을추천한다</td>\n",
              "      <td>0</td>\n",
              "      <td>너 무재 밓었 다그 래서 보는것을 추천 한 다</td>\n",
              "    </tr>\n",
              "    <tr>\n",
              "      <th>3</th>\n",
              "      <td>9045019</td>\n",
              "      <td>교도소 이야기구먼 ..솔직히 재미는 없다..평점 조정</td>\n",
              "      <td>0</td>\n",
              "      <td>교도소 이야기 구먼 .. 솔직히 재미 는 없다 .. 평점 조정</td>\n",
              "    </tr>\n",
              "    <tr>\n",
              "      <th>4</th>\n",
              "      <td>6483659</td>\n",
              "      <td>사이몬페그의 익살스런 연기가 돋보였던 영화!스파이더맨에서 늙어보이기만 했던 커스틴 ...</td>\n",
              "      <td>1</td>\n",
              "      <td>사이 몬페 그 의 익살스런 연기 가 돋보였던 영화 ! 스파이더맨 에서 늙어 보이기만...</td>\n",
              "    </tr>\n",
              "  </tbody>\n",
              "</table>\n",
              "</div>\n",
              "    <div class=\"colab-df-buttons\">\n",
              "\n",
              "  <div class=\"colab-df-container\">\n",
              "    <button class=\"colab-df-convert\" onclick=\"convertToInteractive('df-4b33ba12-8f75-4231-bbc5-975a24a79d9d')\"\n",
              "            title=\"Convert this dataframe to an interactive table.\"\n",
              "            style=\"display:none;\">\n",
              "\n",
              "  <svg xmlns=\"http://www.w3.org/2000/svg\" height=\"24px\" viewBox=\"0 -960 960 960\">\n",
              "    <path d=\"M120-120v-720h720v720H120Zm60-500h600v-160H180v160Zm220 220h160v-160H400v160Zm0 220h160v-160H400v160ZM180-400h160v-160H180v160Zm440 0h160v-160H620v160ZM180-180h160v-160H180v160Zm440 0h160v-160H620v160Z\"/>\n",
              "  </svg>\n",
              "    </button>\n",
              "\n",
              "  <style>\n",
              "    .colab-df-container {\n",
              "      display:flex;\n",
              "      gap: 12px;\n",
              "    }\n",
              "\n",
              "    .colab-df-convert {\n",
              "      background-color: #E8F0FE;\n",
              "      border: none;\n",
              "      border-radius: 50%;\n",
              "      cursor: pointer;\n",
              "      display: none;\n",
              "      fill: #1967D2;\n",
              "      height: 32px;\n",
              "      padding: 0 0 0 0;\n",
              "      width: 32px;\n",
              "    }\n",
              "\n",
              "    .colab-df-convert:hover {\n",
              "      background-color: #E2EBFA;\n",
              "      box-shadow: 0px 1px 2px rgba(60, 64, 67, 0.3), 0px 1px 3px 1px rgba(60, 64, 67, 0.15);\n",
              "      fill: #174EA6;\n",
              "    }\n",
              "\n",
              "    .colab-df-buttons div {\n",
              "      margin-bottom: 4px;\n",
              "    }\n",
              "\n",
              "    [theme=dark] .colab-df-convert {\n",
              "      background-color: #3B4455;\n",
              "      fill: #D2E3FC;\n",
              "    }\n",
              "\n",
              "    [theme=dark] .colab-df-convert:hover {\n",
              "      background-color: #434B5C;\n",
              "      box-shadow: 0px 1px 3px 1px rgba(0, 0, 0, 0.15);\n",
              "      filter: drop-shadow(0px 1px 2px rgba(0, 0, 0, 0.3));\n",
              "      fill: #FFFFFF;\n",
              "    }\n",
              "  </style>\n",
              "\n",
              "    <script>\n",
              "      const buttonEl =\n",
              "        document.querySelector('#df-4b33ba12-8f75-4231-bbc5-975a24a79d9d button.colab-df-convert');\n",
              "      buttonEl.style.display =\n",
              "        google.colab.kernel.accessAllowed ? 'block' : 'none';\n",
              "\n",
              "      async function convertToInteractive(key) {\n",
              "        const element = document.querySelector('#df-4b33ba12-8f75-4231-bbc5-975a24a79d9d');\n",
              "        const dataTable =\n",
              "          await google.colab.kernel.invokeFunction('convertToInteractive',\n",
              "                                                    [key], {});\n",
              "        if (!dataTable) return;\n",
              "\n",
              "        const docLinkHtml = 'Like what you see? Visit the ' +\n",
              "          '<a target=\"_blank\" href=https://colab.research.google.com/notebooks/data_table.ipynb>data table notebook</a>'\n",
              "          + ' to learn more about interactive tables.';\n",
              "        element.innerHTML = '';\n",
              "        dataTable['output_type'] = 'display_data';\n",
              "        await google.colab.output.renderOutput(dataTable, element);\n",
              "        const docLink = document.createElement('div');\n",
              "        docLink.innerHTML = docLinkHtml;\n",
              "        element.appendChild(docLink);\n",
              "      }\n",
              "    </script>\n",
              "  </div>\n",
              "\n",
              "\n",
              "<div id=\"df-0ef739d1-320b-4335-987a-a2d35a80de34\">\n",
              "  <button class=\"colab-df-quickchart\" onclick=\"quickchart('df-0ef739d1-320b-4335-987a-a2d35a80de34')\"\n",
              "            title=\"Suggest charts.\"\n",
              "            style=\"display:none;\">\n",
              "\n",
              "<svg xmlns=\"http://www.w3.org/2000/svg\" height=\"24px\"viewBox=\"0 0 24 24\"\n",
              "     width=\"24px\">\n",
              "    <g>\n",
              "        <path d=\"M19 3H5c-1.1 0-2 .9-2 2v14c0 1.1.9 2 2 2h14c1.1 0 2-.9 2-2V5c0-1.1-.9-2-2-2zM9 17H7v-7h2v7zm4 0h-2V7h2v10zm4 0h-2v-4h2v4z\"/>\n",
              "    </g>\n",
              "</svg>\n",
              "  </button>\n",
              "\n",
              "<style>\n",
              "  .colab-df-quickchart {\n",
              "      --bg-color: #E8F0FE;\n",
              "      --fill-color: #1967D2;\n",
              "      --hover-bg-color: #E2EBFA;\n",
              "      --hover-fill-color: #174EA6;\n",
              "      --disabled-fill-color: #AAA;\n",
              "      --disabled-bg-color: #DDD;\n",
              "  }\n",
              "\n",
              "  [theme=dark] .colab-df-quickchart {\n",
              "      --bg-color: #3B4455;\n",
              "      --fill-color: #D2E3FC;\n",
              "      --hover-bg-color: #434B5C;\n",
              "      --hover-fill-color: #FFFFFF;\n",
              "      --disabled-bg-color: #3B4455;\n",
              "      --disabled-fill-color: #666;\n",
              "  }\n",
              "\n",
              "  .colab-df-quickchart {\n",
              "    background-color: var(--bg-color);\n",
              "    border: none;\n",
              "    border-radius: 50%;\n",
              "    cursor: pointer;\n",
              "    display: none;\n",
              "    fill: var(--fill-color);\n",
              "    height: 32px;\n",
              "    padding: 0;\n",
              "    width: 32px;\n",
              "  }\n",
              "\n",
              "  .colab-df-quickchart:hover {\n",
              "    background-color: var(--hover-bg-color);\n",
              "    box-shadow: 0 1px 2px rgba(60, 64, 67, 0.3), 0 1px 3px 1px rgba(60, 64, 67, 0.15);\n",
              "    fill: var(--button-hover-fill-color);\n",
              "  }\n",
              "\n",
              "  .colab-df-quickchart-complete:disabled,\n",
              "  .colab-df-quickchart-complete:disabled:hover {\n",
              "    background-color: var(--disabled-bg-color);\n",
              "    fill: var(--disabled-fill-color);\n",
              "    box-shadow: none;\n",
              "  }\n",
              "\n",
              "  .colab-df-spinner {\n",
              "    border: 2px solid var(--fill-color);\n",
              "    border-color: transparent;\n",
              "    border-bottom-color: var(--fill-color);\n",
              "    animation:\n",
              "      spin 1s steps(1) infinite;\n",
              "  }\n",
              "\n",
              "  @keyframes spin {\n",
              "    0% {\n",
              "      border-color: transparent;\n",
              "      border-bottom-color: var(--fill-color);\n",
              "      border-left-color: var(--fill-color);\n",
              "    }\n",
              "    20% {\n",
              "      border-color: transparent;\n",
              "      border-left-color: var(--fill-color);\n",
              "      border-top-color: var(--fill-color);\n",
              "    }\n",
              "    30% {\n",
              "      border-color: transparent;\n",
              "      border-left-color: var(--fill-color);\n",
              "      border-top-color: var(--fill-color);\n",
              "      border-right-color: var(--fill-color);\n",
              "    }\n",
              "    40% {\n",
              "      border-color: transparent;\n",
              "      border-right-color: var(--fill-color);\n",
              "      border-top-color: var(--fill-color);\n",
              "    }\n",
              "    60% {\n",
              "      border-color: transparent;\n",
              "      border-right-color: var(--fill-color);\n",
              "    }\n",
              "    80% {\n",
              "      border-color: transparent;\n",
              "      border-right-color: var(--fill-color);\n",
              "      border-bottom-color: var(--fill-color);\n",
              "    }\n",
              "    90% {\n",
              "      border-color: transparent;\n",
              "      border-bottom-color: var(--fill-color);\n",
              "    }\n",
              "  }\n",
              "</style>\n",
              "\n",
              "  <script>\n",
              "    async function quickchart(key) {\n",
              "      const quickchartButtonEl =\n",
              "        document.querySelector('#' + key + ' button');\n",
              "      quickchartButtonEl.disabled = true;  // To prevent multiple clicks.\n",
              "      quickchartButtonEl.classList.add('colab-df-spinner');\n",
              "      try {\n",
              "        const charts = await google.colab.kernel.invokeFunction(\n",
              "            'suggestCharts', [key], {});\n",
              "      } catch (error) {\n",
              "        console.error('Error during call to suggestCharts:', error);\n",
              "      }\n",
              "      quickchartButtonEl.classList.remove('colab-df-spinner');\n",
              "      quickchartButtonEl.classList.add('colab-df-quickchart-complete');\n",
              "    }\n",
              "    (() => {\n",
              "      let quickchartButtonEl =\n",
              "        document.querySelector('#df-0ef739d1-320b-4335-987a-a2d35a80de34 button');\n",
              "      quickchartButtonEl.style.display =\n",
              "        google.colab.kernel.accessAllowed ? 'block' : 'none';\n",
              "    })();\n",
              "  </script>\n",
              "</div>\n",
              "    </div>\n",
              "  </div>\n"
            ]
          },
          "metadata": {},
          "execution_count": 95
        }
      ]
    },
    {
      "cell_type": "code",
      "source": [
        "import re\n",
        "# 한글을 제외한 다른 문자 모두 제거\n",
        "remove_except_ko = re.compile(r\"[^가-힣ㄱ-하-ㅣ\\\\s]\")\n",
        "\n",
        "def preprocess_remove(text):\n",
        "  text = re.sub(remove_except_ko,' ',text).strip()\n",
        "  return text\n",
        "\n",
        "df['morphs'] = df['morphs'].map(lambda x : preprocess_remove(x))\n",
        "df.head()"
      ],
      "metadata": {
        "colab": {
          "base_uri": "https://localhost:8080/",
          "height": 206
        },
        "id": "zNb4yqNuchVo",
        "outputId": "18a3bbd6-36ae-430f-e68b-c9742db1a8b8"
      },
      "execution_count": null,
      "outputs": [
        {
          "output_type": "execute_result",
          "data": {
            "text/plain": [
              "         id                                           document  label  \\\n",
              "0   9976970                                아 더빙.. 진짜 짜증나네요 목소리      0   \n",
              "1   3819312                  흠...포스터보고 초딩영화줄....오버연기조차 가볍지 않구나      1   \n",
              "2  10265843                                  너무재밓었다그래서보는것을추천한다      0   \n",
              "3   9045019                      교도소 이야기구먼 ..솔직히 재미는 없다..평점 조정      0   \n",
              "4   6483659  사이몬페그의 익살스런 연기가 돋보였던 영화!스파이더맨에서 늙어보이기만 했던 커스틴 ...      1   \n",
              "\n",
              "                                              morphs  \n",
              "0                               아 더빙    진짜 짜증나네요 목소리  \n",
              "1         흠     포스터 보고 초딩 영화 줄      오버 연기 조차 가볍지 않구나  \n",
              "2                          너 무재 밓었 다그 래서 보는것을 추천 한 다  \n",
              "3                 교도소 이야기 구먼    솔직히 재미 는 없다    평점 조정  \n",
              "4  사이 몬페 그 의 익살스런 연기 가 돋보였던 영화   스파이더맨 에서 늙어 보이기만...  "
            ],
            "text/html": [
              "\n",
              "  <div id=\"df-9d526ae1-5a61-459c-9842-5ddcfb7e60d8\" class=\"colab-df-container\">\n",
              "    <div>\n",
              "<style scoped>\n",
              "    .dataframe tbody tr th:only-of-type {\n",
              "        vertical-align: middle;\n",
              "    }\n",
              "\n",
              "    .dataframe tbody tr th {\n",
              "        vertical-align: top;\n",
              "    }\n",
              "\n",
              "    .dataframe thead th {\n",
              "        text-align: right;\n",
              "    }\n",
              "</style>\n",
              "<table border=\"1\" class=\"dataframe\">\n",
              "  <thead>\n",
              "    <tr style=\"text-align: right;\">\n",
              "      <th></th>\n",
              "      <th>id</th>\n",
              "      <th>document</th>\n",
              "      <th>label</th>\n",
              "      <th>morphs</th>\n",
              "    </tr>\n",
              "  </thead>\n",
              "  <tbody>\n",
              "    <tr>\n",
              "      <th>0</th>\n",
              "      <td>9976970</td>\n",
              "      <td>아 더빙.. 진짜 짜증나네요 목소리</td>\n",
              "      <td>0</td>\n",
              "      <td>아 더빙    진짜 짜증나네요 목소리</td>\n",
              "    </tr>\n",
              "    <tr>\n",
              "      <th>1</th>\n",
              "      <td>3819312</td>\n",
              "      <td>흠...포스터보고 초딩영화줄....오버연기조차 가볍지 않구나</td>\n",
              "      <td>1</td>\n",
              "      <td>흠     포스터 보고 초딩 영화 줄      오버 연기 조차 가볍지 않구나</td>\n",
              "    </tr>\n",
              "    <tr>\n",
              "      <th>2</th>\n",
              "      <td>10265843</td>\n",
              "      <td>너무재밓었다그래서보는것을추천한다</td>\n",
              "      <td>0</td>\n",
              "      <td>너 무재 밓었 다그 래서 보는것을 추천 한 다</td>\n",
              "    </tr>\n",
              "    <tr>\n",
              "      <th>3</th>\n",
              "      <td>9045019</td>\n",
              "      <td>교도소 이야기구먼 ..솔직히 재미는 없다..평점 조정</td>\n",
              "      <td>0</td>\n",
              "      <td>교도소 이야기 구먼    솔직히 재미 는 없다    평점 조정</td>\n",
              "    </tr>\n",
              "    <tr>\n",
              "      <th>4</th>\n",
              "      <td>6483659</td>\n",
              "      <td>사이몬페그의 익살스런 연기가 돋보였던 영화!스파이더맨에서 늙어보이기만 했던 커스틴 ...</td>\n",
              "      <td>1</td>\n",
              "      <td>사이 몬페 그 의 익살스런 연기 가 돋보였던 영화   스파이더맨 에서 늙어 보이기만...</td>\n",
              "    </tr>\n",
              "  </tbody>\n",
              "</table>\n",
              "</div>\n",
              "    <div class=\"colab-df-buttons\">\n",
              "\n",
              "  <div class=\"colab-df-container\">\n",
              "    <button class=\"colab-df-convert\" onclick=\"convertToInteractive('df-9d526ae1-5a61-459c-9842-5ddcfb7e60d8')\"\n",
              "            title=\"Convert this dataframe to an interactive table.\"\n",
              "            style=\"display:none;\">\n",
              "\n",
              "  <svg xmlns=\"http://www.w3.org/2000/svg\" height=\"24px\" viewBox=\"0 -960 960 960\">\n",
              "    <path d=\"M120-120v-720h720v720H120Zm60-500h600v-160H180v160Zm220 220h160v-160H400v160Zm0 220h160v-160H400v160ZM180-400h160v-160H180v160Zm440 0h160v-160H620v160ZM180-180h160v-160H180v160Zm440 0h160v-160H620v160Z\"/>\n",
              "  </svg>\n",
              "    </button>\n",
              "\n",
              "  <style>\n",
              "    .colab-df-container {\n",
              "      display:flex;\n",
              "      gap: 12px;\n",
              "    }\n",
              "\n",
              "    .colab-df-convert {\n",
              "      background-color: #E8F0FE;\n",
              "      border: none;\n",
              "      border-radius: 50%;\n",
              "      cursor: pointer;\n",
              "      display: none;\n",
              "      fill: #1967D2;\n",
              "      height: 32px;\n",
              "      padding: 0 0 0 0;\n",
              "      width: 32px;\n",
              "    }\n",
              "\n",
              "    .colab-df-convert:hover {\n",
              "      background-color: #E2EBFA;\n",
              "      box-shadow: 0px 1px 2px rgba(60, 64, 67, 0.3), 0px 1px 3px 1px rgba(60, 64, 67, 0.15);\n",
              "      fill: #174EA6;\n",
              "    }\n",
              "\n",
              "    .colab-df-buttons div {\n",
              "      margin-bottom: 4px;\n",
              "    }\n",
              "\n",
              "    [theme=dark] .colab-df-convert {\n",
              "      background-color: #3B4455;\n",
              "      fill: #D2E3FC;\n",
              "    }\n",
              "\n",
              "    [theme=dark] .colab-df-convert:hover {\n",
              "      background-color: #434B5C;\n",
              "      box-shadow: 0px 1px 3px 1px rgba(0, 0, 0, 0.15);\n",
              "      filter: drop-shadow(0px 1px 2px rgba(0, 0, 0, 0.3));\n",
              "      fill: #FFFFFF;\n",
              "    }\n",
              "  </style>\n",
              "\n",
              "    <script>\n",
              "      const buttonEl =\n",
              "        document.querySelector('#df-9d526ae1-5a61-459c-9842-5ddcfb7e60d8 button.colab-df-convert');\n",
              "      buttonEl.style.display =\n",
              "        google.colab.kernel.accessAllowed ? 'block' : 'none';\n",
              "\n",
              "      async function convertToInteractive(key) {\n",
              "        const element = document.querySelector('#df-9d526ae1-5a61-459c-9842-5ddcfb7e60d8');\n",
              "        const dataTable =\n",
              "          await google.colab.kernel.invokeFunction('convertToInteractive',\n",
              "                                                    [key], {});\n",
              "        if (!dataTable) return;\n",
              "\n",
              "        const docLinkHtml = 'Like what you see? Visit the ' +\n",
              "          '<a target=\"_blank\" href=https://colab.research.google.com/notebooks/data_table.ipynb>data table notebook</a>'\n",
              "          + ' to learn more about interactive tables.';\n",
              "        element.innerHTML = '';\n",
              "        dataTable['output_type'] = 'display_data';\n",
              "        await google.colab.output.renderOutput(dataTable, element);\n",
              "        const docLink = document.createElement('div');\n",
              "        docLink.innerHTML = docLinkHtml;\n",
              "        element.appendChild(docLink);\n",
              "      }\n",
              "    </script>\n",
              "  </div>\n",
              "\n",
              "\n",
              "<div id=\"df-44965bdf-f56e-4b2a-85d4-a18e182c4c74\">\n",
              "  <button class=\"colab-df-quickchart\" onclick=\"quickchart('df-44965bdf-f56e-4b2a-85d4-a18e182c4c74')\"\n",
              "            title=\"Suggest charts.\"\n",
              "            style=\"display:none;\">\n",
              "\n",
              "<svg xmlns=\"http://www.w3.org/2000/svg\" height=\"24px\"viewBox=\"0 0 24 24\"\n",
              "     width=\"24px\">\n",
              "    <g>\n",
              "        <path d=\"M19 3H5c-1.1 0-2 .9-2 2v14c0 1.1.9 2 2 2h14c1.1 0 2-.9 2-2V5c0-1.1-.9-2-2-2zM9 17H7v-7h2v7zm4 0h-2V7h2v10zm4 0h-2v-4h2v4z\"/>\n",
              "    </g>\n",
              "</svg>\n",
              "  </button>\n",
              "\n",
              "<style>\n",
              "  .colab-df-quickchart {\n",
              "      --bg-color: #E8F0FE;\n",
              "      --fill-color: #1967D2;\n",
              "      --hover-bg-color: #E2EBFA;\n",
              "      --hover-fill-color: #174EA6;\n",
              "      --disabled-fill-color: #AAA;\n",
              "      --disabled-bg-color: #DDD;\n",
              "  }\n",
              "\n",
              "  [theme=dark] .colab-df-quickchart {\n",
              "      --bg-color: #3B4455;\n",
              "      --fill-color: #D2E3FC;\n",
              "      --hover-bg-color: #434B5C;\n",
              "      --hover-fill-color: #FFFFFF;\n",
              "      --disabled-bg-color: #3B4455;\n",
              "      --disabled-fill-color: #666;\n",
              "  }\n",
              "\n",
              "  .colab-df-quickchart {\n",
              "    background-color: var(--bg-color);\n",
              "    border: none;\n",
              "    border-radius: 50%;\n",
              "    cursor: pointer;\n",
              "    display: none;\n",
              "    fill: var(--fill-color);\n",
              "    height: 32px;\n",
              "    padding: 0;\n",
              "    width: 32px;\n",
              "  }\n",
              "\n",
              "  .colab-df-quickchart:hover {\n",
              "    background-color: var(--hover-bg-color);\n",
              "    box-shadow: 0 1px 2px rgba(60, 64, 67, 0.3), 0 1px 3px 1px rgba(60, 64, 67, 0.15);\n",
              "    fill: var(--button-hover-fill-color);\n",
              "  }\n",
              "\n",
              "  .colab-df-quickchart-complete:disabled,\n",
              "  .colab-df-quickchart-complete:disabled:hover {\n",
              "    background-color: var(--disabled-bg-color);\n",
              "    fill: var(--disabled-fill-color);\n",
              "    box-shadow: none;\n",
              "  }\n",
              "\n",
              "  .colab-df-spinner {\n",
              "    border: 2px solid var(--fill-color);\n",
              "    border-color: transparent;\n",
              "    border-bottom-color: var(--fill-color);\n",
              "    animation:\n",
              "      spin 1s steps(1) infinite;\n",
              "  }\n",
              "\n",
              "  @keyframes spin {\n",
              "    0% {\n",
              "      border-color: transparent;\n",
              "      border-bottom-color: var(--fill-color);\n",
              "      border-left-color: var(--fill-color);\n",
              "    }\n",
              "    20% {\n",
              "      border-color: transparent;\n",
              "      border-left-color: var(--fill-color);\n",
              "      border-top-color: var(--fill-color);\n",
              "    }\n",
              "    30% {\n",
              "      border-color: transparent;\n",
              "      border-left-color: var(--fill-color);\n",
              "      border-top-color: var(--fill-color);\n",
              "      border-right-color: var(--fill-color);\n",
              "    }\n",
              "    40% {\n",
              "      border-color: transparent;\n",
              "      border-right-color: var(--fill-color);\n",
              "      border-top-color: var(--fill-color);\n",
              "    }\n",
              "    60% {\n",
              "      border-color: transparent;\n",
              "      border-right-color: var(--fill-color);\n",
              "    }\n",
              "    80% {\n",
              "      border-color: transparent;\n",
              "      border-right-color: var(--fill-color);\n",
              "      border-bottom-color: var(--fill-color);\n",
              "    }\n",
              "    90% {\n",
              "      border-color: transparent;\n",
              "      border-bottom-color: var(--fill-color);\n",
              "    }\n",
              "  }\n",
              "</style>\n",
              "\n",
              "  <script>\n",
              "    async function quickchart(key) {\n",
              "      const quickchartButtonEl =\n",
              "        document.querySelector('#' + key + ' button');\n",
              "      quickchartButtonEl.disabled = true;  // To prevent multiple clicks.\n",
              "      quickchartButtonEl.classList.add('colab-df-spinner');\n",
              "      try {\n",
              "        const charts = await google.colab.kernel.invokeFunction(\n",
              "            'suggestCharts', [key], {});\n",
              "      } catch (error) {\n",
              "        console.error('Error during call to suggestCharts:', error);\n",
              "      }\n",
              "      quickchartButtonEl.classList.remove('colab-df-spinner');\n",
              "      quickchartButtonEl.classList.add('colab-df-quickchart-complete');\n",
              "    }\n",
              "    (() => {\n",
              "      let quickchartButtonEl =\n",
              "        document.querySelector('#df-44965bdf-f56e-4b2a-85d4-a18e182c4c74 button');\n",
              "      quickchartButtonEl.style.display =\n",
              "        google.colab.kernel.accessAllowed ? 'block' : 'none';\n",
              "    })();\n",
              "  </script>\n",
              "</div>\n",
              "    </div>\n",
              "  </div>\n"
            ]
          },
          "metadata": {},
          "execution_count": 96
        }
      ]
    },
    {
      "cell_type": "code",
      "source": [
        "# 불용어 처리\n",
        "stop_word = ['포스터', '저작권자', '한경', '닷컴', '뉴스룸', '홈페이지', '바로', '네이버', '구독', '채널', '세요', '제공','께서', '라고', '입니다', '습니다', '한다', '에서', '이다', '에게', '으로', '이랑', '까지', '부터', '하다', '한데', '통해', '위해', '때문' ]\n",
        "\n",
        "def preprocess(text):\n",
        "  text = text.split()\n",
        "  text = [i for i in text if len(i)>1]\n",
        "  text = [i for i in text if i not in stop_word]\n",
        "  return text"
      ],
      "metadata": {
        "id": "sjIgXIRdchTk"
      },
      "execution_count": null,
      "outputs": []
    },
    {
      "cell_type": "code",
      "source": [
        "# 토큰화 + 토큰리스트 생성\n",
        "def make_tokens(df):\n",
        "  df['tokens'] = None\n",
        "  for i, row in df.iterrows():\n",
        "    if i%1000==0:\n",
        "      print(i,'/',len(df))\n",
        "    token = preprocess(df['morphs'][i])\n",
        "    df['tokens'][i] = ' '.join(token)\n",
        "  return df\n",
        "\n",
        "df = make_tokens(df)"
      ],
      "metadata": {
        "colab": {
          "base_uri": "https://localhost:8080/"
        },
        "id": "D90m4qN6chQw",
        "outputId": "e63a6333-a1f9-41a1-c032-62da53224dd9"
      },
      "execution_count": null,
      "outputs": [
        {
          "output_type": "stream",
          "name": "stdout",
          "text": [
            "0 / 10000\n"
          ]
        },
        {
          "output_type": "stream",
          "name": "stderr",
          "text": [
            "<ipython-input-98-86dc58720036>:8: SettingWithCopyWarning: \n",
            "A value is trying to be set on a copy of a slice from a DataFrame\n",
            "\n",
            "See the caveats in the documentation: https://pandas.pydata.org/pandas-docs/stable/user_guide/indexing.html#returning-a-view-versus-a-copy\n",
            "  df['tokens'][i] = ' '.join(token)\n"
          ]
        },
        {
          "output_type": "stream",
          "name": "stdout",
          "text": [
            "1000 / 10000\n",
            "2000 / 10000\n",
            "3000 / 10000\n",
            "4000 / 10000\n",
            "5000 / 10000\n",
            "6000 / 10000\n",
            "7000 / 10000\n",
            "8000 / 10000\n",
            "9000 / 10000\n"
          ]
        }
      ]
    },
    {
      "cell_type": "code",
      "source": [
        "df.head()"
      ],
      "metadata": {
        "colab": {
          "base_uri": "https://localhost:8080/",
          "height": 223
        },
        "id": "EBdpgdacchN8",
        "outputId": "43bf138e-5c83-4ef2-c573-96f8bd80a708"
      },
      "execution_count": null,
      "outputs": [
        {
          "output_type": "execute_result",
          "data": {
            "text/plain": [
              "         id                                           document  label  \\\n",
              "0   9976970                                아 더빙.. 진짜 짜증나네요 목소리      0   \n",
              "1   3819312                  흠...포스터보고 초딩영화줄....오버연기조차 가볍지 않구나      1   \n",
              "2  10265843                                  너무재밓었다그래서보는것을추천한다      0   \n",
              "3   9045019                      교도소 이야기구먼 ..솔직히 재미는 없다..평점 조정      0   \n",
              "4   6483659  사이몬페그의 익살스런 연기가 돋보였던 영화!스파이더맨에서 늙어보이기만 했던 커스틴 ...      1   \n",
              "\n",
              "                                              morphs  \\\n",
              "0                               아 더빙    진짜 짜증나네요 목소리   \n",
              "1         흠     포스터 보고 초딩 영화 줄      오버 연기 조차 가볍지 않구나   \n",
              "2                          너 무재 밓었 다그 래서 보는것을 추천 한 다   \n",
              "3                 교도소 이야기 구먼    솔직히 재미 는 없다    평점 조정   \n",
              "4  사이 몬페 그 의 익살스런 연기 가 돋보였던 영화   스파이더맨 에서 늙어 보이기만...   \n",
              "\n",
              "                                              tokens  \n",
              "0                                    더빙 진짜 짜증나네요 목소리  \n",
              "1                          보고 초딩 영화 오버 연기 조차 가볍지 않구나  \n",
              "2                                무재 밓었 다그 래서 보는것을 추천  \n",
              "3                         교도소 이야기 구먼 솔직히 재미 없다 평점 조정  \n",
              "4  사이 몬페 익살스런 연기 돋보였던 영화 스파이더맨 늙어 보이기만 했던 커스틴 던스트...  "
            ],
            "text/html": [
              "\n",
              "  <div id=\"df-a5990bf6-451c-4d2a-a239-8ab133a45ac4\" class=\"colab-df-container\">\n",
              "    <div>\n",
              "<style scoped>\n",
              "    .dataframe tbody tr th:only-of-type {\n",
              "        vertical-align: middle;\n",
              "    }\n",
              "\n",
              "    .dataframe tbody tr th {\n",
              "        vertical-align: top;\n",
              "    }\n",
              "\n",
              "    .dataframe thead th {\n",
              "        text-align: right;\n",
              "    }\n",
              "</style>\n",
              "<table border=\"1\" class=\"dataframe\">\n",
              "  <thead>\n",
              "    <tr style=\"text-align: right;\">\n",
              "      <th></th>\n",
              "      <th>id</th>\n",
              "      <th>document</th>\n",
              "      <th>label</th>\n",
              "      <th>morphs</th>\n",
              "      <th>tokens</th>\n",
              "    </tr>\n",
              "  </thead>\n",
              "  <tbody>\n",
              "    <tr>\n",
              "      <th>0</th>\n",
              "      <td>9976970</td>\n",
              "      <td>아 더빙.. 진짜 짜증나네요 목소리</td>\n",
              "      <td>0</td>\n",
              "      <td>아 더빙    진짜 짜증나네요 목소리</td>\n",
              "      <td>더빙 진짜 짜증나네요 목소리</td>\n",
              "    </tr>\n",
              "    <tr>\n",
              "      <th>1</th>\n",
              "      <td>3819312</td>\n",
              "      <td>흠...포스터보고 초딩영화줄....오버연기조차 가볍지 않구나</td>\n",
              "      <td>1</td>\n",
              "      <td>흠     포스터 보고 초딩 영화 줄      오버 연기 조차 가볍지 않구나</td>\n",
              "      <td>보고 초딩 영화 오버 연기 조차 가볍지 않구나</td>\n",
              "    </tr>\n",
              "    <tr>\n",
              "      <th>2</th>\n",
              "      <td>10265843</td>\n",
              "      <td>너무재밓었다그래서보는것을추천한다</td>\n",
              "      <td>0</td>\n",
              "      <td>너 무재 밓었 다그 래서 보는것을 추천 한 다</td>\n",
              "      <td>무재 밓었 다그 래서 보는것을 추천</td>\n",
              "    </tr>\n",
              "    <tr>\n",
              "      <th>3</th>\n",
              "      <td>9045019</td>\n",
              "      <td>교도소 이야기구먼 ..솔직히 재미는 없다..평점 조정</td>\n",
              "      <td>0</td>\n",
              "      <td>교도소 이야기 구먼    솔직히 재미 는 없다    평점 조정</td>\n",
              "      <td>교도소 이야기 구먼 솔직히 재미 없다 평점 조정</td>\n",
              "    </tr>\n",
              "    <tr>\n",
              "      <th>4</th>\n",
              "      <td>6483659</td>\n",
              "      <td>사이몬페그의 익살스런 연기가 돋보였던 영화!스파이더맨에서 늙어보이기만 했던 커스틴 ...</td>\n",
              "      <td>1</td>\n",
              "      <td>사이 몬페 그 의 익살스런 연기 가 돋보였던 영화   스파이더맨 에서 늙어 보이기만...</td>\n",
              "      <td>사이 몬페 익살스런 연기 돋보였던 영화 스파이더맨 늙어 보이기만 했던 커스틴 던스트...</td>\n",
              "    </tr>\n",
              "  </tbody>\n",
              "</table>\n",
              "</div>\n",
              "    <div class=\"colab-df-buttons\">\n",
              "\n",
              "  <div class=\"colab-df-container\">\n",
              "    <button class=\"colab-df-convert\" onclick=\"convertToInteractive('df-a5990bf6-451c-4d2a-a239-8ab133a45ac4')\"\n",
              "            title=\"Convert this dataframe to an interactive table.\"\n",
              "            style=\"display:none;\">\n",
              "\n",
              "  <svg xmlns=\"http://www.w3.org/2000/svg\" height=\"24px\" viewBox=\"0 -960 960 960\">\n",
              "    <path d=\"M120-120v-720h720v720H120Zm60-500h600v-160H180v160Zm220 220h160v-160H400v160Zm0 220h160v-160H400v160ZM180-400h160v-160H180v160Zm440 0h160v-160H620v160ZM180-180h160v-160H180v160Zm440 0h160v-160H620v160Z\"/>\n",
              "  </svg>\n",
              "    </button>\n",
              "\n",
              "  <style>\n",
              "    .colab-df-container {\n",
              "      display:flex;\n",
              "      gap: 12px;\n",
              "    }\n",
              "\n",
              "    .colab-df-convert {\n",
              "      background-color: #E8F0FE;\n",
              "      border: none;\n",
              "      border-radius: 50%;\n",
              "      cursor: pointer;\n",
              "      display: none;\n",
              "      fill: #1967D2;\n",
              "      height: 32px;\n",
              "      padding: 0 0 0 0;\n",
              "      width: 32px;\n",
              "    }\n",
              "\n",
              "    .colab-df-convert:hover {\n",
              "      background-color: #E2EBFA;\n",
              "      box-shadow: 0px 1px 2px rgba(60, 64, 67, 0.3), 0px 1px 3px 1px rgba(60, 64, 67, 0.15);\n",
              "      fill: #174EA6;\n",
              "    }\n",
              "\n",
              "    .colab-df-buttons div {\n",
              "      margin-bottom: 4px;\n",
              "    }\n",
              "\n",
              "    [theme=dark] .colab-df-convert {\n",
              "      background-color: #3B4455;\n",
              "      fill: #D2E3FC;\n",
              "    }\n",
              "\n",
              "    [theme=dark] .colab-df-convert:hover {\n",
              "      background-color: #434B5C;\n",
              "      box-shadow: 0px 1px 3px 1px rgba(0, 0, 0, 0.15);\n",
              "      filter: drop-shadow(0px 1px 2px rgba(0, 0, 0, 0.3));\n",
              "      fill: #FFFFFF;\n",
              "    }\n",
              "  </style>\n",
              "\n",
              "    <script>\n",
              "      const buttonEl =\n",
              "        document.querySelector('#df-a5990bf6-451c-4d2a-a239-8ab133a45ac4 button.colab-df-convert');\n",
              "      buttonEl.style.display =\n",
              "        google.colab.kernel.accessAllowed ? 'block' : 'none';\n",
              "\n",
              "      async function convertToInteractive(key) {\n",
              "        const element = document.querySelector('#df-a5990bf6-451c-4d2a-a239-8ab133a45ac4');\n",
              "        const dataTable =\n",
              "          await google.colab.kernel.invokeFunction('convertToInteractive',\n",
              "                                                    [key], {});\n",
              "        if (!dataTable) return;\n",
              "\n",
              "        const docLinkHtml = 'Like what you see? Visit the ' +\n",
              "          '<a target=\"_blank\" href=https://colab.research.google.com/notebooks/data_table.ipynb>data table notebook</a>'\n",
              "          + ' to learn more about interactive tables.';\n",
              "        element.innerHTML = '';\n",
              "        dataTable['output_type'] = 'display_data';\n",
              "        await google.colab.output.renderOutput(dataTable, element);\n",
              "        const docLink = document.createElement('div');\n",
              "        docLink.innerHTML = docLinkHtml;\n",
              "        element.appendChild(docLink);\n",
              "      }\n",
              "    </script>\n",
              "  </div>\n",
              "\n",
              "\n",
              "<div id=\"df-c66aa91e-70c2-4183-87f6-4f7f63c44800\">\n",
              "  <button class=\"colab-df-quickchart\" onclick=\"quickchart('df-c66aa91e-70c2-4183-87f6-4f7f63c44800')\"\n",
              "            title=\"Suggest charts.\"\n",
              "            style=\"display:none;\">\n",
              "\n",
              "<svg xmlns=\"http://www.w3.org/2000/svg\" height=\"24px\"viewBox=\"0 0 24 24\"\n",
              "     width=\"24px\">\n",
              "    <g>\n",
              "        <path d=\"M19 3H5c-1.1 0-2 .9-2 2v14c0 1.1.9 2 2 2h14c1.1 0 2-.9 2-2V5c0-1.1-.9-2-2-2zM9 17H7v-7h2v7zm4 0h-2V7h2v10zm4 0h-2v-4h2v4z\"/>\n",
              "    </g>\n",
              "</svg>\n",
              "  </button>\n",
              "\n",
              "<style>\n",
              "  .colab-df-quickchart {\n",
              "      --bg-color: #E8F0FE;\n",
              "      --fill-color: #1967D2;\n",
              "      --hover-bg-color: #E2EBFA;\n",
              "      --hover-fill-color: #174EA6;\n",
              "      --disabled-fill-color: #AAA;\n",
              "      --disabled-bg-color: #DDD;\n",
              "  }\n",
              "\n",
              "  [theme=dark] .colab-df-quickchart {\n",
              "      --bg-color: #3B4455;\n",
              "      --fill-color: #D2E3FC;\n",
              "      --hover-bg-color: #434B5C;\n",
              "      --hover-fill-color: #FFFFFF;\n",
              "      --disabled-bg-color: #3B4455;\n",
              "      --disabled-fill-color: #666;\n",
              "  }\n",
              "\n",
              "  .colab-df-quickchart {\n",
              "    background-color: var(--bg-color);\n",
              "    border: none;\n",
              "    border-radius: 50%;\n",
              "    cursor: pointer;\n",
              "    display: none;\n",
              "    fill: var(--fill-color);\n",
              "    height: 32px;\n",
              "    padding: 0;\n",
              "    width: 32px;\n",
              "  }\n",
              "\n",
              "  .colab-df-quickchart:hover {\n",
              "    background-color: var(--hover-bg-color);\n",
              "    box-shadow: 0 1px 2px rgba(60, 64, 67, 0.3), 0 1px 3px 1px rgba(60, 64, 67, 0.15);\n",
              "    fill: var(--button-hover-fill-color);\n",
              "  }\n",
              "\n",
              "  .colab-df-quickchart-complete:disabled,\n",
              "  .colab-df-quickchart-complete:disabled:hover {\n",
              "    background-color: var(--disabled-bg-color);\n",
              "    fill: var(--disabled-fill-color);\n",
              "    box-shadow: none;\n",
              "  }\n",
              "\n",
              "  .colab-df-spinner {\n",
              "    border: 2px solid var(--fill-color);\n",
              "    border-color: transparent;\n",
              "    border-bottom-color: var(--fill-color);\n",
              "    animation:\n",
              "      spin 1s steps(1) infinite;\n",
              "  }\n",
              "\n",
              "  @keyframes spin {\n",
              "    0% {\n",
              "      border-color: transparent;\n",
              "      border-bottom-color: var(--fill-color);\n",
              "      border-left-color: var(--fill-color);\n",
              "    }\n",
              "    20% {\n",
              "      border-color: transparent;\n",
              "      border-left-color: var(--fill-color);\n",
              "      border-top-color: var(--fill-color);\n",
              "    }\n",
              "    30% {\n",
              "      border-color: transparent;\n",
              "      border-left-color: var(--fill-color);\n",
              "      border-top-color: var(--fill-color);\n",
              "      border-right-color: var(--fill-color);\n",
              "    }\n",
              "    40% {\n",
              "      border-color: transparent;\n",
              "      border-right-color: var(--fill-color);\n",
              "      border-top-color: var(--fill-color);\n",
              "    }\n",
              "    60% {\n",
              "      border-color: transparent;\n",
              "      border-right-color: var(--fill-color);\n",
              "    }\n",
              "    80% {\n",
              "      border-color: transparent;\n",
              "      border-right-color: var(--fill-color);\n",
              "      border-bottom-color: var(--fill-color);\n",
              "    }\n",
              "    90% {\n",
              "      border-color: transparent;\n",
              "      border-bottom-color: var(--fill-color);\n",
              "    }\n",
              "  }\n",
              "</style>\n",
              "\n",
              "  <script>\n",
              "    async function quickchart(key) {\n",
              "      const quickchartButtonEl =\n",
              "        document.querySelector('#' + key + ' button');\n",
              "      quickchartButtonEl.disabled = true;  // To prevent multiple clicks.\n",
              "      quickchartButtonEl.classList.add('colab-df-spinner');\n",
              "      try {\n",
              "        const charts = await google.colab.kernel.invokeFunction(\n",
              "            'suggestCharts', [key], {});\n",
              "      } catch (error) {\n",
              "        console.error('Error during call to suggestCharts:', error);\n",
              "      }\n",
              "      quickchartButtonEl.classList.remove('colab-df-spinner');\n",
              "      quickchartButtonEl.classList.add('colab-df-quickchart-complete');\n",
              "    }\n",
              "    (() => {\n",
              "      let quickchartButtonEl =\n",
              "        document.querySelector('#df-c66aa91e-70c2-4183-87f6-4f7f63c44800 button');\n",
              "      quickchartButtonEl.style.display =\n",
              "        google.colab.kernel.accessAllowed ? 'block' : 'none';\n",
              "    })();\n",
              "  </script>\n",
              "</div>\n",
              "    </div>\n",
              "  </div>\n"
            ]
          },
          "metadata": {},
          "execution_count": 99
        }
      ]
    },
    {
      "cell_type": "markdown",
      "source": [
        "### 감정 분석 모델링"
      ],
      "metadata": {
        "id": "GLj60buck6HD"
      }
    },
    {
      "cell_type": "code",
      "source": [
        "x = df.iloc[:, -1]\n",
        "y = df.iloc[:, 2]"
      ],
      "metadata": {
        "id": "kttBd1ZAfDnq"
      },
      "execution_count": null,
      "outputs": []
    },
    {
      "cell_type": "code",
      "source": [
        "# 훈련데이터, 테스트데이터 분리\n",
        "from sklearn.model_selection import train_test_split\n",
        "\n",
        "x_train, x_test, y_train, y_test = train_test_split(x, y, test_size = 0.2,\n",
        "                                                    random_state = 2) # test_size 의 디폴트값은 0.25"
      ],
      "metadata": {
        "id": "AAkbPSIPelXG"
      },
      "execution_count": null,
      "outputs": []
    },
    {
      "cell_type": "code",
      "source": [
        "from sklearn.feature_extraction.text import CountVectorizer\n",
        "from sklearn.naive_bayes import MultinomialNB\n",
        "from sklearn.metrics import accuracy_score"
      ],
      "metadata": {
        "id": "eaYhk4uBhgn0"
      },
      "execution_count": null,
      "outputs": []
    },
    {
      "cell_type": "code",
      "source": [
        "# DTM - Document Term Matrix 사용\n",
        "dtmvector = CountVectorizer()\n",
        "dtmvector.fit(x_train)\n",
        "x_train_dtm = dtmvector.transform(x_train)\n",
        "print(x_train_dtm.shape)"
      ],
      "metadata": {
        "colab": {
          "base_uri": "https://localhost:8080/"
        },
        "id": "I0h9Tzx3hi5E",
        "outputId": "3d5c77c2-e462-456b-a9a0-fb6eefb98c1f"
      },
      "execution_count": null,
      "outputs": [
        {
          "output_type": "stream",
          "name": "stdout",
          "text": [
            "(8000, 17339)\n"
          ]
        }
      ]
    },
    {
      "cell_type": "code",
      "source": [
        "model = MultinomialNB()\n",
        "model.fit(x_train_dtm, y_train)"
      ],
      "metadata": {
        "colab": {
          "base_uri": "https://localhost:8080/",
          "height": 74
        },
        "id": "2gWyAY2KhsEM",
        "outputId": "34422b56-166b-4fef-bd31-8d13f586dd8d"
      },
      "execution_count": null,
      "outputs": [
        {
          "output_type": "execute_result",
          "data": {
            "text/plain": [
              "MultinomialNB()"
            ],
            "text/html": [
              "<style>#sk-container-id-2 {color: black;background-color: white;}#sk-container-id-2 pre{padding: 0;}#sk-container-id-2 div.sk-toggleable {background-color: white;}#sk-container-id-2 label.sk-toggleable__label {cursor: pointer;display: block;width: 100%;margin-bottom: 0;padding: 0.3em;box-sizing: border-box;text-align: center;}#sk-container-id-2 label.sk-toggleable__label-arrow:before {content: \"▸\";float: left;margin-right: 0.25em;color: #696969;}#sk-container-id-2 label.sk-toggleable__label-arrow:hover:before {color: black;}#sk-container-id-2 div.sk-estimator:hover label.sk-toggleable__label-arrow:before {color: black;}#sk-container-id-2 div.sk-toggleable__content {max-height: 0;max-width: 0;overflow: hidden;text-align: left;background-color: #f0f8ff;}#sk-container-id-2 div.sk-toggleable__content pre {margin: 0.2em;color: black;border-radius: 0.25em;background-color: #f0f8ff;}#sk-container-id-2 input.sk-toggleable__control:checked~div.sk-toggleable__content {max-height: 200px;max-width: 100%;overflow: auto;}#sk-container-id-2 input.sk-toggleable__control:checked~label.sk-toggleable__label-arrow:before {content: \"▾\";}#sk-container-id-2 div.sk-estimator input.sk-toggleable__control:checked~label.sk-toggleable__label {background-color: #d4ebff;}#sk-container-id-2 div.sk-label input.sk-toggleable__control:checked~label.sk-toggleable__label {background-color: #d4ebff;}#sk-container-id-2 input.sk-hidden--visually {border: 0;clip: rect(1px 1px 1px 1px);clip: rect(1px, 1px, 1px, 1px);height: 1px;margin: -1px;overflow: hidden;padding: 0;position: absolute;width: 1px;}#sk-container-id-2 div.sk-estimator {font-family: monospace;background-color: #f0f8ff;border: 1px dotted black;border-radius: 0.25em;box-sizing: border-box;margin-bottom: 0.5em;}#sk-container-id-2 div.sk-estimator:hover {background-color: #d4ebff;}#sk-container-id-2 div.sk-parallel-item::after {content: \"\";width: 100%;border-bottom: 1px solid gray;flex-grow: 1;}#sk-container-id-2 div.sk-label:hover label.sk-toggleable__label {background-color: #d4ebff;}#sk-container-id-2 div.sk-serial::before {content: \"\";position: absolute;border-left: 1px solid gray;box-sizing: border-box;top: 0;bottom: 0;left: 50%;z-index: 0;}#sk-container-id-2 div.sk-serial {display: flex;flex-direction: column;align-items: center;background-color: white;padding-right: 0.2em;padding-left: 0.2em;position: relative;}#sk-container-id-2 div.sk-item {position: relative;z-index: 1;}#sk-container-id-2 div.sk-parallel {display: flex;align-items: stretch;justify-content: center;background-color: white;position: relative;}#sk-container-id-2 div.sk-item::before, #sk-container-id-2 div.sk-parallel-item::before {content: \"\";position: absolute;border-left: 1px solid gray;box-sizing: border-box;top: 0;bottom: 0;left: 50%;z-index: -1;}#sk-container-id-2 div.sk-parallel-item {display: flex;flex-direction: column;z-index: 1;position: relative;background-color: white;}#sk-container-id-2 div.sk-parallel-item:first-child::after {align-self: flex-end;width: 50%;}#sk-container-id-2 div.sk-parallel-item:last-child::after {align-self: flex-start;width: 50%;}#sk-container-id-2 div.sk-parallel-item:only-child::after {width: 0;}#sk-container-id-2 div.sk-dashed-wrapped {border: 1px dashed gray;margin: 0 0.4em 0.5em 0.4em;box-sizing: border-box;padding-bottom: 0.4em;background-color: white;}#sk-container-id-2 div.sk-label label {font-family: monospace;font-weight: bold;display: inline-block;line-height: 1.2em;}#sk-container-id-2 div.sk-label-container {text-align: center;}#sk-container-id-2 div.sk-container {/* jupyter's `normalize.less` sets `[hidden] { display: none; }` but bootstrap.min.css set `[hidden] { display: none !important; }` so we also need the `!important` here to be able to override the default hidden behavior on the sphinx rendered scikit-learn.org. See: https://github.com/scikit-learn/scikit-learn/issues/21755 */display: inline-block !important;position: relative;}#sk-container-id-2 div.sk-text-repr-fallback {display: none;}</style><div id=\"sk-container-id-2\" class=\"sk-top-container\"><div class=\"sk-text-repr-fallback\"><pre>MultinomialNB()</pre><b>In a Jupyter environment, please rerun this cell to show the HTML representation or trust the notebook. <br />On GitHub, the HTML representation is unable to render, please try loading this page with nbviewer.org.</b></div><div class=\"sk-container\" hidden><div class=\"sk-item\"><div class=\"sk-estimator sk-toggleable\"><input class=\"sk-toggleable__control sk-hidden--visually\" id=\"sk-estimator-id-2\" type=\"checkbox\" checked><label for=\"sk-estimator-id-2\" class=\"sk-toggleable__label sk-toggleable__label-arrow\">MultinomialNB</label><div class=\"sk-toggleable__content\"><pre>MultinomialNB()</pre></div></div></div></div></div>"
            ]
          },
          "metadata": {},
          "execution_count": 105
        }
      ]
    },
    {
      "cell_type": "code",
      "source": [
        "# 테스트 데이터 DTM 형태로 변환\n",
        "x_test_dtm = dtmvector.transform(x_test)\n",
        "print(x_test_dtm.shape)"
      ],
      "metadata": {
        "colab": {
          "base_uri": "https://localhost:8080/"
        },
        "id": "fYPiaaW5hwFF",
        "outputId": "db369303-23d6-4507-c592-e7cda4738e9c"
      },
      "execution_count": null,
      "outputs": [
        {
          "output_type": "stream",
          "name": "stdout",
          "text": [
            "(2000, 17339)\n"
          ]
        }
      ]
    },
    {
      "cell_type": "markdown",
      "source": [
        "### 정확도(acc), f1 score 구하기"
      ],
      "metadata": {
        "id": "Lxdg9Mz5lL7c"
      }
    },
    {
      "cell_type": "code",
      "source": [
        "# 정확도(accuracy) 구하기\n",
        "predicted = model.predict(x_test_dtm) #테스트 데이터에 대한 예측\n",
        "print(\"정확도: %.4f\" % accuracy_score(y_test, predicted)) #예측값과 실제값 비교"
      ],
      "metadata": {
        "colab": {
          "base_uri": "https://localhost:8080/"
        },
        "id": "xsNgTFg-h4jS",
        "outputId": "89582104-cbf5-41de-d571-47b600d54cc9"
      },
      "execution_count": null,
      "outputs": [
        {
          "output_type": "stream",
          "name": "stdout",
          "text": [
            "정확도: 0.7880\n"
          ]
        }
      ]
    },
    {
      "cell_type": "code",
      "source": [
        "# f1 score 구하기\n",
        "from sklearn.metrics import f1_score\n",
        "print(f1_score(y_test, predicted, average='macro'))"
      ],
      "metadata": {
        "colab": {
          "base_uri": "https://localhost:8080/"
        },
        "id": "2RWmdamjh6cY",
        "outputId": "be1a0cc6-7279-4e31-bf58-89a1f064a149"
      },
      "execution_count": null,
      "outputs": [
        {
          "output_type": "stream",
          "name": "stdout",
          "text": [
            "0.7878778176229508\n"
          ]
        }
      ]
    },
    {
      "cell_type": "markdown",
      "source": [
        "### label 예측"
      ],
      "metadata": {
        "id": "Ymtnv_bOlQ75"
      }
    },
    {
      "cell_type": "code",
      "source": [
        "# label 예측\n",
        "model.predict(dtmvector.transform([\"올해 본 영화 중 가장 최고야\"])) # 0=부정, 1=긍정"
      ],
      "metadata": {
        "colab": {
          "base_uri": "https://localhost:8080/"
        },
        "id": "PeoJXEI0iy1f",
        "outputId": "fce17c41-e5fe-4582-c695-6a673ccf9301"
      },
      "execution_count": null,
      "outputs": [
        {
          "output_type": "execute_result",
          "data": {
            "text/plain": [
              "array([1])"
            ]
          },
          "metadata": {},
          "execution_count": 113
        }
      ]
    },
    {
      "cell_type": "code",
      "source": [
        "# label 예측의 확률값\n",
        "model.predict_proba(dtmvector.transform([\"올해 본 영화 중 가장 최고야\"]))"
      ],
      "metadata": {
        "colab": {
          "base_uri": "https://localhost:8080/"
        },
        "id": "YhgP0ooDj8C5",
        "outputId": "f0938fbf-0425-4575-daf2-a4045be5c0f4"
      },
      "execution_count": null,
      "outputs": [
        {
          "output_type": "execute_result",
          "data": {
            "text/plain": [
              "array([[0.18416898, 0.81583102]])"
            ]
          },
          "metadata": {},
          "execution_count": 114
        }
      ]
    },
    {
      "cell_type": "code",
      "source": [
        "## 정확도가 너무 낮아서 모델링 수정 필요\n",
        "## 맞춤법 교정, 표제어 추출 등 다양한 방법으로 시도해보기"
      ],
      "metadata": {
        "id": "Mi1aTXTgxyVD"
      },
      "execution_count": null,
      "outputs": []
    },
    {
      "cell_type": "markdown",
      "source": [
        "## 실습 2 - 다른 풀이 (Tfidf 사용)"
      ],
      "metadata": {
        "id": "dkEuLjkpw8Yu"
      }
    },
    {
      "cell_type": "markdown",
      "source": [
        "- 테스트 데이터 예측(숫자로 변환해줘야 하니까 count_vect.transform 사용)"
      ],
      "metadata": {
        "id": "Uy9EfS7OwtFn"
      }
    },
    {
      "cell_type": "code",
      "source": [
        "# 구글 드라이브 마운트(연결)\n",
        "from google.colab import drive\n",
        "drive.mount('/content/drive')"
      ],
      "metadata": {
        "colab": {
          "base_uri": "https://localhost:8080/"
        },
        "id": "zjo7QDzoL_Fr",
        "outputId": "4648be81-83ec-40d2-a6a4-e0540e8a1583"
      },
      "execution_count": 188,
      "outputs": [
        {
          "output_type": "stream",
          "name": "stdout",
          "text": [
            "Drive already mounted at /content/drive; to attempt to forcibly remount, call drive.mount(\"/content/drive\", force_remount=True).\n"
          ]
        }
      ]
    },
    {
      "cell_type": "code",
      "source": [
        "import pandas as pd\n",
        "df = pd.read_csv('/content/drive/MyDrive/핀테크 데이터분석/자연어 처리/review.csv',\n",
        "                 sep = '\\t') # tap을 기준으로 파일 저장해서 읽을 때도 tap 옵션 설정해줘야 함\n",
        "# df = df[:100]\n",
        "df.head()"
      ],
      "metadata": {
        "colab": {
          "base_uri": "https://localhost:8080/",
          "height": 206
        },
        "id": "jnXFrxu6MIP9",
        "outputId": "b5047b8a-63ef-474e-f309-6b197cbb7c33"
      },
      "execution_count": 189,
      "outputs": [
        {
          "output_type": "execute_result",
          "data": {
            "text/plain": [
              "         id                                           document  label\n",
              "0   9976970                                아 더빙.. 진짜 짜증나네요 목소리      0\n",
              "1   3819312                  흠...포스터보고 초딩영화줄....오버연기조차 가볍지 않구나      1\n",
              "2  10265843                                  너무재밓었다그래서보는것을추천한다      0\n",
              "3   9045019                      교도소 이야기구먼 ..솔직히 재미는 없다..평점 조정      0\n",
              "4   6483659  사이몬페그의 익살스런 연기가 돋보였던 영화!스파이더맨에서 늙어보이기만 했던 커스틴 ...      1"
            ],
            "text/html": [
              "\n",
              "  <div id=\"df-03bb8c69-fee2-4237-960d-91a7c706d436\" class=\"colab-df-container\">\n",
              "    <div>\n",
              "<style scoped>\n",
              "    .dataframe tbody tr th:only-of-type {\n",
              "        vertical-align: middle;\n",
              "    }\n",
              "\n",
              "    .dataframe tbody tr th {\n",
              "        vertical-align: top;\n",
              "    }\n",
              "\n",
              "    .dataframe thead th {\n",
              "        text-align: right;\n",
              "    }\n",
              "</style>\n",
              "<table border=\"1\" class=\"dataframe\">\n",
              "  <thead>\n",
              "    <tr style=\"text-align: right;\">\n",
              "      <th></th>\n",
              "      <th>id</th>\n",
              "      <th>document</th>\n",
              "      <th>label</th>\n",
              "    </tr>\n",
              "  </thead>\n",
              "  <tbody>\n",
              "    <tr>\n",
              "      <th>0</th>\n",
              "      <td>9976970</td>\n",
              "      <td>아 더빙.. 진짜 짜증나네요 목소리</td>\n",
              "      <td>0</td>\n",
              "    </tr>\n",
              "    <tr>\n",
              "      <th>1</th>\n",
              "      <td>3819312</td>\n",
              "      <td>흠...포스터보고 초딩영화줄....오버연기조차 가볍지 않구나</td>\n",
              "      <td>1</td>\n",
              "    </tr>\n",
              "    <tr>\n",
              "      <th>2</th>\n",
              "      <td>10265843</td>\n",
              "      <td>너무재밓었다그래서보는것을추천한다</td>\n",
              "      <td>0</td>\n",
              "    </tr>\n",
              "    <tr>\n",
              "      <th>3</th>\n",
              "      <td>9045019</td>\n",
              "      <td>교도소 이야기구먼 ..솔직히 재미는 없다..평점 조정</td>\n",
              "      <td>0</td>\n",
              "    </tr>\n",
              "    <tr>\n",
              "      <th>4</th>\n",
              "      <td>6483659</td>\n",
              "      <td>사이몬페그의 익살스런 연기가 돋보였던 영화!스파이더맨에서 늙어보이기만 했던 커스틴 ...</td>\n",
              "      <td>1</td>\n",
              "    </tr>\n",
              "  </tbody>\n",
              "</table>\n",
              "</div>\n",
              "    <div class=\"colab-df-buttons\">\n",
              "\n",
              "  <div class=\"colab-df-container\">\n",
              "    <button class=\"colab-df-convert\" onclick=\"convertToInteractive('df-03bb8c69-fee2-4237-960d-91a7c706d436')\"\n",
              "            title=\"Convert this dataframe to an interactive table.\"\n",
              "            style=\"display:none;\">\n",
              "\n",
              "  <svg xmlns=\"http://www.w3.org/2000/svg\" height=\"24px\" viewBox=\"0 -960 960 960\">\n",
              "    <path d=\"M120-120v-720h720v720H120Zm60-500h600v-160H180v160Zm220 220h160v-160H400v160Zm0 220h160v-160H400v160ZM180-400h160v-160H180v160Zm440 0h160v-160H620v160ZM180-180h160v-160H180v160Zm440 0h160v-160H620v160Z\"/>\n",
              "  </svg>\n",
              "    </button>\n",
              "\n",
              "  <style>\n",
              "    .colab-df-container {\n",
              "      display:flex;\n",
              "      gap: 12px;\n",
              "    }\n",
              "\n",
              "    .colab-df-convert {\n",
              "      background-color: #E8F0FE;\n",
              "      border: none;\n",
              "      border-radius: 50%;\n",
              "      cursor: pointer;\n",
              "      display: none;\n",
              "      fill: #1967D2;\n",
              "      height: 32px;\n",
              "      padding: 0 0 0 0;\n",
              "      width: 32px;\n",
              "    }\n",
              "\n",
              "    .colab-df-convert:hover {\n",
              "      background-color: #E2EBFA;\n",
              "      box-shadow: 0px 1px 2px rgba(60, 64, 67, 0.3), 0px 1px 3px 1px rgba(60, 64, 67, 0.15);\n",
              "      fill: #174EA6;\n",
              "    }\n",
              "\n",
              "    .colab-df-buttons div {\n",
              "      margin-bottom: 4px;\n",
              "    }\n",
              "\n",
              "    [theme=dark] .colab-df-convert {\n",
              "      background-color: #3B4455;\n",
              "      fill: #D2E3FC;\n",
              "    }\n",
              "\n",
              "    [theme=dark] .colab-df-convert:hover {\n",
              "      background-color: #434B5C;\n",
              "      box-shadow: 0px 1px 3px 1px rgba(0, 0, 0, 0.15);\n",
              "      filter: drop-shadow(0px 1px 2px rgba(0, 0, 0, 0.3));\n",
              "      fill: #FFFFFF;\n",
              "    }\n",
              "  </style>\n",
              "\n",
              "    <script>\n",
              "      const buttonEl =\n",
              "        document.querySelector('#df-03bb8c69-fee2-4237-960d-91a7c706d436 button.colab-df-convert');\n",
              "      buttonEl.style.display =\n",
              "        google.colab.kernel.accessAllowed ? 'block' : 'none';\n",
              "\n",
              "      async function convertToInteractive(key) {\n",
              "        const element = document.querySelector('#df-03bb8c69-fee2-4237-960d-91a7c706d436');\n",
              "        const dataTable =\n",
              "          await google.colab.kernel.invokeFunction('convertToInteractive',\n",
              "                                                    [key], {});\n",
              "        if (!dataTable) return;\n",
              "\n",
              "        const docLinkHtml = 'Like what you see? Visit the ' +\n",
              "          '<a target=\"_blank\" href=https://colab.research.google.com/notebooks/data_table.ipynb>data table notebook</a>'\n",
              "          + ' to learn more about interactive tables.';\n",
              "        element.innerHTML = '';\n",
              "        dataTable['output_type'] = 'display_data';\n",
              "        await google.colab.output.renderOutput(dataTable, element);\n",
              "        const docLink = document.createElement('div');\n",
              "        docLink.innerHTML = docLinkHtml;\n",
              "        element.appendChild(docLink);\n",
              "      }\n",
              "    </script>\n",
              "  </div>\n",
              "\n",
              "\n",
              "<div id=\"df-e9ce6b97-35b3-4731-ad21-8a02cdfb548a\">\n",
              "  <button class=\"colab-df-quickchart\" onclick=\"quickchart('df-e9ce6b97-35b3-4731-ad21-8a02cdfb548a')\"\n",
              "            title=\"Suggest charts.\"\n",
              "            style=\"display:none;\">\n",
              "\n",
              "<svg xmlns=\"http://www.w3.org/2000/svg\" height=\"24px\"viewBox=\"0 0 24 24\"\n",
              "     width=\"24px\">\n",
              "    <g>\n",
              "        <path d=\"M19 3H5c-1.1 0-2 .9-2 2v14c0 1.1.9 2 2 2h14c1.1 0 2-.9 2-2V5c0-1.1-.9-2-2-2zM9 17H7v-7h2v7zm4 0h-2V7h2v10zm4 0h-2v-4h2v4z\"/>\n",
              "    </g>\n",
              "</svg>\n",
              "  </button>\n",
              "\n",
              "<style>\n",
              "  .colab-df-quickchart {\n",
              "      --bg-color: #E8F0FE;\n",
              "      --fill-color: #1967D2;\n",
              "      --hover-bg-color: #E2EBFA;\n",
              "      --hover-fill-color: #174EA6;\n",
              "      --disabled-fill-color: #AAA;\n",
              "      --disabled-bg-color: #DDD;\n",
              "  }\n",
              "\n",
              "  [theme=dark] .colab-df-quickchart {\n",
              "      --bg-color: #3B4455;\n",
              "      --fill-color: #D2E3FC;\n",
              "      --hover-bg-color: #434B5C;\n",
              "      --hover-fill-color: #FFFFFF;\n",
              "      --disabled-bg-color: #3B4455;\n",
              "      --disabled-fill-color: #666;\n",
              "  }\n",
              "\n",
              "  .colab-df-quickchart {\n",
              "    background-color: var(--bg-color);\n",
              "    border: none;\n",
              "    border-radius: 50%;\n",
              "    cursor: pointer;\n",
              "    display: none;\n",
              "    fill: var(--fill-color);\n",
              "    height: 32px;\n",
              "    padding: 0;\n",
              "    width: 32px;\n",
              "  }\n",
              "\n",
              "  .colab-df-quickchart:hover {\n",
              "    background-color: var(--hover-bg-color);\n",
              "    box-shadow: 0 1px 2px rgba(60, 64, 67, 0.3), 0 1px 3px 1px rgba(60, 64, 67, 0.15);\n",
              "    fill: var(--button-hover-fill-color);\n",
              "  }\n",
              "\n",
              "  .colab-df-quickchart-complete:disabled,\n",
              "  .colab-df-quickchart-complete:disabled:hover {\n",
              "    background-color: var(--disabled-bg-color);\n",
              "    fill: var(--disabled-fill-color);\n",
              "    box-shadow: none;\n",
              "  }\n",
              "\n",
              "  .colab-df-spinner {\n",
              "    border: 2px solid var(--fill-color);\n",
              "    border-color: transparent;\n",
              "    border-bottom-color: var(--fill-color);\n",
              "    animation:\n",
              "      spin 1s steps(1) infinite;\n",
              "  }\n",
              "\n",
              "  @keyframes spin {\n",
              "    0% {\n",
              "      border-color: transparent;\n",
              "      border-bottom-color: var(--fill-color);\n",
              "      border-left-color: var(--fill-color);\n",
              "    }\n",
              "    20% {\n",
              "      border-color: transparent;\n",
              "      border-left-color: var(--fill-color);\n",
              "      border-top-color: var(--fill-color);\n",
              "    }\n",
              "    30% {\n",
              "      border-color: transparent;\n",
              "      border-left-color: var(--fill-color);\n",
              "      border-top-color: var(--fill-color);\n",
              "      border-right-color: var(--fill-color);\n",
              "    }\n",
              "    40% {\n",
              "      border-color: transparent;\n",
              "      border-right-color: var(--fill-color);\n",
              "      border-top-color: var(--fill-color);\n",
              "    }\n",
              "    60% {\n",
              "      border-color: transparent;\n",
              "      border-right-color: var(--fill-color);\n",
              "    }\n",
              "    80% {\n",
              "      border-color: transparent;\n",
              "      border-right-color: var(--fill-color);\n",
              "      border-bottom-color: var(--fill-color);\n",
              "    }\n",
              "    90% {\n",
              "      border-color: transparent;\n",
              "      border-bottom-color: var(--fill-color);\n",
              "    }\n",
              "  }\n",
              "</style>\n",
              "\n",
              "  <script>\n",
              "    async function quickchart(key) {\n",
              "      const quickchartButtonEl =\n",
              "        document.querySelector('#' + key + ' button');\n",
              "      quickchartButtonEl.disabled = true;  // To prevent multiple clicks.\n",
              "      quickchartButtonEl.classList.add('colab-df-spinner');\n",
              "      try {\n",
              "        const charts = await google.colab.kernel.invokeFunction(\n",
              "            'suggestCharts', [key], {});\n",
              "      } catch (error) {\n",
              "        console.error('Error during call to suggestCharts:', error);\n",
              "      }\n",
              "      quickchartButtonEl.classList.remove('colab-df-spinner');\n",
              "      quickchartButtonEl.classList.add('colab-df-quickchart-complete');\n",
              "    }\n",
              "    (() => {\n",
              "      let quickchartButtonEl =\n",
              "        document.querySelector('#df-e9ce6b97-35b3-4731-ad21-8a02cdfb548a button');\n",
              "      quickchartButtonEl.style.display =\n",
              "        google.colab.kernel.accessAllowed ? 'block' : 'none';\n",
              "    })();\n",
              "  </script>\n",
              "</div>\n",
              "    </div>\n",
              "  </div>\n"
            ]
          },
          "metadata": {},
          "execution_count": 189
        }
      ]
    },
    {
      "cell_type": "markdown",
      "source": [
        "### 감정분석 모델링"
      ],
      "metadata": {
        "id": "7eIdwWwyMLyg"
      }
    },
    {
      "cell_type": "code",
      "source": [
        "from sklearn.feature_extraction.text import TfidfTransformer\n",
        "from sklearn.model_selection import train_test_split\n",
        "from sklearn.feature_extraction.text import CountVectorizer\n",
        "from sklearn.feature_extraction.text import TfidfVectorizer\n",
        "from sklearn.naive_bayes import MultinomialNB\n",
        "from sklearn.metrics import accuracy_score\n",
        "\n",
        "X_train, X_test, y_train, y_test = train_test_split(df['document'], df['label'], random_state=0)\n",
        "count_vect = CountVectorizer()\n",
        "X_train_counts = count_vect.fit_transform(X_train)\n",
        "\n",
        "tfidf_transformer = TfidfTransformer()\n",
        "X_train_tfidf = tfidf_transformer.fit_transform(X_train_counts)\n",
        "\n",
        "model = MultinomialNB()\n",
        "model.fit(X_train_tfidf, y_train)"
      ],
      "metadata": {
        "colab": {
          "base_uri": "https://localhost:8080/",
          "height": 74
        },
        "id": "Dt6RQv2QMRGu",
        "outputId": "e20fe0de-434c-4e63-f73c-0d04b242f817"
      },
      "execution_count": 191,
      "outputs": [
        {
          "output_type": "execute_result",
          "data": {
            "text/plain": [
              "MultinomialNB()"
            ],
            "text/html": [
              "<style>#sk-container-id-3 {color: black;background-color: white;}#sk-container-id-3 pre{padding: 0;}#sk-container-id-3 div.sk-toggleable {background-color: white;}#sk-container-id-3 label.sk-toggleable__label {cursor: pointer;display: block;width: 100%;margin-bottom: 0;padding: 0.3em;box-sizing: border-box;text-align: center;}#sk-container-id-3 label.sk-toggleable__label-arrow:before {content: \"▸\";float: left;margin-right: 0.25em;color: #696969;}#sk-container-id-3 label.sk-toggleable__label-arrow:hover:before {color: black;}#sk-container-id-3 div.sk-estimator:hover label.sk-toggleable__label-arrow:before {color: black;}#sk-container-id-3 div.sk-toggleable__content {max-height: 0;max-width: 0;overflow: hidden;text-align: left;background-color: #f0f8ff;}#sk-container-id-3 div.sk-toggleable__content pre {margin: 0.2em;color: black;border-radius: 0.25em;background-color: #f0f8ff;}#sk-container-id-3 input.sk-toggleable__control:checked~div.sk-toggleable__content {max-height: 200px;max-width: 100%;overflow: auto;}#sk-container-id-3 input.sk-toggleable__control:checked~label.sk-toggleable__label-arrow:before {content: \"▾\";}#sk-container-id-3 div.sk-estimator input.sk-toggleable__control:checked~label.sk-toggleable__label {background-color: #d4ebff;}#sk-container-id-3 div.sk-label input.sk-toggleable__control:checked~label.sk-toggleable__label {background-color: #d4ebff;}#sk-container-id-3 input.sk-hidden--visually {border: 0;clip: rect(1px 1px 1px 1px);clip: rect(1px, 1px, 1px, 1px);height: 1px;margin: -1px;overflow: hidden;padding: 0;position: absolute;width: 1px;}#sk-container-id-3 div.sk-estimator {font-family: monospace;background-color: #f0f8ff;border: 1px dotted black;border-radius: 0.25em;box-sizing: border-box;margin-bottom: 0.5em;}#sk-container-id-3 div.sk-estimator:hover {background-color: #d4ebff;}#sk-container-id-3 div.sk-parallel-item::after {content: \"\";width: 100%;border-bottom: 1px solid gray;flex-grow: 1;}#sk-container-id-3 div.sk-label:hover label.sk-toggleable__label {background-color: #d4ebff;}#sk-container-id-3 div.sk-serial::before {content: \"\";position: absolute;border-left: 1px solid gray;box-sizing: border-box;top: 0;bottom: 0;left: 50%;z-index: 0;}#sk-container-id-3 div.sk-serial {display: flex;flex-direction: column;align-items: center;background-color: white;padding-right: 0.2em;padding-left: 0.2em;position: relative;}#sk-container-id-3 div.sk-item {position: relative;z-index: 1;}#sk-container-id-3 div.sk-parallel {display: flex;align-items: stretch;justify-content: center;background-color: white;position: relative;}#sk-container-id-3 div.sk-item::before, #sk-container-id-3 div.sk-parallel-item::before {content: \"\";position: absolute;border-left: 1px solid gray;box-sizing: border-box;top: 0;bottom: 0;left: 50%;z-index: -1;}#sk-container-id-3 div.sk-parallel-item {display: flex;flex-direction: column;z-index: 1;position: relative;background-color: white;}#sk-container-id-3 div.sk-parallel-item:first-child::after {align-self: flex-end;width: 50%;}#sk-container-id-3 div.sk-parallel-item:last-child::after {align-self: flex-start;width: 50%;}#sk-container-id-3 div.sk-parallel-item:only-child::after {width: 0;}#sk-container-id-3 div.sk-dashed-wrapped {border: 1px dashed gray;margin: 0 0.4em 0.5em 0.4em;box-sizing: border-box;padding-bottom: 0.4em;background-color: white;}#sk-container-id-3 div.sk-label label {font-family: monospace;font-weight: bold;display: inline-block;line-height: 1.2em;}#sk-container-id-3 div.sk-label-container {text-align: center;}#sk-container-id-3 div.sk-container {/* jupyter's `normalize.less` sets `[hidden] { display: none; }` but bootstrap.min.css set `[hidden] { display: none !important; }` so we also need the `!important` here to be able to override the default hidden behavior on the sphinx rendered scikit-learn.org. See: https://github.com/scikit-learn/scikit-learn/issues/21755 */display: inline-block !important;position: relative;}#sk-container-id-3 div.sk-text-repr-fallback {display: none;}</style><div id=\"sk-container-id-3\" class=\"sk-top-container\"><div class=\"sk-text-repr-fallback\"><pre>MultinomialNB()</pre><b>In a Jupyter environment, please rerun this cell to show the HTML representation or trust the notebook. <br />On GitHub, the HTML representation is unable to render, please try loading this page with nbviewer.org.</b></div><div class=\"sk-container\" hidden><div class=\"sk-item\"><div class=\"sk-estimator sk-toggleable\"><input class=\"sk-toggleable__control sk-hidden--visually\" id=\"sk-estimator-id-3\" type=\"checkbox\" checked><label for=\"sk-estimator-id-3\" class=\"sk-toggleable__label sk-toggleable__label-arrow\">MultinomialNB</label><div class=\"sk-toggleable__content\"><pre>MultinomialNB()</pre></div></div></div></div></div>"
            ]
          },
          "metadata": {},
          "execution_count": 191
        }
      ]
    },
    {
      "cell_type": "code",
      "source": [
        "len(X_test)"
      ],
      "metadata": {
        "colab": {
          "base_uri": "https://localhost:8080/"
        },
        "id": "w8do_G3fNpCo",
        "outputId": "2b81fea0-4f56-40f6-c99d-7a6abcef7c65"
      },
      "execution_count": 192,
      "outputs": [
        {
          "output_type": "execute_result",
          "data": {
            "text/plain": [
              "2500"
            ]
          },
          "metadata": {},
          "execution_count": 192
        }
      ]
    },
    {
      "cell_type": "markdown",
      "source": [
        "### 정확도(acc), f1 score 구하기"
      ],
      "metadata": {
        "id": "szW__lxkPcCn"
      }
    },
    {
      "cell_type": "code",
      "source": [
        "# 예측값\n",
        "y_predict = model.predict(count_vect.transform(X_test))\n",
        "y_predict"
      ],
      "metadata": {
        "colab": {
          "base_uri": "https://localhost:8080/"
        },
        "id": "x7wwJtX3NpAS",
        "outputId": "6e5bb5fe-f16e-4bcc-ef3c-ad29ed7e84f5"
      },
      "execution_count": 193,
      "outputs": [
        {
          "output_type": "execute_result",
          "data": {
            "text/plain": [
              "array([1, 1, 0, ..., 0, 0, 1])"
            ]
          },
          "metadata": {},
          "execution_count": 193
        }
      ]
    },
    {
      "cell_type": "code",
      "source": [
        "from sklearn.metrics import classification_report\n",
        "print(classification_report(y_test, y_predict, target_names=['부정(0)', '긍정(1)']))\n",
        "\n",
        "# macro : 단순평균\n",
        "# weighted : 각 클래스에 속하는 표본의 개수로 가중평균\n",
        "# accuracy : 정확도. 전체 학습데이터의 개수에서 각 클래스에서 자신의 클래스를 정확하게 맞춘 개수의 비율"
      ],
      "metadata": {
        "colab": {
          "base_uri": "https://localhost:8080/"
        },
        "id": "GHeW3uakNo9W",
        "outputId": "c3ebfd28-56ae-4d82-df69-e36564605207"
      },
      "execution_count": 194,
      "outputs": [
        {
          "output_type": "stream",
          "name": "stdout",
          "text": [
            "              precision    recall  f1-score   support\n",
            "\n",
            "       부정(0)       0.76      0.76      0.76      1248\n",
            "       긍정(1)       0.76      0.76      0.76      1252\n",
            "\n",
            "    accuracy                           0.76      2500\n",
            "   macro avg       0.76      0.76      0.76      2500\n",
            "weighted avg       0.76      0.76      0.76      2500\n",
            "\n"
          ]
        }
      ]
    },
    {
      "cell_type": "markdown",
      "source": [
        "### label 예측"
      ],
      "metadata": {
        "id": "RuaybuYwPe6S"
      }
    },
    {
      "cell_type": "code",
      "source": [
        "test = \"올해 본 영화 중 가장 최고야\"\n",
        "print(model.predict((count_vect.transform([test])))) # 0=부정, 1=긍정\n",
        "print(model.predict_proba((count_vect.transform([test]))))"
      ],
      "metadata": {
        "colab": {
          "base_uri": "https://localhost:8080/"
        },
        "id": "6XYSc0zlNoon",
        "outputId": "6640de5a-8031-4852-e29a-24220843ce65"
      },
      "execution_count": 198,
      "outputs": [
        {
          "output_type": "stream",
          "name": "stdout",
          "text": [
            "[1]\n",
            "[[0.15576281 0.84423719]]\n"
          ]
        }
      ]
    },
    {
      "cell_type": "markdown",
      "source": [
        "# RNN 감정 분석"
      ],
      "metadata": {
        "id": "-FpXah_kpR1D"
      }
    },
    {
      "cell_type": "markdown",
      "source": [
        "## 실습 2\n",
        "- 네이버 영화 리뷰데이터로 감정 분석"
      ],
      "metadata": {
        "id": "l5bhl84WpV24"
      }
    },
    {
      "cell_type": "code",
      "source": [
        "import pandas as pd\n",
        "df = pd.read_csv('/content/drive/MyDrive/핀테크 데이터분석/자연어 처리/review.csv',\n",
        "                 sep = '\\t')\n",
        "# df = df[:100]\n",
        "df.head()"
      ],
      "metadata": {
        "colab": {
          "base_uri": "https://localhost:8080/",
          "height": 206
        },
        "id": "HegBIHJBqILE",
        "outputId": "00d02516-8a9a-4796-b986-669e5ac251e6"
      },
      "execution_count": null,
      "outputs": [
        {
          "output_type": "execute_result",
          "data": {
            "text/plain": [
              "         id                                           document  label\n",
              "0   9976970                                아 더빙.. 진짜 짜증나네요 목소리      0\n",
              "1   3819312                  흠...포스터보고 초딩영화줄....오버연기조차 가볍지 않구나      1\n",
              "2  10265843                                  너무재밓었다그래서보는것을추천한다      0\n",
              "3   9045019                      교도소 이야기구먼 ..솔직히 재미는 없다..평점 조정      0\n",
              "4   6483659  사이몬페그의 익살스런 연기가 돋보였던 영화!스파이더맨에서 늙어보이기만 했던 커스틴 ...      1"
            ],
            "text/html": [
              "\n",
              "  <div id=\"df-cd26587f-86a6-4311-b214-fa1cea96f1f7\" class=\"colab-df-container\">\n",
              "    <div>\n",
              "<style scoped>\n",
              "    .dataframe tbody tr th:only-of-type {\n",
              "        vertical-align: middle;\n",
              "    }\n",
              "\n",
              "    .dataframe tbody tr th {\n",
              "        vertical-align: top;\n",
              "    }\n",
              "\n",
              "    .dataframe thead th {\n",
              "        text-align: right;\n",
              "    }\n",
              "</style>\n",
              "<table border=\"1\" class=\"dataframe\">\n",
              "  <thead>\n",
              "    <tr style=\"text-align: right;\">\n",
              "      <th></th>\n",
              "      <th>id</th>\n",
              "      <th>document</th>\n",
              "      <th>label</th>\n",
              "    </tr>\n",
              "  </thead>\n",
              "  <tbody>\n",
              "    <tr>\n",
              "      <th>0</th>\n",
              "      <td>9976970</td>\n",
              "      <td>아 더빙.. 진짜 짜증나네요 목소리</td>\n",
              "      <td>0</td>\n",
              "    </tr>\n",
              "    <tr>\n",
              "      <th>1</th>\n",
              "      <td>3819312</td>\n",
              "      <td>흠...포스터보고 초딩영화줄....오버연기조차 가볍지 않구나</td>\n",
              "      <td>1</td>\n",
              "    </tr>\n",
              "    <tr>\n",
              "      <th>2</th>\n",
              "      <td>10265843</td>\n",
              "      <td>너무재밓었다그래서보는것을추천한다</td>\n",
              "      <td>0</td>\n",
              "    </tr>\n",
              "    <tr>\n",
              "      <th>3</th>\n",
              "      <td>9045019</td>\n",
              "      <td>교도소 이야기구먼 ..솔직히 재미는 없다..평점 조정</td>\n",
              "      <td>0</td>\n",
              "    </tr>\n",
              "    <tr>\n",
              "      <th>4</th>\n",
              "      <td>6483659</td>\n",
              "      <td>사이몬페그의 익살스런 연기가 돋보였던 영화!스파이더맨에서 늙어보이기만 했던 커스틴 ...</td>\n",
              "      <td>1</td>\n",
              "    </tr>\n",
              "  </tbody>\n",
              "</table>\n",
              "</div>\n",
              "    <div class=\"colab-df-buttons\">\n",
              "\n",
              "  <div class=\"colab-df-container\">\n",
              "    <button class=\"colab-df-convert\" onclick=\"convertToInteractive('df-cd26587f-86a6-4311-b214-fa1cea96f1f7')\"\n",
              "            title=\"Convert this dataframe to an interactive table.\"\n",
              "            style=\"display:none;\">\n",
              "\n",
              "  <svg xmlns=\"http://www.w3.org/2000/svg\" height=\"24px\" viewBox=\"0 -960 960 960\">\n",
              "    <path d=\"M120-120v-720h720v720H120Zm60-500h600v-160H180v160Zm220 220h160v-160H400v160Zm0 220h160v-160H400v160ZM180-400h160v-160H180v160Zm440 0h160v-160H620v160ZM180-180h160v-160H180v160Zm440 0h160v-160H620v160Z\"/>\n",
              "  </svg>\n",
              "    </button>\n",
              "\n",
              "  <style>\n",
              "    .colab-df-container {\n",
              "      display:flex;\n",
              "      gap: 12px;\n",
              "    }\n",
              "\n",
              "    .colab-df-convert {\n",
              "      background-color: #E8F0FE;\n",
              "      border: none;\n",
              "      border-radius: 50%;\n",
              "      cursor: pointer;\n",
              "      display: none;\n",
              "      fill: #1967D2;\n",
              "      height: 32px;\n",
              "      padding: 0 0 0 0;\n",
              "      width: 32px;\n",
              "    }\n",
              "\n",
              "    .colab-df-convert:hover {\n",
              "      background-color: #E2EBFA;\n",
              "      box-shadow: 0px 1px 2px rgba(60, 64, 67, 0.3), 0px 1px 3px 1px rgba(60, 64, 67, 0.15);\n",
              "      fill: #174EA6;\n",
              "    }\n",
              "\n",
              "    .colab-df-buttons div {\n",
              "      margin-bottom: 4px;\n",
              "    }\n",
              "\n",
              "    [theme=dark] .colab-df-convert {\n",
              "      background-color: #3B4455;\n",
              "      fill: #D2E3FC;\n",
              "    }\n",
              "\n",
              "    [theme=dark] .colab-df-convert:hover {\n",
              "      background-color: #434B5C;\n",
              "      box-shadow: 0px 1px 3px 1px rgba(0, 0, 0, 0.15);\n",
              "      filter: drop-shadow(0px 1px 2px rgba(0, 0, 0, 0.3));\n",
              "      fill: #FFFFFF;\n",
              "    }\n",
              "  </style>\n",
              "\n",
              "    <script>\n",
              "      const buttonEl =\n",
              "        document.querySelector('#df-cd26587f-86a6-4311-b214-fa1cea96f1f7 button.colab-df-convert');\n",
              "      buttonEl.style.display =\n",
              "        google.colab.kernel.accessAllowed ? 'block' : 'none';\n",
              "\n",
              "      async function convertToInteractive(key) {\n",
              "        const element = document.querySelector('#df-cd26587f-86a6-4311-b214-fa1cea96f1f7');\n",
              "        const dataTable =\n",
              "          await google.colab.kernel.invokeFunction('convertToInteractive',\n",
              "                                                    [key], {});\n",
              "        if (!dataTable) return;\n",
              "\n",
              "        const docLinkHtml = 'Like what you see? Visit the ' +\n",
              "          '<a target=\"_blank\" href=https://colab.research.google.com/notebooks/data_table.ipynb>data table notebook</a>'\n",
              "          + ' to learn more about interactive tables.';\n",
              "        element.innerHTML = '';\n",
              "        dataTable['output_type'] = 'display_data';\n",
              "        await google.colab.output.renderOutput(dataTable, element);\n",
              "        const docLink = document.createElement('div');\n",
              "        docLink.innerHTML = docLinkHtml;\n",
              "        element.appendChild(docLink);\n",
              "      }\n",
              "    </script>\n",
              "  </div>\n",
              "\n",
              "\n",
              "<div id=\"df-86efc18c-dcda-4d1d-a6a0-985df93ec40b\">\n",
              "  <button class=\"colab-df-quickchart\" onclick=\"quickchart('df-86efc18c-dcda-4d1d-a6a0-985df93ec40b')\"\n",
              "            title=\"Suggest charts.\"\n",
              "            style=\"display:none;\">\n",
              "\n",
              "<svg xmlns=\"http://www.w3.org/2000/svg\" height=\"24px\"viewBox=\"0 0 24 24\"\n",
              "     width=\"24px\">\n",
              "    <g>\n",
              "        <path d=\"M19 3H5c-1.1 0-2 .9-2 2v14c0 1.1.9 2 2 2h14c1.1 0 2-.9 2-2V5c0-1.1-.9-2-2-2zM9 17H7v-7h2v7zm4 0h-2V7h2v10zm4 0h-2v-4h2v4z\"/>\n",
              "    </g>\n",
              "</svg>\n",
              "  </button>\n",
              "\n",
              "<style>\n",
              "  .colab-df-quickchart {\n",
              "      --bg-color: #E8F0FE;\n",
              "      --fill-color: #1967D2;\n",
              "      --hover-bg-color: #E2EBFA;\n",
              "      --hover-fill-color: #174EA6;\n",
              "      --disabled-fill-color: #AAA;\n",
              "      --disabled-bg-color: #DDD;\n",
              "  }\n",
              "\n",
              "  [theme=dark] .colab-df-quickchart {\n",
              "      --bg-color: #3B4455;\n",
              "      --fill-color: #D2E3FC;\n",
              "      --hover-bg-color: #434B5C;\n",
              "      --hover-fill-color: #FFFFFF;\n",
              "      --disabled-bg-color: #3B4455;\n",
              "      --disabled-fill-color: #666;\n",
              "  }\n",
              "\n",
              "  .colab-df-quickchart {\n",
              "    background-color: var(--bg-color);\n",
              "    border: none;\n",
              "    border-radius: 50%;\n",
              "    cursor: pointer;\n",
              "    display: none;\n",
              "    fill: var(--fill-color);\n",
              "    height: 32px;\n",
              "    padding: 0;\n",
              "    width: 32px;\n",
              "  }\n",
              "\n",
              "  .colab-df-quickchart:hover {\n",
              "    background-color: var(--hover-bg-color);\n",
              "    box-shadow: 0 1px 2px rgba(60, 64, 67, 0.3), 0 1px 3px 1px rgba(60, 64, 67, 0.15);\n",
              "    fill: var(--button-hover-fill-color);\n",
              "  }\n",
              "\n",
              "  .colab-df-quickchart-complete:disabled,\n",
              "  .colab-df-quickchart-complete:disabled:hover {\n",
              "    background-color: var(--disabled-bg-color);\n",
              "    fill: var(--disabled-fill-color);\n",
              "    box-shadow: none;\n",
              "  }\n",
              "\n",
              "  .colab-df-spinner {\n",
              "    border: 2px solid var(--fill-color);\n",
              "    border-color: transparent;\n",
              "    border-bottom-color: var(--fill-color);\n",
              "    animation:\n",
              "      spin 1s steps(1) infinite;\n",
              "  }\n",
              "\n",
              "  @keyframes spin {\n",
              "    0% {\n",
              "      border-color: transparent;\n",
              "      border-bottom-color: var(--fill-color);\n",
              "      border-left-color: var(--fill-color);\n",
              "    }\n",
              "    20% {\n",
              "      border-color: transparent;\n",
              "      border-left-color: var(--fill-color);\n",
              "      border-top-color: var(--fill-color);\n",
              "    }\n",
              "    30% {\n",
              "      border-color: transparent;\n",
              "      border-left-color: var(--fill-color);\n",
              "      border-top-color: var(--fill-color);\n",
              "      border-right-color: var(--fill-color);\n",
              "    }\n",
              "    40% {\n",
              "      border-color: transparent;\n",
              "      border-right-color: var(--fill-color);\n",
              "      border-top-color: var(--fill-color);\n",
              "    }\n",
              "    60% {\n",
              "      border-color: transparent;\n",
              "      border-right-color: var(--fill-color);\n",
              "    }\n",
              "    80% {\n",
              "      border-color: transparent;\n",
              "      border-right-color: var(--fill-color);\n",
              "      border-bottom-color: var(--fill-color);\n",
              "    }\n",
              "    90% {\n",
              "      border-color: transparent;\n",
              "      border-bottom-color: var(--fill-color);\n",
              "    }\n",
              "  }\n",
              "</style>\n",
              "\n",
              "  <script>\n",
              "    async function quickchart(key) {\n",
              "      const quickchartButtonEl =\n",
              "        document.querySelector('#' + key + ' button');\n",
              "      quickchartButtonEl.disabled = true;  // To prevent multiple clicks.\n",
              "      quickchartButtonEl.classList.add('colab-df-spinner');\n",
              "      try {\n",
              "        const charts = await google.colab.kernel.invokeFunction(\n",
              "            'suggestCharts', [key], {});\n",
              "      } catch (error) {\n",
              "        console.error('Error during call to suggestCharts:', error);\n",
              "      }\n",
              "      quickchartButtonEl.classList.remove('colab-df-spinner');\n",
              "      quickchartButtonEl.classList.add('colab-df-quickchart-complete');\n",
              "    }\n",
              "    (() => {\n",
              "      let quickchartButtonEl =\n",
              "        document.querySelector('#df-86efc18c-dcda-4d1d-a6a0-985df93ec40b button');\n",
              "      quickchartButtonEl.style.display =\n",
              "        google.colab.kernel.accessAllowed ? 'block' : 'none';\n",
              "    })();\n",
              "  </script>\n",
              "</div>\n",
              "    </div>\n",
              "  </div>\n"
            ]
          },
          "metadata": {},
          "execution_count": 115
        }
      ]
    },
    {
      "cell_type": "markdown",
      "source": [
        "### 토큰화 및 데이터 전처리"
      ],
      "metadata": {
        "id": "6Dt9VfDUqLIl"
      }
    },
    {
      "cell_type": "code",
      "source": [
        "from konlpy.tag import Okt\n",
        "tokenizer = Okt()\n",
        "\n",
        "df['morphs'] = None\n",
        "for i, row in df.iterrows():\n",
        "  df['morphs'][i] = ' '.join(tokenizer.morphs(row['document']))"
      ],
      "metadata": {
        "colab": {
          "base_uri": "https://localhost:8080/"
        },
        "id": "NLzkxqMkqPy4",
        "outputId": "475d60a8-82fb-4a19-c87e-8412e7005d27"
      },
      "execution_count": null,
      "outputs": [
        {
          "output_type": "stream",
          "name": "stderr",
          "text": [
            "<ipython-input-116-eab88834c7d3>:6: SettingWithCopyWarning: \n",
            "A value is trying to be set on a copy of a slice from a DataFrame\n",
            "\n",
            "See the caveats in the documentation: https://pandas.pydata.org/pandas-docs/stable/user_guide/indexing.html#returning-a-view-versus-a-copy\n",
            "  df['morphs'][i] = ' '.join(tokenizer.morphs(row['document']))\n"
          ]
        }
      ]
    },
    {
      "cell_type": "code",
      "source": [
        "df.head()"
      ],
      "metadata": {
        "colab": {
          "base_uri": "https://localhost:8080/",
          "height": 206
        },
        "id": "W9ezFaFuqVUp",
        "outputId": "92c0fabd-7441-4894-f5ff-6ebb4f56beb4"
      },
      "execution_count": null,
      "outputs": [
        {
          "output_type": "execute_result",
          "data": {
            "text/plain": [
              "         id                                           document  label  \\\n",
              "0   9976970                                아 더빙.. 진짜 짜증나네요 목소리      0   \n",
              "1   3819312                  흠...포스터보고 초딩영화줄....오버연기조차 가볍지 않구나      1   \n",
              "2  10265843                                  너무재밓었다그래서보는것을추천한다      0   \n",
              "3   9045019                      교도소 이야기구먼 ..솔직히 재미는 없다..평점 조정      0   \n",
              "4   6483659  사이몬페그의 익살스런 연기가 돋보였던 영화!스파이더맨에서 늙어보이기만 했던 커스틴 ...      1   \n",
              "\n",
              "                                              morphs  \n",
              "0                               아 더빙 .. 진짜 짜증나네요 목소리  \n",
              "1         흠 ... 포스터 보고 초딩 영화 줄 .... 오버 연기 조차 가볍지 않구나  \n",
              "2                          너 무재 밓었 다그 래서 보는것을 추천 한 다  \n",
              "3                 교도소 이야기 구먼 .. 솔직히 재미 는 없다 .. 평점 조정  \n",
              "4  사이 몬페 그 의 익살스런 연기 가 돋보였던 영화 ! 스파이더맨 에서 늙어 보이기만...  "
            ],
            "text/html": [
              "\n",
              "  <div id=\"df-327efaba-9592-4a51-9cbc-724f9c70b8bc\" class=\"colab-df-container\">\n",
              "    <div>\n",
              "<style scoped>\n",
              "    .dataframe tbody tr th:only-of-type {\n",
              "        vertical-align: middle;\n",
              "    }\n",
              "\n",
              "    .dataframe tbody tr th {\n",
              "        vertical-align: top;\n",
              "    }\n",
              "\n",
              "    .dataframe thead th {\n",
              "        text-align: right;\n",
              "    }\n",
              "</style>\n",
              "<table border=\"1\" class=\"dataframe\">\n",
              "  <thead>\n",
              "    <tr style=\"text-align: right;\">\n",
              "      <th></th>\n",
              "      <th>id</th>\n",
              "      <th>document</th>\n",
              "      <th>label</th>\n",
              "      <th>morphs</th>\n",
              "    </tr>\n",
              "  </thead>\n",
              "  <tbody>\n",
              "    <tr>\n",
              "      <th>0</th>\n",
              "      <td>9976970</td>\n",
              "      <td>아 더빙.. 진짜 짜증나네요 목소리</td>\n",
              "      <td>0</td>\n",
              "      <td>아 더빙 .. 진짜 짜증나네요 목소리</td>\n",
              "    </tr>\n",
              "    <tr>\n",
              "      <th>1</th>\n",
              "      <td>3819312</td>\n",
              "      <td>흠...포스터보고 초딩영화줄....오버연기조차 가볍지 않구나</td>\n",
              "      <td>1</td>\n",
              "      <td>흠 ... 포스터 보고 초딩 영화 줄 .... 오버 연기 조차 가볍지 않구나</td>\n",
              "    </tr>\n",
              "    <tr>\n",
              "      <th>2</th>\n",
              "      <td>10265843</td>\n",
              "      <td>너무재밓었다그래서보는것을추천한다</td>\n",
              "      <td>0</td>\n",
              "      <td>너 무재 밓었 다그 래서 보는것을 추천 한 다</td>\n",
              "    </tr>\n",
              "    <tr>\n",
              "      <th>3</th>\n",
              "      <td>9045019</td>\n",
              "      <td>교도소 이야기구먼 ..솔직히 재미는 없다..평점 조정</td>\n",
              "      <td>0</td>\n",
              "      <td>교도소 이야기 구먼 .. 솔직히 재미 는 없다 .. 평점 조정</td>\n",
              "    </tr>\n",
              "    <tr>\n",
              "      <th>4</th>\n",
              "      <td>6483659</td>\n",
              "      <td>사이몬페그의 익살스런 연기가 돋보였던 영화!스파이더맨에서 늙어보이기만 했던 커스틴 ...</td>\n",
              "      <td>1</td>\n",
              "      <td>사이 몬페 그 의 익살스런 연기 가 돋보였던 영화 ! 스파이더맨 에서 늙어 보이기만...</td>\n",
              "    </tr>\n",
              "  </tbody>\n",
              "</table>\n",
              "</div>\n",
              "    <div class=\"colab-df-buttons\">\n",
              "\n",
              "  <div class=\"colab-df-container\">\n",
              "    <button class=\"colab-df-convert\" onclick=\"convertToInteractive('df-327efaba-9592-4a51-9cbc-724f9c70b8bc')\"\n",
              "            title=\"Convert this dataframe to an interactive table.\"\n",
              "            style=\"display:none;\">\n",
              "\n",
              "  <svg xmlns=\"http://www.w3.org/2000/svg\" height=\"24px\" viewBox=\"0 -960 960 960\">\n",
              "    <path d=\"M120-120v-720h720v720H120Zm60-500h600v-160H180v160Zm220 220h160v-160H400v160Zm0 220h160v-160H400v160ZM180-400h160v-160H180v160Zm440 0h160v-160H620v160ZM180-180h160v-160H180v160Zm440 0h160v-160H620v160Z\"/>\n",
              "  </svg>\n",
              "    </button>\n",
              "\n",
              "  <style>\n",
              "    .colab-df-container {\n",
              "      display:flex;\n",
              "      gap: 12px;\n",
              "    }\n",
              "\n",
              "    .colab-df-convert {\n",
              "      background-color: #E8F0FE;\n",
              "      border: none;\n",
              "      border-radius: 50%;\n",
              "      cursor: pointer;\n",
              "      display: none;\n",
              "      fill: #1967D2;\n",
              "      height: 32px;\n",
              "      padding: 0 0 0 0;\n",
              "      width: 32px;\n",
              "    }\n",
              "\n",
              "    .colab-df-convert:hover {\n",
              "      background-color: #E2EBFA;\n",
              "      box-shadow: 0px 1px 2px rgba(60, 64, 67, 0.3), 0px 1px 3px 1px rgba(60, 64, 67, 0.15);\n",
              "      fill: #174EA6;\n",
              "    }\n",
              "\n",
              "    .colab-df-buttons div {\n",
              "      margin-bottom: 4px;\n",
              "    }\n",
              "\n",
              "    [theme=dark] .colab-df-convert {\n",
              "      background-color: #3B4455;\n",
              "      fill: #D2E3FC;\n",
              "    }\n",
              "\n",
              "    [theme=dark] .colab-df-convert:hover {\n",
              "      background-color: #434B5C;\n",
              "      box-shadow: 0px 1px 3px 1px rgba(0, 0, 0, 0.15);\n",
              "      filter: drop-shadow(0px 1px 2px rgba(0, 0, 0, 0.3));\n",
              "      fill: #FFFFFF;\n",
              "    }\n",
              "  </style>\n",
              "\n",
              "    <script>\n",
              "      const buttonEl =\n",
              "        document.querySelector('#df-327efaba-9592-4a51-9cbc-724f9c70b8bc button.colab-df-convert');\n",
              "      buttonEl.style.display =\n",
              "        google.colab.kernel.accessAllowed ? 'block' : 'none';\n",
              "\n",
              "      async function convertToInteractive(key) {\n",
              "        const element = document.querySelector('#df-327efaba-9592-4a51-9cbc-724f9c70b8bc');\n",
              "        const dataTable =\n",
              "          await google.colab.kernel.invokeFunction('convertToInteractive',\n",
              "                                                    [key], {});\n",
              "        if (!dataTable) return;\n",
              "\n",
              "        const docLinkHtml = 'Like what you see? Visit the ' +\n",
              "          '<a target=\"_blank\" href=https://colab.research.google.com/notebooks/data_table.ipynb>data table notebook</a>'\n",
              "          + ' to learn more about interactive tables.';\n",
              "        element.innerHTML = '';\n",
              "        dataTable['output_type'] = 'display_data';\n",
              "        await google.colab.output.renderOutput(dataTable, element);\n",
              "        const docLink = document.createElement('div');\n",
              "        docLink.innerHTML = docLinkHtml;\n",
              "        element.appendChild(docLink);\n",
              "      }\n",
              "    </script>\n",
              "  </div>\n",
              "\n",
              "\n",
              "<div id=\"df-6d0e9890-f76b-4196-8d35-905d6ada9cd6\">\n",
              "  <button class=\"colab-df-quickchart\" onclick=\"quickchart('df-6d0e9890-f76b-4196-8d35-905d6ada9cd6')\"\n",
              "            title=\"Suggest charts.\"\n",
              "            style=\"display:none;\">\n",
              "\n",
              "<svg xmlns=\"http://www.w3.org/2000/svg\" height=\"24px\"viewBox=\"0 0 24 24\"\n",
              "     width=\"24px\">\n",
              "    <g>\n",
              "        <path d=\"M19 3H5c-1.1 0-2 .9-2 2v14c0 1.1.9 2 2 2h14c1.1 0 2-.9 2-2V5c0-1.1-.9-2-2-2zM9 17H7v-7h2v7zm4 0h-2V7h2v10zm4 0h-2v-4h2v4z\"/>\n",
              "    </g>\n",
              "</svg>\n",
              "  </button>\n",
              "\n",
              "<style>\n",
              "  .colab-df-quickchart {\n",
              "      --bg-color: #E8F0FE;\n",
              "      --fill-color: #1967D2;\n",
              "      --hover-bg-color: #E2EBFA;\n",
              "      --hover-fill-color: #174EA6;\n",
              "      --disabled-fill-color: #AAA;\n",
              "      --disabled-bg-color: #DDD;\n",
              "  }\n",
              "\n",
              "  [theme=dark] .colab-df-quickchart {\n",
              "      --bg-color: #3B4455;\n",
              "      --fill-color: #D2E3FC;\n",
              "      --hover-bg-color: #434B5C;\n",
              "      --hover-fill-color: #FFFFFF;\n",
              "      --disabled-bg-color: #3B4455;\n",
              "      --disabled-fill-color: #666;\n",
              "  }\n",
              "\n",
              "  .colab-df-quickchart {\n",
              "    background-color: var(--bg-color);\n",
              "    border: none;\n",
              "    border-radius: 50%;\n",
              "    cursor: pointer;\n",
              "    display: none;\n",
              "    fill: var(--fill-color);\n",
              "    height: 32px;\n",
              "    padding: 0;\n",
              "    width: 32px;\n",
              "  }\n",
              "\n",
              "  .colab-df-quickchart:hover {\n",
              "    background-color: var(--hover-bg-color);\n",
              "    box-shadow: 0 1px 2px rgba(60, 64, 67, 0.3), 0 1px 3px 1px rgba(60, 64, 67, 0.15);\n",
              "    fill: var(--button-hover-fill-color);\n",
              "  }\n",
              "\n",
              "  .colab-df-quickchart-complete:disabled,\n",
              "  .colab-df-quickchart-complete:disabled:hover {\n",
              "    background-color: var(--disabled-bg-color);\n",
              "    fill: var(--disabled-fill-color);\n",
              "    box-shadow: none;\n",
              "  }\n",
              "\n",
              "  .colab-df-spinner {\n",
              "    border: 2px solid var(--fill-color);\n",
              "    border-color: transparent;\n",
              "    border-bottom-color: var(--fill-color);\n",
              "    animation:\n",
              "      spin 1s steps(1) infinite;\n",
              "  }\n",
              "\n",
              "  @keyframes spin {\n",
              "    0% {\n",
              "      border-color: transparent;\n",
              "      border-bottom-color: var(--fill-color);\n",
              "      border-left-color: var(--fill-color);\n",
              "    }\n",
              "    20% {\n",
              "      border-color: transparent;\n",
              "      border-left-color: var(--fill-color);\n",
              "      border-top-color: var(--fill-color);\n",
              "    }\n",
              "    30% {\n",
              "      border-color: transparent;\n",
              "      border-left-color: var(--fill-color);\n",
              "      border-top-color: var(--fill-color);\n",
              "      border-right-color: var(--fill-color);\n",
              "    }\n",
              "    40% {\n",
              "      border-color: transparent;\n",
              "      border-right-color: var(--fill-color);\n",
              "      border-top-color: var(--fill-color);\n",
              "    }\n",
              "    60% {\n",
              "      border-color: transparent;\n",
              "      border-right-color: var(--fill-color);\n",
              "    }\n",
              "    80% {\n",
              "      border-color: transparent;\n",
              "      border-right-color: var(--fill-color);\n",
              "      border-bottom-color: var(--fill-color);\n",
              "    }\n",
              "    90% {\n",
              "      border-color: transparent;\n",
              "      border-bottom-color: var(--fill-color);\n",
              "    }\n",
              "  }\n",
              "</style>\n",
              "\n",
              "  <script>\n",
              "    async function quickchart(key) {\n",
              "      const quickchartButtonEl =\n",
              "        document.querySelector('#' + key + ' button');\n",
              "      quickchartButtonEl.disabled = true;  // To prevent multiple clicks.\n",
              "      quickchartButtonEl.classList.add('colab-df-spinner');\n",
              "      try {\n",
              "        const charts = await google.colab.kernel.invokeFunction(\n",
              "            'suggestCharts', [key], {});\n",
              "      } catch (error) {\n",
              "        console.error('Error during call to suggestCharts:', error);\n",
              "      }\n",
              "      quickchartButtonEl.classList.remove('colab-df-spinner');\n",
              "      quickchartButtonEl.classList.add('colab-df-quickchart-complete');\n",
              "    }\n",
              "    (() => {\n",
              "      let quickchartButtonEl =\n",
              "        document.querySelector('#df-6d0e9890-f76b-4196-8d35-905d6ada9cd6 button');\n",
              "      quickchartButtonEl.style.display =\n",
              "        google.colab.kernel.accessAllowed ? 'block' : 'none';\n",
              "    })();\n",
              "  </script>\n",
              "</div>\n",
              "    </div>\n",
              "  </div>\n"
            ]
          },
          "metadata": {},
          "execution_count": 117
        }
      ]
    },
    {
      "cell_type": "code",
      "source": [
        "import re\n",
        "# 한글을 제외한 다른 문자 모두 제거\n",
        "remove_except_ko = re.compile(r\"[^가-힣ㄱ-하-ㅣ\\\\s]\")\n",
        "\n",
        "def preprocess_remove(text):\n",
        "  text = re.sub(remove_except_ko,' ',text).strip()\n",
        "  return text\n",
        "\n",
        "df['morphs'] = df['morphs'].map(lambda x : preprocess_remove(x))\n",
        "df.head()"
      ],
      "metadata": {
        "colab": {
          "base_uri": "https://localhost:8080/",
          "height": 206
        },
        "id": "adEpLz9MqabR",
        "outputId": "4f697fd6-ca00-442b-f743-658fcb2635f3"
      },
      "execution_count": null,
      "outputs": [
        {
          "output_type": "execute_result",
          "data": {
            "text/plain": [
              "         id                                           document  label  \\\n",
              "0   9976970                                아 더빙.. 진짜 짜증나네요 목소리      0   \n",
              "1   3819312                  흠...포스터보고 초딩영화줄....오버연기조차 가볍지 않구나      1   \n",
              "2  10265843                                  너무재밓었다그래서보는것을추천한다      0   \n",
              "3   9045019                      교도소 이야기구먼 ..솔직히 재미는 없다..평점 조정      0   \n",
              "4   6483659  사이몬페그의 익살스런 연기가 돋보였던 영화!스파이더맨에서 늙어보이기만 했던 커스틴 ...      1   \n",
              "\n",
              "                                              morphs  \n",
              "0                               아 더빙    진짜 짜증나네요 목소리  \n",
              "1         흠     포스터 보고 초딩 영화 줄      오버 연기 조차 가볍지 않구나  \n",
              "2                          너 무재 밓었 다그 래서 보는것을 추천 한 다  \n",
              "3                 교도소 이야기 구먼    솔직히 재미 는 없다    평점 조정  \n",
              "4  사이 몬페 그 의 익살스런 연기 가 돋보였던 영화   스파이더맨 에서 늙어 보이기만...  "
            ],
            "text/html": [
              "\n",
              "  <div id=\"df-c1498b28-94f0-40ff-bc3b-f0e9cc4f7cb4\" class=\"colab-df-container\">\n",
              "    <div>\n",
              "<style scoped>\n",
              "    .dataframe tbody tr th:only-of-type {\n",
              "        vertical-align: middle;\n",
              "    }\n",
              "\n",
              "    .dataframe tbody tr th {\n",
              "        vertical-align: top;\n",
              "    }\n",
              "\n",
              "    .dataframe thead th {\n",
              "        text-align: right;\n",
              "    }\n",
              "</style>\n",
              "<table border=\"1\" class=\"dataframe\">\n",
              "  <thead>\n",
              "    <tr style=\"text-align: right;\">\n",
              "      <th></th>\n",
              "      <th>id</th>\n",
              "      <th>document</th>\n",
              "      <th>label</th>\n",
              "      <th>morphs</th>\n",
              "    </tr>\n",
              "  </thead>\n",
              "  <tbody>\n",
              "    <tr>\n",
              "      <th>0</th>\n",
              "      <td>9976970</td>\n",
              "      <td>아 더빙.. 진짜 짜증나네요 목소리</td>\n",
              "      <td>0</td>\n",
              "      <td>아 더빙    진짜 짜증나네요 목소리</td>\n",
              "    </tr>\n",
              "    <tr>\n",
              "      <th>1</th>\n",
              "      <td>3819312</td>\n",
              "      <td>흠...포스터보고 초딩영화줄....오버연기조차 가볍지 않구나</td>\n",
              "      <td>1</td>\n",
              "      <td>흠     포스터 보고 초딩 영화 줄      오버 연기 조차 가볍지 않구나</td>\n",
              "    </tr>\n",
              "    <tr>\n",
              "      <th>2</th>\n",
              "      <td>10265843</td>\n",
              "      <td>너무재밓었다그래서보는것을추천한다</td>\n",
              "      <td>0</td>\n",
              "      <td>너 무재 밓었 다그 래서 보는것을 추천 한 다</td>\n",
              "    </tr>\n",
              "    <tr>\n",
              "      <th>3</th>\n",
              "      <td>9045019</td>\n",
              "      <td>교도소 이야기구먼 ..솔직히 재미는 없다..평점 조정</td>\n",
              "      <td>0</td>\n",
              "      <td>교도소 이야기 구먼    솔직히 재미 는 없다    평점 조정</td>\n",
              "    </tr>\n",
              "    <tr>\n",
              "      <th>4</th>\n",
              "      <td>6483659</td>\n",
              "      <td>사이몬페그의 익살스런 연기가 돋보였던 영화!스파이더맨에서 늙어보이기만 했던 커스틴 ...</td>\n",
              "      <td>1</td>\n",
              "      <td>사이 몬페 그 의 익살스런 연기 가 돋보였던 영화   스파이더맨 에서 늙어 보이기만...</td>\n",
              "    </tr>\n",
              "  </tbody>\n",
              "</table>\n",
              "</div>\n",
              "    <div class=\"colab-df-buttons\">\n",
              "\n",
              "  <div class=\"colab-df-container\">\n",
              "    <button class=\"colab-df-convert\" onclick=\"convertToInteractive('df-c1498b28-94f0-40ff-bc3b-f0e9cc4f7cb4')\"\n",
              "            title=\"Convert this dataframe to an interactive table.\"\n",
              "            style=\"display:none;\">\n",
              "\n",
              "  <svg xmlns=\"http://www.w3.org/2000/svg\" height=\"24px\" viewBox=\"0 -960 960 960\">\n",
              "    <path d=\"M120-120v-720h720v720H120Zm60-500h600v-160H180v160Zm220 220h160v-160H400v160Zm0 220h160v-160H400v160ZM180-400h160v-160H180v160Zm440 0h160v-160H620v160ZM180-180h160v-160H180v160Zm440 0h160v-160H620v160Z\"/>\n",
              "  </svg>\n",
              "    </button>\n",
              "\n",
              "  <style>\n",
              "    .colab-df-container {\n",
              "      display:flex;\n",
              "      gap: 12px;\n",
              "    }\n",
              "\n",
              "    .colab-df-convert {\n",
              "      background-color: #E8F0FE;\n",
              "      border: none;\n",
              "      border-radius: 50%;\n",
              "      cursor: pointer;\n",
              "      display: none;\n",
              "      fill: #1967D2;\n",
              "      height: 32px;\n",
              "      padding: 0 0 0 0;\n",
              "      width: 32px;\n",
              "    }\n",
              "\n",
              "    .colab-df-convert:hover {\n",
              "      background-color: #E2EBFA;\n",
              "      box-shadow: 0px 1px 2px rgba(60, 64, 67, 0.3), 0px 1px 3px 1px rgba(60, 64, 67, 0.15);\n",
              "      fill: #174EA6;\n",
              "    }\n",
              "\n",
              "    .colab-df-buttons div {\n",
              "      margin-bottom: 4px;\n",
              "    }\n",
              "\n",
              "    [theme=dark] .colab-df-convert {\n",
              "      background-color: #3B4455;\n",
              "      fill: #D2E3FC;\n",
              "    }\n",
              "\n",
              "    [theme=dark] .colab-df-convert:hover {\n",
              "      background-color: #434B5C;\n",
              "      box-shadow: 0px 1px 3px 1px rgba(0, 0, 0, 0.15);\n",
              "      filter: drop-shadow(0px 1px 2px rgba(0, 0, 0, 0.3));\n",
              "      fill: #FFFFFF;\n",
              "    }\n",
              "  </style>\n",
              "\n",
              "    <script>\n",
              "      const buttonEl =\n",
              "        document.querySelector('#df-c1498b28-94f0-40ff-bc3b-f0e9cc4f7cb4 button.colab-df-convert');\n",
              "      buttonEl.style.display =\n",
              "        google.colab.kernel.accessAllowed ? 'block' : 'none';\n",
              "\n",
              "      async function convertToInteractive(key) {\n",
              "        const element = document.querySelector('#df-c1498b28-94f0-40ff-bc3b-f0e9cc4f7cb4');\n",
              "        const dataTable =\n",
              "          await google.colab.kernel.invokeFunction('convertToInteractive',\n",
              "                                                    [key], {});\n",
              "        if (!dataTable) return;\n",
              "\n",
              "        const docLinkHtml = 'Like what you see? Visit the ' +\n",
              "          '<a target=\"_blank\" href=https://colab.research.google.com/notebooks/data_table.ipynb>data table notebook</a>'\n",
              "          + ' to learn more about interactive tables.';\n",
              "        element.innerHTML = '';\n",
              "        dataTable['output_type'] = 'display_data';\n",
              "        await google.colab.output.renderOutput(dataTable, element);\n",
              "        const docLink = document.createElement('div');\n",
              "        docLink.innerHTML = docLinkHtml;\n",
              "        element.appendChild(docLink);\n",
              "      }\n",
              "    </script>\n",
              "  </div>\n",
              "\n",
              "\n",
              "<div id=\"df-ab1757f8-e4d1-46b4-b523-72222163f24f\">\n",
              "  <button class=\"colab-df-quickchart\" onclick=\"quickchart('df-ab1757f8-e4d1-46b4-b523-72222163f24f')\"\n",
              "            title=\"Suggest charts.\"\n",
              "            style=\"display:none;\">\n",
              "\n",
              "<svg xmlns=\"http://www.w3.org/2000/svg\" height=\"24px\"viewBox=\"0 0 24 24\"\n",
              "     width=\"24px\">\n",
              "    <g>\n",
              "        <path d=\"M19 3H5c-1.1 0-2 .9-2 2v14c0 1.1.9 2 2 2h14c1.1 0 2-.9 2-2V5c0-1.1-.9-2-2-2zM9 17H7v-7h2v7zm4 0h-2V7h2v10zm4 0h-2v-4h2v4z\"/>\n",
              "    </g>\n",
              "</svg>\n",
              "  </button>\n",
              "\n",
              "<style>\n",
              "  .colab-df-quickchart {\n",
              "      --bg-color: #E8F0FE;\n",
              "      --fill-color: #1967D2;\n",
              "      --hover-bg-color: #E2EBFA;\n",
              "      --hover-fill-color: #174EA6;\n",
              "      --disabled-fill-color: #AAA;\n",
              "      --disabled-bg-color: #DDD;\n",
              "  }\n",
              "\n",
              "  [theme=dark] .colab-df-quickchart {\n",
              "      --bg-color: #3B4455;\n",
              "      --fill-color: #D2E3FC;\n",
              "      --hover-bg-color: #434B5C;\n",
              "      --hover-fill-color: #FFFFFF;\n",
              "      --disabled-bg-color: #3B4455;\n",
              "      --disabled-fill-color: #666;\n",
              "  }\n",
              "\n",
              "  .colab-df-quickchart {\n",
              "    background-color: var(--bg-color);\n",
              "    border: none;\n",
              "    border-radius: 50%;\n",
              "    cursor: pointer;\n",
              "    display: none;\n",
              "    fill: var(--fill-color);\n",
              "    height: 32px;\n",
              "    padding: 0;\n",
              "    width: 32px;\n",
              "  }\n",
              "\n",
              "  .colab-df-quickchart:hover {\n",
              "    background-color: var(--hover-bg-color);\n",
              "    box-shadow: 0 1px 2px rgba(60, 64, 67, 0.3), 0 1px 3px 1px rgba(60, 64, 67, 0.15);\n",
              "    fill: var(--button-hover-fill-color);\n",
              "  }\n",
              "\n",
              "  .colab-df-quickchart-complete:disabled,\n",
              "  .colab-df-quickchart-complete:disabled:hover {\n",
              "    background-color: var(--disabled-bg-color);\n",
              "    fill: var(--disabled-fill-color);\n",
              "    box-shadow: none;\n",
              "  }\n",
              "\n",
              "  .colab-df-spinner {\n",
              "    border: 2px solid var(--fill-color);\n",
              "    border-color: transparent;\n",
              "    border-bottom-color: var(--fill-color);\n",
              "    animation:\n",
              "      spin 1s steps(1) infinite;\n",
              "  }\n",
              "\n",
              "  @keyframes spin {\n",
              "    0% {\n",
              "      border-color: transparent;\n",
              "      border-bottom-color: var(--fill-color);\n",
              "      border-left-color: var(--fill-color);\n",
              "    }\n",
              "    20% {\n",
              "      border-color: transparent;\n",
              "      border-left-color: var(--fill-color);\n",
              "      border-top-color: var(--fill-color);\n",
              "    }\n",
              "    30% {\n",
              "      border-color: transparent;\n",
              "      border-left-color: var(--fill-color);\n",
              "      border-top-color: var(--fill-color);\n",
              "      border-right-color: var(--fill-color);\n",
              "    }\n",
              "    40% {\n",
              "      border-color: transparent;\n",
              "      border-right-color: var(--fill-color);\n",
              "      border-top-color: var(--fill-color);\n",
              "    }\n",
              "    60% {\n",
              "      border-color: transparent;\n",
              "      border-right-color: var(--fill-color);\n",
              "    }\n",
              "    80% {\n",
              "      border-color: transparent;\n",
              "      border-right-color: var(--fill-color);\n",
              "      border-bottom-color: var(--fill-color);\n",
              "    }\n",
              "    90% {\n",
              "      border-color: transparent;\n",
              "      border-bottom-color: var(--fill-color);\n",
              "    }\n",
              "  }\n",
              "</style>\n",
              "\n",
              "  <script>\n",
              "    async function quickchart(key) {\n",
              "      const quickchartButtonEl =\n",
              "        document.querySelector('#' + key + ' button');\n",
              "      quickchartButtonEl.disabled = true;  // To prevent multiple clicks.\n",
              "      quickchartButtonEl.classList.add('colab-df-spinner');\n",
              "      try {\n",
              "        const charts = await google.colab.kernel.invokeFunction(\n",
              "            'suggestCharts', [key], {});\n",
              "      } catch (error) {\n",
              "        console.error('Error during call to suggestCharts:', error);\n",
              "      }\n",
              "      quickchartButtonEl.classList.remove('colab-df-spinner');\n",
              "      quickchartButtonEl.classList.add('colab-df-quickchart-complete');\n",
              "    }\n",
              "    (() => {\n",
              "      let quickchartButtonEl =\n",
              "        document.querySelector('#df-ab1757f8-e4d1-46b4-b523-72222163f24f button');\n",
              "      quickchartButtonEl.style.display =\n",
              "        google.colab.kernel.accessAllowed ? 'block' : 'none';\n",
              "    })();\n",
              "  </script>\n",
              "</div>\n",
              "    </div>\n",
              "  </div>\n"
            ]
          },
          "metadata": {},
          "execution_count": 118
        }
      ]
    },
    {
      "cell_type": "code",
      "source": [
        "# 불용어 처리\n",
        "stop_word = ['포스터', '저작권자', '한경', '닷컴', '뉴스룸', '홈페이지', '바로', '네이버', '구독', '채널', '세요', '제공','께서', '라고', '입니다', '습니다', '한다', '에서', '이다', '에게', '으로', '이랑', '까지', '부터', '하다', '한데', '통해', '위해', '때문' ]\n",
        "\n",
        "def preprocess(text):\n",
        "  text = text.split()\n",
        "  text = [i for i in text if len(i)>1]\n",
        "  text = [i for i in text if i not in stop_word]\n",
        "  return text"
      ],
      "metadata": {
        "id": "LSzYlgC1qelM"
      },
      "execution_count": null,
      "outputs": []
    },
    {
      "cell_type": "code",
      "source": [
        "# 토큰화 + 토큰리스트 생성\n",
        "def make_tokens(df):\n",
        "  df['tokens'] = None\n",
        "  for i, row in df.iterrows():\n",
        "    if i%1000==0:\n",
        "      print(i,'/',len(df))\n",
        "    token = preprocess(df['morphs'][i])\n",
        "    df['tokens'][i] = ' '.join(token)\n",
        "  return df\n",
        "\n",
        "df = make_tokens(df)"
      ],
      "metadata": {
        "colab": {
          "base_uri": "https://localhost:8080/"
        },
        "id": "BC6M1lOeqh_e",
        "outputId": "6474b301-cf8c-4dd1-f5a4-fdf52445eb30"
      },
      "execution_count": null,
      "outputs": [
        {
          "output_type": "stream",
          "name": "stdout",
          "text": [
            "0 / 10000\n"
          ]
        },
        {
          "output_type": "stream",
          "name": "stderr",
          "text": [
            "<ipython-input-120-86dc58720036>:8: SettingWithCopyWarning: \n",
            "A value is trying to be set on a copy of a slice from a DataFrame\n",
            "\n",
            "See the caveats in the documentation: https://pandas.pydata.org/pandas-docs/stable/user_guide/indexing.html#returning-a-view-versus-a-copy\n",
            "  df['tokens'][i] = ' '.join(token)\n"
          ]
        },
        {
          "output_type": "stream",
          "name": "stdout",
          "text": [
            "1000 / 10000\n",
            "2000 / 10000\n",
            "3000 / 10000\n",
            "4000 / 10000\n",
            "5000 / 10000\n",
            "6000 / 10000\n",
            "7000 / 10000\n",
            "8000 / 10000\n",
            "9000 / 10000\n"
          ]
        }
      ]
    },
    {
      "cell_type": "code",
      "source": [
        "df.head()"
      ],
      "metadata": {
        "colab": {
          "base_uri": "https://localhost:8080/",
          "height": 223
        },
        "id": "rjcSwyDnqkBD",
        "outputId": "09ad2296-9f72-4b01-f31e-6d5415e8a945"
      },
      "execution_count": null,
      "outputs": [
        {
          "output_type": "execute_result",
          "data": {
            "text/plain": [
              "         id                                           document  label  \\\n",
              "0   9976970                                아 더빙.. 진짜 짜증나네요 목소리      0   \n",
              "1   3819312                  흠...포스터보고 초딩영화줄....오버연기조차 가볍지 않구나      1   \n",
              "2  10265843                                  너무재밓었다그래서보는것을추천한다      0   \n",
              "3   9045019                      교도소 이야기구먼 ..솔직히 재미는 없다..평점 조정      0   \n",
              "4   6483659  사이몬페그의 익살스런 연기가 돋보였던 영화!스파이더맨에서 늙어보이기만 했던 커스틴 ...      1   \n",
              "\n",
              "                                              morphs  \\\n",
              "0                               아 더빙    진짜 짜증나네요 목소리   \n",
              "1         흠     포스터 보고 초딩 영화 줄      오버 연기 조차 가볍지 않구나   \n",
              "2                          너 무재 밓었 다그 래서 보는것을 추천 한 다   \n",
              "3                 교도소 이야기 구먼    솔직히 재미 는 없다    평점 조정   \n",
              "4  사이 몬페 그 의 익살스런 연기 가 돋보였던 영화   스파이더맨 에서 늙어 보이기만...   \n",
              "\n",
              "                                              tokens  \n",
              "0                                    더빙 진짜 짜증나네요 목소리  \n",
              "1                          보고 초딩 영화 오버 연기 조차 가볍지 않구나  \n",
              "2                                무재 밓었 다그 래서 보는것을 추천  \n",
              "3                         교도소 이야기 구먼 솔직히 재미 없다 평점 조정  \n",
              "4  사이 몬페 익살스런 연기 돋보였던 영화 스파이더맨 늙어 보이기만 했던 커스틴 던스트...  "
            ],
            "text/html": [
              "\n",
              "  <div id=\"df-299c6564-9591-4326-9f4e-831c4101454c\" class=\"colab-df-container\">\n",
              "    <div>\n",
              "<style scoped>\n",
              "    .dataframe tbody tr th:only-of-type {\n",
              "        vertical-align: middle;\n",
              "    }\n",
              "\n",
              "    .dataframe tbody tr th {\n",
              "        vertical-align: top;\n",
              "    }\n",
              "\n",
              "    .dataframe thead th {\n",
              "        text-align: right;\n",
              "    }\n",
              "</style>\n",
              "<table border=\"1\" class=\"dataframe\">\n",
              "  <thead>\n",
              "    <tr style=\"text-align: right;\">\n",
              "      <th></th>\n",
              "      <th>id</th>\n",
              "      <th>document</th>\n",
              "      <th>label</th>\n",
              "      <th>morphs</th>\n",
              "      <th>tokens</th>\n",
              "    </tr>\n",
              "  </thead>\n",
              "  <tbody>\n",
              "    <tr>\n",
              "      <th>0</th>\n",
              "      <td>9976970</td>\n",
              "      <td>아 더빙.. 진짜 짜증나네요 목소리</td>\n",
              "      <td>0</td>\n",
              "      <td>아 더빙    진짜 짜증나네요 목소리</td>\n",
              "      <td>더빙 진짜 짜증나네요 목소리</td>\n",
              "    </tr>\n",
              "    <tr>\n",
              "      <th>1</th>\n",
              "      <td>3819312</td>\n",
              "      <td>흠...포스터보고 초딩영화줄....오버연기조차 가볍지 않구나</td>\n",
              "      <td>1</td>\n",
              "      <td>흠     포스터 보고 초딩 영화 줄      오버 연기 조차 가볍지 않구나</td>\n",
              "      <td>보고 초딩 영화 오버 연기 조차 가볍지 않구나</td>\n",
              "    </tr>\n",
              "    <tr>\n",
              "      <th>2</th>\n",
              "      <td>10265843</td>\n",
              "      <td>너무재밓었다그래서보는것을추천한다</td>\n",
              "      <td>0</td>\n",
              "      <td>너 무재 밓었 다그 래서 보는것을 추천 한 다</td>\n",
              "      <td>무재 밓었 다그 래서 보는것을 추천</td>\n",
              "    </tr>\n",
              "    <tr>\n",
              "      <th>3</th>\n",
              "      <td>9045019</td>\n",
              "      <td>교도소 이야기구먼 ..솔직히 재미는 없다..평점 조정</td>\n",
              "      <td>0</td>\n",
              "      <td>교도소 이야기 구먼    솔직히 재미 는 없다    평점 조정</td>\n",
              "      <td>교도소 이야기 구먼 솔직히 재미 없다 평점 조정</td>\n",
              "    </tr>\n",
              "    <tr>\n",
              "      <th>4</th>\n",
              "      <td>6483659</td>\n",
              "      <td>사이몬페그의 익살스런 연기가 돋보였던 영화!스파이더맨에서 늙어보이기만 했던 커스틴 ...</td>\n",
              "      <td>1</td>\n",
              "      <td>사이 몬페 그 의 익살스런 연기 가 돋보였던 영화   스파이더맨 에서 늙어 보이기만...</td>\n",
              "      <td>사이 몬페 익살스런 연기 돋보였던 영화 스파이더맨 늙어 보이기만 했던 커스틴 던스트...</td>\n",
              "    </tr>\n",
              "  </tbody>\n",
              "</table>\n",
              "</div>\n",
              "    <div class=\"colab-df-buttons\">\n",
              "\n",
              "  <div class=\"colab-df-container\">\n",
              "    <button class=\"colab-df-convert\" onclick=\"convertToInteractive('df-299c6564-9591-4326-9f4e-831c4101454c')\"\n",
              "            title=\"Convert this dataframe to an interactive table.\"\n",
              "            style=\"display:none;\">\n",
              "\n",
              "  <svg xmlns=\"http://www.w3.org/2000/svg\" height=\"24px\" viewBox=\"0 -960 960 960\">\n",
              "    <path d=\"M120-120v-720h720v720H120Zm60-500h600v-160H180v160Zm220 220h160v-160H400v160Zm0 220h160v-160H400v160ZM180-400h160v-160H180v160Zm440 0h160v-160H620v160ZM180-180h160v-160H180v160Zm440 0h160v-160H620v160Z\"/>\n",
              "  </svg>\n",
              "    </button>\n",
              "\n",
              "  <style>\n",
              "    .colab-df-container {\n",
              "      display:flex;\n",
              "      gap: 12px;\n",
              "    }\n",
              "\n",
              "    .colab-df-convert {\n",
              "      background-color: #E8F0FE;\n",
              "      border: none;\n",
              "      border-radius: 50%;\n",
              "      cursor: pointer;\n",
              "      display: none;\n",
              "      fill: #1967D2;\n",
              "      height: 32px;\n",
              "      padding: 0 0 0 0;\n",
              "      width: 32px;\n",
              "    }\n",
              "\n",
              "    .colab-df-convert:hover {\n",
              "      background-color: #E2EBFA;\n",
              "      box-shadow: 0px 1px 2px rgba(60, 64, 67, 0.3), 0px 1px 3px 1px rgba(60, 64, 67, 0.15);\n",
              "      fill: #174EA6;\n",
              "    }\n",
              "\n",
              "    .colab-df-buttons div {\n",
              "      margin-bottom: 4px;\n",
              "    }\n",
              "\n",
              "    [theme=dark] .colab-df-convert {\n",
              "      background-color: #3B4455;\n",
              "      fill: #D2E3FC;\n",
              "    }\n",
              "\n",
              "    [theme=dark] .colab-df-convert:hover {\n",
              "      background-color: #434B5C;\n",
              "      box-shadow: 0px 1px 3px 1px rgba(0, 0, 0, 0.15);\n",
              "      filter: drop-shadow(0px 1px 2px rgba(0, 0, 0, 0.3));\n",
              "      fill: #FFFFFF;\n",
              "    }\n",
              "  </style>\n",
              "\n",
              "    <script>\n",
              "      const buttonEl =\n",
              "        document.querySelector('#df-299c6564-9591-4326-9f4e-831c4101454c button.colab-df-convert');\n",
              "      buttonEl.style.display =\n",
              "        google.colab.kernel.accessAllowed ? 'block' : 'none';\n",
              "\n",
              "      async function convertToInteractive(key) {\n",
              "        const element = document.querySelector('#df-299c6564-9591-4326-9f4e-831c4101454c');\n",
              "        const dataTable =\n",
              "          await google.colab.kernel.invokeFunction('convertToInteractive',\n",
              "                                                    [key], {});\n",
              "        if (!dataTable) return;\n",
              "\n",
              "        const docLinkHtml = 'Like what you see? Visit the ' +\n",
              "          '<a target=\"_blank\" href=https://colab.research.google.com/notebooks/data_table.ipynb>data table notebook</a>'\n",
              "          + ' to learn more about interactive tables.';\n",
              "        element.innerHTML = '';\n",
              "        dataTable['output_type'] = 'display_data';\n",
              "        await google.colab.output.renderOutput(dataTable, element);\n",
              "        const docLink = document.createElement('div');\n",
              "        docLink.innerHTML = docLinkHtml;\n",
              "        element.appendChild(docLink);\n",
              "      }\n",
              "    </script>\n",
              "  </div>\n",
              "\n",
              "\n",
              "<div id=\"df-f25f51f2-80c5-4d2a-9df4-e769e1c2397d\">\n",
              "  <button class=\"colab-df-quickchart\" onclick=\"quickchart('df-f25f51f2-80c5-4d2a-9df4-e769e1c2397d')\"\n",
              "            title=\"Suggest charts.\"\n",
              "            style=\"display:none;\">\n",
              "\n",
              "<svg xmlns=\"http://www.w3.org/2000/svg\" height=\"24px\"viewBox=\"0 0 24 24\"\n",
              "     width=\"24px\">\n",
              "    <g>\n",
              "        <path d=\"M19 3H5c-1.1 0-2 .9-2 2v14c0 1.1.9 2 2 2h14c1.1 0 2-.9 2-2V5c0-1.1-.9-2-2-2zM9 17H7v-7h2v7zm4 0h-2V7h2v10zm4 0h-2v-4h2v4z\"/>\n",
              "    </g>\n",
              "</svg>\n",
              "  </button>\n",
              "\n",
              "<style>\n",
              "  .colab-df-quickchart {\n",
              "      --bg-color: #E8F0FE;\n",
              "      --fill-color: #1967D2;\n",
              "      --hover-bg-color: #E2EBFA;\n",
              "      --hover-fill-color: #174EA6;\n",
              "      --disabled-fill-color: #AAA;\n",
              "      --disabled-bg-color: #DDD;\n",
              "  }\n",
              "\n",
              "  [theme=dark] .colab-df-quickchart {\n",
              "      --bg-color: #3B4455;\n",
              "      --fill-color: #D2E3FC;\n",
              "      --hover-bg-color: #434B5C;\n",
              "      --hover-fill-color: #FFFFFF;\n",
              "      --disabled-bg-color: #3B4455;\n",
              "      --disabled-fill-color: #666;\n",
              "  }\n",
              "\n",
              "  .colab-df-quickchart {\n",
              "    background-color: var(--bg-color);\n",
              "    border: none;\n",
              "    border-radius: 50%;\n",
              "    cursor: pointer;\n",
              "    display: none;\n",
              "    fill: var(--fill-color);\n",
              "    height: 32px;\n",
              "    padding: 0;\n",
              "    width: 32px;\n",
              "  }\n",
              "\n",
              "  .colab-df-quickchart:hover {\n",
              "    background-color: var(--hover-bg-color);\n",
              "    box-shadow: 0 1px 2px rgba(60, 64, 67, 0.3), 0 1px 3px 1px rgba(60, 64, 67, 0.15);\n",
              "    fill: var(--button-hover-fill-color);\n",
              "  }\n",
              "\n",
              "  .colab-df-quickchart-complete:disabled,\n",
              "  .colab-df-quickchart-complete:disabled:hover {\n",
              "    background-color: var(--disabled-bg-color);\n",
              "    fill: var(--disabled-fill-color);\n",
              "    box-shadow: none;\n",
              "  }\n",
              "\n",
              "  .colab-df-spinner {\n",
              "    border: 2px solid var(--fill-color);\n",
              "    border-color: transparent;\n",
              "    border-bottom-color: var(--fill-color);\n",
              "    animation:\n",
              "      spin 1s steps(1) infinite;\n",
              "  }\n",
              "\n",
              "  @keyframes spin {\n",
              "    0% {\n",
              "      border-color: transparent;\n",
              "      border-bottom-color: var(--fill-color);\n",
              "      border-left-color: var(--fill-color);\n",
              "    }\n",
              "    20% {\n",
              "      border-color: transparent;\n",
              "      border-left-color: var(--fill-color);\n",
              "      border-top-color: var(--fill-color);\n",
              "    }\n",
              "    30% {\n",
              "      border-color: transparent;\n",
              "      border-left-color: var(--fill-color);\n",
              "      border-top-color: var(--fill-color);\n",
              "      border-right-color: var(--fill-color);\n",
              "    }\n",
              "    40% {\n",
              "      border-color: transparent;\n",
              "      border-right-color: var(--fill-color);\n",
              "      border-top-color: var(--fill-color);\n",
              "    }\n",
              "    60% {\n",
              "      border-color: transparent;\n",
              "      border-right-color: var(--fill-color);\n",
              "    }\n",
              "    80% {\n",
              "      border-color: transparent;\n",
              "      border-right-color: var(--fill-color);\n",
              "      border-bottom-color: var(--fill-color);\n",
              "    }\n",
              "    90% {\n",
              "      border-color: transparent;\n",
              "      border-bottom-color: var(--fill-color);\n",
              "    }\n",
              "  }\n",
              "</style>\n",
              "\n",
              "  <script>\n",
              "    async function quickchart(key) {\n",
              "      const quickchartButtonEl =\n",
              "        document.querySelector('#' + key + ' button');\n",
              "      quickchartButtonEl.disabled = true;  // To prevent multiple clicks.\n",
              "      quickchartButtonEl.classList.add('colab-df-spinner');\n",
              "      try {\n",
              "        const charts = await google.colab.kernel.invokeFunction(\n",
              "            'suggestCharts', [key], {});\n",
              "      } catch (error) {\n",
              "        console.error('Error during call to suggestCharts:', error);\n",
              "      }\n",
              "      quickchartButtonEl.classList.remove('colab-df-spinner');\n",
              "      quickchartButtonEl.classList.add('colab-df-quickchart-complete');\n",
              "    }\n",
              "    (() => {\n",
              "      let quickchartButtonEl =\n",
              "        document.querySelector('#df-f25f51f2-80c5-4d2a-9df4-e769e1c2397d button');\n",
              "      quickchartButtonEl.style.display =\n",
              "        google.colab.kernel.accessAllowed ? 'block' : 'none';\n",
              "    })();\n",
              "  </script>\n",
              "</div>\n",
              "    </div>\n",
              "  </div>\n"
            ]
          },
          "metadata": {},
          "execution_count": 121
        }
      ]
    },
    {
      "cell_type": "markdown",
      "source": [
        "### 데이터 인코딩"
      ],
      "metadata": {
        "id": "EcgS63WSqn_e"
      }
    },
    {
      "cell_type": "code",
      "source": [
        "# 유니크한 토큰 개수 확인\n",
        "token_list = []\n",
        "for i in df['tokens']:\n",
        "  token_list.extend(i.split(' '))\n",
        "  # break\n",
        "\n",
        "len(token_list)"
      ],
      "metadata": {
        "colab": {
          "base_uri": "https://localhost:8080/"
        },
        "id": "0B8HDCXTrpoT",
        "outputId": "4b4fd9e2-6bba-4286-af16-da6aa430ed67"
      },
      "execution_count": 156,
      "outputs": [
        {
          "output_type": "execute_result",
          "data": {
            "text/plain": [
              "83564"
            ]
          },
          "metadata": {},
          "execution_count": 156
        }
      ]
    },
    {
      "cell_type": "code",
      "source": [
        "x = df.iloc[:, -1]\n",
        "y = df.iloc[:, 2]"
      ],
      "metadata": {
        "id": "5i0YVSdLrJW2"
      },
      "execution_count": 157,
      "outputs": []
    },
    {
      "cell_type": "code",
      "source": [
        "print(tokenizer.word_index)"
      ],
      "metadata": {
        "colab": {
          "base_uri": "https://localhost:8080/"
        },
        "id": "NnVFFlx600PY",
        "outputId": "6ee2a0f7-8a41-424d-ce46-968e9bc4708b"
      },
      "execution_count": 158,
      "outputs": [
        {
          "output_type": "stream",
          "name": "stdout",
          "text": [
            "{'영화': 1, '정말': 2, '너무': 3, '진짜': 4, '연기': 5, '평점': 6, '최고': 7, '스토리': 8, '하고': 9, '이런': 10, '사람': 11, '드라마': 12, '보고': 13, '감동': 14, '하는': 15, '생각': 16, 'ㅋㅋ': 17, '감독': 18, '그냥': 19, '시간': 20, '내용': 21, '재미': 22, '배우': 23, '작품': 24, '보다': 25, '없는': 26, '하나': 27, '쓰레기': 28, '사랑': 29, '없다': 30, '이건': 31, '마지막': 32, '정도': 33, '같은': 34, '있는': 35, '이렇게': 36, '연출': 37, '봤는데': 38, '액션': 39, '주인공': 40, '다시': 41, '장면': 42, '좋은': 43, '느낌': 44, 'ㅋㅋㅋ': 45, '지금': 46, '없고': 47, '보는': 48, '역시': 49, '이야기': 50, '처음': 51, '최악': 52, '완전': 53, '명작': 54, 'ㅡㅡ': 55, '인데': 56, '별로': 57, 'ㅠㅠ': 58, '봐도': 59, '그리고': 60, '해서': 61, '같다': 62, '이나': 63, '많이': 64, '보면': 65, '이해': 66, '이영화': 67, '결말': 68, '재밌게': 69, '아깝다': 70, '인생': 71, '한번': 72, '가슴': 73, '소재': 74, '무슨': 75, '이고': 76, '라는': 77, '마음': 78, '여자': 79, '매력': 80, '남자': 81, '가장': 82, '기억': 83, '보기': 84, '모든': 85, '지만': 86, '없이': 87, 'ㅎㅎ': 88, '인가': 89, '하지만': 90, '수준': 91, '인간': 92, '전개': 93, '되는': 94, '현실': 95, '캐릭터': 96, '하지': 97, '실망': 98, '반전': 99, '전혀': 100, '했다': 101, '제목': 102, '하게': 103, '추천': 104, '공감': 105, '합니다': 106, '솔직히': 107, 'ㅋㅋㅋㅋ': 108, '개봉': 109, '이라': 110, '코미디': 111, '뭔가': 112, '우리': 113, '근데': 114, '이제': 115, '만든': 116, '다른': 117, '아이': 118, '시리즈': 119, '자체': 120, '처럼': 121, '음악': 122, '연기력': 123, '했는데': 124, '건지': 125, '보면서': 126, '재밌다': 127, '몰입': 128, '없음': 129, '눈물': 130, '대한': 131, '봤다': 132, '중간': 133, '작가': 134, '계속': 135, '않고': 136, '표현': 137, '인지': 138, '아닌': 139, '재미없다': 140, '영상': 141, '어떻게': 142, '모두': 143, '여운': 144, '그런': 145, '않은': 146, '하면': 147, '나오는': 148, '이라는': 149, '모습': 150, '이란': 151, '이상': 152, '아주': 153, '기분': 154, '아까운': 155, '가족': 156, '내내': 157, '한국': 158, '일본': 159, '아직도': 160, '이유': 161, '봤어요': 162, '부분': 163, '있다': 164, '오랜': 165, '보게': 166, '이네': 167, '에는': 168, '진심': 169, '그래도': 170, '절대': 171, '였다': 172, '아니라': 173, '아니고': 174, '좋다': 175, '점수': 176, '봤습니다': 177, '나름': 178, '문제': 179, '요즘': 180, '밖에': 181, '기대': 182, '수작': 183, '애니': 184, '긴장감': 185, '해도': 186, '대박': 187, '라면': 188, '개인': 189, '이딴': 190, '원작': 191, '친구': 192, '제대로': 193, '재미있게': 194, '점도': 195, '많은': 196, '당시': 197, '조금': 198, 'ㅜㅜ': 199, '노래': 200, '노잼': 201, '배경': 202, '특히': 203, '졸작': 204, '막장': 205, '재밌어요': 206, '싶다': 207, '에도': 208, '이지': 209, '보는내내': 210, '대사': 211, '결국': 212, '한테': 213, '극장': 214, '보니': 215, '있고': 216, '추억': 217, '한국영': 218, '티비': 219, '초반': 220, '설정': 221, '주고': 222, '멋진': 223, '보지': 224, '의미': 225, '보는데': 226, '아름다운': 227, '좋았다': 228, '알바': 229, '스릴러': 230, '보단': 231, '봤던': 232, '인상': 233, '엄마': 234, '보다가': 235, '자신': 236, '가지': 237, '이라고': 238, '시나리오': 239, '보세요': 240, '함께': 241, '재밌음': 242, '지루하고': 243, '하면서': 244, '어떤': 245, '웃음': 246, '나도': 247, '주는': 248, '않는': 249, '만드는': 250, '마다': 251, '했던': 252, '공포': 253, '좋아하는': 254, '기도': 255, '이야': 256, '정신': 257, '좋고': 258, '제일': 259, '한마디': 260, '장난': 261, '세상': 262, '된다': 263, '대해': 264, '구성': 265, '몰입도': 266, '엄청': 267, '미국': 268, '차라리': 269, '같이': 270, '웃기': 271, '오늘': 272, '어릴': 273, '하는데': 274, '후회': 275, '애니메이션': 276, '뻔한': 277, '우리나라': 278, '아무': 279, '도대체': 280, '분들': 281, '아니다': 282, '시작': 283, '전쟁': 284, '평가': 285, '영화관': 286, '여배우': 287, '공포영화': 288, '아니': 289, '실화': 290, '시대': 291, '이후': 292, '어느': 293, '이지만': 294, '얼굴': 295, '나이': 296, '괜찮은': 297, '같아요': 298, '캐스팅': 299, '최고다': 300, '아직': 301, '얼마나': 302, '충격': 303, '없어': 304, '아무리': 305, '갈수록': 306, '싶은': 307, '중국': 308, '그렇게': 309, '그저': 310, '옛날': 311, '봤지만': 312, '남는': 313, '무엇': 314, '개연': 315, '소리': 316, '안되는': 317, '제발': 318, '그래서': 319, '모르겠다': 320, '준다': 321, '출연': 322, '지루하다': 323, '영화로': 324, '관객': 325, '누구': 326, '역사': 327, '누가': 328, '로맨스': 329, '하기': 330, '비디오': 331, '없네': 332, '감정': 333, '분위기': 334, '건가': 335, '코믹': 336, '만큼': 337, '봤음': 338, '여기': 339, '알았다': 340, '참고': 341, '순간': 342, '재미없음': 343, '지루한': 344, '어디': 345, '나오고': 346, '그나마': 347, '스릴': 348, '라니': 349, '나온': 350, '예술': 351, '대체': 352, '사실': 353, '다큐': 354, '상황': 355, '킬링타임': 356, '충분히': 357, '훨씬': 358, '방송': 359, '시절': 360, '안보': 361, '그대로': 362, '인물': 363, '흥행': 364, '영화인': 365, '존재': 366, '걸작': 367, '엔딩': 368, '짜증': 369, '미친': 370, '전체': 371, '아들': 372, '비교': 373, '좀비': 374, '이리': 375, '였음': 376, '나와서': 377, '소름': 378, '재밌는': 379, '자기': 380, '그것': 381, '만들어': 382, '주제': 383, '재밌네요': 384, '매우': 385, '좋은데': 386, '집중': 387, '복수': 388, '였습니다': 389, '이라도': 390, '낭비': 391, '봤네요': 392, '없어서': 393, '전부': 394, '만화': 395, '이름': 396, '만점': 397, '화면': 398, '당신': 399, '장르': 400, '약간': 401, '지루함': 402, '여주': 403, '않다': 404, '편이': 405, '하는게': 406, '그러나': 407, '가는': 408, '사회': 409, '재밌는데': 410, '극장판': 411, '다운': 412, '잔잔한': 413, '동안': 414, '있어': 415, '너무나': 416, '초딩': 417, '또한': 418, '갑자기': 419, '사건': 420, '니까': 421, '소설': 422, '괜히': 423, '아님': 424, '같음': 425, '재미있어요': 426, '화가': 427, 'ㅉㅉ': 428, '않는다': 429, '라서': 430, '같은데': 431, '있는데': 432, '그만': 433, '있어서': 434, '먹고': 435, '마세요': 436, '빨리': 437, '머리': 438, '비해': 439, '가서': 440, '언제': 441, '되고': 442, '할수': 443, '시즌': 444, '혼자': 445, '봐라': 446, '상미': 447, '만의': 448, '재밌고': 449, '상당히': 450, '했지만': 451, '강추': 452, '미화': 453, '한편': 454, '아버지': 455, '좋았어요': 456, '더빙': 457, '게임': 458, '에서도': 459, '어디서': 460, '새로운': 461, '얘기': 462, '에선': 463, '난다': 464, '질질': 465, '존나': 466, '발연기': 467, '에요': 468, '완성': 469, '그녀': 470, '아까워': 471, '주연': 472, '무조건': 473, '목소리': 474, '나옴': 475, '점주': 476, '원래': 477, '스타일': 478, '엉망': 479, '물론': 480, '이었다': 481, '하네요': 482, '안된다': 483, '성룡': 484, '말고': 485, '작은': 486, '몇번': 487, '억지': 488, '간만': 489, '높은': 490, '모르고': 491, '좋아요': 492, '엄청난': 493, '대단하다': 494, '노력': 495, '요소': 496, '거의': 497, '예요': 498, '평생': 499, '전작': 500, '재미없는': 501, '선택': 502, '느와르': 503, '감성': 504, '거리': 505, '만하': 506, '동화': 507, '제작비': 508, '되어': 509, '먼저': 510, '되지': 511, '전편': 512, '있지만': 513, '느끼게': 514, '일이': 515, '따뜻한': 516, '슬픈': 517, '이에요': 518, '실제': 519, '졸라': 520, '판타지': 521, '대단한': 522, '예전': 523, '본다': 524, '흥미진진': 525, '자극': 526, '거지': 527, '하네': 528, '있을까': 529, '거기': 530, '재미있다': 531, '열심히': 532, '제작': 533, '에겐': 534, '그때': 535, '현재': 536, '없었다': 537, '라도': 538, '알았는데': 539, '평론가': 540, '아저씨': 541, '화이팅': 542, '예상': 543, '특유': 544, '아빠': 545, '아까': 546, '봐야': 547, '굳이': 548, '귀신': 549, '살인': 550, '진정한': 551, '새끼': 552, '흥미': 553, '여성': 554, '나온다': 555, '오빠': 556, '깊게': 557, '메세지': 558, '지루하지': 559, '였어요': 560, '상영': 561, '간다': 562, '결혼': 563, '세계': 564, '멜로': 565, '보는게': 566, '유치하고': 567, '가면': 568, '최근': 569, '어린': 570, '각본': 571, '좋아': 572, '청춘': 573, '어색한': 574, '감사합니다': 575, '결과': 576, '그닥': 577, '이기': 578, '받아': 579, '좋음': 580, '아쉽다': 581, '좋았음': 582, '아니지만': 583, '믿고': 584, '학교': 585, '시청률': 586, '없어요': 587, '봤었는데': 588, '굉장히': 589, '으로도': 590, '다만': 591, '만이': 592, '왠지': 593, '병맛': 594, '멋지다': 595, '낫다': 596, '일단': 597, '보다는': 598, '깊은': 599, '보여주는': 600, '스러운': 601, '화보': 602, '그런데': 603, '재미있고': 604, '같네요': 605, '반개': 606, '볼때': 607, '따위': 608, '자막': 609, '연인': 610, '지루해': 611, '만으로도': 612, '표정': 613, '다음': 614, '과거': 615, '성도': 616, '힘든': 617, '포기': 618, '올해': 619, '필요': 620, '의도': 621, '이라니': 622, '치고': 623, '수가': 624, '시도': 625, '상처': 626, '이냐': 627, '했으면': 628, '보이는': 629, '아쉬움': 630, '대의': 631, '이제야': 632, '재미없고': 633, '소녀': 634, '재미있는': 635, '그게': 636, '취향': 637, '조차': 638, '가끔': 639, '문화': 640, '케이블': 641, '만들지': 642, '삼류': 643, '진행': 644, '꿀잼': 645, '봐서': 646, '따라': 647, '점점': 648, '도저히': 649, '좋네요': 650, '혹은': 651, '흔한': 652, '재밋': 653, '항상': 654, '기대하고': 655, '재미없어': 656, '들이': 657, '있었다': 658, '편집': 659, '빼고': 660, '어쩔': 661, '교훈': 662, '일까': 663, '그렇고': 664, '고생': 665, '는데': 666, '기세': 667, '해주는': 668, '비판': 669, '드립니다': 670, '인거': 671, '아닐까': 672, '범죄': 673, '나올': 674, '하며': 675, '보시길': 676, '같아서': 677, '지난': 678, '그래': 679, 'ㅋㅋㅋㅋㅋ': 680, '재밌어': 681, '손발': 682, '지루했다': 683, '이하': 684, '에서의': 685, '그래픽': 686, '성인': 687, '후반': 688, '예산': 689, '으리': 690, '개그': 691, '맞는': 692, '불륜': 693, '중반': 694, '하하': 695, '실감': 696, '하는지': 697, '아니면': 698, '하는거': 699, '등장': 700, '퀄리티': 701, '철학': 702, '해요': 703, '어른': 704, '종교': 705, '이번': 706, '웃겨': 707, '청소년': 708, '줄거리': 709, '촬영': 710, '좋았는데': 711, '발견': 712, '조폭': 713, '화려한': 714, '리뷰': 715, '나중': 716, '보라': 717, '자식': 718, '액션영화': 719, '나라': 720, '있을': 721, '아오': 722, '받을': 723, '더럽게': 724, '말로': 725, '안나': 726, '훌륭한': 727, '버린': 728, '에서는': 729, '봤을': 730, '이면': 731, '견자단': 732, '이며': 733, '호러': 734, '아름답고': 735, '허세': 736, '다소': 737, '대작': 738, '사극': 739, '이든': 740, '자연': 741, '잘만': 742, '죽음': 743, '버렸다': 744, '할까': 745, '수도': 746, '어설픈': 747, '가치': 748, '만들었다': 749, '짜리': 750, '모르겠고': 751, '방법': 752, '망작': 753, '조절': 754, '필요없다': 755, 'ㅠㅠㅠ': 756, '모르는': 757, '역대': 758, '마무리': 759, '관계': 760, '프랑스': 761, '감상': 762, '홍콩': 763, '까진': 764, '여서': 765, '주성치': 766, '챙겨': 767, '너무나도': 768, '스럽다': 769, '불가': 770, '반복': 771, '신선한': 772, '정서': 773, '좀더': 774, '전설': 775, '우연히': 776, '죽는줄': 777, '개뿔': 778, '돌려': 779, '좋겠다': 780, '그림': 781, '있나': 782, '선생님': 783, '희망': 784, '로만': 785, '쓰래': 786, '더욱': 787, '리얼': 788, '같습니다': 789, '보아': 790, '연기자': 791, '했음': 792, '깊이': 793, '기적': 794, '성우': 795, '비극': 796, '어린이': 797, '타임': 798, '아픔': 799, '이었습니다': 800, '대안': 801, '묘사': 802, '아는': 803, '전형': 804, '그런지': 805, '독립영화': 806, '되네요': 807, 'ㅎㅎㅎ': 808, '볼수': 809, '기회': 810, '고민': 811, '북한': 812, '보이': 813, '스파이더맨': 814, '겁나': 815, '잘못': 816, '설명': 817, '패러디': 818, '댓글': 819, '프로': 820, '보시': 821, '재밌었는데': 822, '게이': 823, '이상한': 824, 'ㅋㅋㅋㅋㅋㅋ': 825, '과연': 826, '나머지': 827, '유치한': 828, '서로': 829, '심리': 830, '나를': 831, '비추': 832, '천재': 833, '아쉬운': 834, '대로': 835, '없나': 836, '확실히': 837, '아닌데': 838, '외국': 839, '스타': 840, '만에': 841, '대놓고': 842, '주기도': 843, '재미없다고': 844, '좋아서': 845, '그리': 846, '감각': 847, '안되고': 848, '저런': 849, '그럼': 850, '학생': 851, '있음': 852, '않음': 853, '조연': 854, '아쉽네요': 855, '같아': 856, '속편': 857, '재밌네': 858, '야하는': 859, '한계': 860, '해야': 861, '있게': 862, '그린': 863, '없는데': 864, '보지마라': 865, '양심': 866, '기술': 867, '동시': 868, '재밌었어요': 869, '으로는': 870, '재미있네요': 871, '무협': 872, '이미': 873, '살짝': 874, '인해': 875, '어이': 876, '다행': 877, '긴장': 878, '좋았습니다': 879, '펑펑': 880, '초등학교': 881, '행동': 882, '필름': 883, '동물': 884, '여러': 885, '있지': 886, '바보': 887, '주기': 888, '생애': 889, '감명': 890, '해준': 891, '까지도': 892, '진정': 893, '많고': 894, '진부한': 895, '연결': 896, '악당': 897, '짜증나': 898, '야할': 899, '몰라도': 900, '혹시': 901, '쓰고': 902, '세기': 903, '상상': 904, '환상': 905, '노답': 906, '런가': 907, '있는지': 908, '하고자': 909, '레알': 910, '에로': 911, '평이': 912, '기본': 913, '에게는': 914, '교육': 915, '어렸을': 916, '오락': 917, '라인': 918, '형님': 919, '아니야': 920, '어려운': 921, '보고나면': 922, '면서': 923, '영국': 924, '있었던': 925, '떠나서': 926, '홍보': 927, '무지': 928, '유치': 929, '지는': 930, '보고싶은': 931, '보다도': 932, '봤으면': 933, '존경': 934, '이래': 935, '덕분': 936, '아침': 937, '효과': 938, '볼수록': 939, '보고나서': 940, '지나도': 941, '버리고': 942, '필요없는': 943, '제로': 944, '시기': 945, '재밌었다': 946, '짜증나는': 947, '줍니다': 948, '소중한': 949, '유럽': 950, '에나': 951, '힘들다': 952, '어제': 953, '으로서': 954, '등장인물': 955, '여전히': 956, '몇몇': 957, '마라': 958, '안됨': 959, '별루': 960, '본게': 961, '아이돌': 962, '전달': 963, '프로그램': 964, '않아': 965, '연예인': 966, '카메라': 967, '떨어지는': 968, '완벽한': 969, '봤다가': 970, '부족한': 971, 'ㄷㄷ': 972, '싸구려': 973, '인정': 974, '아닌듯': 975, '로봇': 976, '공간': 977, '떠나': 978, '열정': 979, '되게': 980, '딱히': 981, '로는': 982, '실력': 983, '해준다': 984, '잠시': 985, '예능': 986, '슬프고': 987, '아름답다': 988, '남는다': 989, '악역': 990, '하는것': 991, '커플': 992, '전개도': 993, '남녀': 994, '대한민국': 995, '중심': 996, '보자': 997, '누군가': 998, '가요': 999, '스케일': 1000, '아픈': 1001, '결정': 1002, '순수한': 1003, '아닌가': 1004, '표절': 1005, '만들어도': 1006, '단순한': 1007, '되었다': 1008, '없네요': 1009, '벌써': 1010, '자주': 1011, '영환': 1012, '이런거': 1013, '외계인': 1014, '송강호': 1015, '형편': 1016, '한참': 1017, '에피소드': 1018, '마치': 1019, '하여': 1020, '명성': 1021, '빠져': 1022, '신분': 1023, '받은': 1024, '노출': 1025, '위대한': 1026, '흐름': 1027, '더러운': 1028, '자동차': 1029, '바람': 1030, '짝퉁': 1031, '폭력': 1032, '나오네': 1033, '본다면': 1034, '있다면': 1035, '왜케': 1036, '본거': 1037, '어이없는': 1038, '빼곤': 1039, '테러': 1040, '초등학생': 1041, '없을': 1042, '보던': 1043, '앞뒤': 1044, '이상하고': 1045, '하다니': 1046, '우정': 1047, '국민': 1048, '대가': 1049, '시점': 1050, '가는줄': 1051, '마저': 1052, '역할': 1053, '최소한': 1054, '아냐': 1055, '재밌었음': 1056, '주의': 1057, '웃김': 1058, '내고': 1059, '사이': 1060, '러닝': 1061, '학년': 1062, '재밌습니다': 1063, '매니아': 1064, '사랑스러운': 1065, '는걸': 1066, '재밌': 1067, '극단': 1068, '만족': 1069, '해피엔딩': 1070, '찾아': 1071, '로서': 1072, '자리': 1073, '리메이크': 1074, '나서': 1075, '나왔으면': 1076, 'ㅇㅇ': 1077, '좋았지만': 1078, '자꾸': 1079, '오는': 1080, '고양이': 1081, '자살': 1082, '드럽게': 1083, '진창': 1084, '깜짝': 1085, '섹스': 1086, '하다가': 1087, 'ㅅㅂ': 1088, '명화': 1089, '예고편': 1090, '도전': 1091, '한다는': 1092, '어찌': 1093, '멋있다': 1094, '봐요': 1095, '미소': 1096, '살다': 1097, '과는': 1098, '기존': 1099, '히어로': 1100, '능력': 1101, '무시': 1102, '동생': 1103, '않았다': 1104, '좋습니다': 1105, '보고싶은데': 1106, '잔인한': 1107, '이런게': 1108, '이정': 1109, '베스트': 1110, '기준': 1111, '플롯': 1112, '뜬금': 1113, '받는': 1114, '오히려': 1115, '없지만': 1116, '용서': 1117, '유쾌한': 1118, '나와': 1119, '않게': 1120, '이쁨': 1121, '슬픔': 1122, '신의': 1123, '언제나': 1124, '드는': 1125, '영화계': 1126, '로써': 1127, '끼리': 1128, '뻔하고': 1129, '개념': 1130, '지구': 1131, '만들': 1132, '않을': 1133, '개판': 1134, '둘다': 1135, '기를': 1136, '과정': 1137, '심장': 1138, '슬프다': 1139, '빼고는': 1140, '좋았고': 1141, '보길': 1142, '어머니': 1143, '광고': 1144, '재밋다': 1145, '아역': 1146, '하길래': 1147, '저렇게': 1148, '년전': 1149, '진실': 1150, '후속작': 1151, '헐리우드': 1152, '신경': 1153, '나간': 1154, '잔잔하고': 1155, '베리': 1156, '어디가': 1157, '섬세한': 1158, '보려고': 1159, '관람': 1160, '재미없네': 1161, '보고싶다': 1162, '태국': 1163, '잇는': 1164, '보이지': 1165, '형제': 1166, '공부': 1167, '모르겠지만': 1168, '레옹': 1169, '임권택': 1170, '끝나고': 1171, '끝남': 1172, '보려': 1173, '연애': 1174, '느껴지는': 1175, '남주': 1176, '어처구니': 1177, '목적': 1178, '쉽게': 1179, '들어': 1180, '개도': 1181, '버려': 1182, '서야': 1183, '보다니': 1184, '달리': 1185, '무재': 1186, '읽어': 1187, '검색': 1188, '구나': 1189, '할머니': 1190, '보지마': 1191, '한개': 1192, '나오네요': 1193, '수고': 1194, '하니': 1195, '오브': 1196, '있다는': 1197, '관점': 1198, '만들다니': 1199, '있으면': 1200, '까지는': 1201, '나쁜': 1202, '웃기지도': 1203, '해야지': 1204, '싸이코': 1205, '있어요': 1206, '완전히': 1207, '반도': 1208, '와의': 1209, '일품': 1210, '감안': 1211, '빌려': 1212, '사투리': 1213, '됩니다': 1214, '주지': 1215, '등등': 1216, '되면': 1217, '최수종': 1218, '모르게': 1219, '용도': 1220, '여자애': 1221, '왠만하면': 1222, '겁니다': 1223, '이연걸': 1224, '놓고': 1225, '답답한': 1226, '특별한': 1227, '아니지': 1228, '아까웠다': 1229, '하자': 1230, '좋았던': 1231, '느낄': 1232, '있습니다': 1233, '아줌마': 1234, '시선': 1235, 'ㅋㅋㅋㅋㅋㅋㅋㅋ': 1236, '무섭다': 1237, '서는': 1238, '아름다': 1239, '예쁜': 1240, '없다고': 1241, '일상': 1242, '싸우는': 1243, '갈등': 1244, '기만': 1245, '않나': 1246, '높아서': 1247, '터미네이터': 1248, '아닙니다': 1249, '우뢰매': 1250, 'ㅉㅉㅉ': 1251, '걱정': 1252, '사는': 1253, '고딩': 1254, 'ㅜㅠ': 1255, '이여': 1256, '러브': 1257, '싸움': 1258, '훌륭하다': 1259, '어휴': 1260, '어린시절': 1261, '지루': 1262, '사고': 1263, '홍상수': 1264, '무료': 1265, '보긴': 1266, '레이': 1267, '였는데': 1268, '누군지': 1269, '크게': 1270, '외모': 1271, '디즈니': 1272, '생활': 1273, '같고': 1274, '굿굿': 1275, '경찰': 1276, '포르노': 1277, '버리지': 1278, '오래': 1279, '느꼈다': 1280, '미학': 1281, '스럽고': 1282, '짜증난다': 1283, '겨우': 1284, '유머': 1285, '볼거리': 1286, '아래': 1287, '감도': 1288, '그렇지': 1289, '보여준다': 1290, '국내': 1291, '최고봉': 1292, '걸까': 1293, '치고는': 1294, '남아': 1295, '즐겁게': 1296, '봤는데도': 1297, '하루': 1298, '앞서': 1299, '뛰어난': 1300, '멋지게': 1301, '탄탄한': 1302, '좋을듯': 1303, '김기덕': 1304, '보신': 1305, '낮다': 1306, '깡패': 1307, '발전': 1308, '싶은데': 1309, '메디': 1310, '없었음': 1311, '도안': 1312, '이었고': 1313, '해라': 1314, '제니퍼': 1315, '픽션': 1316, '하기엔': 1317, '설득': 1318, '지나치게': 1319, '질리': 1320, '식상한': 1321, '빠진': 1322, '게다가': 1323, '가족영화': 1324, '들어서': 1325, '끌어': 1326, '많아서': 1327, '거나': 1328, '계기': 1329, '아깝지': 1330, '똑같은': 1331, '누나': 1332, '거야': 1333, '이래서': 1334, '안감': 1335, '박수': 1336, '수입': 1337, '관련': 1338, '하겠다': 1339, '불편한': 1340, '늦게': 1341, '사기': 1342, '담배': 1343, '만도': 1344, '같네': 1345, '안습': 1346, '진리': 1347, '풀어': 1348, '무난': 1349, '배우도': 1350, '맞고': 1351, '성장': 1352, '끼워': 1353, '인게': 1354, '회사': 1355, '다리': 1356, '정말로': 1357, '하는건': 1358, '보았는데': 1359, '저희': 1360, '암튼': 1361, '보여주고': 1362, '비슷한': 1363, '있구나': 1364, '느낄수': 1365, '공짜': 1366, '배역': 1367, '놀랐다': 1368, '의식': 1369, '본듯': 1370, '그건': 1371, '점줌': 1372, '지루할': 1373, '짜증남': 1374, '인가요': 1375, '탄생': 1376, '착한': 1377, '단지': 1378, '절제': 1379, '와는': 1380, '불구': 1381, '본지': 1382, '어렵다': 1383, '압권': 1384, '만으로': 1385, '색다른': 1386, '홍콩영화': 1387, '행복한': 1388, '외화': 1389, '버전': 1390, '알았네': 1391, '색감': 1392, '재밋어': 1393, '투자': 1394, '무비': 1395, '지루해서': 1396, '볼것': 1397, '떨어진다': 1398, '바뀌고': 1399, '미드': 1400, '레전드': 1401, '직업': 1402, '다룬': 1403, '쩐다': 1404, '하라': 1405, '화란': 1406, '토록': 1407, '스럽게': 1408, '남성': 1409, '따듯': 1410, '달달': 1411, '바다': 1412, '만든다': 1413, '편의': 1414, '비중': 1415, '없이도': 1416, '다시는': 1417, '메시지': 1418, '뮤지컬': 1419, '방영': 1420, '보며': 1421, '아무나': 1422, '용기': 1423, '요리': 1424, '선물': 1425, '다신': 1426, '봐야지': 1427, '한심한': 1428, '울컥': 1429, '귀엽고': 1430, '이어': 1431, '봤지': 1432, '죽이는': 1433, '귀여운': 1434, '낮은': 1435, '하려고': 1436, '화일': 1437, '불쾌한': 1438, '확인': 1439, '인기': 1440, '부족': 1441, '흐르는': 1442, '쵝오': 1443, '맨날': 1444, '넘게': 1445, '찍은': 1446, '과장': 1447, '가본': 1448, '쓸데없이': 1449, '생각나는': 1450, '미모': 1451, '했고': 1452, '좋다고': 1453, '영웅': 1454, '부터가': 1455, '헐리웃': 1456, '구리': 1457, '그동안': 1458, '버림': 1459, '범인': 1460, '봤을까': 1461, '편도': 1462, '전율': 1463, '다섯': 1464, '울음': 1465, '무섭고': 1466, '소소한': 1467, '세월': 1468, '성격': 1469, '느끼는': 1470, '가볍게': 1471, '했을': 1472, '높다': 1473, '좋을': 1474, '든다': 1475, '본적': 1476, '군대': 1477, '무섭지도': 1478, '그다지': 1479, '언니': 1480, '타짜': 1481, '잼있게': 1482, '그립다': 1483, '볼거': 1484, '되었습니다': 1485, '만화책': 1486, '아우': 1487, '재미있음': 1488, '죄다': 1489, '캐리': 1490, '린다': 1491, '재미없게': 1492, '오버': 1493, '스트레스': 1494, '하이': 1495, '은근': 1496, '할듯': 1497, '살면서': 1498, '형식': 1499, '희생': 1500, '게뭐': 1501, '부모': 1502, '과의': 1503, '들어도': 1504, '부작': 1505, '전반': 1506, '성적': 1507, '귀엽다': 1508, '유치해서': 1509, '부자': 1510, '평균': 1511, '성은': 1512, '실험': 1513, '정신병': 1514, '다큐멘터리': 1515, '않았지만': 1516, '무서운': 1517, '괴물': 1518, '느낀': 1519, '용이': 1520, '마리': 1521, '영화제': 1522, '마이너스': 1523, '감정이입': 1524, '자유': 1525, '애기': 1526, '복선': 1527, '나오지': 1528, '아깝네': 1529, '역작': 1530, '여행': 1531, '가네': 1532, '영활': 1533, '이구': 1534, '봤더니': 1535, '봤는데요': 1536, '울었네요': 1537, '진부하고': 1538, '유일한': 1539, '그렇다고': 1540, '짬뽕': 1541, '관심': 1542, '이어서': 1543, '펭귄': 1544, '대충': 1545, '좋네': 1546, '의문': 1547, '웃긴': 1548, '진짜진짜': 1549, '보았습니다': 1550, '했어도': 1551, '짜임새': 1552, '무리': 1553, '아내': 1554, '각색': 1555, '이도': 1556, '됐다': 1557, '휴머니즘': 1558, '따로': 1559, '아프다': 1560, '아마추어': 1561, '남아있는': 1562, '전에': 1563, '야한': 1564, '같지': 1565, '맞춘': 1566, '만남': 1567, '없지': 1568, '성의': 1569, '흉내': 1570, '하기가': 1571, '싶지': 1572, '연극': 1573, '대화': 1574, '보겠다': 1575, '보여준': 1576, '싶네요': 1577, '에서만': 1578, '화끈한': 1579, '후기': 1580, '짧은': 1581, '로그인': 1582, '귀여워요': 1583, '영화사': 1584, '지도': 1585, '유명한': 1586, '풍경': 1587, '상태': 1588, '충분한': 1589, '다니': 1590, '허구': 1591, '하나로': 1592, '쓰는': 1593, '에다': 1594, '살렸다': 1595, '한가지': 1596, '잼있음': 1597, '끝날': 1598, '영화감독': 1599, '차이': 1600, '부끄러운': 1601, 'ㅎㄷㄷ': 1602, '이었음': 1603, '했어': 1604, '의외로': 1605, '아쉽지만': 1606, '였던': 1607, '하면서도': 1608, '망한': 1609, '나오면': 1610, '의리': 1611, '공주': 1612, '왕자': 1613, '금보': 1614, '응원': 1615, '따뜻해지는': 1616, '거부': 1617, '이전': 1618, '였지만': 1619, '싫다': 1620, '화질': 1621, '뻔하게': 1622, '왕조현': 1623, '기대했는데': 1624, '다이하드': 1625, '오우삼': 1626, '지가': 1627, '정작': 1628, '빠순이': 1629, '내일': 1630, '기는': 1631, '주세요': 1632, '치곤': 1633, '국산': 1634, '그만큼': 1635, '하냐': 1636, '본방': 1637, '있냐': 1638, '미녀': 1639, '분량': 1640, '그럴': 1641, '않았던': 1642, '좋지만': 1643, '어설프다': 1644, '오글거리고': 1645, '소년': 1646, '로버트': 1647, '따뜻하고': 1648, 'ㅠㅜ': 1649, '생각난다': 1650, '죽기전에': 1651, '그럭저럭': 1652, '흡입': 1653, '목숨': 1654, '만해': 1655, '유치함': 1656, '데리': 1657, '이라서': 1658, '빼면': 1659, '번은': 1660, '하는듯': 1661, '비밀': 1662, '하려는': 1663, '말고는': 1664, '괜찮았음': 1665, '진지하게': 1666, '기대하지': 1667, '절정': 1668, '감탄': 1669, '했어요': 1670, 'ㅠㅠㅠㅠ': 1671, '라이언': 1672, '뭐라': 1673, '아예': 1674, '한다고': 1675, '이별': 1676, '영어': 1677, '재미있었고': 1678, '하고는': 1679, '거품': 1680, '짱짱': 1681, '무간도': 1682, '아까웠던': 1683, '낮아서': 1684, '낮지': 1685, '재미있는데': 1686, '혼란': 1687, '갑니다': 1688, '반감': 1689, '에만': 1690, '일부러': 1691, '놀이': 1692, '뚝뚝': 1693, '먹는': 1694, '발상': 1695, '대신': 1696, '재밌어서': 1697, '러시아': 1698, '니깐': 1699, '울었다': 1700, '있는듯': 1701, '소장': 1702, '명품': 1703, '기용': 1704, '만들고': 1705, '연관': 1706, '어설프고': 1707, '이만': 1708, '어거지': 1709, '세트': 1710, '해결': 1711, '미안하다': 1712, '했더니': 1713, '가관': 1714, '하기도': 1715, '황당한': 1716, '생기': 1717, '가까운': 1718, '탄탄하고': 1719, '안되': 1720, '방식': 1721, '크리스틴': 1722, '알수': 1723, '내면': 1724, '액션씬': 1725, '얼마': 1726, '실수': 1727, '재밌다는': 1728, '받아서': 1729, '할말': 1730, '아자': 1731, '분노': 1732, '가고': 1733, '놀랍다': 1734, '일반인': 1735, '단연': 1736, '사무라이': 1737, '만들기': 1738, '심형래': 1739, '경험': 1740, '국가': 1741, '토마스': 1742, '바라보는': 1743, '물이': 1744, '갔다': 1745, '즐거움': 1746, '길이': 1747, '시청': 1748, '할만': 1749, '들었다': 1750, '브루스': 1751, '힐링': 1752, '세번': 1753, '기법': 1754, '이니': 1755, '였구나': 1756, '려고': 1757, '좋아해서': 1758, '나고': 1759, '재미있었다': 1760, '세계관': 1761, '한지': 1762, '조합': 1763, '삭제': 1764, '죽여': 1765, '몰랐다': 1766, '배우는': 1767, '궁금하다': 1768, '멋지고': 1769, '정체': 1770, '동영상': 1771, '이쁘고': 1772, '재미없어요': 1773, '재미없어서': 1774, '만들었을까': 1775, '곳곳': 1776, '호감': 1777, '도의': 1778, '재난영화': 1779, '일반': 1780, '이민기': 1781, '강한': 1782, '본인': 1783, '선동': 1784, '해놓고': 1785, '도움': 1786, '야한다': 1787, '재주': 1788, '장점': 1789, '시트콤': 1790, '대본': 1791, '년도': 1792, '억지스럽고': 1793, '했습니다': 1794, '선정': 1795, '하긴': 1796, '매번': 1797, '똑바로': 1798, '하세요': 1799, '가수': 1800, '치유': 1801, '되니까': 1802, '나발': 1803, '도에': 1804, '참신한': 1805, '느껴진다': 1806, '도를': 1807, '미래': 1808, '잠깐': 1809, '졸리': 1810, '되는데': 1811, '재밋음': 1812, '그야말로': 1813, '했으나': 1814, '빵빵': 1815, '터지는': 1816, '이상은': 1817, '버리는': 1818, '영구': 1819, '특수': 1820, '괜찮고': 1821, '하나같이': 1822, '투성이': 1823, '아기': 1824, '어딘가': 1825, '신데렐라': 1826, '가기': 1827, '신세경': 1828, '모를': 1829, '양반': 1830, '멋져': 1831, '깨알': 1832, '일드': 1833, '만들었는데': 1834, '잇음': 1835, '스탤론': 1836, '밴드': 1837, '무술': 1838, '성공': 1839, '있던': 1840, '태도': 1841, '나비': 1842, '야동': 1843, '화구': 1844, '즐겁고': 1845, '클레멘타인': 1846, '묻어나는': 1847, '울었습니다': 1848, '든지': 1849, '유지태': 1850, '좋아하는데': 1851, '터져': 1852, '보임': 1853, '머릿속': 1854, '컬트': 1855, '교수': 1856, '지원': 1857, '에게도': 1858, '주위': 1859, '않아요': 1860, '집착': 1861, '모르겠음': 1862, '영혼': 1863, '고독': 1864, '향연': 1865, '흑백': 1866, '재밌었습니다': 1867, '코난': 1868, '싶을': 1869, '죽은': 1870, '나오는데': 1871, '농담': 1872, '서기': 1873, '살린': 1874, '전쟁영화': 1875, '강제': 1876, '지네': 1877, '했는지': 1878, '봣는데': 1879, '버튼': 1880, '의상': 1881, '아깝': 1882, '스텝': 1883, '할리우드': 1884, '파괴': 1885, '가득': 1886, '탁월한': 1887, '이미지': 1888, '다해': 1889, '해주세요': 1890, '나와라': 1891, '독립': 1892, '색깔': 1893, '않을까': 1894, '미스': 1895, '있었지만': 1896, '하늘': 1897, '구경': 1898, '주목': 1899, '이쁜': 1900, '영향': 1901, '잊혀지지': 1902, '음식': 1903, '적이네요': 1904, '모순': 1905, '낫겠다': 1906, '강렬한': 1907, '도시': 1908, '녹아': 1909, '첨으로': 1910, '재미나': 1911, '상상력': 1912, '주윤발': 1913, '우주': 1914, '블레이드': 1915, '찍고': 1916, '라스트': 1917, '미쳐': 1918, '당연히': 1919, '괜찮은데': 1920, '약해': 1921, '싶어요': 1922, '볼수있는': 1923, '배경음악': 1924, '몸매': 1925, '마냥': 1926, '있었다니': 1927, '없구만': 1928, '이를': 1929, '각자': 1930, '빠져서': 1931, '무서움': 1932, '엽문': 1933, '의지': 1934, '전하': 1935, '훈훈한': 1936, '송혜교': 1937, '정의': 1938, '가야': 1939, '오로라': 1940, '형사': 1941, '오글거려서': 1942, '두고': 1943, '죽는': 1944, '받았다': 1945, '난리': 1946, '좋겠네요': 1947, '본격': 1948, '사진': 1949, '억지로': 1950, '했다는': 1951, '장혁': 1952, '없었던': 1953, '적어도': 1954, '극본': 1955, '나오니까': 1956, '선사': 1957, '할줄': 1958, '다크나이트': 1959, '보러': 1960, '국어': 1961, '무어': 1962, '녀석': 1963, '거짓말': 1964, '컨셉': 1965, '맞게': 1966, '하자는': 1967, '데이': 1968, '지고': 1969, '뱀파이어': 1970, '성한': 1971, '짜증나서': 1972, '만들었으면': 1973, '재미없': 1974, '충분하다': 1975, '가진': 1976, '둘째': 1977, '던데': 1978, '없나요': 1979, '즐거운': 1980, '사상': 1981, '줘도': 1982, '인권': 1983, '센스': 1984, '어차피': 1985, '좋게': 1986, '루즈': 1987, '아치': 1988, '거장': 1989, '들고': 1990, '방향': 1991, '파격': 1992, '드니': 1993, '이보': 1994, '즐겨': 1995, '개그맨': 1996, '눈치': 1997, '하고도': 1998, '단순': 1999, '당황': 2000, '여러가지': 2001, '정치': 2002, '착각': 2003, '더럽고': 2004, '적당히': 2005, '유쾌하게': 2006, '케이': 2007, '새벽': 2008, '향수': 2009, '절로': 2010, '용의': 2011, '지상파': 2012, '바랍니다': 2013, '좋겠습니다': 2014, '이념': 2015, '인터넷': 2016, '아누': 2017, '죽어': 2018, '느껴지지': 2019, '있네': 2020, '일주일': 2021, '봤네': 2022, '신세계': 2023, '였지': 2024, '같지도': 2025, '믿을': 2026, '더불어': 2027, '감히': 2028, '주변': 2029, '지드래곤': 2030, '연속': 2031, '분석': 2032, '대부': 2033, '불후': 2034, '차승원': 2035, '생각나서': 2036, '했다면': 2037, '제외': 2038, '싫어하는': 2039, '장애인': 2040, '회장': 2041, '조화': 2042, '연상': 2043, '한다면': 2044, '지옥': 2045, '했지': 2046, '블록버스터': 2047, '일찍': 2048, '토나온다': 2049, '뭥미': 2050, '전락': 2051, '감옥': 2052, '반드시': 2053, '하였다': 2054, '판단': 2055, '만들어진': 2056, '잼있어요': 2057, '장가': 2058, '변태': 2059, '안타깝다': 2060, '짜집기': 2061, '안타까운': 2062, '지하철': 2063, '정리': 2064, '없으면': 2065, '아깝고': 2066, '위원회': 2067, '아니라는': 2068, '보는것을': 2069, '들보': 2070, '그걸': 2071, '똑같이': 2072, '주장': 2073, '입장': 2074, '울면': 2075, '나오': 2076, '박보영': 2077, '보장': 2078, '멋있고': 2079, '합시다': 2080, '와우': 2081, '녹화': 2082, '눈빛': 2083, '찾아서': 2084, '냈다': 2085, '불필요한': 2086, '당하는': 2087, '긴박': 2088, '넘치는': 2089, '포인트': 2090, '진한': 2091, '있네요': 2092, '잼나게': 2093, '재미있었어요': 2094, '할아버지': 2095, '웃으면서': 2096, '보소': 2097, '호흡': 2098, '원표': 2099, '반성': 2100, '말아먹은': 2101, '봅니다': 2102, '넘어': 2103, '대학교': 2104, '김희선': 2105, '등록': 2106, '비현실적': 2107, '스런': 2108, '정재영': 2109, '롭고': 2110, '이의': 2111, '애정': 2112, '놀란': 2113, '개는': 2114, '한정': 2115, '극적': 2116, '로움': 2117, '했을까': 2118, '슈퍼': 2119, '명불허전': 2120, '적임': 2121, '아깝네요': 2122, '으로써': 2123, '되서': 2124, '보셈': 2125, '화답': 2126, '많은걸': 2127, '기차': 2128, '하지마라': 2129, '본성': 2130, '시골': 2131, '깜놀': 2132, '이따위': 2133, '나왔다': 2134, '가능한': 2135, '절대로': 2136, '누님': 2137, '않지만': 2138, '뉴스': 2139, '뻔했다': 2140, '스크린': 2141, '될것': 2142, '어울림': 2143, '평소': 2144, '납득': 2145, '리들리': 2146, '스콧': 2147, '수많은': 2148, '소통': 2149, '하길': 2150, '였나': 2151, '아까울': 2152, '살아가는': 2153, '피해자': 2154, '금발': 2155, '출현': 2156, '인줄': 2157, '엄청나게': 2158, '하시는': 2159, '승부': 2160, '고전': 2161, '떨어진': 2162, '신은': 2163, '왠만한': 2164, '모험': 2165, '보는듯': 2166, '모르겠네요': 2167, '어이없네': 2168, '답답해서': 2169, '같지만': 2170, '님들': 2171, '괜찮다': 2172, '정보': 2173, '유발': 2174, '적당': 2175, '허허': 2176, '조여정': 2177, '죽기': 2178, '직전': 2179, '드디어': 2180, '우와': 2181, '다가': 2182, '잊지': 2183, '나오니': 2184, '변화': 2185, '과도': 2186, '완벽': 2187, '좋으나': 2188, '만들겠다': 2189, '하아': 2190, '돋네': 2191, '하겠음': 2192, '오글거리는': 2193, '리얼리티': 2194, '흥미로운': 2195, '잔잔하게': 2196, '완벽하다': 2197, '시종일관': 2198, '필요없음': 2199, '종영': 2200, '요구': 2201, '떨어짐': 2202, '부부': 2203, '많다': 2204, '시켜': 2205, '캐릭': 2206, '로나': 2207, '으으': 2208, '쓰나': 2209, '쓸데없는': 2210, '같았다': 2211, '필요없이': 2212, '실패': 2213, '정선': 2214, '이뻐': 2215, '신고': 2216, '유치하다': 2217, '멍청한': 2218, '제작자': 2219, '별하나': 2220, 'ㄷㄷㄷ': 2221, '콜린': 2222, '엄정화': 2223, '정상': 2224, '비정상': 2225, '가자': 2226, '컴퓨터': 2227, '무한': 2228, '가볍지': 2229, '남는게': 2230, '시킨': 2231, '김동완': 2232, '하는구나': 2233, '시사': 2234, '같군요': 2235, '없게': 2236, '잔인하게': 2237, '터짐': 2238, '대는': 2239, '호구': 2240, '고증': 2241, '료코': 2242, '함정': 2243, '남편': 2244, '소중하다': 2245, '임청하': 2246, '발음': 2247, '해대': 2248, '의학': 2249, '라만': 2250, '삼성': 2251, '만들면': 2252, '당장': 2253, '비난': 2254, '평범한': 2255, '요새': 2256, '받게': 2257, '살때': 2258, '더럽다': 2259, '구분': 2260, '찾기': 2261, '감점': 2262, '맙시': 2263, '갖춘': 2264, '잊을': 2265, '간직': 2266, '결코': 2267, '프레디': 2268, '이군': 2269, '허무한': 2270, '가능': 2271, '걸린': 2272, '배려': 2273, '모르겟다': 2274, '무대': 2275, '음모론': 2276, '놀람': 2277, '없구': 2278, '않구': 2279, '왔는데': 2280, '올레': 2281, '상대': 2282, '현상': 2283, '의한': 2284, '감사': 2285, '좋더라': 2286, '행복': 2287, '허나': 2288, '팔이': 2289, '재미없다는': 2290, '밋밋하고': 2291, '최초': 2292, '없었': 2293, '불편하고': 2294, '뻔함': 2295, '접근': 2296, '손색': 2297, '야함': 2298, '학살': 2299, '알리': 2300, '파라': 2301, '노말': 2302, '에바': 2303, '쉽지': 2304, '작화': 2305, '했구나': 2306, '웅장': 2307, '광구': 2308, '조커': 2309, '망치': 2310, '어쩌': 2311, '겨울': 2312, '람보': 2313, '필요한': 2314, '재미있었음': 2315, '임요환': 2316, '독특한': 2317, '중국영화': 2318, '천녀유혼': 2319, '봤고': 2320, '꼬마': 2321, '자료': 2322, '인형': 2323, '있는것도': 2324, '새록새록': 2325, '내생': 2326, '는지': 2327, '힘들게': 2328, '래야': 2329, '아바타': 2330, '장만옥': 2331, '김수현': 2332, '직접': 2333, '남은': 2334, '이렇지': 2335, '서부': 2336, '젠장': 2337, '해석': 2338, '하기에': 2339, '빨간': 2340, '대상': 2341, '돌아가고': 2342, '학창시절': 2343, '느껴': 2344, '순수': 2345, '한석규': 2346, '공포물': 2347, '빅뱅': 2348, '만들었나': 2349, '갖고': 2350, '우선': 2351, '실사': 2352, '막장드라마': 2353, '정무문': 2354, '새삼': 2355, '인도': 2356, '공유': 2357, '된거': 2358, '끝나는': 2359, '하트넷': 2360, '강시': 2361, '가난한': 2362, '공중파': 2363, '아쉽습니다': 2364, '만족할': 2365, '보나': 2366, '강요': 2367, '외면': 2368, '로렌스': 2369, '호기심': 2370, '봤나': 2371, '장나라': 2372, '아이디어': 2373, '지지': 2374, '좋겠어요': 2375, '도입': 2376, '알았음': 2377, '니콜라스': 2378, '잡고': 2379, '이길': 2380, '설마': 2381, '였네요': 2382, '앤드류': 2383, '조카': 2384, '가안': 2385, '절절': 2386, '속지': 2387, '마시길': 2388, '교양': 2389, '먹은': 2390, '단어': 2391, '그리움': 2392, '클라라': 2393, '섹시': 2394, '너무도': 2395, '본능': 2396, '최후': 2397, '삽질': 2398, '중년': 2399, '잡아': 2400, 'ㅋㅋㅋㅋㅋㅋㅋ': 2401, '많은데': 2402, '본건데': 2403, '스럽지': 2404, '자비': 2405, '분장': 2406, '떨어지네요': 2407, '아름답게': 2408, '미가': 2409, '잖아': 2410, '이었던': 2411, '조작': 2412, '라이': 2413, '모범': 2414, '여인': 2415, '시원한': 2416, '잊고': 2417, '잔인하고': 2418, '했었는데': 2419, '예측': 2420, '도통': 2421, '키드': 2422, '나소': 2423, '뭐라고': 2424, '울리는': 2425, '일부': 2426, '슈퍼맨': 2427, '사운드': 2428, '줄알': 2429, '고추': 2430, '재미있었는데': 2431, '들여서': 2432, '되었고': 2433, '작위': 2434, '시키지': 2435, '모르겠네': 2436, '이자': 2437, '고자': 2438, '흥분': 2439, '되네': 2440, '재방': 2441, '본질': 2442, '욕심': 2443, '있어도': 2444, '아련하고': 2445, '아놀드': 2446, '습작': 2447, '으로나': 2448, '우울한': 2449, '신기': 2450, '패턴': 2451, '약한': 2452, '인들': 2453, '스타워즈': 2454, '코메디': 2455, '재미있습니다': 2456, '포함': 2457, '대면': 2458, '답답해': 2459, '자본': 2460, '저리': 2461, '디테': 2462, '산만하고': 2463, '보고싶다면': 2464, '이정재': 2465, '카리스마': 2466, '베드': 2467, '아닌가요': 2468, '상업': 2469, '영원히': 2470, '졸업': 2471, '대표': 2472, '삼국지': 2473, '번역': 2474, '아마': 2475, '일어난': 2476, '개콘': 2477, '가게': 2478, '배트맨': 2479, '깊다': 2480, '하지도': 2481, '웃긴다': 2482, '없는것': 2483, '어쩌면': 2484, '간첩': 2485, '한수': 2486, '기전': 2487, '케미': 2488, '무기': 2489, 'ㅎㅎㅎㅎ': 2490, '맞음': 2491, '주옥': 2492, '해본다': 2493, '심심한': 2494, '할말이': 2495, '들어가': 2496, '좋아하지만': 2497, '어이없다': 2498, '으로가': 2499, '손가락': 2500, '이서진': 2501, '티나': 2502, '결론': 2503, '양조위': 2504, '나온다고': 2505, '천국': 2506, '억지스러운': 2507, '에서나': 2508, '치밀한': 2509, '만든것': 2510, '근본': 2511, '아프고': 2512, '낯선': 2513, '처절한': 2514, '여신': 2515, '들은': 2516, '알겠다': 2517, '주말': 2518, '음향': 2519, '일듯': 2520, '라지': 2521, '심하다': 2522, '떨어지고': 2523, '할수가': 2524, '엑소시스트': 2525, '세련된': 2526, '되었다고': 2527, '엽기': 2528, '만세': 2529, '방해': 2530, '정신병원': 2531, '기사': 2532, '홍진호': 2533, '됐는데': 2534, '마이': 2535, '역량': 2536, '이병헌': 2537, '외설': 2538, '자라': 2539, '길게': 2540, '성하고': 2541, '뜬금없이': 2542, '일어나는': 2543, '발톱': 2544, '장난감': 2545, '만화가': 2546, '했네': 2547, '재미없었다': 2548, '참나': 2549, '토미': 2550, '관객수': 2551, '한국판': 2552, '몇개': 2553, '드릴게요': 2554, '수록': 2555, '존내': 2556, '트릭': 2557, '살려': 2558, '장선우': 2559, '허무하게': 2560, '아이언맨': 2561, '수능': 2562, '노인': 2563, '마녀': 2564, '지루하게': 2565, '보진': 2566, '아파서': 2567, '나오길': 2568, '모르지만': 2569, '모르겠어요': 2570, '혹평': 2571, '한국인': 2572, '라기': 2573, '있다고': 2574, '조잡하고': 2575, '괜찮음': 2576, '이따': 2577, '만들어놓고': 2578, '아쉽': 2579, '부가': 2580, '엘리트': 2581, '현대': 2582, '커서': 2583, '어쩜': 2584, '깨닫게': 2585, '해주고': 2586, '참으로': 2587, '오오': 2588, '은희': 2589, '나쁘게': 2590, '강하다': 2591, '신나는': 2592, '그려': 2593, '디스': 2594, '졸잼': 2595, '움직이는': 2596, '신인': 2597, '큐브': 2598, '좋겠는데': 2599, '서극': 2600, '유아': 2601, '원숭이': 2602, '코드': 2603, '멀리': 2604, '보는줄': 2605, '할수있는': 2606, '써서': 2607, '답답하고': 2608, '슈렉': 2609, '생명': 2610, '시각': 2611, '논리': 2612, '탈출': 2613, '성찰': 2614, '압도': 2615, '가도': 2616, '로코': 2617, '봤었던': 2618, '메이': 2619, '좋았을텐데': 2620, '맞아': 2621, '무거운': 2622, '상어': 2623, '했더라면': 2624, '잃은': 2625, '맞다': 2626, '만나서': 2627, '짧지만': 2628, '안되네': 2629, '주고싶다': 2630, '주제가': 2631, '으론': 2632, '줄수': 2633, '재미없었음': 2634, '보통': 2635, '봤으나': 2636, '두번째': 2637, '반지': 2638, '제왕': 2639, '볼려고': 2640, '어쩌라고': 2641, '너희': 2642, '최강': 2643, '인지도': 2644, '장동건': 2645, '호러영화': 2646, '믿을게': 2647, '만큼은': 2648, '스스로': 2649, '가슴속': 2650, '리지': 2651, '홀로': 2652, '유리': 2653, '편견': 2654, '완벽하게': 2655, '옴니버스': 2656, '모니카': 2657, '나을듯': 2658, '주든': 2659, '김치': 2660, '키스': 2661, '직설': 2662, '성폭행': 2663, '따뜻하다': 2664, '직장인': 2665, '천사': 2666, '무섭게': 2667, '백배': 2668, '오랫': 2669, '인류': 2670, '떠나고': 2671, '남네요': 2672, '군더더기': 2673, '지대': 2674, '많아': 2675, '싶네': 2676, '나쁘지': 2677, 'ㅋㅋㅋㅋㅋㅋㅋㅋㅋㅋㅋ': 2678, '명연기': 2679, '오그라드는': 2680, '멋져요': 2681, '기대하게': 2682, '재미있었습니다': 2683, '금지': 2684, '호화': 2685, '식상하다': 2686, '허무함': 2687, '몰락': 2688, '색채': 2689, '주다니': 2690, '화의': 2691, '디카프리오': 2692, '예쁘다': 2693, '영감': 2694, '줬다': 2695, '가득한': 2696, '들게': 2697, '막판': 2698, '재미없습니다': 2699, '의심': 2700, '웃다가': 2701, '보네요': 2702, '쯧쯧': 2703, '박평': 2704, '퍼즐': 2705, '조각': 2706, '원주율': 2707, '예쁘고': 2708, '시사회': 2709, '자매': 2710, '질주': 2711, 'ss': 2712, '잼남': 2713, '근래': 2714, '부턴': 2715, '싶어': 2716, '먹을': 2717, '한텐': 2718, '고만': 2719, '로맨틱': 2720, '느낀다': 2721, '초기': 2722, '악마': 2723, '마저도': 2724, '초월': 2725, '좋아하시는': 2726, '가시': 2727, '짱짱맨': 2728, '우연': 2729, '되었는데': 2730, '신하균': 2731, '기키': 2732, '이승환': 2733, '툭하면': 2734, '부디': 2735, '잊지못': 2736, '정치인': 2737, '만큼도': 2738, '리스': 2739, '특집': 2740, '얻어': 2741, '한심하다': 2742, '마음속': 2743, '깔끔한': 2744, '로우': 2745, '보여': 2746, '들었는데': 2747, '이웃': 2748, '알파': 2749, '치노': 2750, '다르겠지만': 2751, '장국영': 2752, '유명': 2753, '높아': 2754, '곽지민': 2755, '애초': 2756, '때매': 2757, '지인': 2758, '접어라': 2759, '예수님': 2760, '조니뎁': 2761, '분신': 2762, '초능력': 2763, '끝내준다': 2764, '강동원': 2765, '구속': 2766, '편하게': 2767, '싶음': 2768, '포스': 2769, '후지': 2770, '포장': 2771, '좋지': 2772, '시원하게': 2773, '배신': 2774, '없다는': 2775, '웬만하면': 2776, '볼까': 2777, '구석': 2778, '생겼다': 2779, '스티븐': 2780, '매일': 2781, '미스캐스팅': 2782, '전범': 2783, '다를게': 2784, '사수': 2785, '거절': 2786, '오글오글': 2787, '나가는': 2788, '만나고': 2789, '세뇌': 2790, '있으니': 2791, '절망': 2792, '월드': 2793, '재밌당': 2794, '야말로': 2795, '시청자': 2796, '기승': 2797, '주더': 2798, '있어야': 2799, '겸비': 2800, '버킷리스트': 2801, '퀼리티': 2802, '유대인': 2803, '가벼운': 2804, '총알': 2805, '런닝타임': 2806, '일대기': 2807, '당대': 2808, '길어': 2809, '전성기': 2810, '김지수': 2811, '열연': 2812, '이신': 2813, '지겹고': 2814, '받고': 2815, '이은주': 2816, '눈요기': 2817, '보드': 2818, '파트': 2819, '나네요': 2820, '후유증': 2821, '심한': 2822, '됐지만': 2823, '심지어': 2824, '톰크루즈': 2825, '많네요': 2826, '버그': 2827, '싫지만': 2828, '재판': 2829, '어떻': 2830, '처벌': 2831, '였다면': 2832, '가만히': 2833, '재밌을': 2834, '그러려니': 2835, '낮게': 2836, '상관': 2837, '야구': 2838, '어수선하고': 2839, '도아': 2840, '도데': 2841, '나와야': 2842, '유일하게': 2843, '설리': 2844, '평타': 2845, '보면서도': 2846, '도무지': 2847, '저건': 2848, '난이': 2849, '뭐랄까': 2850, '키이라': 2851, '빨갱이': 2852, '당하고': 2853, '놓은': 2854, '짱구': 2855, '시킨다': 2856, '참다': 2857, '남깁니다': 2858, '고마워요': 2859, '마련': 2860, '기억나': 2861, '알바생': 2862, '요원': 2863, '살기': 2864, '상관없이': 2865, '답지': 2866, '필드': 2867, '자아': 2868, '맞지': 2869, '부족하지만': 2870, '사촌동생': 2871, '대단했다': 2872, '마스터피스': 2873, '탄압': 2874, '광주': 2875, '알겠는데': 2876, '전라도': 2877, '조장': 2878, '들지': 2879, '증말': 2880, '다가오는': 2881, '퍼펙트': 2882, '재회': 2883, '늦은': 2884, '세련되고': 2885, '볼걸': 2886, '제이슨': 2887, '소름끼치는': 2888, '여명': 2889, '하지말고': 2890, '납니다': 2891, '주된': 2892, '강지환': 2893, '였으면': 2894, '추가': 2895, '지겹다': 2896, '불쌍해서': 2897, '작년': 2898, '갔었는데': 2899, '수지': 2900, '첫사랑': 2901, '은은한': 2902, '크리': 2903, '버려라': 2904, '않으면서': 2905, '뭉클하고': 2906, '하고싶다': 2907, '오페라': 2908, '호강': 2909, '스키': 2910, '몰랐는데': 2911, '재난': 2912, '일베': 2913, '오유': 2914, '있길래': 2915, '어울리지': 2916, '이외': 2917, '있으나': 2918, '또는': 2919, '정권': 2920, '정책': 2921, '잔잔하면서도': 2922, '몽환': 2923, '주변인': 2924, '싶었다': 2925, '낮네요': 2926, '언젠가': 2927, '현대인': 2928, '무의미한': 2929, '소동': 2930, '끝난': 2931, '느린': 2932, '마틴': 2933, '찍는': 2934, '유선': 2935, '선전': 2936, '대책': 2937, '범죄자': 2938, '만들어라': 2939, '보았다': 2940, '일제': 2941, '가운데': 2942, '사망': 2943, '없겠지': 2944, '완존': 2945, '소품': 2946, '봤다니': 2947, '여유': 2948, '가을': 2949, '팝콘': 2950, '마동석': 2951, '하신': 2952, '봉준호': 2953, '치는': 2954, '흡사한': 2955, '아끼고': 2956, '인연': 2957, '아팠다': 2958, '중학교': 2959, '추리': 2960, '끝내': 2961, '신기할': 2962, '박찬욱': 2963, '명복': 2964, '가까이': 2965, '전통': 2966, '빵터짐': 2967, '까고': 2968, '바비': 2969, '지루했음': 2970, '엠버': 2971, '허드': 2972, '장화홍련': 2973, '제시카': 2974, '역쉬': 2975, '상치': 2976, '대리': 2977, '크리스찬': 2978, '해야하나': 2979, '고개': 2980, '받았다고': 2981, '해줘서': 2982, '깎아': 2983, '리기': 2984, '영화배우': 2985, '용가리': 2986, '그릇': 2987, '였는지': 2988, '아니었나': 2989, '진수': 2990, '고등학교': 2991, '다문화': 2992, '있다니': 2993, '반갑다': 2994, '바친다': 2995, '한장': 2996, '되나': 2997, '출신': 2998, '이었어요': 2999, '터키': 3000, '다시금': 3001, '씨발': 3002, '이준': 3003, '도덕': 3004, '오래된': 3005, '유오성': 3006, '잠든': 3007, '안에': 3008, '볼수있습니다': 3009, '희극': 3010, '사라지고': 3011, '토끼': 3012, '망할': 3013, '들었을': 3014, '심각한': 3015, '되야지': 3016, '역사상': 3017, '서정': 3018, '웨스턴': 3019, '졸았다': 3020, '부럽다': 3021, '텐데': 3022, '출발': 3023, '시키고': 3024, '살이': 3025, '까지만': 3026, '적절하게': 3027, '고도': 3028, '상승': 3029, '날려': 3030, '아닌거': 3031, '크다': 3032, '다니는': 3033, '돋보인': 3034, '스포': 3035, '리가': 3036, '안해': 3037, '피식': 3038, '예쁨': 3039, '록키': 3040, '장사': 3041, '어이없어': 3042, '가질': 3043, '급전': 3044, '반영': 3045, '힘들었음': 3046, '아쉽고': 3047, '안타깝습니다': 3048, '높은지': 3049, '소름끼친다': 3050, '펀치': 3051, '찌질': 3052, '찍어서': 3053, '흘러도': 3054, '없군': 3055, '이뻐서': 3056, '알겠으나': 3057, '상투': 3058, '돋보이는': 3059, '공연': 3060, '마약': 3061, '에게나': 3062, '경지': 3063, '젊은': 3064, '불쌍한': 3065, '밝은': 3066, '기대했던': 3067, '별다른': 3068, '감흥': 3069, '전투씬': 3070, '영화평론가': 3071, '고발': 3072, '사신': 3073, '소스': 3074, '무서워서': 3075, '스나이퍼': 3076, '비호감': 3077, '이었는데': 3078, '웃었다': 3079, '여기저기': 3080, '우는': 3081, '비슷하게': 3082, '멘탈': 3083, '거울': 3084, '다른사람': 3085, '뻔해서': 3086, '어이없어서': 3087, '사토시': 3088, '비록': 3089, '비행': 3090, '쿠바': 3091, '갔는데': 3092, '차인표': 3093, '그러면': 3094, '재밌던데': 3095, '해리슨': 3096, '포드': 3097, '백미': 3098, '교과서': 3099, '히치콕': 3100, '엉뚱한': 3101, '아름답네요': 3102, '향기': 3103, '좋아함': 3104, '해명': 3105, '승리': 3106, '게스트': 3107, '순수하고': 3108, '불쾌했다': 3109, '보일': 3110, '달리는': 3111, '재수': 3112, '가시노': 3113, '게이고': 3114, '않는걸': 3115, '돌란': 3116, '부족하고': 3117, '행진': 3118, '판이': 3119, '군인': 3120, '늘어진다': 3121, '이틀': 3122, '사이코': 3123, '리차드': 3124, '오늘날': 3125, '되었어요': 3126, '허영': 3127, '있군요': 3128, '믿지': 3129, '마세여': 3130, '졸면서': 3131, '가히': 3132, '오프닝': 3133, '스릴러물': 3134, '울었어요': 3135, '몰랐네': 3136, '야수': 3137, '하질': 3138, '미만': 3139, '궁금해서': 3140, '해봤다': 3141, '짜증나네요': 3142, '나오게': 3143, '가져다': 3144, '이상하다': 3145, '막심': 3146, '어울리고': 3147, '싶습니다': 3148, '스텝업': 3149, '에반게리온': 3150, '광기': 3151, '볼땐': 3152, '장군': 3153, '만나는': 3154, '있었어요': 3155, '하진': 3156, '참신하다': 3157, '훌쩍': 3158, '이모': 3159, '대하': 3160, '안목': 3161, '하고싶은': 3162, '냄새': 3163, '건질게': 3164, '왜곡': 3165, '신기하다': 3166, '남지': 3167, '되요': 3168, '괜찮네요': 3169, '블랙': 3170, '풍자': 3171, '만들었는지': 3172, '달인': 3173, '횡설수설': 3174, '불러': 3175, '아무런': 3176, '불편하다': 3177, '되길': 3178, '심심할': 3179, '괜찮아요': 3180, '왔을': 3181, '오글거림': 3182, '특이한': 3183, '부류': 3184, '지났는데도': 3185, '미션임파서블': 3186, '리브': 3187, '없으니': 3188, '새로': 3189, '세르게이': 3190, '주는거': 3191, '찾아볼': 3192, '질린다': 3193, '이용': 3194, '미사일': 3195, '공개': 3196, '한글': 3197, '코끼리': 3198, '기광': 3199, '만든거': 3200, '도둑': 3201, '빠지게': 3202, '보는거': 3203, '느끼는건': 3204, '한예슬': 3205, '나오다니': 3206, '손예진': 3207, '조승우': 3208, '아까워요': 3209, '드네': 3210, '케빈': 3211, '메리': 3212, '루이스': 3213, '파커': 3214, '빵점': 3215, '재밌다고': 3216, '이길래': 3217, '생전': 3218, '트리스탄': 3219, '수습': 3220, '이니까': 3221, '작렬': 3222, '커녕': 3223, '바닥': 3224, '배우란': 3225, '않았을까': 3226, '한국말': 3227, '지저분한': 3228, '모르겠어': 3229, '즐거웠고': 3230, '부를': 3231, '써로게이트': 3232, '컴플렉스': 3233, '다니엘헤니': 3234, '기한': 3235, '합쳐놓은': 3236, '타란티노': 3237, '명절': 3238, '쏘우': 3239, '대부분': 3240, '콩가루': 3241, '잇어요': 3242, '안남': 3243, '아쉽긴': 3244, '물결': 3245, '했다니': 3246, '대비': 3247, '권상우': 3248, '먹음': 3249, '타이틀': 3250, '감수성': 3251, '블랙코미디': 3252, '인듯': 3253, '만들었다고': 3254, 'ㅁㅇ': 3255, '굿굿굿': 3256, '이기도': 3257, '많아요': 3258, '중요한데': 3259, '두뇌': 3260, '여정': 3261, '글쎄': 3262, '전지현': 3263, '허니': 3264, '예스': 3265, '심야식당': 3266, '역겹다': 3267, '타르': 3268, '택시': 3269, '가르쳐': 3270, '쓰냐': 3271, '하락': 3272, '할것도': 3273, '없는거': 3274, '알려': 3275, '괜찮게': 3276, '잔혹': 3277, '훌륭했다': 3278, '인척': 3279, '졸았어요': 3280, '멋짐': 3281, '여동생': 3282, '느껴짐': 3283, '스머프': 3284, '킬러': 3285, '되어야': 3286, '신념': 3287, '고질': 3288, '찬양': 3289, '풍기는': 3290, '해피': 3291, '안됩니다': 3292, '나왔을': 3293, '참패': 3294, '이러냐': 3295, '졌다': 3296, '있는게': 3297, '특별하지': 3298, '고해': 3299, '케릭': 3300, '있었고': 3301, '멋있는': 3302, '싸우고': 3303, '사장': 3304, '전의': 3305, '에서야': 3306, '보낸다': 3307, '숨어있는': 3308, '총장': 3309, '토요명화': 3310, '번째': 3311, '무방': 3312, '로맨틱코미디': 3313, '에다가': 3314, '연습': 3315, '되면서': 3316, '이렇다': 3317, '주년': 3318, '만드는데': 3319, '문학': 3320, '드래곤볼': 3321, '린치': 3322, '가보': 3323, '보는지': 3324, '내릴': 3325, '초점': 3326, '깨달음': 3327, '재현': 3328, '나오더라': 3329, '숨겨진': 3330, '악몽': 3331, '축구': 3332, '흘러': 3333, '공통점': 3334, '들지만': 3335, '살리지': 3336, '삶은': 3337, '맡은': 3338, '장애': 3339, '황금': 3340, '고현정': 3341, '체적': 3342, '모로': 3343, '보고싶습니다': 3344, '마이클': 3345, '만드는듯': 3346, '스펙': 3347, '해리포터': 3348, '생략': 3349, '다그': 3350, '대단하네요': 3351, '미는': 3352, '구로': 3353, '평정': 3354, '화류': 3355, '바치는': 3356, '민중': 3357, '집안': 3358, '만난': 3359, '스페인': 3360, '전환': 3361, '어깨': 3362, '느껴질': 3363, '니당': 3364, '남자친구': 3365, '임창정': 3366, '가나다': 3367, '라마': 3368, '바사': 3369, '하구': 3370, '아깝습니다': 3371, '생긴': 3372, '멀쩡한': 3373, '수애': 3374, '쪽팔린다': 3375, '만들어서': 3376, '뻔하디': 3377, '고수': 3378, '오랫동안': 3379, '우베': 3380, '뒤죽박죽': 3381, '쩔었음': 3382, '왔습니다': 3383, '관해': 3384, '기자': 3385, '귀여워': 3386, '무서운게': 3387, '나갈': 3388, '도로': 3389, '편성': 3390, '보이는데': 3391, '인간미': 3392, '객관': 3393, '이었지만': 3394, '끝나': 3395, '모음': 3396, '심했다': 3397, '무섭': 3398, '됬는데': 3399, '유치해': 3400, '아니라고': 3401, '들도': 3402, '밖엔': 3403, '까요': 3404, '미스터리': 3405, '벌어지는': 3406, '가가': 3407, '길다': 3408, '경악': 3409, '끔찍하다': 3410, '스토': 3411, '심정': 3412, '일만': 3413, '정은지': 3414, '한심하고': 3415, '지경': 3416, '으로만': 3417, '지식': 3418, '대감': 3419, '자세한': 3420, '않네요': 3421, '좋아했던': 3422, '또다른': 3423, '찾을': 3424, '헤어': 3425, '될듯': 3426, '재미있을': 3427, '찬사': 3428, '하디': 3429, '햇음': 3430, '차마': 3431, '볼수가': 3432, '범벅': 3433, '능가': 3434, '그런게': 3435, '개나줘': 3436, '모야': 3437, '보려면': 3438, '바이러스': 3439, '재미없던데': 3440, '걸왜': 3441, '사색': 3442, '돋을': 3443, '배급사': 3444, '지나서': 3445, '이러면': 3446, '도가니': 3447, '봤다면': 3448, '때려': 3449, '잡는': 3450, '나왔습니다': 3451, '귀여웠다': 3452, '국적': 3453, '천만': 3454, '가깝다': 3455, '하고픈': 3456, '순위': 3457, '만약': 3458, '프리': 3459, '이었다는': 3460, '공리': 3461, '했다고': 3462, '마을': 3463, '성동일': 3464, '갔다가': 3465, '스틱': 3466, '투척': 3467, '잔뜩': 3468, '기발한': 3469, '부산': 3470, '일수': 3471, '일본애니': 3472, '이상함': 3473, '영웅본색': 3474, '없어도': 3475, '어이없고': 3476, '적은': 3477, '재미없을': 3478, '애가': 3479, '배속': 3480, '대치': 3481, '시험': 3482, '에혀': 3483, '패션': 3484, '평작': 3485, '에이': 3486, '박진': 3487, '쩔어': 3488, '오로지': 3489, '가짜': 3490, '안되는데': 3491, '학원': 3492, '재탕': 3493, '싫을': 3494, '예쁘게': 3495, '여고괴담': 3496, '났다': 3497, '그거': 3498, '산만하다': 3499, '하셨습니다': 3500, '비노': 3501, '예뻐서': 3502, '뭉클': 3503, '나오는거': 3504, '같다는': 3505, '나왔어요': 3506, '지식인': 3507, '카피': 3508, '흔적': 3509, '괜찮았다': 3510, '낮네': 3511, '줄려고': 3512, '다크': 3513, '대에': 3514, '흑인': 3515, '운동': 3516, '요약': 3517, '피로': 3518, '극복': 3519, '얼음': 3520, '작정': 3521, '어번': 3522, '부족하다': 3523, '민폐': 3524, '돼지': 3525, '할거': 3526, '없는게': 3527, '머리스타일': 3528, '긴한데': 3529, '섬세하게': 3530, '감은': 3531, '우려': 3532, '나올수': 3533, '주님': 3534, '미도': 3535, '루비': 3536, '흥미롭지': 3537, '명장': 3538, '나오는게': 3539, '해주': 3540, '개성': 3541, '남았다': 3542, '은지원': 3543, '예쁘네요': 3544, '쓰지': 3545, '서민': 3546, '안타깝고': 3547, '상징': 3548, '반응': 3549, '이쁘다': 3550, '화장실': 3551, '쿵푸허슬': 3552, '살인자': 3553, '바란다': 3554, '싶게': 3555, '위트': 3556, '라스베가스': 3557, '여태': 3558, '원피스': 3559, '기간': 3560, '내공': 3561, '단점': 3562, '배꼽': 3563, '걸고': 3564, '다는': 3565, '은퇴': 3566, '놀래': 3567, '실소': 3568, '심히': 3569, '깨워주는': 3570, '돼는': 3571, '걸릴': 3572, '가해자': 3573, '일일': 3574, '기억나는': 3575, '만들다': 3576, '재미없었던': 3577, '동의': 3578, '연예계': 3579, '소화': 3580, '어째': 3581, '사용': 3582, '그러니까': 3583, '웃기는': 3584, '없던': 3585, '메인': 3586, '달라': 3587, '좋아한다': 3588, '엑스트라': 3589, '어쩌다': 3590, '버린다': 3591, '고장': 3592, '벤지': 3593, '주인': 3594, '동료': 3595, '이정현': 3596, '파리': 3597, '탕웨이': 3598, '어땠을까': 3599, '스러': 3600, '망상': 3601, '만큼이나': 3602, '왕가위': 3603, '보구': 3604, '닥치고': 3605, '별개': 3606, '설경구': 3607, '벨루치': 3608, '대역': 3609, '임팩트': 3610, '최하': 3611, '출연료': 3612, '테이크': 3613, '겉멋': 3614, '그나저나': 3615, 'ㅈㄴ': 3616, '심하네': 3617, '주는건': 3618, '강간': 3619, '와나': 3620, '하는가': 3621, '예술가': 3622, '가능성': 3623, '조명': 3624, '연장': 3625, '아쉬워요': 3626, '고뇌': 3627, '모른다': 3628, '미치는': 3629, '어색': 3630, '워낙': 3631, '지루하네': 3632, '망했는지': 3633, '들을': 3634, '비슷': 3635, '들의': 3636, '옹호': 3637, '어유': 3638, '소유': 3639, '악플': 3640, '에야': 3641, '와서': 3642, '연주': 3643, '신선하고': 3644, '하드': 3645, '뒷이야기': 3646, '침대': 3647, '썩어': 3648, '다니는지': 3649, '재밌었던': 3650, '웃겼다': 3651, '알려주는': 3652, '필립': 3653, '변신': 3654, '가나': 3655, '끈다': 3656, '짜증날': 3657, '라그': 3658, '후딱': 3659, '자위': 3660, '접해': 3661, '주관': 3662, '섹시하고': 3663, '인내심': 3664, '압축': 3665, '맥스': 3666, '존멋': 3667, '하려면': 3668, '안타깝네요': 3669, '유덕화': 3670, '짜증나게': 3671, '완벽했다': 3672, '걸리면': 3673, '짜여진': 3674, '보고있음': 3675, '만치': 3676, '공자': 3677, '그림자': 3678, '정유미': 3679, '개꿀잼': 3680, '메이드': 3681, '일방': 3682, '인성': 3683, '짐승': 3684, '걸레': 3685, '어떡해': 3686, '케로로': 3687, '맞냐': 3688, '알겠지만': 3689, '말투': 3690, '묻어': 3691, '같은게': 3692, '남친': 3693, '발암': 3694, '토르': 3695, '초적': 3696, '인터스텔라': 3697, '박힌': 3698, '시보': 3699, '극한': 3700, '납치': 3701, '깊었다': 3702, '제라드': 3703, '버틀러': 3704, '누명': 3705, '뽑아': 3706, '다수': 3707, '안되나': 3708, '지루한건': 3709, '죽일': 3710, '뻔하지만': 3711, '새롭게': 3712, '버리면': 3713, '남발': 3714, '여름': 3715, '산드라': 3716, '물어': 3717, '웃고': 3718, '엑소': 3719, '소지섭': 3720, '뭐임': 3721, '했다가': 3722, '싫다고': 3723, '에릭': 3724, '스톤': 3725, '저렴한': 3726, '조진웅': 3727, '나은': 3728, '때우기': 3729, '우리네': 3730, '별거': 3731, '김래원': 3732, '데인': 3733, '들입니다': 3734, '심심해서': 3735, '정우성': 3736, '정신건강': 3737, '하품': 3738, 'ㅅㅅ': 3739, '정독': 3740, '한동안': 3741, '해줄': 3742, '온몸': 3743, '다세포': 3744, '중독': 3745, '보는것': 3746, '수다': 3747, '헌터': 3748, '적도': 3749, '소름끼치게': 3750, '사랑스럽다': 3751, '풀어내는': 3752, '아부지': 3753, '돋는': 3754, '몰라서': 3755, '평화': 3756, '타고': 3757, '나올듯': 3758, '라퓨타': 3759, '낮은지': 3760, '있었습니다': 3761, '진보': 3762, '웨슬리': 3763, '테이프': 3764, '해서는': 3765, '불교': 3766, '대단합니다': 3767, '구라': 3768, '신선했는데': 3769, '하다는': 3770, '명확히': 3771, '시리': 3772, '바른': 3773, '세영': 3774, '성욕': 3775, '섹시하다': 3776, '대변': 3777, '퍼스': 3778, '외로움': 3779, '보내고': 3780, '찍어라': 3781, '거듭': 3782, '할수록': 3783, '디테일': 3784, '아니네요': 3785, '멋있음': 3786, '다우니': 3787, '감있는': 3788, '반대': 3789, '떼우': 3790, '일으킨': 3791, '검술': 3792, '찾다가': 3793, '모르면': 3794, '이이이': 3795, 'ㅜㅜㅜ': 3796, '사람과': 3797, '보지말': 3798, '드립': 3799, '많지만': 3800, '미니': 3801, '부진': 3802, '흐지부지': 3803, '합리화': 3804, '만들었습니다': 3805, '치기': 3806, '시네마': 3807, '서서히': 3808, '황당': 3809, '해설': 3810, '이계인': 3811, '패스': 3812, '비행기': 3813, '무서워': 3814, '부패': 3815, '기억난다': 3816, '황비홍': 3817, '나왔는데': 3818, '난뒤': 3819, '러브스토리': 3820, '잡스': 3821, '들아': 3822, '자녀': 3823, '그렇다': 3824, '반의': 3825, '피하': 3826, '적절한': 3827, '성기': 3828, '비주': 3829, 'ㅋㅋㅋㅋㅋㅋㅋㅋㅋ': 3830, '조정': 3831, '절반': 3832, '열자': 3833, '이승기': 3834, '후의': 3835, '하겠습니다': 3836, '받지': 3837, '없어져': 3838, '추합니다': 3839, '다가온다': 3840, '움직임': 3841, '그리운': 3842, '아시아': 3843, '미친듯이': 3844, '정사': 3845, '식이': 3846, '않는데': 3847, '차원': 3848, '민들레': 3849, '취해': 3850, '댄서': 3851, '디워': 3852, '봤으니': 3853, '죠스': 3854, '나머진': 3855, '찾고': 3856, '할지': 3857, '에여': 3858, '잊을수': 3859, '매주': 3860, '예매': 3861, '평가절하': 3862, '에미': 3863, '베일': 3864, '이끌어': 3865, '맑고': 3866, '잇고': 3867, '매료': 3868, '없냐': 3869, '히나타': 3870, '곱등이': 3871, '투자자': 3872, '허준': 3873, '잔혹한': 3874, '신곡': 3875, '샤이니': 3876, '에이핑크': 3877, '의사': 3878, '팬텀': 3879, '영차': 3880, '김범': 3881, '통제': 3882, '널사': 3883, '발달': 3884, '태안': 3885, '문근영': 3886, '시각장애인': 3887, '무게': 3888, '값진': 3889, '하여금': 3890, '시켰다': 3891, '이득': 3892, '제임스': 3893, '본드': 3894, '당했다': 3895, '지진희': 3896, '연민': 3897, '찾아볼수가': 3898, '않았습니다': 3899, '솔로': 3900, '이유리': 3901, '모니터링': 3902, '낼수': 3903, '경의': 3904, '달러': 3905, '꾸역꾸역': 3906, '왕창': 3907, '원빈': 3908, '잘생겼다': 3909, '없었지만': 3910, '하나님': 3911, '전무후무': 3912, '하러': 3913, '만든다는': 3914, '박사': 3915, '떨리는': 3916, '보았다면': 3917, '훌륭했고': 3918, '해님': 3919, '소라': 3920, '아오이': 3921, '잊은': 3922, '보였다': 3923, '나오는지': 3924, '딴사람': 3925, '쿵푸팬더': 3926, '만들었는데도': 3927, '나온게': 3928, '아니었어': 3929, '브래드피트': 3930, '이었네': 3931, '짜릿': 3932, '짓고': 3933, '산다': 3934, '좋을것': 3935, '내기': 3936, '빠지는': 3937, '멋진데': 3938, '판사': 3939, '합의': 3940, '흑역사': 3941, '보물': 3942, '해바라기': 3943, '믿으면': 3944, '개막': 3945, '계신다면': 3946, '학력': 3947, '위조': 3948, '색다르고': 3949, '히로스에': 3950, '영화니': 3951, '있는줄': 3952, '이상하게': 3953, '이구만': 3954, '이형': 3955, '성녀': 3956, '피는': 3957, '터널': 3958, '지나': 3959, '맞나요': 3960, '지루하기도': 3961, '이종석': 3962, '싸이코패스': 3963, '봣엇': 3964, '정선경': 3965, '김민종': 3966, '대기업': 3967, '일기': 3968, '흡수': 3969, '하게하고': 3970, '상기': 3971, '없습니다': 3972, '정당한': 3973, '일정': 3974, '성취': 3975, '거대한': 3976, '구조': 3977, '최대': 3978, '하려': 3979, '넣은': 3980, '죽인': 3981, '같은거': 3982, '주신': 3983, '안된다는': 3984, '안티': 3985, '비평가': 3986, '아니겠지': 3987, '전두환': 3988, '무고': 3989, '시민': 3990, '살해': 3991, '민주당': 3992, '어우': 3993, '이하나': 3994, '예뻣다': 3995, '안개': 3996, '무언가': 3997, '장쯔이': 3998, '산뜻한': 3999, '용구성': 4000, '대단히': 4001, '놀랏다': 4002, '좋으면': 4003, '타령': 4004, '타락': 4005, '좋았을것': 4006, '로더': 4007, '구혜선': 4008, '원인': 4009, '등골': 4010, '에스트로겐': 4011, '하이퍼': 4012, '놀라게': 4013, '보겟다': 4014, '먹이': 4015, '홍금보': 4016, '거만': 4017, '벨라': 4018, '홍경인': 4019, '불쌍하게': 4020, '잘안주는데': 4021, '가봤던': 4022, '명도': 4023, '본다는게': 4024, '바탕': 4025, '화려하고': 4026, '생생한': 4027, '귀가': 4028, '에너미': 4029, '포뇨': 4030, '시시함': 4031, '본것이': 4032, '지드': 4033, '병원': 4034, '선글라스': 4035, '훈훈하고': 4036, '깨닫고': 4037, '왤케': 4038, '멋졌다': 4039, '제기': 4040, '박정희': 4041, '맴도': 4042, '덩어리': 4043, '아시': 4044, '온거': 4045, '이상기': 4046, '재밋습': 4047, '행복할': 4048, '봣던': 4049, '독특하게': 4050, '드릴': 4051, '뿜었다': 4052, '애국': 4053, '하는지도': 4054, '다루는': 4055, '볼일': 4056, '흡혈': 4057, '식물': 4058, '유사한': 4059, '복제인간': 4060, '정적': 4061, '따분함': 4062, '기억나는건': 4063, '괜찮았는데': 4064, '슬프지도': 4065, '책임': 4066, '동호': 4067, '나레이션': 4068, '같던데': 4069, '왔다': 4070, '파악': 4071, '나오다': 4072, '끝나냐': 4073, '숨죽': 4074, '지켜보는': 4075, '사할린': 4076, '노역': 4077, '만은': 4078, '고딕': 4079, '클로이': 4080, '생기는': 4081, '아이유': 4082, '나올텐데': 4083, '으루': 4084, '따지지': 4085, '더하는': 4086, '짐작': 4087, '흥미로웠다': 4088, '불쌍타': 4089, '담으려': 4090, '괴수': 4091, '윤소이': 4092, '안되게': 4093, '포켓몬스터': 4094, '잊을수가': 4095, '히트': 4096, '언능': 4097, '진퉁': 4098, '치료': 4099, '아니란': 4100, '보고싶어요': 4101, '야경': 4102, '머냐': 4103, '각각': 4104, '있긴': 4105, '내지': 4106, '라운드': 4107, '따라간다': 4108, '해주는거': 4109, '임성한': 4110, '호프만': 4111, '빕니다': 4112, '쉬세요': 4113, '크라': 4114, '볼타': 4115, '대요': 4116, '내놔': 4117, '애니스톤': 4118, '한국어': 4119, '락스': 4120, '보인다': 4121, '집합': 4122, '잃어버린': 4123, '권장': 4124, '슬레': 4125, '끝나네요': 4126, '찝찝함': 4127, '할수도': 4128, '애썼다': 4129, '마구잡이': 4130, '같은것': 4131, '생존': 4132, '취지': 4133, '감독판': 4134, '않아도': 4135, '정조': 4136, '탄탄하지': 4137, '대판': 4138, '이상해요': 4139, '어렸지만': 4140, '유일': 4141, '하더라도': 4142, '된다면': 4143, '모티브': 4144, '동네': 4145, '편의점': 4146, '재밋는데': 4147, '들었던': 4148, '모성애': 4149, '신파극': 4150, '쓴다': 4151, '뜨고': 4152, '대단': 4153, '우울할': 4154, '만들어졌다': 4155, '장편': 4156, '이었다고': 4157, '정복': 4158, '짜증나요': 4159, '점준': 4160, '우아한': 4161, '성하기': 4162, '마디': 4163, '일그러진': 4164, '따뜻하게': 4165, '말초신경': 4166, '판치는': 4167, '모처럼': 4168, '긍정': 4169, '감기': 4170, '갚는게': 4171, '주제곡': 4172, '멜로디': 4173, '끓어': 4174, '맑은': 4175, '젖통': 4176, '단순하고': 4177, '않았음': 4178, '히스': 4179, '따름': 4180, '잘생긴': 4181, '앵글': 4182, '반지의제왕': 4183, '독보': 4184, '개척': 4185, '잇게': 4186, '보게되': 4187, '아프긴': 4188, '합니다만': 4189, '다케시': 4190, '우디알렌': 4191, '바베트': 4192, '만찬': 4193, '위장': 4194, '복장': 4195, '놀라': 4196, '사랑스럽고': 4197, '패러독스': 4198, '보실': 4199, '다큐맨': 4200, '김소현': 4201, '엘리자베스': 4202, '여왕': 4203, '없었을까': 4204, '다이나믹': 4205, '장치': 4206, '워드': 4207, '유학생': 4208, '왔다가': 4209, '이었던가': 4210, '보여주는데': 4211, '철수': 4212, '겠죠': 4213, '말리': 4214, '난감하다': 4215, '허무하다': 4216, '화비': 4217, '사다코': 4218, '생가': 4219, '하지말아라': 4220, '망한다': 4221, '죽겠다': 4222, '다주': 4223, '받을만한': 4224, '희망이': 4225, '계단': 4226, '이렇게도': 4227, '교감': 4228, '어려울': 4229, '낮추기': 4230, '있을거': 4231, '만족스럽다': 4232, '에플렉': 4233, '프로젝트': 4234, '손오공': 4235, '싶고': 4236, '마린': 4237, '어울리는': 4238, '황정민': 4239, '되어서': 4240, '만들어주신': 4241, '씁쓸한': 4242, '실속': 4243, '죄인': 4244, '좋아한다면': 4245, '강력히': 4246, '이드': 4247, '참혹함을': 4248, '젊은이': 4249, '살아서': 4250, '아름다웠던': 4251, '듣고': 4252, '마는': 4253, '계시는': 4254, '싶었어요': 4255, '채플린': 4256, '명백한': 4257, '추한다': 4258, '미디어': 4259, '게이트': 4260, '스탈린그라드': 4261, '사살': 4262, '인한': 4263, '웃는': 4264, '하숙집': 4265, '낫더라': 4266, '임수정': 4267, '싫은': 4268, '넘친다': 4269, '강함': 4270, '복습': 4271, '대단함': 4272, 'ㅋㅋㅋㅋㅋㅋㅋㅋㅋㅋㅋㅋㅋ': 4273, '가리고': 4274, '구림': 4275, '재밌지': 4276, '연히': 4277, '성해': 4278, '다를': 4279, '아름다워요': 4280, '조용히': 4281, '기리보이': 4282, '있었을': 4283, '웃었습니다': 4284, '점차': 4285, '철권': 4286, '무릎': 4287, '노예': 4288, '됐네요': 4289, '그러고': 4290, '만들었어요': 4291, '이자나': 4292, '광희': 4293, '김보성': 4294, '구려지고': 4295, '현빈': 4296, '민망해서': 4297, '몬초': 4298, '같기도': 4299, '플레이': 4300, '오멘': 4301, '저주': 4302, '와일드': 4303, '아역배우': 4304, '로드': 4305, '자르고': 4306, '조롱': 4307, '김준호': 4308, '쥬산': 4309, '않았고': 4310, '아리': 4311, '먹하게': 4312, '찝찝하고': 4313, '나서도': 4314, '해서웨이': 4315, '이뻐요': 4316, '사랑스러': 4317, '이브': 4318, '떠오르는': 4319, '아이디': 4320, '나오겠죠': 4321, '짤린': 4322, '총각': 4323, '시련': 4324, '재수없고': 4325, '은혜': 4326, '각기': 4327, '돌아가는': 4328, '레아': 4329, '세이': 4330, '알았더니': 4331, '공작': 4332, '다프네': 4333, '애매한': 4334, '죽는다': 4335, '우울하고': 4336, '이해도': 4337, '돼고': 4338, '바티스타': 4339, '하고만': 4340, '슬프지만': 4341, '이어진': 4342, '훈훈함': 4343, '느껴집니다': 4344, '효민': 4345, '터진다': 4346, '화끈하다': 4347, '죽겠': 4348, '맞춰': 4349, '만들었네': 4350, '물건': 4351, '넣어': 4352, '안이': 4353, '활짝': 4354, '삼촌': 4355, '데니스': 4356, '파가': 4357, '신선함과': 4358, '송지효': 4359, '유쾌하고': 4360, '아니었다': 4361, '숨막히는': 4362, '일과': 4363, '동아리': 4364, '취업': 4365, '고스': 4366, '거친': 4367, '소이현': 4368, '하시고': 4369, '한바탕': 4370, '픽사': 4371, '그라드': 4372, '핥기': 4373, '영화광': 4374, '바디': 4375, '유의': 4376, '재밌어여': 4377, '스파이': 4378, '봣음': 4379, '판타지영화': 4380, '급사': 4381, '댈세': 4382, '진영': 4383, '생김': 4384, '모른다는': 4385, '뒤에': 4386, '둥이': 4387, '후회되는': 4388, '만원': 4389, '구역': 4390, '신도': 4391, '왕따': 4392, '많지': 4393, '않은것': 4394, '녹음': 4395, '뻔할': 4396, '뛰어': 4397, '뮤지컬영화': 4398, '고본': 4399, '예수': 4400, '수의': 4401, '하던가': 4402, '화나': 4403, '단단한': 4404, '고루': 4405, '지향': 4406, '미쳤다': 4407, '우에노': 4408, '주리': 4409, '놔서': 4410, '허황': 4411, '서스펜스': 4412, '찾아보니': 4413, '꿈꾸는': 4414, '되도': 4415, '퇴색': 4416, '살인마': 4417, '특징': 4418, '하수': 4419, '나왔다는': 4420, '주자': 4421, '높다고': 4422, '로맨스영화': 4423, '신동엽': 4424, '소중함을': 4425, '바치': 4426, '잔잔하며': 4427, '복잡하고': 4428, '먹기': 4429, '애틋한': 4430, '우아': 4431, '아아': 4432, '근접한': 4433, '근육': 4434, '어도': 4435, '박스오피스': 4436, '찬다': 4437, '그지같은': 4438, '골목': 4439, '대형': 4440, '진부하다': 4441, '때리네': 4442, '되라': 4443, '방가': 4444, '잇다': 4445, '유리창': 4446, '이함': 4447, '잇어서': 4448, '만들려고': 4449, '노트북': 4450, '싶었나': 4451, '봣어': 4452, '고어영화': 4453, '두근두근': 4454, '심하게': 4455, '빠삐용': 4456, '아마도': 4457, '않았나': 4458, '차도': 4459, '자국': 4460, '수위': 4461, '흐른다': 4462, '빡쳐서': 4463, '들어와서': 4464, '해달라': 4465, '읽지': 4466, '많네': 4467, '치아': 4468, '리얼리즘': 4469, '나인': 4470, '넘사벽': 4471, '김승우': 4472, '잊혀져': 4473, '회복': 4474, '받아야지': 4475, '기해': 4476, '였구요': 4477, '모니터': 4478, '보호': 4479, '류승룡': 4480, '질감': 4481, '싶지만': 4482, '따먹기': 4483, '끝난다': 4484, '김옥빈': 4485, '염치': 4486, '활동': 4487, '속물': 4488, '정당화': 4489, '가봐요': 4490, '모기': 4491, '매운': 4492, '보여주마': 4493, '진작': 4494, '강대국': 4495, '임은경': 4496, '찍으세요': 4497, '으헝': 4498, '유도': 4499, '안든다': 4500, '나게': 4501, '도하': 4502, '질투': 4503, '흥겨운': 4504, '될까': 4505, '두리반': 4506, '권리': 4507, '의견': 4508, '멋있었다': 4509, '느낌이었다': 4510, '심심하게': 4511, '제이': 4512, '닮았다': 4513, '이안': 4514, '나왔음': 4515, '붙인': 4516, '놓을': 4517, '정감': 4518, '나오지도': 4519, '아무튼': 4520, '궁금해': 4521, '히키코모리': 4522, '대만': 4523, '만들었다니': 4524, '컴퓨터그래픽': 4525, '하는줄': 4526, '에게로': 4527, '인턴': 4528, '뛰었다': 4529, '영원한': 4530, '랜턴': 4531, '몰아가는': 4532, '억지스러': 4533, '제프': 4534, '브리': 4535, '창작': 4536, '알고싶다': 4537, '고관': 4538, '건담': 4539, '시드': 4540, '전함': 4541, '난해한': 4542, '스포일러': 4543, '해봐도': 4544, '맞은': 4545, '안타까울': 4546, '정돈': 4547, 'ㅁㅊ': 4548, '이물': 4549, '제주도': 4550, '태양': 4551, '읍니': 4552, '인종차별': 4553, '어둠': 4554, '보다보다': 4555, '보네': 4556, '재미없더라': 4557, '아하': 4558, '재키': 4559, '하기는': 4560, '류덕환': 4561, '퀴즈': 4562, '전인': 4563, '밤새': 4564, '주행': 4565, '안경': 4566, '하던지': 4567, '가감': 4568, '웃으며': 4569, '봤구만': 4570, '애니매이션': 4571, '헬기': 4572, '민간인': 4573, '마구': 4574, '미군': 4575, '업햄': 4576, '피해': 4577, '누리': 4578, '빠지다': 4579, '불과': 4580, '아니구나': 4581, '짜집': 4582, '미취': 4583, '아동': 4584, '저학년': 4585, '어이없게': 4586, '지기': 4587, '가왜': 4588, '되며': 4589, '먹방': 4590, '단독': 4591, '본것': 4592, '그중': 4593, '꼽으': 4594, '브라운': 4595, '축복': 4596, '까야': 4597, '혁명': 4598, '바램': 4599, '보낸': 4600, '발킬머': 4601, '짓은': 4602, '금물': 4603, '깔끔하지': 4604, '지루하다는': 4605, '허무하고': 4606, '자하': 4607, 'ㅋㅋㅋㅋㅋㅋㅋㅋㅋㅋ': 4608, '허무': 4609, '찾으시면': 4610, '들었어요': 4611, '배두나': 4612, '아따맘마': 4613, '잇네요': 4614, '추적자': 4615, '애절하다': 4616, '바꿔라': 4617, '지르고': 4618, '하겠구만': 4619, '한순간': 4620, '된장': 4621, '성형': 4622, '주원': 4623, '뽀로로': 4624, '아니었네': 4625, '어보': 4626, '다닐': 4627, '우울증': 4628, '우스': 4629, '엑스': 4630, '마키': 4631, '일어나도': 4632, '수역': 4633, '자평': 4634, '분명': 4635, '레고': 4636, '황당하게': 4637, '잡탕': 4638, '지켜야지': 4639, '서른': 4640, '갈래': 4641, '쓰는거': 4642, '복고': 4643, '많음': 4644, '뒷받침': 4645, '만들었냐': 4646, '더보': 4647, '신선함이': 4648, '떨어졌다': 4649, '캐서린': 4650, '호주': 4651, '준비': 4652, '멜깁슨': 4653, '페이': 4654, '귀여워서': 4655, '취하': 4656, '양자경': 4657, '요란한': 4658, '활약': 4659, '백인': 4660, '강철중': 4661, '제리': 4662, '끊기고': 4663, '보삼': 4664, '트랜스포머': 4665, '에로영화': 4666, '고마운': 4667, '밨습니': 4668, '마마': 4669, '주고싶은데': 4670, '그러지': 4671, '돌아가신': 4672, '여야': 4673, '극혐': 4674, '다나': 4675, '왔음': 4676, '파트너': 4677, '먹었을': 4678, '사나이': 4679, '줄리': 4680, '담아': 4681, '같아선': 4682, '그땐': 4683, '금은': 4684, '키우는': 4685, '주겠다': 4686, '시시하고': 4687, '본영': 4688, '우수': 4689, '하게하는': 4690, '낮다니': 4691, '않습니다': 4692, '거참': 4693, '어처구니없는': 4694, '모름': 4695, '보면되': 4696, '이무영': 4697, '냉소': 4698, '멀고': 4699, '치가': 4700, '걸릴것': 4701, '하차': 4702, '얽히고': 4703, '끝나지': 4704, '지라': 4705, '중요한건': 4706, '맺음': 4707, '의젖': 4708, '하는데도': 4709, '편지': 4710, '덴젤': 4711, '남김': 4712, '촌스럽기까지': 4713, '화중': 4714, '보이긴': 4715, '좋아하지': 4716, '업그레이드': 4717, '과제': 4718, '풀어가는': 4719, '물씬': 4720, '만들더군요': 4721, '제자': 4722, '물체': 4723, '움직이거나': 4724, '빠르기': 4725, '라고는': 4726, '아니었으면': 4727, '휼륭한': 4728, '널리': 4729, '하지는': 4730, '여자친구': 4731, '너무함': 4732, '비디오테잎': 4733, '괜찮을': 4734, '원한다면': 4735, '법정': 4736, '세우는': 4737, '오그라든다': 4738, '아니라면': 4739, '부여': 4740, '용의자': 4741, '훌륭히': 4742, '기대했지만': 4743, '엉덩이': 4744, '배출': 4745, '재밋습니': 4746, '집합소': 4747, '지림': 4748, '고급': 4749, '누워서': 4750, '전국': 4751, '측면': 4752, '정답': 4753, '올린': 4754, '첩보물': 4755, '공공': 4756, '기독교인': 4757, '안되나요': 4758, '떨어질': 4759, '쥐어': 4760, '짜는': 4761, '좋구요': 4762, '카이': 4763, '주시': 4764, '민주주의': 4765, '주체': 4766, '프랑스인': 4767, '보셔요': 4768, '놨다': 4769, '크리스토퍼': 4770, '금성무': 4771, '벌고': 4772, '아녀': 4773, '더러워': 4774, '서라도': 4775, '없구나': 4776, '최종': 4777, '브로디': 4778, '신부': 4779, '미처': 4780, '놓친': 4781, '찾는': 4782, '하였지만': 4783, '자이언트': 4784, '중요하지': 4785, '어떻든': 4786, '변명': 4787, '재개': 4788, '봉하': 4789, '실컷': 4790, '대도': 4791, '반할': 4792, '만화영화': 4793, '바라지': 4794, '인생관': 4795, '소원': 4796, '안되네요': 4797, '넘버': 4798, '바랬는데': 4799, '테라': 4800, '될것이다': 4801, '화난다': 4802, '안좋은지': 4803, '생뚱맞': 4804, '헛웃음': 4805, '볼거다': 4806, '유령': 4807, '불안한': 4808, '했나': 4809, '뽕짝': 4810, '김태희': 4811, '나선': 4812, '광해': 4813, '펠레': 4814, '과잉': 4815, '미안해요': 4816, '비치': 4817, '점임': 4818, '설레는': 4819, 'ㅋㅋㅋㅋㅋㅋㅋㅋㅋㅋㅋㅋ': 4820, '개인주의': 4821, '콧대': 4822, '보내요': 4823, '마음껏': 4824, '인셉션': 4825, '신화': 4826, '온다': 4827, '자면서': 4828, '아깝군': 4829, '난국': 4830, '구입': 4831, '무의미하다': 4832, '영화음악': 4833, '조선시대': 4834, '빠졌어요': 4835, '알았으나': 4836, '토리': 4837, '다미': 4838, '봐주겠는': 4839, '않는가': 4840, '생기고': 4841, '왠만해서': 4842, '따윈': 4843, '높게': 4844, '했네요': 4845, '산이': 4846, '버렸네': 4847, '어진': 4848, '책임감': 4849, '복싱': 4850, '사의': 4851, '잤다': 4852, '정형': 4853, '아쉬운게': 4854, '하던': 4855, '로안': 4856, '어의': 4857, '소린': 4858, '매끄럽지': 4859, '봐서도': 4860, '쓰레긴데': 4861, '찍었는지': 4862, '시킴': 4863, '개신교': 4864, '떨어지지': 4865, '전투': 4866, '용두사미': 4867, '잃는': 4868, '찌질한': 4869, '소유자': 4870, '원했건만': 4871, '극치': 4872, '남았던': 4873, '토나오는줄': 4874, '사춘기': 4875, '박현지': 4876, '아프의': 4877, '출생': 4878, '유년기': 4879, '교차': 4880, '봐줄만': 4881, '부터는': 4882, '떨어져': 4883, '버리네': 4884, '단체': 4885, '씁니다': 4886, '뛰는': 4887, '피아니스트': 4888, '성유리': 4889, '대가리': 4890, '죽고': 4891, '오래전': 4892, '막지': 4893, '진도': 4894, '웃기려고': 4895, '반면': 4896, '일요일': 4897, '전직': 4898, '오류': 4899, '나눠': 4900, '멋졌어요': 4901, '최민식': 4902, '트릴로지': 4903, '웃기기만': 4904, '오디션': 4905, '지적': 4906, '메이퀸': 4907, '알았어': 4908, '일것이다': 4909, '한거': 4910, '파티': 4911, '뒤늦게': 4912, '최다니엘': 4913, '야한다는': 4914, '이쁘더라': 4915, '노출씬': 4916, '자질': 4917, '산만한': 4918, '존트라볼타': 4919, '의외': 4920, '함축': 4921, '무관': 4922, '러시아어': 4923, '유쾌하다': 4924, '문득': 4925, '동심': 4926, '막간': 4927, '폭발': 4928, '귀염': 4929, '일케': 4930, '박시환': 4931, '덩달아': 4932, '않겠다': 4933, '팍팍': 4934, '실종': 4935, '멜로영화': 4936, '어울린다': 4937, '중국사람': 4938, '도배': 4939, '만들어지': 4940, '하는군요': 4941, '트로트': 4942, '낮은가': 4943, '드려요': 4944, '안녕하세요': 4945, '암만': 4946, '하여튼': 4947, '싶었음': 4948, '여긴': 4949, '아니군요': 4950, '저만': 4951, '목사': 4952, '만들어졌다는': 4953, '가오': 4954, '메이크업': 4955, '아낌없는': 4956, '이크': 4957, '어렷을때': 4958, '예뻐': 4959, '할만큼': 4960, '레슬링': 4961, '하든': 4962, '냉혹한': 4963, '수긍': 4964, '박물관': 4965, '좋겠네': 4966, '우드': 4967, '필요함': 4968, '어지럽고': 4969, '졸리긴': 4970, '탈피': 4971, '싸이': 4972, '뜯어': 4973, '아무래도': 4974, '타고난': 4975, '자고': 4976, '정부': 4977, '아기자기한': 4978, '강용석': 4979, '스럽네요': 4980, '고단': 4981, '보여주니': 4982, '이런지': 4983, '해보고': 4984, '남길': 4985, '지수': 4986, '떠들': 4987, '들수록': 4988, '만들었네요': 4989, '타임슬립': 4990, '안타까웠던': 4991, '김영호': 4992, '접하게': 4993, '멀었다': 4994, '이적': 4995, '건축': 4996, '건축가': 4997, '부녀': 4998, '불법체류자': 4999, '운명': 5000, '알수있는': 5001, '아까웠습니다': 5002, '할려는': 5003, '싱어': 5004, '토의': 5005, '지루해요': 5006, '잼있는': 5007, '진지하고': 5008, '드문': 5009, '아니네': 5010, '욕망': 5011, '질적': 5012, '넘지': 5013, '쩌는듯': 5014, '지게': 5015, '해봐서': 5016, '관계도': 5017, '날로': 5018, '담백하고': 5019, '가구': 5020, '반해': 5021, '나올거': 5022, '단순하다': 5023, '참신': 5024, '괜츈': 5025, '만들수': 5026, '한창': 5027, '거짓': 5028, '이던': 5029, '비명': 5030, '까말까': 5031, '후세': 5032, '있다는것': 5033, '나오려나': 5034, '당할': 5035, '첩혈쌍웅': 5036, '흐뭇하게': 5037, '기수': 5038, '아까운데': 5039, '아만다': 5040, '보여줄': 5041, '살아갈': 5042, '건조한': 5043, '좋을거': 5044, '나루토': 5045, '준것': 5046, '약점': 5047, '인공': 5048, '자연스러운': 5049, '있으니까': 5050, '명대사': 5051, '저절로': 5052, '매니': 5053, '쳐다볼': 5054, '미쉘': 5055, '느껴졌던': 5056, '높네요': 5057, '업다': 5058, '찍는지': 5059, '다다': 5060, '뻔하다': 5061, '비장': 5062, '오줌': 5063, '론데': 5064, '아르': 5065, '갖다': 5066, '방금': 5067, '전문가': 5068, '아담': 5069, '고조': 5070, '끼들': 5071, '할게': 5072, '줄리엣': 5073, '넘쳐': 5074, '젊음': 5075, '안녕': 5076, '전용': 5077, '죽인다': 5078, '언급': 5079, '출연자': 5080, '찾았다': 5081, '김청기': 5082, '디자인': 5083, '살아가면서': 5084, '하겠네': 5085, '강혜정': 5086, '아깝다고': 5087, '봐야겠다': 5088, '동성애': 5089, '덜도': 5090, '비유': 5091, '대학생': 5092, '황당함': 5093, '뗄수가': 5094, '먹어준다': 5095, '보여줌': 5096, '기초': 5097, '남기고': 5098, 'ㅋㅋㅋㅋㅋㅋㅋㅋㅋㅋㅋㅋㅋㅋ': 5099, '차게': 5100, '마법': 5101, '되질': 5102, '바라는': 5103, '리그': 5104, '좋았을': 5105, '솜씨': 5106, '제제': 5107, '마찬가지': 5108, '정준': 5109, '걸리게': 5110, '할려고': 5111, '클레이': 5112, '사라진': 5113, '받았어요': 5114, '봐야되': 5115, '주걸륜': 5116, '들긴': 5117, '같이요': 5118, '폐해': 5119, '버릴': 5120, '난무': 5121, '잊게': 5122, '이글': 5123, '받아야': 5124, '머싯': 5125, '좋겟음': 5126, '박용우': 5127, '수없이': 5128, '꼬옥': 5129, '그렇': 5130, '괜찮네': 5131, '강아지': 5132, '장영': 5133, '레이미': 5134, '토비': 5135, '경향': 5136, '인데도': 5137, '문채원': 5138, '뻔해': 5139, '신나게': 5140, '유치함의': 5141, '아무렇지도': 5142, '덜하지도': 5143, '웃긴데': 5144, '응답': 5145, '않아서': 5146, '엠마': 5147, '과대': 5148, '괴짜': 5149, '물의': 5150, '무덤': 5151, '쳐다도': 5152, '일어날': 5153, '줄수있는': 5154, '해주길': 5155, '배워야': 5156, '안되다니': 5157, '약자': 5158, '인칭': 5159, '조센징': 5160, '많구나': 5161, '루피': 5162, '맘에안듬': 5163, '볼려': 5164, '역겨운': 5165, '부동산': 5166, '싫었는데': 5167, '탈세': 5168, '러브레터': 5169, '조금씩': 5170, '어정쩡한': 5171, '단편': 5172, '복잡한': 5173, '질문': 5174, '다가가서': 5175, '후속': 5176, '해주지': 5177, '읽고': 5178, '차지': 5179, '환타': 5180, 'ㅂㅅ': 5181, '바꿨으면': 5182, '죽도': 5183, '성함': 5184, '송승헌': 5185, '요런': 5186, '지루하구': 5187, '신사': 5188, '도가니탕': 5189, '웃긴건': 5190, '하던데': 5191, '봤다고': 5192, '쫄깃쫄깃': 5193, '만들수가': 5194, '연봉': 5195, '시바': 5196, '쓰세요': 5197, '독립영화관': 5198, '저녁': 5199, '예쁘던데': 5200, '떨어뜨린다': 5201, '유동근': 5202, '푸른': 5203, '했어야': 5204, '불러일으키는': 5205, '흠잡을게': 5206, '이겠지만': 5207, '일지': 5208, '벗어': 5209, '순도': 5210, '갔던': 5211, '않았으며': 5212, '당할수': 5213, '나았을': 5214, '영원하라': 5215, '리리': 5216, '무당': 5217, '닿고': 5218, '기대는': 5219, '힐러리': 5220, '고든': 5221, '부족한듯': 5222, '지니어스': 5223, '기념': 5224, '지니': 5225, '먼가': 5226, '쓰다': 5227, '망침': 5228, 'ㅠㅠㅠㅠㅠ': 5229, '지존파': 5230, '이완': 5231, '맥그리거': 5232, '남자배우': 5233, '와이프': 5234, '스님': 5235, '빌려와': 5236, '왔는지': 5237, '엘리베이터': 5238, '부셔': 5239, '부탁드립니다': 5240, '없진': 5241, '않으나': 5242, '없었을': 5243, '무성영화': 5244, '테레비': 5245, '스탭': 5246, '유치하게': 5247, '그딴': 5248, '해본': 5249, '박시후': 5250, '꼭두각시': 5251, '들리지': 5252, '보도': 5253, '에가': 5254, '만들엇다': 5255, '빛나는': 5256, '맞아요': 5257, '됬다가': 5258, '있었는데': 5259, '있을지도': 5260, '미미': 5261, '공존': 5262, '증거': 5263, '믿는다': 5264, '구려': 5265, '으악': 5266, '찾아가는': 5267, '싶었는가': 5268, '억압': 5269, '소시민': 5270, '과감': 5271, '우산': 5272, '스마트': 5273, '그랬는데': 5274, '커피': 5275, '괜찮았습니다': 5276, '춘한데': 5277, '환장할': 5278, '적극': 5279, '보심': 5280, '질색': 5281, '미치지만': 5282, '하고있네': 5283, '와사비': 5284, '패틴슨': 5285, '온통': 5286, '희롱': 5287, '무척': 5288, '받아도': 5289, '생각날': 5290, '높이기': 5291, '재미있어': 5292, '재밌을것': 5293, '치밀하고': 5294, '줘서': 5295, '아니라서': 5296, '보세여': 5297, '아웃': 5298, '본거라': 5299, '재앙': 5300, '몰아': 5301, '안대': 5302, '댈듯': 5303, '지아': 5304, '억지스럽다': 5305, '미이라': 5306, '맨인블랙': 5307, '킬링': 5308, '존중': 5309, '검사': 5310, '찢어': 5311, '좋다는': 5312, '더니': 5313, '개선': 5314, '전이': 5315, '짧게': 5316, '베토벤': 5317, '통한': 5318, '이성': 5319, '봤다만': 5320, '없는지': 5321, '나던': 5322, '다음주': 5323, '데려다가': 5324, '어마': 5325, '쓴듯': 5326, '그랬어요': 5327, '충족': 5328, '쪽바리': 5329, '하지원': 5330, '스탠': 5331, '쇼핑': 5332, '삼박자': 5333, '랜디': 5334, '나왔': 5335, '망신': 5336, '적당한': 5337, '멘스': 5338, '볼륨': 5339, '하는거냐': 5340, '위안부': 5341, '국민학교': 5342, '슬퍼요': 5343, '멋있어서': 5344, '렌트': 5345, '집기': 5346, '같을': 5347, '오락가락': 5348, '시퀀스': 5349, '부자연스럽다': 5350, '우기': 5351, '덜덜': 5352, '끝나서': 5353, '사나': 5354, '설레': 5355, '다녀온': 5356, '남겨진': 5357, '어쩐지': 5358, '참을': 5359, '선생': 5360, '졸려서': 5361, '뀰잼': 5362, '힘들것': 5363, '올리고': 5364, '데이트': 5365, '역겨웠음': 5366, '하겠지만': 5367, '죄송하지만': 5368, '감우성': 5369, '수용': 5370, '최강희': 5371, '블랙리스트': 5372, '에이스': 5373, '프레드': 5374, '리더': 5375, '상실': 5376, '됐고': 5377, '되냐': 5378, '전선': 5379, '주는것도': 5380, '호기': 5381, '하려는지도': 5382, '아닌것이': 5383, '듣다가': 5384, '상이': 5385, '봣으': 5386, '했던게': 5387, '최루성': 5388, '쩔어요': 5389, '짜깁': 5390, '강우석': 5391, '찍은듯': 5392, '노땅': 5393, '중후': 5394, '단역': 5395, '매드': 5396, '했던거': 5397, '피의자': 5398, '권력': 5399, '보고있는': 5400, '빠져든': 5401, '답답함': 5402, '눈앞': 5403, '이해관계': 5404, '찾아봤는데': 5405, '후진': 5406, '안정': 5407, '트리': 5408, '세명': 5409, '가정': 5410, '탄에': 5411, '가서는': 5412, '죽었는데': 5413, '행복했습니다': 5414, '의료': 5415, '있더만': 5416, '박자': 5417, '완벽했고': 5418, '솔직한': 5419, '입력': 5420, '성립': 5421, '가부장': 5422, '않았어요': 5423, '은커녕': 5424, '이중성': 5425, '효과음': 5426, '상도': 5427, '닥터진': 5428, '나음': 5429, '해보시길': 5430, '받았을까': 5431, '나오던': 5432, '리좀': 5433, '흔해': 5434, '없슴': 5435, '야하지도': 5436, '겠다': 5437, '였던듯': 5438, '써야': 5439, '왕건': 5440, '기괴하고': 5441, '무섭네': 5442, '유지': 5443, '확실한': 5444, '데이먼': 5445, '자꾸만': 5446, '첩보': 5447, '경쾌한': 5448, '이구나': 5449, '닿는게': 5450, '주는게': 5451, '난후': 5452, '고픈': 5453, '부영': 5454, '높네': 5455, 'ㄹㅇ': 5456, '망각': 5457, '신랄한': 5458, '주온': 5459, '말고도': 5460, '겪어': 5461, '대단했던': 5462, '해놓으면': 5463, '식인': 5464, '근대': 5465, '낮은듯': 5466, '그지같다': 5467, '씬시티': 5468, '모르던': 5469, '커버': 5470, '보기전에': 5471, '이듭': 5472, '김서형': 5473, '짙은': 5474, '하셔서': 5475, '운다': 5476, '아까워서': 5477, '폐륜': 5478, '겉도': 5479, '수사물': 5480, '밀려온다': 5481, '르완다': 5482, '난민': 5483, '건데': 5484, '찍었으면': 5485, '안다': 5486, '기대한다': 5487, '떄문': 5488, '봤었지': 5489, '잼있어': 5490, '저기': 5491, '남경': 5492, '로또': 5493, '튀고': 5494, '키스신': 5495, '쩌러': 5496, '생생하다': 5497, '그러': 5498, '윤후': 5499, '고요': 5500, '마블': 5501, '이러지': 5502, '부족한것': 5503, '볼게요': 5504, '생동감': 5505, '미묘한': 5506, '데이즈': 5507, '눈물난다': 5508, '함부로': 5509, '각성': 5510, '권위': 5511, '복제': 5512, '자는': 5513, '죽어서': 5514, '마리나': 5515, '도끼': 5516, '일리': 5517, '알긴': 5518, '소매치기': 5519, '서커스': 5520, '웃게': 5521, '테스트': 5522, '사자': 5523, '하편': 5524, '아련한': 5525, '불편함은': 5526, '끝내고': 5527, '소수': 5528, '자유로운': 5529, '구멍': 5530, '메타': 5531, '쇼타': 5532, '도쿄': 5533, '잇나요': 5534, '줄리아': 5535, '로버츠': 5536, '나타나서': 5537, '끝나길': 5538, '만들어주세요': 5539, '스트레이트': 5540, '믹스': 5541, '나오면서': 5542, '없을까요': 5543, '지현우': 5544, '높아진': 5545, '등급': 5546, '했나요': 5547, '엠비씨': 5548, '아쉬워': 5549, '나무': 5550, '뿌리': 5551, '오점': 5552, '충분했다': 5553, '수호': 5554, '일본인': 5555, '정지훈': 5556, '지껄이는': 5557, '주지훈': 5558, '에잉': 5559, '안나옵니다': 5560, '하시길': 5561, '멋대로': 5562, '눈꼽': 5563, '죄책감': 5564, '식탁': 5565, '굿잡': 5566, '번만': 5567, '추격': 5568, '남고': 5569, '시시한': 5570, '만드': 5571, '완젼': 5572, '없군요': 5573, '뻔했습니다': 5574, '히죽': 5575, '대장': 5576, '어렵게': 5577, '같았는데': 5578, '장수': 5579, '짠하네요': 5580, '나타낸': 5581, '되었던': 5582, '본다고': 5583, '힘내요': 5584, '여러분': 5585, '어쩜이리': 5586, '스탁': 5587, '스모': 5588, '배럴': 5589, '야만': 5590, '소개': 5591, '설레게하는': 5592, '돌싱': 5593, '버금': 5594, '재미없었어': 5595, '잔인함': 5596, '걸음': 5597, '생인': 5598, '말라': 5599, '스튜어트': 5600, '꾸미지': 5601, '시내': 5602, '아따': 5603, '리도': 5604, '류승범': 5605, '그토록': 5606, '여지': 5607, '숨쉬고': 5608, '쳐도': 5609, '어색하고': 5610, '히로인': 5611, '기발하고': 5612, '순환선': 5613, '인굿': 5614, '컴퍼니': 5615, '갔어요': 5616, '좋구만': 5617, '볼줄': 5618, '캐치미': 5619, '이프': 5620, '싶었던': 5621, '본답': 5622, '슬슬': 5623, '예고': 5624, '조디': 5625, '싸우다': 5626, '한두': 5627, '폴라': 5628, '이긴하지만': 5629, '제적': 5630, '없으니까': 5631, '흘렸습니다': 5632, '구원': 5633, '미스터': 5634, '멋있어요': 5635, '어가': 5636, '교사': 5637, '가드': 5638, '박신혜': 5639, '유이': 5640, '오래오래': 5641, '해줘요': 5642, '한몫': 5643, '위기': 5644, '끝나네': 5645, '쪽팔려': 5646, '긴말': 5647, '요괴': 5648, '태어나서': 5649, '만들었던': 5650, '하게되': 5651, '크로': 5652, '죽이기': 5653, '좋으네요': 5654, '필요하겠는가': 5655, '로지': 5656, '지모': 5657, '기리': 5658, '졸려도': 5659, '마크': 5660, '제니': 5661, '라이트': 5662, '강해서': 5663, '걸려': 5664, '소방관': 5665, '쟁이': 5666, '접영': 5667, '할로윈': 5668, '염병': 5669, '만인': 5670, '잼있었는데': 5671, '껐다': 5672, '쫓겨나고': 5673, '아트': 5674, '많았고': 5675, '세대': 5676, '틀어주는': 5677, '수업': 5678, '눈물났다': 5679, '겨울왕국': 5680, '눈물나': 5681, '이기광': 5682, '이소룡': 5683, '개노답': 5684, '최대한': 5685, '불호': 5686, '말건': 5687, '고래': 5688, '브라더스': 5689, '신선함': 5690, '성과': 5691, '비트': 5692, '적어': 5693, '그만해라': 5694, '하느라': 5695, '불쌍할': 5696, '설레임': 5697, '정성': 5698, '느껴졌습니다': 5699, '완죤': 5700, '녹아있는': 5701, '처절하게': 5702, '만나': 5703, '그러는데': 5704, '지켜라': 5705, '천공': 5706, '화나서': 5707, '에이브': 5708, '될만': 5709, '통틀어': 5710, '아일랜드': 5711, '산업': 5712, '면모': 5713, '만들어놓은': 5714, '의해': 5715, '다르다': 5716, '유치했다': 5717, '눈물나게': 5718, '환불': 5719, '짜증나네': 5720, '슬펐어요': 5721, 'ㅜㅡ': 5722, '샤론': 5723, '알겠네요': 5724, '크루즈': 5725, '충분': 5726, '잘났다고': 5727, '하더니': 5728, '저그': 5729, '주가': 5730, '되었지만': 5731, '그래요': 5732, '가문': 5733, '발생': 5734, '랜드': 5735, '때메': 5736, '하노': 5737, '스킬': 5738, '별루임': 5739, '보았던': 5740, '재밌기': 5741, '걸이': 5742, '섞인': 5743, '가치관': 5744, '인격': 5745, '내게': 5746, '말듯': 5747, '달고나': 5748, '봤기': 5749, '시키려': 5750, '나열': 5751, '귀여니': 5752, '영화상': 5753, '주석': 5754, '되긴': 5755, '성하다': 5756, '운지': 5757, '홍어': 5758, '부릉부릉': 5759, '땅크': 5760, '나가신다': 5761, '신파': 5762, '성향': 5763, '배드': 5764, '귀족': 5765, '편안하고': 5766, '부담': 5767, '짓게': 5768, '인걸': 5769, '몹시': 5770, '담은': 5771, '해주는데': 5772, '많으면서': 5773, '짜다': 5774, '구심': 5775, '이진': 5776, '미달': 5777, '이즈': 5778, '따라감': 5779, '미국인': 5780, '진국': 5781, '주길': 5782, '기원': 5783, '인터뷰': 5784, '김혜선': 5785, '주니어': 5786, '미치는줄': 5787, '모녀': 5788, '강력': 5789, '부도': 5790, '논란': 5791, '넘어가는데': 5792, '그러다': 5793, '결승전': 5794, '장동민': 5795, '결과물': 5796, '맺어': 5797, '보여줘서': 5798, '알겠음': 5799, '담아내려': 5800, '발란스': 5801, '의아': 5802, '전투기': 5803, '사가': 5804, '빠져든다': 5805, '돋았다': 5806, '용인': 5807, '이랑은': 5808, '알았': 5809, '나오길래': 5810, '스마일리': 5811, '하겠지': 5812, '여부': 5813, '왔던': 5814, '매칭': 5815, '본건': 5816, '탁재훈': 5817, '지겨워': 5818, '배우진': 5819, '디센트': 5820, '인간극장': 5821, '날듯': 5822, '들것': 5823, '무서웠지': 5824, '브라이언': 5825, '있는건': 5826, '겠네': 5827, '기독교': 5828, '재료': 5829, '키노': 5830, '고마워': 5831, '입원': 5832, '이민정': 5833, '미로': 5834, '만듭시': 5835, '시온': 5836, '타이타닉': 5837, '띠띠': 5838, '거슬리네요': 5839, '시원하고': 5840, '답답하네요': 5841, '조용하면서': 5842, '자괴': 5843, '절때': 5844, '한숨': 5845, '비쥬': 5846, '당당히': 5847, '첨부': 5848, '조기': 5849, '재미있던데': 5850, '어이없': 5851, '캐롤': 5852, '들어가서': 5853, '지어': 5854, '뗄수': 5855, '더해져서': 5856, '소오강호': 5857, '사업': 5858, '단막극': 5859, '절실': 5860, '분명하다': 5861, '자격': 5862, '어떨까': 5863, '장진영': 5864, '망친듯': 5865, '이었다니': 5866, '믿을수': 5867, '역류': 5868, '알아야': 5869, '기황후': 5870, '높음': 5871, '글귀': 5872, '낚이': 5873, '흉내내': 5874, '롯데': 5875, '깊네요': 5876, '외국인': 5877, '노동자': 5878, '재미없다는거': 5879, '관리': 5880, '한결': 5881, '났다가': 5882, '딥블루씨': 5883, '적나라한': 5884, '만들자': 5885, '에서부터': 5886, '아이고': 5887, '타겟': 5888, '전도연': 5889, '시켜주는': 5890, '잼있다': 5891, '생각나고': 5892, '모호하고': 5893, '테이큰': 5894, '순정': 5895, '팜므파탈': 5896, '최민수': 5897, '죽어나는구나': 5898, '윤계상': 5899, '쓰는데': 5900, '껐습니다': 5901, '기대했건만': 5902, '알포인트': 5903, '심각하게': 5904, '편안해지는': 5905, '왕정': 5906, '몰고': 5907, '무서울': 5908, '정화': 5909, '대원': 5910, '작성': 5911, '흘릴': 5912, '묻혀': 5913, '창의': 5914, '김민희': 5915, '캐치온': 5916, '상콤': 5917, '상술': 5918, '도발': 5919, '뻔햇': 5920, '초상': 5921, '토니': 5922, '떡밥': 5923, '찰지게': 5924, '좌빨': 5925, '느꼈습니다': 5926, '숨은': 5927, '찌르고': 5928, '아니잖아': 5929, '먹어라': 5930, '잔다': 5931, '기대했던것보다': 5932, '마르': 5933, '짱개': 5934, '혐오': 5935, '수치': 5936, '슬펐던': 5937, '들어간': 5938, '통쾌한': 5939, '끝판': 5940, '초등': 5941, '룸메이트': 5942, '미숙': 5943, '좋아하던': 5944, '접함': 5945, '최시원': 5946, '칼라': 5947, '안겨': 5948, '공상': 5949, '과학': 5950, '그리워': 5951, '이었다면': 5952, '프레': 5953, '토토': 5954, '버리네요': 5955, '이랬는데': 5956, '떠오름': 5957, '고백': 5958, '시장': 5959, '건강': 5960, '찍지': 5961, '주류': 5962, '무려': 5963, '떨어지게': 5964, '루시': 5965, '자도': 5966, '사족': 5967, '카타르': 5968, '시스': 5969, '나오미': 5970, '왓츠': 5971, '에러': 5972, '벗기고': 5973, '러셀': 5974, '크로우': 5975, '진부해서': 5976, '그로': 5977, '임지연': 5978, '대단했음': 5979, '답답': 5980, '늙어': 5981, 'ㅈㄹ': 5982, '되는거': 5983, '삼만리': 5984, '받음': 5985, '껴서': 5986, '후자': 5987, '멋집니다': 5988, '무너진': 5989, '넘은': 5990, '입고': 5991, '뮤비': 5992, '어설퍼': 5993, '찰나': 5994, '듭니': 5995, '클래식': 5996, '같으면서도': 5997, '빠져드는': 5998, '차가': 5999, '기타': 6000, '아날로그': 6001, '쫌더': 6002, '따라가는': 6003, '행복해지는': 6004, '반점': 6005, '주고싶은': 6006, '주입': 6007, '실태': 6008, '몬스터왕국': 6009, '여군': 6010, '무심코': 6011, '흥미롭다': 6012, '지루했던': 6013, '가사': 6014, '부어': 6015, '익숙한': 6016, '봤다는': 6017, '중딩': 6018, '각인': 6019, '그런거야': 6020, '탄의': 6021, '박중훈': 6022, '하는것도': 6023, '상담': 6024, '좋았구요': 6025, '조보아': 6026, '송재림': 6027, '홧팅': 6028, '프렌즈': 6029, '충청도': 6030, '난해하다': 6031, '교회': 6032, '콘스탄틴': 6033, '우린': 6034, '조지': 6035, '클루니': 6036, '되니': 6037, '리브스': 6038, '비약': 6039, '제압': 6040, '지침': 6041, '만드는게': 6042, '인간관계': 6043, '테크노': 6044, '일류': 6045, '동성애자': 6046, '무도': 6047, '다르': 6048, '조선': 6049, '이나라': 6050, '아메리칸': 6051, '원주민': 6052, '같았어요': 6053, '독일': 6054, '이라기': 6055, '이어지는': 6056, '의성': 6057, '매니저': 6058, '잔잔하면서': 6059, '부대': 6060, '자랑': 6061, '즐길': 6062, '남겨': 6063, '회상': 6064, '좋아졌다': 6065, '불문': 6066, '장악': 6067, '사생활': 6068, '이집트': 6069, '용감한': 6070, '볼껄': 6071, '공식': 6072, '울었던': 6073, '잼있었다': 6074, '아껴서': 6075, '한쪽': 6076, '이루어진': 6077, '던져주는': 6078, '얼른': 6079, '이대로': 6080, '생겨서': 6081, '잔잔하지만': 6082, '사정': 6083, '좋아지는': 6084, '고로': 6085, '경찰서': 6086, '통일': 6087, '나네': 6088, '실망한': 6089, '동포': 6090, '차별': 6091, '빼앗아': 6092, '않은데': 6093, '이편': 6094, '군사': 6095, '하우스': 6096, '읽는': 6097, '박하게': 6098, '떠올리게': 6099, '눈살': 6100, '도라에몽': 6101, '볼떄': 6102, '성공할': 6103, '나올까': 6104, '감격': 6105, '재미없는데': 6106, '에이미': 6107, '스러웠다': 6108, '거가': 6109, '화만': 6110, '유역비': 6111, '어중간한': 6112, '시간여행': 6113, '즐감': 6114, '있었음': 6115, '까도': 6116, '사는데': 6117, '고난': 6118, '가명': 6119, '예의': 6120, '위력': 6121, '봐야하나요': 6122, '끌어서': 6123, '걸릴듯': 6124, '장하나': 6125, '도현': 6126, '윤찬': 6127, '통쾌하고': 6128, '린즈링': 6129, '이상형': 6130, '걸릴거': 6131, '우울해': 6132, '웃었네요': 6133, '남매': 6134, '때로는': 6135, '잔잔함': 6136, '대중': 6137, '있겠지': 6138, '제법': 6139, '맞추기': 6140, '손자': 6141, '공룡': 6142, '장진': 6143, '너무했다': 6144, '흥미롭게': 6145, '궁금': 6146, '내심': 6147, '빠르게': 6148, '바랄': 6149, '얻을': 6150, '물들': 6151, '비참한': 6152, '거지같은': 6153, '말빨': 6154, '송하윤': 6155, '세얼간이': 6156, '비열한': 6157, '짤방': 6158, '인했다': 6159, '왜캐': 6160, '김하늘': 6161, '저스틴': 6162, '낚임': 6163, '예나': 6164, '재밌는거': 6165, '만들거': 6166, '나오나요': 6167, '아닌것': 6168, '대갈': 6169, '장용': 6170, '싶어서': 6171, '사냐': 6172, '헤어스타일': 6173, '티브이': 6174, '내다': 6175, '계절': 6176, '살아오면서': 6177, '재희': 6178, '오글거려': 6179, '난잡하다': 6180, '전결': 6181, '스태프': 6182, '있었으면': 6183, '찰리채플린': 6184, '아름다웠다': 6185, '구가': 6186, '됐으면': 6187, '김유미': 6188, '로섬': 6189, '역겹고': 6190, '숨어': 6191, '묘미': 6192, '프레데터': 6193, '패자부활전': 6194, '옳소': 6195, '방만': 6196, '찾았네요': 6197, '농락': 6198, '니나': 6199, 'ㅇㅅㅇ': 6200, '시청율': 6201, '로운': 6202, '밋었': 6203, '놀라서': 6204, '존론': 6205, '웃는다': 6206, '퍼포먼스': 6207, '기대도': 6208, '야할지': 6209, '싫어하는데': 6210, '독특하고': 6211, '저러': 6212, '퍼센트': 6213, '썩은': 6214, '예진': 6215, '좋아했는데': 6216, '물폭탄': 6217, '에로의': 6218, '드림': 6219, '입은': 6220, '했냐': 6221, '진행중': 6222, '좋아하네요': 6223, '없다는게': 6224, '부탁': 6225, '안내': 6226, '전기': 6227, '방도': 6228, '수백향': 6229, '알리시아': 6230, '스노우': 6231, '보더라구요': 6232, '막상': 6233, '주군': 6234, '드라이버': 6235, '괜찮았고': 6236, '한효주': 6237, '휴가': 6238, '필요하지만': 6239, '봤는지': 6240, '개답답': 6241, '느끼는게': 6242, '육체': 6243, '여균동': 6244, 'ㅎㅡㅎ': 6245, '뛰어넘는': 6246, '이재용': 6247, '아프리카': 6248, '어마어마한': 6249, '사정봉': 6250, '어어': 6251, '떨고': 6252, '갈수': 6253, '현지': 6254, '이범수': 6255, '기여': 6256, '겔겔': 6257, '윌리스': 6258, '이자벨': 6259, '예지원': 6260, '오지': 6261, '해놓은': 6262, '미안하지만': 6263, '미성년': 6264, '경준': 6265, '보고싶': 6266, '무리수': 6267, '실상': 6268, '역사왜곡': 6269, '멍하게': 6270, '트와일라잇': 6271, '하이킥': 6272, '뱃김': 6273, '늑대': 6274, '썼는데': 6275, '피아노': 6276, '드림웍스': 6277, '따라한': 6278, '리트': 6279, '망했어': 6280, '역활': 6281, '지루하진': 6282, '웬디': 6283, '오만': 6284, '기획': 6285, '필요없어': 6286, '사기꾼': 6287, '일관': 6288, '봣네': 6289, '펜싱': 6290, '돋보였다': 6291, '크크': 6292, '항체': 6293, '이러니': 6294, '공효진': 6295, '껀들': 6296, '스파이키즈': 6297, '쿠궁': 6298, '거슬림': 6299, '되있고': 6300, '웃기긴': 6301, '복녀': 6302, '모텔': 6303, '장이': 6304, '싸한': 6305, '부랴': 6306, '이쁘네요': 6307, '관통': 6308, '빅피쉬': 6309, '청리': 6310, '부족했던': 6311, '발리': 6312, '끝내려는': 6313, '듯이': 6314, '나은것': 6315, '빠질대로': 6316, '맥주': 6317, '마시는것': 6318, '알렉산더': 6319, '비단': 6320, '진부하며': 6321, '불편함을': 6322, '산화': 6323, '미있': 6324, '은별': 6325, '펠릭스': 6326, '라이터': 6327, '응사': 6328, '한혜진': 6329, '애절하고': 6330, '사랑과전쟁': 6331, '꼬맹이': 6332, '너무하네': 6333, '불쾌하며': 6334, '성인영화': 6335, '드려하는': 6336, '똑같아져요': 6337, '하는거에요': 6338, '똑같고': 6339, '재미없는거야': 6340, '하는거야': 6341, '피드백': 6342, '포근하고': 6343, '있다는데에': 6344, '연애소설': 6345, '로큰롤': 6346, '파렐': 6347, '제레미': 6348, '레너': 6349, '마리오': 6350, '탄탄하구만': 6351, '흔히': 6352, '뛰어나다는걸': 6353, '배우인듯': 6354, '살려주시지': 6355, '뚝방': 6356, '유치하네요': 6357, '있었지': 6358, '흐뭇해진다': 6359, '찍는데': 6360, '누르지도': 6361, '접하네': 6362, '개떡': 6363, '안아서': 6364, '먹이사슬': 6365, '기두': 6366, '윤설희': 6367, '하시구': 6368, '부탁드릴게요': 6369, '되었을걸': 6370, '윤발': 6371, '트라이앵글': 6372, '이솝우화': 6373, '승화': 6374, '반짝반짝': 6375, '종로': 6376, '백곰': 6377, '무장': 6378, '재시': 6379, '키다': 6380, '순박한': 6381, '엿볼수': 6382, '찍지말고': 6383, '찍어가서': 6384, '만들어질수록': 6385, '민족': 6386, '난해하네요': 6387, '이육사만': 6388, '이육사': 6389, '같았음': 6390, '되있구만': 6391, '남의껄': 6392, '못만듬': 6393, '이래도': 6394, '중이병': 6395, '바벨': 6396, '강정': 6397, '그램': 6398, '알아봤음': 6399, '미소년': 6400, '참말': 6401, '제시': 6402, '아이젠': 6403, '크로이처': 6404, '소나타': 6405, '소름끼치도록': 6406, '아니였지만': 6407, '좋았네요': 6408, '아쉬웠던것': 6409, '쉬어가는': 6410, '끝내는지': 6411, '짧은가': 6412, '박빙': 6413, '일것': 6414, '낭비하는': 6415, '매경': 6416, '피어스': 6417, '브로스': 6418, '고급스럽고': 6419, '쌍둥이': 6420, '줄라': 6421, '애쓴거': 6422, '안타깝더라': 6423, '심판': 6424, '결선': 6425, '고시': 6426, '들어가면': 6427, '받는다': 6428, '대코미디영화': 6429, '엑스맨': 6430, '남겠네': 6431, '생긴거': 6432, '웃었음': 6433, '오태식': 6434, '안되구나': 6435, '주도': 6436, '했을지도': 6437, '보는걸': 6438, '아니예요': 6439, '아낀거예요': 6440, '힘쓴': 6441, '이자스민': 6442, '두는': 6443, '새누리당': 6444, '클라스': 6445, '랭킹': 6446, '일텐데': 6447, '바지': 6448, '낮냐': 6449, '잘못짚음': 6450, '사들이': 6451, '해보려고': 6452, '먹은거지': 6453, '우레': 6454, '실망했나': 6455, '무뇌충일': 6456, '수녀': 6457, '명민하고': 6458, '있는것': 6459, '봣건': 6460, 'ㅇㅇㅇ': 6461, '태현': 6462, '중국산': 6463, '유쾌함은': 6464, '유치함과': 6465, '오그': 6466, '밀려올': 6467, '했었어': 6468, '빠지는게': 6469, '대략': 6470, '생인데': 6471, '나오져': 6472, '심각한데': 6473, '성남': 6474, '슈발': 6475, '내리면서': 6476, '해주는것': 6477, '밝힐': 6478, '맛깔': 6479, '파쿠르': 6480, '가타카': 6481, '찍은거': 6482, '깊은것': 6483, '많았네요': 6484, '따지시오': 6485, '거슬리고': 6486, '오열연기': 6487, '꼬이고': 6488, '뮤지': 6489, '닮고': 6490, '큰건': 6491, '지나가도': 6492, '쥐뿔': 6493, 'ㅉㅏ': 6494, '푸해': 6495, '되시요': 6496, '강하게': 6497, '망해라': 6498, '발작': 6499, '당근': 6500, '좆선': 6501, '까는': 6502, '여기는': 6503, '일베충': 6504, '당하지': 6505, '옮겨다': 6506, '순풍': 6507, '참낰': 6508, '보세욬': 6509, '윤회사상': 6510, '단순화': 6511, '시키니까': 6512, '재미없는거지': 6513, '훌륭하게': 6514, '낼수가': 6515, '잇엇으': 6516, '잘봣습니': 6517, '쉽지는': 6518, '않았겠지만': 6519, '너무해': 6520, '바론': 6521, '군부독재': 6522, '통치': 6523, '유전': 6524, '무죄': 6525, '무전': 6526, '유죄': 6527, '둘일때': 6528, '속임수': 6529, '인런글': 6530, '자서': 6531, '칠이': 6532, '났고': 6533, '보상': 6534, '결실': 6535, '거둔': 6536, '달성': 6537, '될줄이야': 6538, '재밌있어요': 6539, '사는군': 6540, '대사도': 6541, '오글거리는거': 6542, '대학입시': 6543, '추악하게': 6544, '확실함': 6545, '착오': 6546, '흠결': 6547, '애쓰지마라': 6548, '지진나서': 6549, '넘어지는데': 6550, '유유': 6551, '걸어다니고': 6552, '재미있다는거지': 6553, '올라가고': 6554, '나올줄': 6555, '만달러': 6556, '도영화냐': 6557, '그랬지만': 6558, '걸끝': 6559, '전해졌습니다': 6560, '닮음': 6561, '얻었습니다': 6562, '뽑았다는': 6563, '차세대': 6564, '월남': 6565, '배운': 6566, '헤드윅': 6567, '재미있': 6568, '독재정': 6569, '하도록': 6570, '지시': 6571, '자알': 6572, '글구': 6573, '강풀': 6574, '지역감정': 6575, '공인': 6576, '남자이야기': 6577, '민수형': 6578, '소중하게': 6579, '보너스': 6580, '오글거림에': 6581, '유치하기까지': 6582, '하셨소': 6583, '돌아온건': 6584, '영도': 6585, '조선소': 6586, '지난해': 6587, '선박': 6588, '수주': 6589, '워터': 6590, '마스코트': 6591, '살며시': 6592, '스며드는': 6593, '나른함은': 6594, '해줌이지': 6595, '찡하게': 6596, '아쉬웠어요': 6597, '주겠지만': 6598, '있을것이란': 6599, '전영화라니': 6600, '작인거보고완전깜놀': 6601, '당했음': 6602, '싸우는게': 6603, '재밌었지': 6604, '질퍽': 6605, '버무러진': 6606, '헛봤다': 6607, '리플': 6608, '달았지': 6609, '낄수': 6610, 'ㅣㅆ': 6611, '느덕': 6612, '화함': 6613, '왜나왓는': 6614, '알아볼라고': 6615, '이라길래': 6616, '느끼': 6617, '이상인': 6618, '장난없다': 6619, '파여': 6620, '진솔한내용': 6621, '조았어여': 6622, '드물다': 6623, '나면': 6624, '찝찝해지는': 6625, '돈의화신': 6626, '앨빈': 6627, '이상해진듯': 6628, '총을드': 6629, '재밌을거': 6630, '호비': 6631, '들었구요': 6632, '대단해요': 6633, '오싹하는': 6634, '알았건만': 6635, '지루하면서': 6636, '요란하기만': 6637, '약하다': 6638, '급식': 6639, '구지성': 6640, '백내장': 6641, '와오라니': 6642, '족장': 6643, '허벅지': 6644, '쓰다듬으며': 6645, '애매모호한': 6646, '짜증나서못': 6647, '확실': 6648, '한선': 6649, '좀고만': 6650, '보수파': 6651, '한판': 6652, '중졸': 6653, '그러니깐': 6654, '지켜야': 6655, '큰소리치지': 6656, '지키지도': 6657, '끄고': 6658, '번더': 6659, '잔잔한게': 6660, '에드워드': 6661, '기대하는': 6662, '우울했던': 6663, '같기에': 6664, '이승연': 6665, '강렬함이': 6666, '없었다는게': 6667, '황당하다': 6668, '입학': 6669, '다려져요': 6670, '성악가': 6671, '아리아': 6672, '어색하지': 6673, '놀랍습니다': 6674, '따라가려': 6675, '햤던': 6676, '당연한': 6677, '스테이': 6678, '소스케': 6679, '후회됨': 6680, '선진국': 6681, '기다렸으면': 6682, '됐을것을': 6683, '알아보는거니': 6684, '뚱뚱한': 6685, '지랑': 6686, '닮았고': 6687, '노랑': 6688, '닮았는데': 6689, '부정': 6690, '엇음': 6691, '그렇다구': 6692, '야하지두': 6693, '옹졸함과': 6694, '치졸함이': 6695, '포켓몬': 6696, '받았지': 6697, '너무하시네요': 6698, '노는거': 6699, '라미란': 6700, '난해하긴': 6701, '낮죠': 6702, '멋지다는': 6703, '신비하고': 6704, '그럴줄': 6705, '맞는내용': 6706, '나열하며': 6707, '그쳤고': 6708, '방향성': 6709, '젊으니까': 6710, '관망': 6711, '웨딩싱어': 6712, '해주신': 6713, '드린다': 6714, '초록': 6715, '믿지마': 6716, '개살구': 6717, '유영': 6718, '말아먹어라': 6719, '말아먹어': 6720, '이지루하지않았다와': 6721, '미있었고': 6722, '해주는게': 6723, '잠안': 6724, '불면증': 6725, '사라짐': 6726, '만족하지': 6727, '불행하면': 6728, '숙명': 6729, '자르는': 6730, '퍼시잭슨': 6731, '돋네이거진': 6732, '짜재': 6733, '밋음': 6734, '영화로서도': 6735, '브라': 6736, '괜찮으나': 6737, '승연이': 6738, '사냥꾼': 6739, '요정': 6740, '나타날줄': 6741, '올라가라': 6742, '재밌구먼': 6743, '태클': 6744, '것멋': 6745, '개폼': 6746, '똥폼': 6747, '선인장': 6748, '찔려라': 6749, '바꾸기만': 6750, '섹히들': 6751, '느슨한': 6752, '장판': 6753, '칭찬': 6754, '성실하고': 6755, '받았는데': 6756, '그리워하는': 6757, '출산': 6758, '견디기': 6759, '간단한': 6760, '쭉빵녀': 6761, '영화인데': 6762, '볼수있음': 6763, '독특함': 6764, '삐용': 6765, '뻔한데': 6766, '망가졌지만': 6767, '죄송합니다': 6768, '착해요': 6769, '삼장': 6770, '앙탈': 6771, '받아주지': 6772, '젤로': 6773, '끄려다': 6774, '만들었고만': 6775, '잔악함에': 6776, '용기있고': 6777, '유키스': 6778, '안좋다': 6779, '아나운서': 6780, '볼보': 6781, '평범하게': 6782, '다루다니': 6783, '살아있으나': 6784, '어려움': 6785, '방안': 6786, '집주인': 6787, '아주머니': 6788, '강점': 6789, '징용': 6790, '한인': 6791, '명에': 6792, '상당수': 6793, '패전': 6794, '마감': 6795, '조상': 6796, '여요': 6797, '들어간다': 6798, '호러물': 6799, '집대성': 6800, '더군요': 6801, '들더군요': 6802, '힛걸': 6803, '모레츠': 6804, '맞춤': 6805, '한채영': 6806, '가지고도': 6807, '장근석': 6808, '싫어하니': 6809, '아영': 6810, '묻지도': 6811, '써놨어': 6812, '이버': 6813, '박쥐': 6814, '기이하다': 6815, '강렬함과': 6816, '섬세함의': 6817, '같군': 6818, '숨졸': 6819, '지켜본': 6820, '욕함': 6821, '초동': 6822, '아니었음': 6823, '건물': 6824, '레디': 6825, '던져라': 6826, '부셔라': 6827, '박재정': 6828, '크리처': 6829, '박진영': 6830, '재밌네여': 6831, '파일': 6832, '더구나': 6833, '갔노': 6834, '미치것내': 6835, '윤아': 6836, '작자': 6837, '참여': 6838, '안되잖아요': 6839, '설레었네': 6840, '설렜던': 6841, '벚꽃': 6842, '피던': 6843, '밀어내도': 6844, '썸머': 6845, '아니에요': 6846, '나쁜건': 6847, '뿐이죠': 6848, '투사': 6849, '같았을것이다': 6850, '똥파리': 6851, '분명함': 6852, '슬픕니다': 6853, '붙일': 6854, '셜록홈즈': 6855, '남기지만': 6856, '에손': 6857, '얹고': 6858, '는바': 6859, 'ㅅㅂㅡㅡ': 6860, '바라고': 6861, '같은면을': 6862, '봤음에도': 6863, '할숭': 6864, '잊어버릴': 6865, '선수': 6866, '전략': 6867, '통속': 6868, '정석': 6869, '신선했다': 6870, '느꼈음': 6871, '나왔다는게': 6872, '크만을': 6873, '삼가': 6874, '고인': 6875, '가서도': 6876, '편하도록': 6877, '멋지구': 6878, '많긴하': 6879, '차안': 6880, '전화통화': 6881, '있으라고': 6882, '폰부스': 6883, '갔나': 6884, '혜령': 6885, '불편해': 6886, '죽겠네': 6887, '어색함': 6888, '좀바': 6889, '꿔주세여': 6890, '만든샤기': 6891, '찾아가서': 6892, '죽이고싶다': 6893, '졌으면': 6894, '아릴': 6895, '웃긴게': 6896, '바스코': 6897, '깐다': 6898, '까고싶어서': 6899, '안달': 6900, '원씨': 6901, '카펜터': 6902, '느려': 6903, '통쾌함과': 6904, '느끼고자': 6905, '콰이어트': 6906, '잡히는': 6907, '저질렀는데': 6908, '그로테스크': 6909, '신영화': 6910, '불러주마': 6911, '만족하다': 6912, '늙어감': 6913, '끄덕이게': 6914, '흥미롭네요': 6915, '톨스토이': 6916, '사상가': 6917, '소로': 6918, '농부': 6919, '알수있습니다': 6920, '하루하루': 6921, '헤매이는': 6922, '북극곰': 6923, '신카이': 6924, '마코토': 6925, '카나': 6926, '무례하네요': 6927, '바쁘고': 6928, '않는거': 6929, '황은정': 6930, '로라': 6931, '느껴지는듯': 6932, '보여줬어': 6933, '알아서': 6934, '문헌': 6935, '적힌': 6936, '문란한': 6937, '사도세자': 6938, '구상': 6939, '뽐내는': 6940, '빈센트': 6941, '땡땡': 6942, '연속본': 6943, '실패한': 6944, '보고있습니다': 6945, '어찌나': 6946, '슬픈지': 6947, '무신': 6948, '기대할께요': 6949, '코트': 6950, '반즈': 6951, '생생': 6952, '기억나네': 6953, '없어지는줄': 6954, '보느라': 6955, '파냈던': 6956, '코딱지': 6957, '보안': 6958, '옶다': 6959, '이뻤다': 6960, '특이했다': 6961, '서둘러': 6962, '느낌이네요': 6963, '되기': 6964, '그런다고': 6965, '적당함': 6966, '내려야': 6967, '엄청난것도': 6968, '잠들었음': 6969, '그리스': 6970, '스퀘어': 6971, '닉스': 6972, '합병': 6973, '없었을텐데': 6974, '진부함': 6975, '차태현': 6976, '힘들었고': 6977, '딸도': 6978, '죽는다는데': 6979, '차리고있더라': 6980, '아비': 6981, '칠한': 6982, '천배': 6983, '크레딧': 6984, '감사한다': 6985, '나옵니다': 6986, '보냅니다': 6987, '장동직': 6988, '하고나를': 6989, '챔프': 6990, '끝났다': 6991, '하하호호': 6992, '나면서': 6993, '느꼈답니다': 6994, '을사면서': 6995, '한적': 6996, '아까우니깐': 6997, '생뚱': 6998, '엉뚱': 6999, '갸우뚱': 7000, '진지한데': 7001, '자화상': 7002, '녹아든': 7003, '한여운': 7004, '개월': 7005, '스카이': 7006, '발판': 7007, '됬다는': 7008, '비는': 7009, '망했네': 7010, '진짜재밋': 7011, '하시는데': 7012, '이경이': 7013, '당한': 7014, '내놔도': 7015, '심금': 7016, '울리네': 7017, '뭘루': 7018, '힘내서': 7019, '깜바테': 7020, '알았지': 7021, '당기는': 7022, '측정': 7023, '여린': 7024, '인문학': 7025, '분야': 7026, '살아감': 7027, '재기': 7028, '찍었다는게': 7029, '영국영화': 7030, '유치했고': 7031, '콜라보': 7032, '평범하나': 7033, '쒸레기': 7034, '물치곤': 7035, '따라간게': 7036, '불행중': 7037, '레저': 7038, '중단': 7039, '재탄생': 7040, '시켜주고': 7041, '않나싶음': 7042, '끈건': 7043, '단순하면서': 7044, '이어트': 7045, '어프': 7046, '할리데이': 7047, '광활한': 7048, '없이는': 7049, '맞나': 7050, '버리겠다': 7051, '화학': 7052, '봣습니닼': 7053, '잼잇엇숩니': 7054, '자수': 7055, '겠고': 7056, '낙태': 7057, '논산': 7058, '부모님': 7059, '마중가': 7060, '들어가는데': 7061, '허락': 7062, '받았나': 7063, '어색해요': 7064, '손톱': 7065, '째려': 7066, '식상하네요': 7067, '아름답다라는': 7068, '문장': 7069, '봤어용': 7070, '깇체': 7071, '땅속': 7072, '뭍혀': 7073, '필요할지': 7074, '쿠엔틴': 7075, '맞는다': 7076, '재밌는게': 7077, '사는게': 7078, '하자는거야': 7079, '차이남': 7080, '핀란드': 7081, '할랫': 7082, '작은거': 7083, '설레어': 7084, '버릴게': 7085, '넘길지언정': 7086, '총셋팅': 7087, '군생활': 7088, '해봤다면': 7089, '이렇게는': 7090, '만들꺼에요': 7091, '크림': 7092, '어설픈건': 7093, '당연함': 7094, '옹박': 7095, '느꼈지만': 7096, '프라챠': 7097, '핀카엡': 7098, '빈자리': 7099, '좋앗어요': 7100, '존쿠삭나온': 7101, '한결같': 7102, '은평': 7103, '존쿠삭연기': 7104, '이쯤': 7105, '헷갈림': 7106, '본거라도': 7107, '다시없을': 7108, '아쉬운건': 7109, '유전자': 7110, '멋졌는지': 7111, '몰랑': 7112, '우엉': 7113, '김혜수': 7114, '어딘': 7115, '아니었다면': 7116, '힘들었을듯': 7117, '짓게하는': 7118, '벅찬': 7119, '유실': 7120, '수출': 7121, '원본': 7122, '남아있다고': 7123, '우리말': 7124, '짜리가': 7125, '남아있음': 7126, '가했는데': 7127, '심하잖아': 7128, '죽는거야': 7129, '미안한말이지만': 7130, '태어나는': 7131, '필요한듯': 7132, '다른거': 7133, '삼는게': 7134, '빠를듯': 7135, '다이아나': 7136, '쫓아온다': 7137, '가속': 7138, '웃지요': 7139, '유치한듯': 7140, '케르디오': 7141, '갖고싶은데': 7142, '갖지못': 7143, '메로엣타': 7144, '가이무': 7145, '알았네요': 7146, '회사원': 7147, '부라': 7148, '빗댄': 7149, '뿐이구요': 7150, '앉아': 7151, '있기가': 7152, '야유': 7153, '재미있긴': 7154, '남기러': 7155, '주러': 7156, '다루려고': 7157, '따라가지': 7158, '안되더군요': 7159, '인사': 7160, '돌고': 7161, '존잘': 7162, '불쌍하단': 7163, '들었지만': 7164, '행복해': 7165, '보이니': 7166, '배비장전': 7167, '격려': 7168, '모르는데': 7169, '자질러': 7170, '지쯔': 7171, '로이': 7172, '센세이션': 7173, '나약한듯': 7174, '부각': 7175, '보증': 7176, '간히하자': 7177, '성냥': 7178, '더한': 7179, '아니던가': 7180, '난해함': 7181, '역린': 7182, '이길수가': 7183, '괴뢰': 7184, '서린': 7185, '우물': 7186, '한시': 7187, '늦추지': 7188, '마왕': 7189, '겨버령': 7190, '빌려오라고': 7191, '돋고': 7192, '엄청남': 7193, '슬퍼': 7194, '쇼핑몰': 7195, '습니': 7196, '나온다는것': 7197, '높아지는': 7198, '나날이': 7199, '잇다면': 7200, '햇습': 7201, '볼론': 7202, '점준새': 7203, '깔에': 7204, '소시지': 7205, '박혓': 7206, '궁금하군요': 7207, '당할수는': 7208, '남기는데': 7209, '르르': 7210, '해짐': 7211, '침묵': 7212, '하고싶어하는': 7213, '찝어': 7214, '띄웠지만': 7215, '멈추는': 7216, '디비디': 7217, '자를': 7218, '앞세워': 7219, '김순옥': 7220, '대단함이': 7221, '배수빈': 7222, '이소연': 7223, '한상진': 7224, '김태현': 7225, '배워라': 7226, '글러': 7227, '먹었어': 7228, '평범': 7229, '보였는데': 7230, '때우려다가': 7231, '물어내라': 7232, '이치': 7233, '닌교': 7234, '츠가이': 7235, '인형사': 7236, '연쇄': 7237, '거래': 7238, '들어진': 7239, '민초': 7240, '익숙함에': 7241, '기대해도': 7242, '빠졌다': 7243, '큰데': 7244, '미췬': 7245, '진영화': 7246, '탐의': 7247, '볼날': 7248, '있을까요': 7249, '깨끗히': 7250, '셋별': 7251, '귀찮다': 7252, '사라지는': 7253, '독특': 7254, '호소': 7255, '요시히코': 7256, '귀엽습니다': 7257, '던지리': 7258, '무서웠는지': 7259, '이었네요': 7260, '마시라': 7261, '걸즈': 7262, '이뤄나가고자': 7263, '하드디스크': 7264, '동무': 7265, '붙어': 7266, '보자우요': 7267, '무명': 7268, '보내며': 7269, '애틋하고': 7270, '필요했을까': 7271, '알겠으니까': 7272, '좀해': 7273, '남지현': 7274, '불편했네요': 7275, '정향': 7276, '기대했었는데': 7277, '점말': 7278, '이겼을': 7279, '좋았당': 7280, '해야되': 7281, '울림이있는': 7282, '벅스라이프': 7283, '관광': 7284, '영원했으면': 7285, '맞죠': 7286, '춘향전': 7287, '연예가중계': 7288, '정일': 7289, '촬영감독': 7290, '수치심': 7291, '금정': 7292, '찍게한': 7293, '유람선': 7294, '탈듯': 7295, '잠도': 7296, '못자고': 7297, '웨이': 7298, '길었': 7299, '지밀': 7300, '묵념': 7301, '전도': 7302, '소련군': 7303, '진격': 7304, '탈영병': 7305, '하루히': 7306, '영원해라': 7307, '된게': 7308, '스티브': 7309, '끝나고나니까': 7310, '키우고싶어': 7311, '지을': 7312, '좋은지': 7313, '옥수수': 7314, '체스': 7315, '보내기': 7316, '처먹어랔': 7317, '엔티티': 7318, '있었군': 7319, '손수건': 7320, '잊혀': 7321, '만들었음': 7322, '각도': 7323, '라든지': 7324, '이라든지': 7325, '아닌줄': 7326, '섞이니': 7327, '맹탕': 7328, '홀트': 7329, '신선하긴': 7330, '쏟음': 7331, '비친': 7332, '똑같아요': 7333, '사랑스럽지만': 7334, '김병조': 7335, '비아이': 7336, '한건': 7337, '아이언': 7338, '확률': 7339, '웃었어요': 7340, '싶었는데': 7341, '삼십분': 7342, '들어갔는데': 7343, '알것': 7344, '비추요': 7345, '이도영': 7346, '상응': 7347, '원해요': 7348, '번인': 7349, '베고': 7350, '몰라하는': 7351, '음악인': 7352, '음악처럼': 7353, '뿜는': 7354, '서도': 7355, '계열': 7356, '에게만': 7357, '예찬': 7358, '오만상': 7359, '써가며': 7360, '부럽지': 7361, '드럽네': 7362, '백성현': 7363, '최불암': 7364, '전광렬': 7365, '심오하다': 7366, '업주': 7367, '받았나요': 7368, '이슈': 7369, '김해숙': 7370, '아파': 7371, '봤어야': 7372, '아쉽군요': 7373, '카트': 7374, '해용': 7375, '아름답지도': 7376, '일줄이야': 7377, '줬는데': 7378, '드니까': 7379, '그래놓고선': 7380, '돌림': 7381, '슬펐다': 7382, '지르던': 7383, '미안함': 7384, '슬픔이었을까': 7385, '울먹인거': 7386, '흠잡을': 7387, '두근거릴': 7388, '풀어서': 7389, '다시말하기': 7390, '망쳐놓은': 7391, '있으리라': 7392, '안되면': 7393, '손대지를': 7394, '알프레드': 7395, '투비': 7396, '찍고있어': 7397, '임마': 7398, '윤숙': 7399, '파파야': 7400, '이불': 7401, '덮고': 7402, '춥고': 7403, '쓸쓸한': 7404, '신애': 7405, '벗었으면': 7406, '줬을텐데': 7407, '머니': 7408, '달콤하지': 7409, '송시': 7410, '쉴드쳐주고': 7411, '간거면서': 7412, '김대호': 7413, '병풍': 7414, '모셔놓고': 7415, '샬로': 7416, '맹목': 7417, '하는만큼': 7418, '살길': 7419, '충실했던': 7420, '뿐이었다': 7421, '추잡해': 7422, '좋아할': 7423, '고쳐지고': 7424, '돌아올': 7425, '앙증맞은': 7426, '좋아할만': 7427, '훈훈하': 7428, '재밋쎠': 7429, '츠무구': 7430, '없어지면': 7431, '개줄게': 7432, '이거야': 7433, '웃대': 7434, '올렸는데': 7435, '애국자': 7436, '남선': 7437, '풀린': 7438, '가는줄도': 7439, '배배꼬았다': 7440, '굶주린': 7441, '한가': 7442, '여자도': 7443, '피는것': 7444, '원수': 7445, '재수없': 7446, '물려': 7447, '나서부터': 7448, '졸림': 7449, '이두': 7450, '크루': 7451, '영영': 7452, '드레스': 7453, '폴리': 7454, '였을': 7455, '정보석': 7456, '강경준': 7457, '정우식': 7458, '조우리': 7459, '탤런트': 7460, '이장우': 7461, '깊었던': 7462, '총구': 7463, '입속': 7464, '집어': 7465, '넣은것': 7466, '치루는일': 7467, '살려주지': 7468, '예쁘': 7469, '퀼리티쩌': 7470, '되었을텐데': 7471, '입술': 7472, '웃으면': 7473, '박은혜': 7474, '시초': 7475, '고를': 7476, '묘기': 7477, '지미': 7478, '두운': 7479, '소박한': 7480, '섹시한건': 7481, '카스': 7482, '지리한데': 7483, '따분해': 7484, '급박해지는': 7485, '나간듯': 7486, '강했다': 7487, '마약상': 7488, '드뎌': 7489, '돼는구나': 7490, '종말': 7491, '열려있다던지': 7492, '열려서': 7493, '들어간다던가': 7494, '문자': 7495, '하려고하면': 7496, '비번': 7497, '걸려있고': 7498, '억지스러웠는데': 7499, '서준영': 7500, '사례': 7501, '최최최': 7502, '격인': 7503, '레슬리': 7504, '닐슨': 7505, '찰리': 7506, '멜라': 7507, '앤더슨': 7508, '라티': 7509, '반갑': 7510, '레지나': 7511, '줄어든': 7512, '대전': 7513, '낳은': 7514, '네덜란드인': 7515, '일제시대': 7516, '어떠했을지': 7517, '아련해진다': 7518, '외세': 7519, '침입': 7520, '종류': 7521, '나뉜다': 7522, '애완견': 7523, '복종': 7524, '걸고서': 7525, '배신자': 7526, '척결': 7527, '세계였다': 7528, '아련하다': 7529, '똑같네요': 7530, '들면서': 7531, '들어야': 7532, '계몽영화': 7533, '답습': 7534, '블럭버스터': 7535, '탐욕': 7536, '벗어날수': 7537, '어루만져': 7538, '상사': 7539, '행복했네요': 7540, '안속': 7541, '는다': 7542, '찾아도': 7543, '국비': 7544, '종범': 7545, '높노': 7546, '잔인하': 7547, '문명': 7548, '인조': 7549, '야하': 7550, '있는지도': 7551, '몰랐던': 7552, '마시면서': 7553, '끊을': 7554, '아닌거다': 7555, '쇠발개쉐기': 7556, '파워레인저': 7557, '어리': 7558, '버리한': 7559, '이준익': 7560, '였군요': 7561, '대길': 7562, '허더': 7563, '덕햇': 7564, '남음': 7565, '헐헐': 7566, '현정이': 7567, '된건데': 7568, '다루는데도': 7569, '재밌다야': 7570, '트렌드': 7571, '해냈다면': 7572, '와리': 7573, '가리하고': 7574, '따분하고': 7575, '일치': 7576, '보러가시길': 7577, '깜찍한': 7578, '읽었는데': 7579, '사수는못하지만': 7580, '어덜트': 7581, '빠져있다': 7582, '경우': 7583, '볼란다': 7584, '까잘': 7585, '폭풍': 7586, '오열': 7587, 'ㅠㅜㅠㅍ': 7588, '불가였다': 7589, '써져있는': 7590, '여가': 7591, '만들었': 7592, '유명하면': 7593, '대세': 7594, '잉여': 7595, '일줄은': 7596, '심했지': 7597, '된디': 7598, '배울': 7599, '많겠지': 7600, '스며들어있다': 7601, '우와한녀': 7602, '조악함을': 7603, '끊임없이': 7604, '주술': 7605, '넘못': 7606, '팅기더니': 7607, '되었음': 7608, '참으면서': 7609, '짜증났었어요': 7610, '살아남는지': 7611, '줄려다': 7612, '폄하하는데': 7613, '해봤을': 7614, '보고있는게': 7615, '서언': 7616, '서준이': 7617, '볼맛': 7618, '할꺼면': 7619, '돌아왔다가': 7620, '돌아왔다로': 7621, '하시죠': 7622, '유료': 7623, '사천원': 7624, '어지간한': 7625, '유익한': 7626, '싸하다': 7627, '볼것을': 7628, '줄어야': 7629, '실존': 7630, '유머러스하면서도': 7631, '진중하게': 7632, '남주는': 7633, '추고': 7634, '나가려다': 7635, '참았습니다': 7636, '맘마미아': 7637, '기대한거야': 7638, '만년': 7639, '지망': 7640, '애환': 7641, '프럼': 7642, '어스': 7643, '짝사랑': 7644, '날수': 7645, '사귀고': 7646, '지키고': 7647, '설치는게': 7648, '재밌나': 7649, '과찬': 7650, '황제': 7651, '황후': 7652, '불화': 7653, '죽어가는': 7654, '가시질': 7655, '대풍수': 7656, '욕먹어도': 7657, '교체': 7658, '헛짓임': 7659, '어루만지며': 7660, '감싸': 7661, '내려치는': 7662, '익혔다': 7663, '부드러워졌다고': 7664, '물었기': 7665, '어이없었다': 7666, '이정국': 7667, '않는듯': 7668, '드뷔시': 7669, '달빛': 7670, '재밋는뎅': 7671, '풀어내며': 7672, '드러낸다': 7673, '하려는지': 7674, '즐길만': 7675, '호킨스': 7676, '샘슨': 7677, '만끽': 7678, '몰렀는데': 7679, '썩어나서': 7680, '훌륭하고': 7681, '브이': 7682, '나왔었네': 7683, '자락': 7684, '달려가는': 7685, '정원': 7686, '유토피아': 7687, '사이버': 7688, '뮬러': 7689, '로망': 7690, '김구라': 7691, '후배': 7692, '대지': 7693, '버릇': 7694, '겠니': 7695, '돌아와주요': 7696, '정은채': 7697, '괜찮아': 7698, '뭉클한': 7699, '작업실': 7700, '잠그고': 7701, '도난': 7702, '이러게': 7703, '망청': 7704, '볼꺼': 7705, '하얀말': 7706, '하자면': 7707, '군국': 7708, '난해하면': 7709, '같으니': 7710, '마카로니': 7711, '선두': 7712, '에리오': 7713, '모리': 7714, '돋보이게': 7715, '님드': 7716, '안되요': 7717, '있을까봐': 7718, '건졌넹': 7719, '가울': 7720, '있을듯': 7721, '싶넹': 7722, '낮나요': 7723, '개편': 7724, '지상렬': 7725, '내게는': 7726, '보석': 7727, '다이아몬드': 7728, '한결같다': 7729, '느끼는것에서': 7730, '부수': 7731, '났던': 7732, '대를': 7733, '넘어서': 7734, '개쯔레기': 7735, '있는건데': 7736, '조용하고': 7737, '잠자코': 7738, '블리': 7739, '어쨌든': 7740, '되가는데': 7741, '아유': 7742, '살아있다': 7743, '슈퍼스타': 7744, '성해져서': 7745, '변모': 7746, '재밌냐': 7747, '분투': 7748, '미국영화': 7749, '상권': 7750, '들어온': 7751, '슈퍼마켓': 7752, '걸스데이': 7753, '이혜리': 7754, '유독': 7755, '장강': 7756, '이루기': 7757, '육상': 7758, '첫걸음': 7759, '견딜만': 7760, '할거라고': 7761, '버켓': 7762, '리스트': 7763, '좋아하긴': 7764, '좋아할만큼': 7765, '으로서의': 7766, '불가능': 7767, '조용한': 7768, '관계씬': 7769, '위험하지': 7770, '부딪친': 7771, '여하튼': 7772, '여론': 7773, '상관관계': 7774, '숀팬': 7775, '엇네': 7776, '즐기셔': 7777, '글쎄요': 7778, '음침하고': 7779, '샴푸': 7780, '크랭크': 7781, '스무': 7782, '울렁거려서': 7783, '호모포비아': 7784, '리멤버': 7785, '심혜진': 7786, '뒤안길': 7787, '보다말았어': 7788, '귀엽지도': 7789, '유치하': 7790, '만져': 7791, '두근': 7792, '낭비한': 7793, '듣노라면': 7794, '살아야겠다는': 7795, '서러움': 7796, '오릅니다': 7797, '슷비슷비하': 7798, '이나마': 7799, '오래간만': 7800, '벌로': 7801, '로다': 7802, '놔두고': 7803, '걷다가': 7804, '치여주는거지': 7805, '드르륵': 7806, '크기': 7807, '김만': 7808, '봉씨': 7809, '얼간이': 7810, '오만함은': 7811, '고상한': 7812, '다루기': 7813, '위함': 7814, '분명히': 7815, '손볼': 7816, '좋아할것': 7817, '이끈거': 7818, '어땠을지는': 7819, '박았지': 7820, '변하지': 7821, '콧물': 7822, '짰네요': 7823, '조앙': 7824, '눈물나서': 7825, '허진호': 7826, '배분': 7827, '이럴꺼면': 7828, '불렀습니까': 7829, '답답하면': 7830, '쓰고있노': 7831, '금성': 7832, '샘플': 7833, '웰컴': 7834, '인민군': 7835, '브라보': 7836, '해준거': 7837, '쫓기며': 7838, '돌아다니': 7839, '죽겠는데': 7840, '느리게': 7841, '아오뽁쳐': 7842, '뜨는데': 7843, '잃음': 7844, '만으로는': 7845, '이문식': 7846, '말껄': 7847, '그랬': 7848, '끝나는것인가': 7849, '만재밌다': 7850, '여주못': 7851, '생겼고': 7852, '찬성': 7853, '뿌리기': 7854, '쓰는게': 7855, '아니였다': 7856, '세코': 7857, '감사함을': 7858, '부문': 7859, '망해야': 7860, '아닌가여': 7861, '양쪽': 7862, '놀았으니': 7863, '나원진': 7864, '돋았네요': 7865, '어떠한': 7866, '초라해질': 7867, '울었더랬다': 7868, '좋아하던지': 7869, '해보고싶': 7870, '은데': 7871, '무녀': 7872, '바꿔치': 7873, '살아났을': 7874, '찾지못': 7875, '남는다거나': 7876, '컴터': 7877, '도시공학': 7878, '월리': 7879, '애견': 7880, '유투브': 7881, '택배': 7882, '놀랬네': 7883, '피리': 7884, '불면': 7885, '까딱까딱': 7886, '진자': 7887, '목록': 7888, '베타': 7889, '없죠': 7890, '되어있는': 7891, '아이콘': 7892, '건드리지못': 7893, '짱짱하네요': 7894, '남기는거라': 7895, '팔이만': 7896, '할말도': 7897, '쓰라는': 7898, '쪄서': 7899, '나왔었음': 7900, '하니까': 7901, '질나네': 7902, '보았지만': 7903, '어머님께': 7904, '외할아버지': 7905, '외할머니': 7906, '우셨다고': 7907, '소모': 7908, '자려고': 7909, '먹엇다': 7910, '들어맞는': 7911, '찍어주시길': 7912, '끄는': 7913, '내사': 7914, '상류층': 7915, '근성': 7916, '시키면서': 7917, '시킨지': 7918, '국회의원': 7919, '아부': 7920, '예쁘다고': 7921, '되는것은': 7922, '맞지만': 7923, '되는게': 7924, '정신차리세요': 7925, '높으므로': 7926, '나올게': 7927, '옥빈': 7928, '죽는듯': 7929, '긴박하고': 7930, '언론': 7931, '개입': 7932, '남일': 7933, '살고싶다라는': 7934, '참신해서': 7935, '벌여': 7936, '먹으려는': 7937, '이수만': 7938, '교묘하고': 7939, '미천한': 7940, '재미있게잘': 7941, '삐리뽕': 7942, '해군': 7943, '사관학교': 7944, '부서': 7945, '책임자': 7946, '법인': 7947, '이중': 7948, '국방부': 7949, '소속': 7950, '기관': 7951, '책임지고': 7952, '척머슬러': 7953, '증언': 7954, '이러는지': 7955, '박선영': 7956, '남장': 7957, '재밋게본': 7958, '모욕': 7959, '나가자고': 7960, '두부': 7961, '내놔가': 7962, '멋있어여': 7963, '얻기': 7964, '인디밴드': 7965, '존엄성': 7966, '지키기': 7967, '추워서': 7968, '한겨울': 7969, '절도': 7970, '무마': 7971, '신날': 7972, '보셧어': 7973, '나와있던데': 7974, '코너': 7975, '찍어놓고': 7976, '걸수가': 7977, '자책': 7978, '시달릴듯': 7979, '알씨': 7980, '말종': 7981, '행복해하는': 7982, '보고싶지': 7983, '이런건': 7984, '있다길래': 7985, '뭉클했던': 7986, '자르다': 7987, '더잼': 7988, '욕설': 7989, '뿐일세': 7990, '변해서': 7991, '적절히': 7992, '나쁘다고': 7993, '씨부려': 7994, '의정': 7995, '점때': 7996, '퍼시픽림': 7997, '어밴져스등': 7998, '이럴수가': 7999, '대나': 8000, '보긴아까': 8001, '우니': 8002, '신선하니': 8003, '김갑수': 8004, '기발했고': 8005, '느낄수있어서': 8006, '에헤헹': 8007, '목격': 8008, '유턴': 8009, '착지': 8010, '하는나는': 8011, '비추는': 8012, '볼건': 8013, '날개': 8014, '태풍': 8015, '된다지만': 8016, '망설였는데': 8017, '보길잘': 8018, '정여립': 8019, '정철': 8020, '기축옥사': 8021, '탄탄해서': 8022, '베이컨': 8023, '지스': 8024, '괴로움': 8025, '돋보이리': 8026, '웃기면서': 8027, '건너': 8028, '뛰고': 8029, '쪽나': 8030, '할것이다': 8031, '잘려고하는': 8032, '붙잡고있는': 8033, '구역질': 8034, '내던게': 8035, '아크엔젤': 8036, '졸데': 8037, '불가능한': 8038, '장갑': 8039, '벗져서': 8040, '깔끔하지못': 8041, '없다한': 8042, '돌아': 8043, '어려웠지만': 8044, '둔기': 8045, '페드로': 8046, '못지않게': 8047, '괴수영화': 8048, '천천히': 8049, '쥐약': 8050, '진과': 8051, '이영하': 8052, '유괴': 8053, '불협화음': 8054, '들어가네': 8055, '끝나야지': 8056, '차구니': 8057, '겪는': 8058, '경계': 8059, '박해서': 8060, '안되는군': 8061, '짤림': 8062, '별루더': 8063, '한수였다': 8064, '붙이': 8065, '말길': 8066, '나서야': 8067, '손꾸락': 8068, '거열': 8069, '다모': 8070, '되었으니': 8071, '이원규': 8072, '성공하지': 8073, '부러울수도': 8074, '쓰려면': 8075, '쓰던지': 8076, '돋아서': 8077, '보겠네': 8078, '하였는가': 8079, '있엇으리': 8080, '종인': 8081, '반공': 8082, '따분': 8083, '베트공': 8084, '일병': 8085, '부작용': 8086, '가는게': 8087, '정당한것인가': 8088, '있었을텐데': 8089, '잼있는건': 8090, '없는것이': 8091, '한이구나': 8092, '넘네': 8093, '막히는군': 8094, '극도': 8095, '저해': 8096, '어설프게': 8097, '놔두시지': 8098, '그러셨어요': 8099, '나왔는지': 8100, '패닉': 8101, '그랫쪄': 8102, '잡을수': 8103, '다름에도': 8104, '상당하다': 8105, '꼴레오네': 8106, '선출': 8107, '쟁탈전': 8108, '주저': 8109, '저수지': 8110, '펄프픽션': 8111, '꼽는다': 8112, '같이울게': 8113, '박준형': 8114, '우아하다는': 8115, '파라다이스목장': 8116, '미비하고': 8117, '데미무어': 8118, '라라': 8119, '안좋던데': 8120, '있어줘야지': 8121, '흐뭇하네요': 8122, '많았습니다': 8123, '엉뚱하지만': 8124, '되는면도': 8125, '제보자': 8126, '시키네': 8127, '불사조': 8128, '나올꺼냐': 8129, '독창': 8130, '성량': 8131, '꽥꽥': 8132, '늦출수': 8133, '조심': 8134, '커트': 8135, '시아': 8136, '자씨': 8137, '가셨네': 8138, '낚일순': 8139, '레젼드': 8140, '미인': 8141, '토나오는': 8142, '골빈': 8143, '사라졋으': 8144, '루고': 8145, '김아중': 8146, '맞춘것': 8147, '키리시': 8148, '마를': 8149, '뒤집': 8150, '어지럽게': 8151, '출렁이듯': 8152, '살며': 8153, '스러워': 8154, '안겨주다니': 8155, '격거봣': 8156, '몰라요': 8157, '배운것도': 8158, '놀기만': 8159, '싫었어요': 8160, '당했어요': 8161, '걸리고': 8162, '화병': 8163, '옵니다': 8164, '이르': 8165, '켜서': 8166, '꼴인하고도': 8167, '혼하': 8168, '유식': 8169, '이상하지': 8170, '궁극': 8171, '패착': 8172, '신기하지': 8173, '않은게': 8174, '신기한': 8175, '될대로': 8176, '지점': 8177, '생겨난다': 8178, '까하고': 8179, '완주': 8180, '멋졋음': 8181, '재미없을거': 8182, '접하기': 8183, '가득해질': 8184, '차진': 8185, '박해준': 8186, '하였는데': 8187, '필요없군요': 8188, '라이즈': 8189, '아라': 8190, '있게하네': 8191, '돋보이지만': 8192, '뒤집어짐': 8193, '포럼': 8194, '슬프게만': 8195, '드는건': 8196, '돌아가시겠다': 8197, '무라카미': 8198, '독백': 8199, '보이는줄': 8200, '맛있는건': 8201, '뛰어내리지': 8202, '않았다면': 8203, '되었을까': 8204, 'ㅇㄴ': 8205, '마법천자문': 8206, '빠져있는데': 8207, '보고싶다네요': 8208, '봤는데인': 8209, '났어요': 8210, '버리고싶네요': 8211, '영홥니': 8212, '알럽키': 8213, '선셋': 8214, '극우': 8215, '빨아라': 8216, '덕후': 8217, '지킬건': 8218, '앉아있네': 8219, '허세말': 8220, '지루하기': 8221, '개똥': 8222, '미치고싶을': 8223, '끌린다': 8224, '쵝오네': 8225, '박영화': 8226, '뻔하겠다는': 8227, '고맙다는': 8228, '에궁': 8229, '글쓰기': 8230, '힘들텐데': 8231, '기왕': 8232, '참신하게': 8233, '건아': 8234, '자나요': 8235, '쩌비': 8236, '재미있지': 8237, '저스트': 8238, '위드': 8239, '잇의': 8240, '실망했음': 8241, '콩코드기': 8242, '뉴튼': 8243, '공항': 8244, '딱딱할': 8245, '조리': 8246, '왜리': 8247, '허게': 8248, '끝내주게': 8249, '생생하게': 8250, '해안': 8251, '대고': 8252, '껴안고': 8253, '안됬고': 8254, '사귈': 8255, '소개팅': 8256, '박차고': 8257, '나가서': 8258, '견우': 8259, '거린': 8260, '질러': 8261, '보자인가': 8262, '교섭': 8263, '가늠': 8264, '펼쳐지는': 8265, '감응': 8266, '주술사': 8267, '이행': 8268, '숙면': 8269, '흘러가다': 8270, '호모': 8271, '빼기': 8272, '곰탱이': 8273, '하는자는': 8274, '졸리던데요': 8275, '훨배낫다': 8276, '당계례': 8277, '발차기': 8278, '이인상': 8279, '깊어요': 8280, '알맹이': 8281, '치장': 8282, '휠씬잼밌': 8283, '장고': 8284, '우월': 8285, '보내는': 8286, '짜릿함이있었다': 8287, '없다고는': 8288, '바꾼거': 8289, '잭맨': 8290, '시월애': 8291, '대영화마냥': 8292, '어색하였다': 8293, '잼잼': 8294, '천함': 8295, '정진': 8296, '코프': 8297, '천식': 8298, '기대하긴': 8299, '힘들듯': 8300, '아니듯': 8301, '어겨서': 8302, '죽었겠지': 8303, '따라서': 8304, '복도': 8305, '살리에리': 8306, '사하노라': 8307, '모차르트': 8308, '웃는게': 8309, '중고생': 8310, '추어': 8311, '같아서는': 8312, '풍부한': 8313, '울어': 8314, '기분좋은날': 8315, '파킨슨병': 8316, '하염없이': 8317, '머시': 8318, '우승해야': 8319, '콩빠들': 8320, '전방': 8321, '빠져가지고는': 8322, '새기': 8323, '쓰니까': 8324, '급속': 8325, '채시라': 8326, '한가인': 8327, '이쁘게나': 8328, '없었으니': 8329, '같았으면': 8330, '바가지': 8331, '보게하는': 8332, '무섭겠지': 8333, '날리고': 8334, '날림': 8335, '떨어져도': 8336, '수뤠기': 8337, '리자': 8338, '임아주': 8339, '기억날거': 8340, '붕어빵': 8341, '낳고': 8342, '낳는다': 8343, '대못': 8344, '이이경': 8345, '답안': 8346, '국가대표': 8347, '낮추': 8348, '으로써는': 8349, '죽으니까': 8350, '죽일것이지': 8351, '강철': 8352, '잊을듯': 8353, '타잔': 8354, '갖가지': 8355, '승전': 8356, '식임': 8357, '틀었는데': 8358, '먹었음': 8359, '억울하다': 8360, '억울해': 8361, '너무한다': 8362, '아쉽네': 8363, '흥겹고': 8364, '빼놓을만큼': 8365, '자유분방한': 8366, '집시': 8367, '담긴': 8368, '가지못': 8369, '무미건조': 8370, '쌩뚱맞고': 8371, '늘매': 8372, '않지': 8373, '휴머니스트': 8374, '역설': 8375, '대단하게': 8376, '닿지두': 8377, '울긴': 8378, '목표': 8379, '장미': 8380, '에선가': 8381, '조은': 8382, '에의': 8383, '선언': 8384, '섥혀': 8385, '질려': 8386, '버렸다는말': 8387, '연줄': 8388, '빌어': 8389, '먹고사는': 8390, '야비하고더러': 8391, '촌철': 8392, '봉만대': 8393, '정성룡': 8394, '좋아하겠네': 8395, '어떨': 8396, '밋밋했지만': 8397, '노계의': 8398, '한일월드컵': 8399, '촌스러워': 8400, '부끄럽다': 8401, '무섭기만': 8402, '괜찮겠다': 8403, '차암': 8404, '들어감': 8405, '비폭력': 8406, '딜레마': 8407, '남겠지만': 8408, '남진': 8409, '안좋네': 8410, '소담': 8411, '잼있': 8412, '브루노': 8413, '나았음': 8414, '개독': 8415, '판침': 8416, '바둑': 8417, '급수': 8418, '오글거림의': 8419, '바둑용어': 8420, '올라오는지': 8421, '자처': 8422, '그레이': 8423, '걷기': 8424, '않던데': 8425, '워싱턴': 8426, '백만조': 8427, '넘었다는걸': 8428, '안타까워서': 8429, '송해성': 8430, '되어야하는데': 8431, '해전': 8432, '청춘영화': 8433, '식상하다못해': 8434, '앉아있는': 8435, '줬으면': 8436, '휴그랜트': 8437, '화살': 8438, '넘어지지': 8439, '않기': 8440, '허리': 8441, '대는대': 8442, '맞았지만': 8443, '혼잡한': 8444, '거짓말쟁이': 8445, '편리': 8446, '뛰어난게': 8447, '확실한듯': 8448, '고양': 8449, '웨폰': 8450, '흐르면': 8451, '어뜨케': 8452, '따라가니': 8453, '됬지만': 8454, '옳다는': 8455, '확신': 8456, '신선하게': 8457, '넘어가자': 8458, '스러웠음': 8459, '한꺼': 8460, '퍼붓다가': 8461, '일본자위대': 8462, '뿐일듯': 8463, '틀어줬는데': 8464, '똥쿠소': 8465, '모자랍니다': 8466, '신나고': 8467, '뒤뚱뒤뚱': 8468, '멋있습니다': 8469, '집어서': 8470, '않하겠는데': 8471, '농간': 8472, '퍼졌을': 8473, '엄연히': 8474, '재력': 8475, '채웠다고': 8476, '오만해': 8477, '먹으면서': 8478, '닫는다': 8479, '것때메': 8480, '치뤘다': 8481, '만들어지다가': 8482, '만거': 8483, '달라면서': 8484, '나가셨어요': 8485, '테잎': 8486, '곰팡이': 8487, '새로운게': 8488, '오글거리겠지만': 8489, '생각난다면': 8490, '질러라': 8491, '김유정': 8492, '주임': 8493, '살렸다만': 8494, '위대하게': 8495, '은밀': 8496, '시원함만': 8497, '최상급': 8498, '내긴': 8499, '어학': 8500, '추리소설': 8501, '크겠지만': 8502, '행위': 8503, '정당성': 8504, '헌신': 8505, '였고': 8506, '남는건': 8507, '인디언': 8508, '아렇': 8509, '짜증난': 8510, '양민수': 8511, '크고': 8512, '절벽': 8513, '얼꽝': 8514, '원조교제': 8515, '즐기기': 8516, '영호': 8517, '변해': 8518, '갈까봐': 8519, '두렵다': 8520, '잠입': 8521, '양산': 8522, '없을것이다': 8523, '스타크': 8524, '조종': 8525, '할테니까': 8526, '글자': 8527, '오답만': 8528, '놀라우리만큼': 8529, '내적': 8530, '외적인': 8531, '만드는군': 8532, '찌랭': 8533, '존큐': 8534, '봤는대': 8535, '살아있었으며': 8536, '미장센': 8537, '한나': 8538, '하기에는': 8539, '보여주니까': 8540, '그렇던데': 8541, '김진수': 8542, '빙빙': 8543, '돌리고': 8544, '밝혀지게': 8545, '보려다': 8546, '짜증날듯': 8547, '밝혀질건': 8548, '밝혀지면서': 8549, '있든지': 8550, '잼있는데': 8551, '찌끄레기들': 8552, '꿈나라': 8553, '미쳐있는': 8554, '쓰지말고': 8555, '가라': 8556, '진주': 8557, '치코': 8558, '나우': 8559, '그만하자': 8560, '패왕별희': 8561, '대학': 8562, '이레': 8563, '좋아하는시': 8564, '리즈중': 8565, '투니버스': 8566, '보여주는게': 8567, '낮습니다': 8568, '가자고': 8569, '졸랐어요': 8570, '문츠': 8571, '무진': 8572, '높지': 8573, '구한': 8574, '영국군': 8575, '느낍니다': 8576, '탄까지의': 8577, '그렇지도': 8578, '합성': 8579, '높여주구': 8580, '델마와루이스': 8581, '따라하려다': 8582, '케이스': 8583, '황당할': 8584, '안주': 8585, '형태': 8586, '법적': 8587, '받는거': 8588, '빠르다': 8589, '지나감': 8590, '서예': 8591, '체벌': 8592, '하시다니': 8593, '예뻐시': 8594, '눈을땔수': 8595, '재미있던것': 8596, '같아여': 8597, '드러낼': 8598, '드러내지': 8599, '마카오': 8600, '박의': 8601, '포커페이스': 8602, '반했다': 8603, '이거지': 8604, '필수요소': 8605, '살렸을': 8606, '좋겠지': 8607, '꼽힐만큼': 8608, '박정철': 8609, '미쳐도': 8610, '올랜도': 8611, '블룸': 8612, '나오겠지': 8613, '나타내주었던거': 8614, '베이비': 8615, '어려우니': 8616, '랑은': 8617, '읽듯': 8618, '또박또박': 8619, '나가게': 8620, '리첸': 8621, '읽기': 8622, '밤벌레': 8623, '어둡지만': 8624, '애잔함이': 8625, '안타까웠지만': 8626, '하룻밤': 8627, '귀여우면서도': 8628, '신고식': 8629, '안타까우면서도': 8630, '사랑스러웠다': 8631, '되는가': 8632, '대학로': 8633, '방송국': 8634, '힘내시길': 8635, '봐야겠군요': 8636, '왔는진': 8637, '올바른': 8638, '옳은': 8639, '되는거다': 8640, '김수미': 8641, '길까': 8642, '망하고': 8643, '호호': 8644, '허무했지만': 8645, '넘흐': 8646, '따라가는건': 8647, '않았지만이': 8648, '기상': 8649, '외한': 8650, '묶어주는': 8651, '알란': 8652, '바꿔놓다니': 8653, '하긴커녕': 8654, '쑤셔': 8655, '넣을까': 8656, '했나보다': 8657, '가봤을': 8658, '준애': 8659, '소양': 8660, '안함': 8661, '따라하지': 8662, '인정받고싶은': 8663, '욕구': 8664, '살아남길': 8665, '어서': 8666, '감상문': 8667, '써야되': 8668, '라가': 8669, '귀여': 8670, '믿지마라': 8671, '해야하는것이다': 8672, '쓸다리': 8673, '을해': 8674, '다인': 8675, '나을지': 8676, '어둡고': 8677, '맞질': 8678, '얻었어요': 8679, '받는게': 8680, '하는거라고': 8681, '나았겠다': 8682, '잡고있고': 8683, '트란안훙꺼': 8684, '욕먹을': 8685, '상당한': 8686, '고귀한': 8687, '깔아': 8688, '개놓은': 8689, '지리': 8690, '저러나싶음': 8691, '노무현': 8692, '수박': 8693, '복사': 8694, '환도': 8695, '태극': 8696, '있었구나': 8697, '받았던': 8698, '먹을만한': 8699, '아시오': 8700, '소리칠': 8701, '다닌': 8702, '떠올랐다': 8703, '아마겟돈': 8704, '볼수있어서': 8705, '베른': 8706, '낳은듯': 8707, '좋았던건': 8708, '낀거있지': 8709, '알꺼라': 8710, '스포츠영화': 8711, '없애자': 8712, '관리자': 8713, '진의': 8714, '해주나': 8715, '쇼와시대': 8716, '스키장': 8717, '설렘': 8718, '빠리': 8719, '낭만': 8720, '모자라': 8721, '살살': 8722, '간지럽': 8723, '전화선': 8724, '타며': 8725, '이어가길': 8726, '만났던': 8727, '아슬아슬하지만': 8728, '무궁무진': 8729, '또다시': 8730, '바뀐다': 8731, '바뀜의': 8732, '치냐': 8733, '이역': 8734, '살아있고': 8735, '기적처럼': 8736, '느껴져요': 8737, '힘들어요': 8738, '백만': 8739, '갈갈': 8740, '드라큘라': 8741, '보던가': 8742, '편안함': 8743, '느꼈어요': 8744, '가지못하는거지': 8745, '카밀라': 8746, '덕의': 8747, 'ㄷㄷㄷㄷ': 8748, '민정': 8749, '빡치지만': 8750, '낮구나': 8751, '보십시오': 8752, '우승': 8753, '송민호': 8754, '막아서도': 8755, '여기있었': 8756, '어요': 8757, '회볼때': 8758, '하셨는데': 8759, '퀸틴': 8760, '포룸': 8761, '어줍잖게': 8762, '맞먹는': 8763, '왜구': 8764, '한데다가': 8765, '난잡해지는': 8766, '있었던건': 8767, '여성혐오증': 8768, '앓고있는듯': 8769, '하다는것': 8770, '역겨웠던': 8771, '보는만큼': 8772, '심층': 8773, '킹왕짱': 8774, '어염': 8775, '실망하듯이': 8776, '식객': 8777, '재미없이': 8778, '다시가겠다': 8779, '싸놓고': 8780, '치우진': 8781, '사뭇': 8782, '로마군': 8783, '낀것은': 8784, '심하지': 8785, '않냐': 8786, '많으셨어요': 8787, '파이팅': 8788, '김현주': 8789, '밓었': 8790, '래서': 8791, '이랬을까': 8792, '지루해지는': 8793, '레파': 8794, '막힌다': 8795, '양요섭': 8796, '표절논란': 8797, '심해서': 8798, '우습기만': 8799, '산만해서': 8800, '따르려는': 8801, '느꼈네요': 8802, '보았더니': 8803, '모자란': 8804, '완득이': 8805, '알거다': 8806, '밤바': 8807, '웃찿사': 8808, '밀렸던': 8809, '유행어': 8810, '찍으려고': 8811, '서수민': 8812, '높길래': 8813, '잘리질': 8814, '재수없어서': 8815, '싸눅': 8816, '막막': 8817, '해야겠네': 8818, '넣음': 8819, '금방': 8820, '득템': 8821, '이천원': 8822, '배우고도': 8823, '주도한': 8824, '공화정': 8825, '설립': 8826, '모르더라도': 8827, '와이어액션': 8828, '리얼타임': 8829, '살았을까': 8830, '무시무시하다': 8831, '놈놈놈': 8832, '없었으므로': 8833, '우울해지더라구요': 8834, '안타까웠어요': 8835, '놀란다': 8836, '그지같았던': 8837, '이었었네': 8838, '나왔을줄이야': 8839, '야박한거': 8840, '이위': 8841, '낄만': 8842, '여덟': 8843, '육신': 8844, '바꿀': 8845, '이영': 8846, '보기전으로': 8847, '돌리고싶다': 8848, '어내스트': 8849, '셀레스틴': 8850, '이상해': 8851, '여담': 8852, '프시': 8853, '황금기': 8854, '춘추전국': 8855, '부조화': 8856, '지루하기만': 8857, '보고왔': 8858, '좋겠당': 8859, '아스': 8860, '트랄': 8861, '나오려고': 8862, '김슬기': 8863, '효시': 8864, '이룬': 8865, '몰상식해서': 8866, '하신것': 8867, '좋으네': 8868, '글렌': 8869, '클로즈': 8870, '같당': 8871, '막일': 8872, '읽다가': 8873, '캐나다': 8874, '맞는것': 8875, '됐나': 8876, '유치하지': 8877, '흐뭇한': 8878, '많은지': 8879, '아팠지만': 8880, '속상했습니다': 8881, '신기하고': 8882, '추락': 8883, '무서운지': 8884, '녹음기': 8885, '베스트셀러': 8886, '나을': 8887, '이마트': 8888, '샷따': 8889, '소화기': 8890, '알잖아요': 8891, '어린나이에': 8892, '실망했었던': 8893, '서방': 8894, '숭배': 8895, '브라질': 8896, '통쾌했다': 8897, '김우빈': 8898, '간지': 8899, '좔좔': 8900, '송중기': 8901, '만들어졌는지': 8902, '뉴욕': 8903, '재밌겠다': 8904, '안마방': 8905, '불쌍하다': 8906, '넘쳤지만': 8907, '제국': 8908, '질의': 8909, '표상': 8910, '냉철함과': 8911, '철심': 8912, '적당히하시죠': 8913, '변하기': 8914, '대는지': 8915, '어지러워서': 8916, '뜨니아는': 8917, '궁금할': 8918, '뚱땡이': 8919, '설쳐': 8920, '갖고싶은': 8921, '높은건': 8922, '준거': 8923, '풀려요': 8924, '끝냈으면': 8925, '간절': 8926, '히바': 8927, '램니': 8928, '배울게': 8929, '영아': 8930, '일어나고': 8931, '바라는것': 8932, '정장': 8933, '웃겠지': 8934, '성수': 8935, '까지를': 8936, '보여지면서': 8937, '시켜놓는': 8938, '셔물': 8939, '접는': 8940, '던져': 8941, '정이안': 8942, '탄탄한데다가': 8943, '이루는군': 8944, '경화': 8945, '누드': 8946, '마케팅': 8947, '요란했던': 8948, '조류': 8949, '전제': 8950, '어색했습니다': 8951, '대뜸': 8952, '짓거리': 8953, '평론': 8954, '줘야지': 8955, '짜가': 8956, '에드': 8957, '리안': 8958, '민효린': 8959, '샤말란': 8960, '박아': 8961, '적이였고': 8962, '했건만': 8963, '궁굼해': 8964, '오더라': 8965, '해진다': 8966, '끌려고': 8967, '일박이일': 8968, '멘타리': 8969, '해야하는거': 8970, '하려는것처럼': 8971, '성장하는': 8972, '제자리걸음': 8973, '잘라': 8974, '퇴화': 8975, '하고있으니': 8976, '없고를': 8977, '되야': 8978, '재미없다구': 8979, '계획': 8980, '출수있다는': 8981, '역겨운건': 8982, '역겨운거다': 8983, '왔지만': 8984, '가득한지를': 8985, '솔직하고': 8986, '줄곧': 8987, '친절한': 8988, '재밌다는게': 8989, '맡기면': 8990, '그럴거예요': 8991, '유희': 8992, '시시하네': 8993, '연속극': 8994, '됐다는': 8995, '인주': 8996, '알음': 8997, '아닌나도': 8998, '성스러워서': 8999, '버릴것': 9000, '퓨티드': 9001, '비속어': 9002, '쓰자면': 9003, '담을려는': 9004, '존잼': 9005, '나열해': 9006, '정신없이': 9007, '산만하기만': 9008, '곳도': 9009, '웃길': 9010, '애비': 9011, '만드는거': 9012, '좋아하네': 9013, '묻어가다': 9014, '추월': 9015, '가넷': 9016, '중요한게': 9017, '놈꺼': 9018, '뺏으면': 9019, '우승자': 9020, '한심함': 9021, '욕먹이는': 9022, '보았는지': 9023, '없었으면': 9024, '막말': 9025, '무서워야': 9026, '짜깁기로': 9027, '촌극': 9028, '팽팽': 9029, '조율': 9030, '진부하지': 9031, '안타까워진다': 9032, '잘하는듯': 9033, '닳았다': 9034, '없더라': 9035, '혼난다': 9036, '로마시대': 9037, '대다수': 9038, '보고싶어하는': 9039, '우기는': 9040, '사랑스런': 9041, '개방': 9042, '엉터리': 9043, '신밧드': 9044, '험담': 9045, '넘쳐서': 9046, '오한': 9047, '도망쳤다': 9048, '이였습니다': 9049, '재밋게봐': 9050, '두재': 9051, '밋엇움': 9052, '김남주': 9053, '표나': 9054, '없을꺼다': 9055, '관상': 9056, '맞는구나': 9057, '기대한다면': 9058, '꺼지': 9059, '지나치다못해': 9060, '산만하기까지': 9061, '달라하는것도': 9062, '노총각': 9063, '순진무구': 9064, '해보자': 9065, '훈련소': 9066, '상쾌함': 9067, '노도': 9068, '헤드': 9069, '죽은게': 9070, '찮음': 9071, '오래도록': 9072, '좋아할듯': 9073, '낫나보다': 9074, '열차': 9075, '표로': 9076, '대국민': 9077, '투표': 9078, '가는거': 9079, '까먹는': 9080, '린데': 9081, '벌거숭이': 9082, '임금님': 9083, '재미있다는': 9084, '달기지': 9085, '미니어쳐': 9086, '나던데': 9087, '우뢔매': 9088, '실무': 9089, '김경석': 9090, '빠져들': 9091, '쫙깔렷': 9092, '뒤쪽': 9093, '한희정': 9094, '미치겠다': 9095, '가세': 9096, '멍청이': 9097, '적다': 9098, '느끼면서': 9099, '빈스': 9100, '부르시고': 9101, '넣는데만': 9102, '동해': 9103, '그렇구나': 9104, '있엇구': 9105, '적이면서도': 9106, '돌리다가': 9107, '이거하길': 9108, '거돈': 9109, '보셔도': 9110, '낳진': 9111, '배제': 9112, '이었어': 9113, '웃기다가': 9114, '참은': 9115, '무능하고': 9116, '나쁜것': 9117, '착해서인지': 9118, '은석': 9119, '치밀어': 9120, '오른다': 9121, '로이킴': 9122, '딕펑스': 9123, '정준영': 9124, '싶었기': 9125, '안녕하소': 9126, '아이코': 9127, '스럽지도': 9128, '않구만': 9129, '능욕': 9130, '본연': 9131, '끌어내지도': 9132, '무니': 9133, '인증': 9134, '되돌아보게': 9135, '갖게': 9136, '유치하지도': 9137, '질리지도': 9138, '만나니깐': 9139, '동키': 9140, '주실거죠': 9141, '한경직': 9142, '신사참배': 9143, '안타까': 9144, '외오고': 9145, '완벽합니다': 9146, '죄파': 9147, '슬퍼서': 9148, '종훈': 9149, '상하': 9150, '이런데': 9151, '나와요': 9152, '개잼꿀잼': 9153, '이쁘당': 9154, '이쁜데': 9155, '탄에서': 9156, '입는것도': 9157, '바질': 9158, '리스크': 9159, '망쳐놨내': 9160, 'ㄹㅏ': 9161, '이는': 9162, '기쁨': 9163, '섭리': 9164, '특별히': 9165, '성미': 9166, '자애': 9167, '탄탄한게': 9168, '느껴졌다': 9169, '류시시': 9170, '시계수리공': 9171, '장효전': 9172, '약혼자': 9173, '눈물났었어요': 9174, '막강': 9175, '잔인하다': 9176, '속인': 9177, '스칼렛': 9178, '요한슨': 9179, '팔릴': 9180, '저급하고': 9181, '썰렁함': 9182, '탄탄해요': 9183, '가봐도': 9184, '작이긴': 9185, '왜욕해': 9186, '더락': 9187, '존시나': 9188, '잘나': 9189, '터프': 9190, '전진': 9191, '당돌한': 9192, '였다는게': 9193, '잔잔해요': 9194, '암울하고': 9195, '캄캄하구': 9196, '칙칙하구': 9197, '그럴수있지': 9198, '밑바닥': 9199, '이말년': 9200, '유물': 9201, '움직이면': 9202, '만든거랑': 9203, '차이는': 9204, '할라': 9205, '하였으나': 9206, '지나쳐': 9207, '담백한': 9208, '코같음': 9209, '꺼내고': 9210, '봐주기': 9211, '충실했다': 9212, '되었어도': 9213, '동방예의지국': 9214, '장모': 9215, '건네주는': 9216, '건네는': 9217, '심하네요': 9218, '심의': 9219, '걸리지': 9220, '않나요': 9221, '찝찝한': 9222, '되고싶어하는거': 9223, '벗는다': 9224, '그랬니': 9225, '차렸다': 9226, '돈크라이마미': 9227, '스파르타': 9228, '가르쳐라': 9229, '왓음': 9230, '들어와': 9231, '즐겁긴': 9232, '하다만': 9233, '하고있단': 9234, '뻔한줄': 9235, '빈틈': 9236, '봤어': 9237, '좋았어': 9238, '둘려': 9239, '잘라먹고': 9240, '지우기는게': 9241, '싫어지네요': 9242, '어설프려고': 9243, '하숙': 9244, '사궈': 9245, '갖는': 9246, '클로즈업': 9247, '샤샤': 9248, '사랑스러우면서': 9249, '풉하고': 9250, '스럽기까지': 9251, '이쁘게': 9252, '자오는': 9253, '잃고': 9254, '갈팡질팡': 9255, '낭비했다': 9256, '삼거리': 9257, '에볼라': 9258, '믿기': 9259, '힘들': 9260, '훈훈하당': 9261, '과언': 9262, '사상충': 9263, '코지': 9264, '논픽션': 9265, '죽임': 9266, '도크': 9267, '필요없': 9268, '델피': 9269, '지루할만큼': 9270, '고요하고': 9271, '서글픈': 9272, '선속': 9273, '머문': 9274, '서영희': 9275, '분한': 9276, '슬프면서': 9277, '갑갑한': 9278, '콩쾌': 9279, '사기죄': 9280, '고소': 9281, '아까울꺼다': 9282, '돋보이나': 9283, '느꼈는데': 9284, '밥상': 9285, '엎음': 9286, '애린': 9287, '이미테이션': 9288, '될고': 9289, '불현듯이': 9290, '떠오를만큼': 9291, '강렬했던': 9292, '애틋하다': 9293, '잭키': 9294, '없었더라면': 9295, '남았을텐데': 9296, '나아지게': 9297, '정기용': 9298, '배웠습니다': 9299, '점빵문': 9300, '닫는거다': 9301, '울상': 9302, '키우셔용': 9303, '안은': 9304, '어렵': 9305, '버러지': 9306, '재이있어요': 9307, '짜세': 9308, '기다리고있': 9309, '담니다': 9310, '우상화': 9311, '만든다고': 9312, '리버': 9313, '피닉스': 9314, '흐르다니': 9315, '보는이를': 9316, '떨어지도록': 9317, '다스베이더': 9318, '루크': 9319, '레이어': 9320, '갈거면': 9321, '앙증맞는': 9322, '둘이서': 9323, '천막': 9324, '윤두준': 9325, '뭘말': 9326, '본거였는데도': 9327, '으잌': 9328, '뛰어넘을': 9329, '않을듯': 9330, '헤어지고싶을': 9331, '깃털': 9332, '흑백영화': 9333, '메세지전': 9334, '앞서가고': 9335, '관념': 9336, '지른다': 9337, '재밋내': 9338, '깨금': 9339, '짜기에': 9340, '달렸나': 9341, '이오': 9342, '음정': 9343, '쏠려있으니까': 9344, '크리스마스': 9345, '사드': 9346, '후작': 9347, '자고싶은': 9348, '뻔합니다': 9349, '곤충': 9350, '딱이네요': 9351, '안성기': 9352, '어간': 9353, '룸바': 9354, '이기주의': 9355, '맘껏': 9356, '경쾌하고': 9357, '회고': 9358, '폭격기': 9359, '딱조은': 9360, '스피디': 9361, '광대한': 9362, '생긴다': 9363, '호크': 9364, '믿겠어': 9365, '오월': 9366, '야릇한': 9367, '오싹해지는': 9368, '집단': 9369, '높다면': 9370, '볼것이다': 9371, '빠질수도': 9372, '옮겨놨다': 9373, '안당': 9374, '짧다면': 9375, '작은아이까지가': 9376, '흐믓하': 9377, '드시겠다는': 9378, '순결하지': 9379, '않은것보다': 9380, '깨끗하고': 9381, '곧아야지': 9382, '깔끔해서': 9383, '잊어버린다': 9384, '촌티': 9385, '나며': 9386, '그렇듯': 9387, '나은데': 9388, '세련됨': 9389, '모자라다': 9390, '잡았다': 9391, '까먹었었는데': 9392, '거지같다': 9393, '뫼비우스': 9394, '만들어졌다는게': 9395, '믿어지냐': 9396, '샤를': 9397, '아우라': 9398, '조그만': 9399, '착함을': 9400, '얻는다는': 9401, '돌아가면': 9402, '경쟁': 9403, '치열함': 9404, '아니여도': 9405, '스러운게': 9406, '끈것': 9407, '허망': 9408, '대단하긴': 9409, '좋았으': 9410, '김민': 9411, '망치다니': 9412, '잡아낼수': 9413, '슬랩': 9414, '두세': 9415, '즐거웠던': 9416, '드리': 9417, '시한': 9418, '남북': 9419, '평화로': 9420, '망설였던': 9421, '색휘': 9422, '애쓴다': 9423, '다니냐': 9424, '제시카알바': 9425, '시베리아': 9426, '훈련': 9427, '작살': 9428, '기록': 9429, '애뜻': 9430, '쿵쿵': 9431, '울려': 9432, '대며': 9433, '간절한것': 9434, '자연재해': 9435, '살아가는지': 9436, '해보게하는': 9437, '열쇠': 9438, '힘들어서': 9439, '보러가야겠다': 9440, '잘나간': 9441, '센과': 9442, '치히로': 9443, '행방불명': 9444, '느끼다': 9445, '본지가': 9446, '넘었는데': 9447, '눈물나게하는': 9448, '지루합니다': 9449, '살아야겠다': 9450, '코스트': 9451, '다른건': 9452, '줬다면': 9453, '유용하게': 9454, '썻었을거': 9455, '쉽죠잉': 9456, '없디': 9457, '밀실': 9458, '튀는': 9459, '좋았을듯': 9460, '만든거냐': 9461, '강호': 9462, '흑전사': 9463, '써가지고': 9464, '무서워요': 9465, '잘하': 9466, '높아요': 9467, '무서운거': 9468, '퀵이유': 9469, '나니아': 9470, '연대기': 9471, '마이티': 9472, '흐미': 9473, '재미있네': 9474, '종료': 9475, '수정과': 9476, '마마마': 9477, '우측': 9478, '할테고': 9479, '쓰레': 9480, '샌드맨': 9481, '조으다': 9482, '난또': 9483, '원한': 9484, '깊길래': 9485, '나대다': 9486, '죽인거네': 9487, '질풍': 9488, '엠페러': 9489, '되었': 9490, '빡친다': 9491, '다를건': 9492, '심각했음': 9493, '손꼽히는': 9494, '낮추어도': 9495, '실망할': 9496, '디스크': 9497, '낯가림': 9498, '날라': 9499, '다님': 9500, '재치': 9501, '궁금증': 9502, '증폭': 9503, '봤느뇨': 9504, '술함': 9505, '졸라리': 9506, '쏘다': 9507, '오사카': 9508, '두기': 9509, '지루하기까지': 9510, '좋아졌어요': 9511, '열어주고': 9512, '에그': 9513, '잊혀지지가': 9514, '리즈시절': 9515, '신동': 9516, '뿌듯했어요': 9517, '트랜스포터': 9518, '신뢰': 9519, '멍하다가': 9520, '내야겠다는': 9521, '고집': 9522, '참사': 9523, '핸드': 9524, '사나워서': 9525, '떠드는게': 9526, '괴물영화': 9527, '짠하고': 9528, '아름답기만': 9529, '본진': 9530, '헤드셋': 9531, '찌릴뻔': 9532, '하얀': 9533, '눈밭': 9534, '시끄러워요': 9535, '뻔했을': 9536, '라디오': 9537, '기숙': 9538, '전원': 9539, '에타': 9540, '숨지는': 9541, '지릴': 9542, '라이어': 9543, '매끄럽게': 9544, '종결': 9545, '적혀있네': 9546, '관대하다': 9547, '만들긴': 9548, '엠마뉴엘': 9549, '효느': 9550, '빠라도': 9551, '잇서요': 9552, '오글거림까지': 9553, '복귀': 9554, '대게': 9555, '정해져': 9556, '오랜만': 9557, '조은경': 9558, '입맞춤': 9559, '황진': 9560, '미씨': 9561, '죽었다': 9562, '총기': 9563, '폭동': 9564, '들러': 9565, '지루하냐': 9566, '부로': 9567, '하려는듯': 9568, '신세': 9569, '죽여야': 9570, '작작하라고': 9571, '재밋었다': 9572, '박유천': 9573, '화백': 9574, '후루룩': 9575, '드시다': 9576, '쉬는': 9577, '이뻣다': 9578, '낚였다': 9579, '이라기에': 9580, '있기는': 9581, '한하유': 9582, '지나가면': 9583, '돌아오지': 9584, '않을테지만': 9585, '투어': 9586, '견디는게': 9587, '고문': 9588, '일본제국': 9589, '영점': 9590, '필자': 9591, '차별성': 9592, '화려함이였다면': 9593, '기선': 9594, '화려함이': 9595, '돋보임': 9596, '넣는것은': 9597, '오그라들고': 9598, '봐야하나': 9599, '깨닫는': 9600, '간건': 9601, '펀집': 9602, '성한게': 9603, '안타깝다지요': 9604, '뮬란': 9605, '전쟁씬': 9606, '왈가': 9607, '왈부': 9608, '군요': 9609, '남긴': 9610, '무식한': 9611, '망쳐놨다': 9612, '리오': 9613, '모리꼬': 9614, '부터의': 9615, '일어서기': 9616, '自立': 9617, '마당': 9618, '욱일승천기': 9619, '안좋았으며': 9620, '일장기': 9621, '일맥상통': 9622, '싶었습니다': 9623, '필요합니다': 9624, '싶게하는': 9625, '헤집어놓는': 9626, '배추': 9627, '심어라': 9628, '꼬꼬': 9629, '봤던건데': 9630, '스킨헤드': 9631, '싫어합니다': 9632, '머릿': 9633, '봐야하고': 9634, '졸도': 9635, '본가': 9636, '닮은것': 9637, '남우': 9638, '받을만': 9639, '사겼어요': 9640, '헤어졌으면': 9641, '불쾌감': 9642, '심어주는': 9643, '킹오파': 9644, '해봐라': 9645, '물어본다': 9646, '프리즌브레이크': 9647, '보든': 9648, '재밌어하는': 9649, '타입': 9650, '돌려도': 9651, '돌리게만': 9652, '드는구나': 9653, '스마트폰': 9654, '쓸수': 9655, '있는걸': 9656, '하실수': 9657, '볼바': 9658, '탄을': 9659, '슈나이더': 9660, '부르': 9661, '불닭': 9662, '만들지마라': 9663, '옥주현': 9664, '나오는줄': 9665, '블렉코메디': 9666, '메딘': 9667, '옥소리': 9668, '프로필': 9669, '계발': 9670, '민권': 9671, '사를': 9672, '때리냐': 9673, '알아야만': 9674, '않길': 9675, '할머님': 9676, '먹하게만': 9677, '되는군': 9678, '만들었어도': 9679, '여호와': 9680, '증인': 9681, '탁월하다': 9682, '안쓰럽다': 9683, '읽고도': 9684, '났는데': 9685, '어린나이의': 9686, '용씨': 9687, '멋져용': 9688, '낮어': 9689, '틀어주지': 9690, '주사': 9691, '싸워서': 9692, '맨몸': 9693, '싸울': 9694, '이겼다': 9695, '순전히': 9696, '보고있을께': 9697, '기어': 9698, '보여줄수': 9699, '더욱이': 9700, '액트오브밸러': 9701, '론서바이버': 9702, '네이비씰': 9703, '사도': 9704, '보때': 9705, '재미있었구요': 9706, '밑에님보': 9707, '뿜음': 9708, '깎이': 9709, 'ㄱㄱ': 9710, '한송이': 9711, '멋질수가': 9712, '디스코': 9713, '추는건': 9714, '놀라운건': 9715, '만들었다는거': 9716, '였네': 9717, '채드': 9718, '머레이': 9719, '슬펏음': 9720, '이맘': 9721, '귀엽': 9722, '하네야': 9723, '수술': 9724, '한게': 9725, '어설펐어': 9726, '그치만': 9727, '디젤': 9728, '진것': 9729, '막연히': 9730, '넘겨': 9731, '넘치지만': 9732, '문단속': 9733, '중요성': 9734, '불사': 9735, '숨바꼭질': 9736, '먹던': 9737, '망라': 9738, '오현경': 9739, '범학': 9740, '드럼': 9741, '돋음': 9742, '많이나': 9743, '왓으': 9744, '없다니': 9745, '없구요': 9746, '이루세요': 9747, '할게요': 9748, '찬송': 9749, '성경책': 9750, '교인': 9751, '나뉘는': 9752, '컸던': 9753, '루비반지': 9754, '진전': 9755, '끄는것': 9756, '답답하지만': 9757, '멍청함': 9758, '알아차려야지': 9759, '경민이': 9760, '알아차리면': 9761, '단추': 9762, '어긋난': 9763, '이암': 9764, '부전': 9765, '네티즌': 9766, '봐야겠네요': 9767, '까비': 9768, '가두면': 9769, '촌스러워진다': 9770, '어법': 9771, '저예산영화': 9772, '클은': 9773, '다크호스': 9774, '믿습니다': 9775, '부탁드리고': 9776, '뜨거운': 9777, '생겼습니다': 9778, '리부트': 9779, '확장': 9780, '줬던': 9781, '맥과이어': 9782, '독특하다': 9783, '섬세하다': 9784, '오리진': 9785, 'ㅋㅋㅋㅋㅋㅋㅋㅋㅋㅋㅋㅋㅋㅋㅋ': 9786, '그림판': 9787, '그렸냐': 9788, '분간': 9789, '그나': 9790, '건진': 9791, '괜찮구만': 9792, '와도': 9793, '않으니': 9794, '괜찮다고': 9795, '느끼네': 9796, '좀있지만': 9797, '잘끝냇구': 9798, '들이야': 9799, '빠져듬': 9800, '낮다고': 9801, '넘치지도': 9802, '캠프락': 9803, '버레스크등': 9804, '모자라진': 9805, '소림축구': 9806, '자랑스럽습니다': 9807, '않앗나': 9808, '화두': 9809, '찍으셈': 9810, '불쌍하지도': 9811, '아시나요': 9812, '가주': 9813, '볼줄이야': 9814, '아깝지만': 9815, '빼놓을수': 9816, '이예': 9817, '빨아서': 9818, '이지난': 9819, '눈가': 9820, '적시는': 9821, '주었다': 9822, '달릴': 9823, '울리고': 9824, '개었다': 9825, '숫자': 9826, '보이진': 9827, '문지기': 9828, '하고프다': 9829, '였던것': 9830, '관객을': 9831, '돌파': 9832, '예쁜듯': 9833, '예민한': 9834, '지워': 9835, '나늬겟': 9836, '감있어서': 9837, '무섭다는걸': 9838, '무서웠음': 9839, '먹으니': 9840, '가는듯': 9841, '죄란': 9842, '신앙': 9843, '믿는다면': 9844, '종교영화': 9845, '밥맛': 9846, '데스노트': 9847, '어색했어요': 9848, '솔직합니다': 9849, '보구나면': 9850, '불편함에서': 9851, '시끄럽기만': 9852, '소름끼치는군': 9853, '꾸리': 9854, '시외': 9855, '싱황': 9856, '넘의': 9857, '꿈햇': 9858, '마물': 9859, '아숩다': 9860, '우수하다': 9861, '시키에게': 9862, '찍었을': 9863, '방이': 9864, '시키가': 9865, '쓰러지는': 9866, '볼수있었다': 9867, '쎘다': 9868, '신들린': 9869, '충만': 9870, '무리수였으나': 9871, '넘어지는': 9872, '케이트': 9873, '허드슨': 9874, '뻔한거': 9875, '무뇌충': 9876, '면알': 9877, '가증': 9878, '짜증스럽다': 9879, '해외': 9880, '쑈할때': 9881, '행각': 9882, '뻔뻔': 9883, '개다': 9884, '넘냐': 9885, '우습고': 9886, '짠하다': 9887, '했다라는': 9888, '훨배': 9889, '려면': 9890, '던지': 9891, '씨네프': 9892, '내뿜': 9893, '영홬': 9894, '했다는게': 9895, '공산당': 9896, '위화': 9897, '수목장': 9898, '달콤한': 9899, '선샤인': 9900, '오즈의마법사': 9901, '철통': 9902, '안거': 9903, '범죄예방': 9904, '죄송한': 9905, '유감': 9906, '남게하는': 9907, '환복': 9908, '이쁘길래': 9909, '썩은것이': 9910, '지리네요': 9911, '삶속': 9912, '드러난': 9913, '없으시다': 9914, '용재': 9915, '오닐': 9916, '불능': 9917, '크리스탈': 9918, '아쉬습니다': 9919, '아쉽고도': 9920, '붙이는건': 9921, '들로': 9922, '도시락': 9923, '뺐길': 9924, '도망치면서': 9925, '불쌍한데': 9926, '씩씩해서': 9927, '안된': 9928, '다중이': 9929, '정신분열': 9930, '쉬운': 9931, '고결한': 9932, '하셧을까': 9933, '죽은시인의': 9934, '설국열차': 9935, '가루지기': 9936, '되나요': 9937, '우리동네': 9938, '한주': 9939, '줬겠지만': 9940, '몰아서': 9941, '긴거': 9942, '짜고치는': 9943, '고스톱': 9944, '줘야겠다': 9945, '하얀노': 9946, '카와이': 9947, '골드미스': 9948, '쉽겠다': 9949, '세바퀴': 9950, '뻔헸': 9951, '다진': 9952, '골른거야': 9953, '재발': 9954, '갓말띤줄알았': 9955, '싶으': 9956, '신다면': 9957, '위만': 9958, '잘못이였어': 9959, '의형제': 9960, '시리도록': 9961, '아렸다': 9962, '노이에게': 9963, '맘속': 9964, '콘서트': 9965, '없는가': 9966, '짜고하는': 9967, '신물': 9968, '피겨': 9969, '타는': 9970, '홍수아': 9971, '하도': 9972, '고쳐서': 9973, '오묘한': 9974, '보는데도': 9975, '장서희': 9976, '못구': 9977, '자임': 9978, '부끄럽게': 9979, '걸쳐있는': 9980, '소임': 9981, '오시': 9982, '마모루': 9983, '대들을': 9984, '장끌': 9985, '가져온': 9986, '운석': 9987, '터리': 9988, '겪지': 9989, '노근리': 9990, '알아보려': 9991, '가있었는데': 9992, '월트디즈니': 9993, '안겨주는': 9994, '도리': 9995, '빡치는': 9996, '받을만큼': 9997, '눈물나게잘': 9998, '쓰셨네요': 9999, '중공군': 10000, '각하': 10001, '참전용사': 10002, '호국': 10003, '영령': 10004, '죄송스러운': 10005, '드러운': 10006, '불만': 10007, '해법': 10008, '사발': 10009, '아프지만': 10010, '화려': 10011, '해냈던거': 10012, '보지못하고': 10013, '알지못하는': 10014, '돋더라': 10015, '사랑받으면서도': 10016, '허전할듯': 10017, '아니지만이': 10018, '시킨거': 10019, '한결같은': 10020, '이아쉬': 10021, '웟음': 10022, '차차': 10023, '도라': 10024, '버치': 10025, '찝찝하긴': 10026, '했지만은': 10027, '일거': 10028, '차예련': 10029, '춤추는거': 10030, '일편단심': 10031, '이란다': 10032, '앞서나간작품': 10033, '떠나며': 10034, '짜장면': 10035, '되고싶냐': 10036, '마스터': 10037, '참아라': 10038, '필요한가': 10039, '구태의연한': 10040, '어색한이야기에': 10041, '궁금하지': 10042, '시르다': 10043, '트집': 10044, '대접': 10045, '개차반': 10046, '하는군': 10047, '사과': 10048, '자스민': 10049, '아깝지가': 10050, '짜리인줄도': 10051, '미치게': 10052, '집안일': 10053, '광수': 10054, '효언니': 10055, '넘울었어': 10056, '핑계': 10057, '삼아': 10058, '였다는': 10059, '했더니만': 10060, '웃낌': 10061, '더운': 10062, '날줄': 10063, '많은듯': 10064, '관조': 10065, '나쁘고': 10066, '라시오': 10067, '마이애미': 10068, '리암': 10069, '찍었는데': 10070, '잼없드': 10071, '아름다우네요': 10072, '개박': 10073, '진솔하고': 10074, '천진한': 10075, '따뜻해지더군요': 10076, '생기네요': 10077, '이루지': 10078, '밥값': 10079, '하겠느냐': 10080, '뵈며': 10081, '프렌치': 10082, '캉캉': 10083, '봤었다': 10084, '이지혜': 10085, '돋보였던': 10086, '보느리': 10087, '인강': 10088, '고시원': 10089, '마주쳤을': 10090, '싶더라': 10091, '화물': 10092, '엘리': 10093, '탈때': 10094, '이해력': 10095, '부족하면': 10096, '카니발': 10097, '사이드': 10098, '미러': 10099, '찍었지': 10100, '용치': 10101, '묵직하고': 10102, '들어있다': 10103, '아니더라구요': 10104, '상자': 10105, '케이크': 10106, '켄드릭': 10107, '놓쳐': 10108, '찌이잉': 10109, '하네여': 10110, '때론': 10111, '유쾌하면서도': 10112, '만족합니다': 10113, '전화기': 10114, '삐뚤어지고': 10115, '있었기에': 10116, '킬킬': 10117, '봐줄': 10118, '다다다': 10119, '싶으신': 10120, '활발히': 10121, '드하': 10122, '지루하죠': 10123, '힌편': 10124, '알았냐': 10125, '바라는가': 10126, '잘빠졌다': 10127, '황홀하고': 10128, '에스': 10129, '피오': 10130, '나지': 10131, '열심': 10132, '슬론': 10133, '주셨지만': 10134, '생길': 10135, '딱지왕': 10136, '쳐하네': 10137, '돌린다': 10138, '러시': 10139, '세심': 10140, '아깝구나': 10141, '만날까봐': 10142, '무서워진다': 10143, '초등생': 10144, '기반': 10145, '충실히': 10146, '따라가준것': 10147, '폴포츠': 10148, '들릴': 10149, '눈물샘': 10150, '심심하다': 10151, '멋지던': 10152, '잼깄했눈뎅': 10153, '찐다': 10154, '때리지': 10155, '지디': 10156, '채우자': 10157, '벌린': 10158, '산물': 10159, '는건': 10160, '할거라': 10161, '거겟': 10162, '일어날것만': 10163, '죽였군': 10164, '꼴릿': 10165, '대미': 10166, '문의': 10167, '사로잡으며': 10168, '사로잡는다': 10169, '드리고': 10170, '돌쇠': 10171, '배운거': 10172, '내야겠어요': 10173, '익명성': 10174, '행복하고': 10175, '노트르담': 10176, '지우개': 10177, '오늘이': 10178, '보고싶네요': 10179, '봤죠': 10180, '투캅스': 10181, '불쌍': 10182, '쩔게': 10183, '화끈하게': 10184, '아낀': 10185, '기다리며': 10186, '있어야하는데': 10187, 'ㅜㅜㅡ': 10188, '영물': 10189, '쭝쿠러': 10190, '울리게': 10191, '해고': 10192, '박수치던': 10193, '먹하고': 10194, '움속': 10195, '가득해서': 10196, '나후': 10197, '아스카': 10198, '읽혀지는': 10199, '저린': 10200, '용감하고': 10201, '꾸게': 10202, '만들어요': 10203, '소심한': 10204, '통쾌': 10205, '아니건': 10206, '상업성': 10207, '반하지': 10208, '자세': 10209, '중요하다': 10210, '오를': 10211, '망하더라': 10212, '바꾸려': 10213, '변했지': 10214, '충돌': 10215, '거룩한': 10216, '클릭': 10217, '그만해': 10218, '느끼지': 10219, '업적': 10220, '돌려줘': 10221, '빌리가': 10222, '짠한': 10223, '신선하군요': 10224, '카드': 10225, '무용지물': 10226, '뛰어넘는다': 10227, '웃어': 10228, '야할지도': 10229, '모르겠습니다': 10230, '엣지': 10231, '투모로우': 10232, '도나': 10233, '발산': 10234, '최적화': 10235, '놀라운': 10236, '부적': 10237, '소질': 10238, '드넹': 10239, '적월': 10240, '햅번': 10241, '그란트': 10242, '먹었다': 10243, '하지마': 10244, '오지랖': 10245, '만드는구나': 10246, '낮게주는': 10247, '가야로': 10248, '중이': 10249, '가비': 10250, '의향': 10251, '씁쓸함이': 10252, '장윤현': 10253, '쓰시': 10254, '미흡하지': 10255, '않았나싶고': 10256, '월요커플': 10257, '접하다': 10258, '나올줄은': 10259, 'ㅏㅋㅋ': 10260, '정준하': 10261, '적당할듯': 10262, '맟춰': 10263, '날리지': 10264, '수두': 10265, '낮은거': 10266, '찍어오다니': 10267, '찔리지': 10268, '않니': 10269, '싶으나': 10270, '없기에': 10271, '반올림': 10272, '일세': 10273, '끊겨서': 10274, '버렸나': 10275, '환장하겠구만': 10276, '어우러지네요': 10277, '장항': 10278, '청년': 10279, '뻔하긴': 10280, '돋앗다': 10281, '예쁘니까': 10282, '정도의': 10283, '아니구요': 10284, '동명이인': 10285, '일거에요': 10286, '나타나는': 10287, '가보니': 10288, '폐허': 10289, '핵전쟁': 10290, '채웠다': 10291, '타락한': 10292, '내려온다': 10293, '길것': 10294, '길지': 10295, '다듬어진': 10296, '빠질게': 10297, '무뇌': 10298, '인것': 10299, '줘야': 10300, '화나는': 10301, '무한도전': 10302, '개그콘서트': 10303, '드러내': 10304, '화통': 10305, '남는거하나도': 10306, '공중전': 10307, '물리는거': 10308, '살고싶다': 10309, '이정우': 10310, '김푸른': 10311, '추합니당': 10312, '이두용': 10313, '개시': 10314, '개똥칠': 10315, '샤론스톤': 10316, '나왔겠소': 10317, '늙었고': 10318, '무례하다': 10319, '약하고': 10320, '부족한건': 10321, '나이스': 10322, '재탕해라': 10323, '안타깝게': 10324, '돌아가셔서': 10325, '가시다니': 10326, '끝나노': 10327, '싸웠을': 10328, '지저분하고': 10329, '망함': 10330, '안나는데': 10331, '그지같았다는': 10332, '남아있네요': 10333, '넘버원': 10334, '기절': 10335, '같았어': 10336, 'ㅜㅜㅜㅜ': 10337, '박제': 10338, '풍속': 10339, '학적': 10340, '가치나': 10341, '찾아야': 10342, '끔찍한': 10343, '자의식': 10344, '꿈틀': 10345, '서투르고': 10346, '게으른': 10347, '똥통': 10348, '넣고': 10349, '말았구나': 10350, '선교': 10351, '하기를': 10352, '데드': 10353, '캠프': 10354, '골든': 10355, '라즈': 10356, '울것이다': 10357, '말이얌': 10358, '보고왔어용': 10359, '명량': 10360, '폈으면': 10361, '아까웠는지': 10362, '밤임': 10363, '베댓': 10364, '잘써놨네': 10365, '나오죠': 10366, '있었으니': 10367, '어르신': 10368, '몸소': 10369, '보여주신다': 10370, '노개런티': 10371, '김우수': 10372, '받을수': 10373, '흘러나오면서': 10374, '되어있다': 10375, '무서웠던게': 10376, '바퀴벌레': 10377, '팔레스타인': 10378, '같은면': 10379, '깔이': 10380, '배급': 10381, '좋았을걸': 10382, '돌아간': 10383, '임용': 10384, '시킨게': 10385, '모방': 10386, '얻는게': 10387, '화려하게': 10388, '제데로': 10389, '고이': 10390, '리카': 10391, '딴건': 10392, '오연': 10393, '떨리네': 10394, '떨어': 10395, '그럴만': 10396, '힌국': 10397, '많아졌으면': 10398, '순이': 10399, '다투는': 10400, '됐다고': 10401, '없애고': 10402, '해보였음': 10403, '백발': 10404, '완벽했던': 10405, '쒰더': 10406, '해주었기': 10407, '듣게': 10408, '중주': 10409, '자부': 10410, '보여주러': 10411, '신난': 10412, '스팅': 10413, '빗대다니': 10414, '의심스럽다': 10415, '호화로운': 10416, '드물것': 10417, '맞아야': 10418, '동성': 10419, '비슷하다': 10420, '아까와': 10421, '남주나': 10422, '환장한것': 10423, '토요일': 10424, '막대': 10425, '있데': 10426, '실험영화': 10427, '헸을것': 10428, '괞찮네': 10429, '줄려다가': 10430, '말았음': 10431, '판박이': 10432, '가져왔네': 10433, '쪽팔리다': 10434, '떨림': 10435, '커스틴': 10436, '세르': 10437, '지오': 10438, '구티': 10439, '레스': 10440, '애매해': 10441, '노소': 10442, '시킬수': 10443, '주몽': 10444, '가려서': 10445, '국민성': 10446, '얄팍한': 10447, '시켜주면': 10448, '정신대': 10449, '머꼬': 10450, '다가와서': 10451, '신경질': 10452, '아녔나': 10453, '깨는': 10454, '떽땍거리': 10455, '버리고싶을': 10456, '아녔는듯': 10457, '설레고': 10458, '알렉스': 10459, '오로린': 10460, '심심': 10461, '미묘': 10462, '구야': 10463, '쓰나미': 10464, '낮을만한': 10465, '올라가라고': 10466, '매기는데': 10467, '세금': 10468, '면세': 10469, '실베스터': 10470, '멋있': 10471, '맙소사': 10472, '꼴은': 10473, '후후': 10474, '모아놓고': 10475, '이훨': 10476, '종결자': 10477, '범작': 10478, '좋구나': 10479, '김부선': 10480, '뜨지': 10481, '무소유': 10482, '가트': 10483, '바콜': 10484, '감미': 10485, '캄탄할': 10486, '뛰어나다고': 10487, '나가지는': 10488, '읽어주는': 10489, '보세용': 10490, '보영': 10491, '만들수있는': 10492, '낫으면': 10493, '배우겠지': 10494, '만족합니당': 10495, '웃어주자': 10496, '계시': 10497, '기다려주세요': 10498, '보고싶어': 10499, '올리지만': 10500, '와인': 10501, '부르짖다니': 10502, '놀랍': 10503, '빙자': 10504, '쓸쓸하고': 10505, '끝내주는': 10506, '노드': 10507, '설렜음': 10508, '똑똑한': 10509, '압삘럽': 10510, '사형제': 10511, '억울하게': 10512, '야곱': 10513, '척도': 10514, '애잔하다': 10515, '안될거': 10516, '게속': 10517, '얼렁뚱땅': 10518, '넘어가는': 10519, '아니라면서': 10520, '넘어가니': 10521, '온데': 10522, '간데': 10523, '막힌': 10524, '카체이싱': 10525, '부족했는지': 10526, '알아차리지': 10527, '아베': 10528, '히로시': 10529, '타무라': 10530, '키도': 10531, '기대했나보다': 10532, '온돌': 10533, '어쩌나': 10534, '생이라니': 10535, '편이였구': 10536, '한고은': 10537, '인적': 10538, '이탈리아': 10539, '슬퍼지네요': 10540, '들어주세요': 10541, '세현': 10542, '궁금해요': 10543, '요가': 10544, '일찐': 10545, '풀었냐': 10546, '개제': 10547, '벗고': 10548, '하겠다는': 10549, '지루했고': 10550, '함속': 10551, '애절함을': 10552, '마실': 10553, '엉엉': 10554, '흘렀다': 10555, '늙은': 10556, '결혼식': 10557, '좋았으나': 10558, '옷벗고': 10559, '빠진듯': 10560, '분잡': 10561, '쳤음': 10562, '재밌대': 10563, '잔인하기만': 10564, '경력': 10565, '부자연스럽습니다': 10566, '낰였다': 10567, '프리미엄': 10568, '이선균': 10569, '김상중': 10570, '불러노': 10571, '찍냐': 10572, '계쇠': 10573, '괴로웠다': 10574, '재밌지만': 10575, '안되겠구만': 10576, '트램펄린': 10577, '고무': 10578, '부둣가씬': 10579, '변장': 10580, '조엘': 10581, '슈마허': 10582, '로빈': 10583, '어릴떄': 10584, '같은건': 10585, '치워라': 10586, '부시': 10587, '진한지': 10588, '지워주는게': 10589, '대론': 10590, '지운다면': 10591, '괴로울까': 10592, '지우는게': 10593, '됐던': 10594, '잡은': 10595, '더라도': 10596, '웃겼던': 10597, '묻히': 10598, '덥잖은': 10599, '줄줄이': 10600, '늘어놨음': 10601, '보고싶다는': 10602, '될꺼': 10603, '바규': 10604, '갈린다': 10605, '돌리도': 10606, '김은형': 10607, '쇼킹': 10608, '없더니': 10609, '습관': 10610, '찾아봤던': 10611, '했었군요': 10612, '쓰고도': 10613, '아싸': 10614, '진입': 10615, '사가지고': 10616, '콜라': 10617, '먹지': 10618, '빠져서요': 10619, '협동': 10620, '必要': 10621, '있습니까': 10622, '필요합니까': 10623, '섬세함을': 10624, '요하': 10625, '섬세함이': 10626, '나와서도': 10627, '즐길수있는': 10628, '봣드': 10629, '친자': 10630, '끄는거냐': 10631, '보는거냐': 10632, '끝내면': 10633, '소림사': 10634, '관문': 10635, '통과': 10636, '어렵다는거': 10637, '그렇긴': 10638, '깊으니': 10639, '감아': 10640, '거북했다': 10641, '거처': 10642, '불안하게': 10643, '짝짓기': 10644, '쓰이게': 10645, '새끼고양이': 10646, '끼이게': 10647, '들이밀고': 10648, '있는거': 10649, '화났다': 10650, '하지못한': 10651, '와같이': 10652, '미안했을': 10653, '벌레': 10654, '차치하더라도': 10655, '모르겠더라': 10656, '알려지지': 10657, '다오': 10658, '소문': 10659, '도일': 10660, '심할': 10661, '남여': 10662, '안타': 10663, '인정받는': 10664, '두목': 10665, '다르더군요': 10666, '되어서도': 10667, '명곡': 10668, '무섭네요': 10669, '모르겠던': 10670, '차겠지만': 10671, '짰다': 10672, '흐접': 10673, '안타깝': 10674, '늙어서': 10675, '없어짐': 10676, '너덜너덜': 10677, '누더기': 10678, '리본': 10679, '달려고': 10680, '부처': 10681, '인도영화': 10682, '빠져있어서': 10683, '하였다기에': 10684, '요기': 10685, '불러일으킬만': 10686, '마땅하다': 10687, '긴이야': 10688, '기를아주': 10689, '섯다': 10690, '열풍': 10691, '고온': 10692, '고니': 10693, '아귀': 10694, '설전': 10695, '외우게': 10696, '담겨있는': 10697, '칭송': 10698, '한단': 10699, '정신승리': 10700, '곁들여': 10701, '참신했으나': 10702, '부족했다': 10703, '설계': 10704, '했다하면': 10705, '없겠지만': 10706, '재밋는듯': 10707, '왜꼭': 10708, '이래만': 10709, '개멋': 10710, '필요하다': 10711, '서서': 10712, '명예': 10713, '파렴치한으로': 10714, '비추어': 10715, '한심했어요': 10716, '야인시대': 10717, '쳐줘서': 10718, '안중': 10719, '대통령': 10720, '딸이면': 10721, '구해': 10722, '건지에': 10723, '더군다나': 10724, '버리기까지': 10725, '구출': 10726, '하려하는데': 10727, '돌렸음': 10728, '의사소통': 10729, '아나킨': 10730, '헛점많': 10731, '꼼꼼하지': 10732, '특정': 10733, '움직인다': 10734, '금융': 10735, '답답함을': 10736, '멍청하기까지': 10737, '차치하고': 10738, '있었어야지': 10739, '시체': 10740, '카메라감독': 10741, '찍었다고': 10742, '오뚝이': 10743, '로건': 10744, '들여놓고': 10745, '무서워하던': 10746, '없앴으면': 10747, '특별하지도': 10748, '만드느라': 10749, '훈훈한것도': 10750, '먹겠네': 10751, '모터사이클': 10752, '안좋네요': 10753, '되는거죠': 10754, '초보': 10755, '장비': 10756, '흔들려서': 10757, '라스': 10758, '상중하': 10759, '가졌을': 10760, '제어': 10761, '맞춘다고': 10762, '부실하다': 10763, '달려가서': 10764, '다라': 10765, '외로울': 10766, '이기심': 10767, '고맙습니다': 10768, '야합니다': 10769, '민영화': 10770, '막아야': 10771, '억지스럽': 10772, '보는이에': 10773, '만족감': 10774, '하였고': 10775, '새마을운동': 10776, '쯤전에': 10777, '노욕': 10778, '똥례': 10779, '아팟': 10780, '던듯': 10781, '참기': 10782, '힘들었던건': 10783, '만들던여': 10784, '돌아이': 10785, '죽이는것': 10786, '이지나도': 10787, '일이었다': 10788, '시가전': 10789, '힘겨': 10790, '그리는': 10791, '고스트라이더': 10792, '스치면': 10793, '못때': 10794, '겠어요': 10795, '가식': 10796, '긴왤케': 10797, '하시는지': 10798, '모욕죄': 10799, '참는다': 10800, '돌진': 10801, '자본주의': 10802, '무섭지가': 10803, '쳐다만': 10804, '쉽지만': 10805, '궁합': 10806, '그해': 10807, '먹거리': 10808, '허슬': 10809, '짜도': 10810, '갖추었다': 10811, '아이구': 10812, '막혔던': 10813, '화난거': 10814, '어으어엉': 10815, '떼거지': 10816, '선덕여왕': 10817, '하고있는데': 10818, '그만두고': 10819, '리액션': 10820, '봐주것네요': 10821, '화합': 10822, '낮고': 10823, '깔리고': 10824, '깔렸다': 10825, '전액': 10826, '원하고자': 10827, '받네': 10828, '유니세프': 10829, '기부': 10830, '고등학생': 10831, '받은것': 10832, '재미없었는데': 10833, '알던': 10834, '에일리언': 10835, '가다가': 10836, '탈선': 10837, '엎어져': 10838, '김혜성': 10839, '이현진': 10840, '잠오긴': 10841, '어렸으니까': 10842, '친딸': 10843, '찾는거': 10844, '슬프네요': 10845, '인혜힘들': 10846, '찾아주세요': 10847, '식상함에': 10848, '않는다고': 10849, '읽으시길': 10850, '다루고있는데': 10851, '규모': 10852, '재밌는것': 10853, '김영광': 10854, '경수진': 10855, '초로': 10856, '느껴져서': 10857, '흥미로웠음': 10858, '믿지말고': 10859, '앨범': 10860, '피로연': 10861, '신혼': 10862, '느러뜨려놓': 10863, '아쉬워서': 10864, '케니지': 10865, '다잉영': 10866, '주냐': 10867, '미요': 10868, '한거네요': 10869, '오래되고': 10870, '오래되어': 10871, '신선해지만': 10872, '당태종': 10873, '대조영': 10874, '장보고': 10875, '박태준': 10876, '추상': 10877, '적요': 10878, '장첸': 10879, '말쭉': 10880, '처키': 10881, '무서웠었죠': 10882, '금도': 10883, '보고가요': 10884, '여진구': 10885, '이었으면': 10886, '이민': 10887, '행복할까': 10888, '바뀌었다': 10889, '약소국': 10890, '드리우고': 10891, '취했을뿐': 10892, '손대는': 10893, '바라보기': 10894, '극영화': 10895, '떨렸지만': 10896, '폴라로이드': 10897, '사진기': 10898, '대조': 10899, '하게한': 10900, '보고싶네': 10901, '친척': 10902, '재밌더라': 10903, '사촌형': 10904, '최신': 10905, '길러진': 10906, '가두었다': 10907, '참혹하고': 10908, '미칠듯': 10909, '마샤': 10910, '메이슨': 10911, '녹여내며': 10912, '비우고': 10913, '재미있을수가': 10914, '느껴지던': 10915, '탱고': 10916, '담담한': 10917, '편치': 10918, '씁쓸하지만': 10919, '우정은': 10920, '가능한가보다': 10921, '알다': 10922, '뭉클해지는': 10923, '살아가면': 10924, '많아지네요': 10925, '비정하지만': 10926, '비정함마': 10927, '져도': 10928, '따뜻해지는게': 10929, '한스러운': 10930, '독특하면서도': 10931, '놀라는거': 10932, '미친듯': 10933, '해보': 10934, '다는지': 10935, '디아나': 10936, '암프': 10937, '이쁨니다': 10938, '반담횽': 10939, '어마어마하게': 10940, '낮춰야': 10941, '썪는줄': 10942, '비둘기': 10943, '성애자': 10944, '위주': 10945, '보는거지만': 10946, '웃느라고': 10947, '스나입스': 10948, '담아내는': 10949, '웬만한': 10950, '섭렵': 10951, '무서웠었다': 10952, '샤워': 10953, '쳐다보고': 10954, '있을거야': 10955, '흩어져서': 10956, '밀리': 10957, '식인종': 10958, '어쩌잔거': 10959, '말살': 10960, '되었다는': 10961, '있던가': 10962, '아사': 10963, '버터': 10964, '글래스톤베리': 10965, '북받침이란': 10966, '킬빌': 10967, '살사': 10968, '히피': 10969, '드럼통': 10970, '비긴': 10971, '어게인': 10972, '견줄': 10973, '마가리타': 10974, '때쌩': 10975, '미야': 10976, '해볼': 10977, '당췌': 10978, '알수가': 10979, '바꿔치기': 10980, '짝패': 10981, '샐러리맨': 10982, '초한지': 10983, '망가진': 10984, '찌개': 10985, '벌리고': 10986, '벌어진': 10987, '웹툰': 10988, '독신': 10989, '살겠다의': 10990, '포유': 10991, '부담스러운': 10992, '페이스': 10993, '쉬셔야죠': 10994, '삽니다': 10995, '조의': 10996, '세다': 10997, '넘쳐나는': 10998, '들어주셔서': 10999, '올라가는데': 11000, '나는진': 11001, '훼손': 11002, '이끼': 11003, '폐쇄성': 11004, '섞고자': 11005, '했으니': 11006, '담김': 11007, '슬프게': 11008, '끝나잖아': 11009, '죽으면': 11010, '없을가요': 11011, '이펙트': 11012, '심오한': 11013, '비슷해서인지': 11014, '마침': 11015, '버렸음': 11016, '믿는데': 11017, '않을수가': 11018, '괜찮다았던': 11019, '까지야': 11020, '되돌리다': 11021, '바라보지': 11022, '지정학적': 11023, '다르지': 11024, '않았으리라': 11025, '서글프다': 11026, '또해': 11027, '음청': 11028, '우먼': 11029, '패트레이버': 11030, '퍼시픽': 11031, '약할지': 11032, '만들거면': 11033, '만들줄': 11034, '재밌길': 11035, '웃지': 11036, '불가능하다': 11037, '이현우': 11038, '민호': 11039, '나오고부터': 11040, '졌어요': 11041, '홍진영': 11042, '애교': 11043, '자제': 11044, '불편합니다': 11045, '간지난다': 11046, '내놓으라고': 11047, '내놓을까': 11048, '날조': 11049, '드러났어요': 11050, '좁은': 11051, '의욕': 11052, '버릴줄': 11053, '달리던': 11054, '연출자': 11055, '채용': 11056, '시스템': 11057, '어떻길래': 11058, '뽑나': 11059, '외주': 11060, '위로': 11061, '잼나여': 11062, '뭐얌': 11063, '임다': 11064, '나쁜아이는': 11065, '나눠주는': 11066, '색다르거나': 11067, '그린호넷': 11068, '목포': 11069, '재계': 11070, '동양': 11071, '본것인데': 11072, '창문': 11073, '미니시리즈': 11074, '없는건': 11075, '쏟으면서': 11076, '머좀': 11077, '빠져들려면': 11078, '산만해지는': 11079, '늘려주세요': 11080, '무착': 11081, '안봣': 11082, '볼께요': 11083, '쐈으면': 11084, '따구냐': 11085, '잘라먹네': 11086, '워쇼스키': 11087, '썩어나나': 11088, '걸돈': 11089, '않기를': 11090, '잼있긴': 11091, '엠씨': 11092, '이끌어가지못하는거': 11093, '도적': 11094, '넢어': 11095, '땡겨서': 11096, '재미없는게': 11097, '캡틴아메리카': 11098, '어벤저스': 11099, '기대한게': 11100, '화려하지': 11101, '사탄': 11102, '방학': 11103, '뉴코아': 11104, '지배': 11105, '아닙니당': 11106, '끔찍하지만': 11107, '매혹': 11108, '물들며': 11109, '생명력': 11110, '뿜어대': 11111, '목도': 11112, '현란하며': 11113, '빠지지': 11114, '위워회': 11115, '수염': 11116, '복잡': 11117, '기대한': 11118, '숨어있다': 11119, '하지말라': 11120, '뇌리': 11121, '유치하기만': 11122, '올려주려고': 11123, '나잇': 11124, '데드캠프': 11125, '있긴하지만': 11126, '해서나': 11127, 'ㅜㅜㅠ': 11128, '갈렸네': 11129, '많기는': 11130, '때웠': 11131, '맑음': 11132, '파문': 11133, '밖에는': 11134, '잔인하기': 11135, '껄끄랏': 11136, '거쫌': 11137, '주사위': 11138, '치킨': 11139, '해보려': 11140, '졸렬한': 11141, '숭고한': 11142, '그리스도': 11143, '꿇어야': 11144, '치뤘기': 11145, '스티븐시걸': 11146, '보셨던': 11147, '들이라면': 11148, '실망하실거에요': 11149, '씁쓸해지는': 11150, '모조리': 11151, '공임': 11152, '톰크로즈': 11153, '심심하지': 11154, '이응경': 11155, '길용우': 11156, '낫겟다': 11157, '감금': 11158, '했던걸': 11159, '됬습니다': 11160, '연도': 11161, '하여야': 11162, '낮춰서': 11163, '태어난': 11164, '없음에도': 11165, '레베카': 11166, '변치': 11167, '않았던건': 11168, '웃겼음': 11169, '없단다': 11170, '아보': 11171, '불행하더라': 11172, '많다고': 11173, '느꼇': 11174, '아울려져': 11175, '꾸는가': 11176, '꾸는': 11177, '얼리는': 11178, '살았다는': 11179, '훈훈함을': 11180, '될줄은': 11181, '해볼만': 11182, '미필': 11183, '내리는': 11184, '김세준': 11185, '오버액션': 11186, '짜증나던': 11187, '로멘틱': 11188, '특공대': 11189, '약하니': 11190, '무리한': 11191, '띄운다': 11192, '입단': 11193, '곡예사': 11194, '줄타기': 11195, '웃을수': 11196, '흥분하는': 11197, '비슷함': 11198, '스크립트': 11199, '뚱보흑': 11200, '이끌려': 11201, '재미있었기': 11202, '얻은걸': 11203, '틀어주셔서': 11204, '나누어져있던': 11205, '길었던': 11206, '틀었던': 11207, '만들어진건': 11208, '답답함과': 11209, '살맛': 11210, '날텐데': 11211, '쏠려서': 11212, '나잇스탠드': 11213, '즐길수있다는': 11214, '사고방식': 11215, '에든': 11216, '르노': 11217, '라르': 11218, '지크': 11219, '보셩': 11220, '원하기': 11221, '만들어지는': 11222, '스시': 11223, '매시지가': 11224, '담겨': 11225, '타계': 11226, '브래드': 11227, '버리가': 11228, '역정': 11229, '냈는데도': 11230, '뻔하네': 11231, '마르냐': 11232, '셀프': 11233, '길리엄': 11234, '독일인': 11235, '번방': 11236, '에로물': 11237, '봣습니': 11238, '유노윤호': 11239, '나오러면': 11240, '최소': 11241, '끌려는것': 11242, '같앗어요': 11243, '양도': 11244, '헝편없어': 11245, '국밥': 11246, '어울리질': 11247, '잊혀질만': 11248, '시키는구나': 11249, '그랬나': 11250, '바랍니다요': 11251, '부족하다고': 11252, '느꼇는데': 11253, '넘치고': 11254, '이시영': 11255, '올라가는': 11256, '잼있네요': 11257, '미쳤지': 11258, '괜찮나': 11259, '이러면서': 11260, '이였음': 11261, '이러는': 11262, '야했': 11263, '닿지': 11264, '적당해요': 11265, '부끄러워': 11266, '서인영': 11267, '완벽해': 11268, '이겨': 11269, '귀여웠는데': 11270, '미지근한': 11271, '매미': 11272, '아악': 11273, '맨앤': 11274, '히든싱어': 11275, '봤었는데요': 11276, '재밌었지만': 11277, '알지못': 11278, '마지막방송': 11279, '신성록': 11280, '이세영': 11281, '텐션': 11282, '순식간': 11283, '늘리려고': 11284, '만들엇네': 11285, '박력': 11286, '스턴': 11287, '다기': 11288, '끝내는': 11289, '눈부신': 11290, '기억상실증': 11291, '혈관': 11292, '이길수있겠어': 11293, '엊그제': 11294, '사계절': 11295, '더블': 11296, '검은': 11297, '무지하게': 11298, '찍었니': 11299, '최선': 11300, '그런다면': 11301, '내게도': 11302, '최상': 11303, '생길지도': 11304, '식상했다': 11305, '나와야지': 11306, '아닌데도': 11307, '쩔고': 11308, '짜서': 11309, 'ㅎㅌㅊ': 11310, '야해': 11311, '보는것만으로': 11312, '일자리': 11313, '뺏기면': 11314, '조으세요': 11315, '앨고어': 11316, '믿을것인가': 11317, '던져놓고': 11318, '인철': 11319, '명치': 11320, '때리고': 11321, '재미없을거라': 11322, '깨달': 11323, '싶으면': 11324, '바꿔줄': 11325, '만나옵니다': 11326, '도와줘라': 11327, '해보겠다는데': 11328, '재밌는걸': 11329, '한거자': 11330, '이라곤': 11331, '명량해전': 11332, '있는거야': 11333, '유쾌함까지': 11334, '강정원': 11335, '채워졌고': 11336, '정연': 11337, '자릴': 11338, '인용': 11339, '베스킨라빈스': 11340, '모르는것': 11341, '카톡': 11342, '훌륭합니다': 11343, '해낸': 11344, '야성': 11345, '하기에만': 11346, '바쁜': 11347, '담았을': 11348, '담지': 11349, '나제': 11350, '사줄게': 11351, '유치함을': 11352, '깡통': 11353, '구만': 11354, '붙히고': 11355, '싶지도': 11356, '에너지': 11357, '변비': 11358, '아는이에게': 11359, '맞을거': 11360, '젖어': 11361, '보고오기': 11362, 'ㅠㅋ': 11363, '따뜻해져서': 11364, '분동': 11365, '지어졌던': 11366, '달았네': 11367, '재미있지만': 11368, '이상훈': 11369, '전우': 11370, '몸값': 11371, '초집': 11372, '보더라고요': 11373, '재미없었습니다': 11374, '다르다는걸': 11375, '알아가게': 11376, '있었네요': 11377, '보여줬으면': 11378, '유속': 11379, '잠긴듯': 11380, '살나이에도': 11381, '상회': 11382, '함께보다': 11383, '들킬까': 11384, '땡큐': 11385, '거뭐': 11386, '돋네요': 11387, '보여주어도': 11388, '부끄럽지': 11389, '겸손': 11390, '갖추고': 11391, '무수': 11392, '명언': 11393, '만들어내는': 11394, '흘리게': 11395, '만들어주었다': 11396, '기발하면': 11397, '구슬': 11398, '꿰어': 11399, '보배': 11400, '정상인': 11401, '시키던': 11402, '외쿡': 11403, '다수결': 11404, '보고싶었지만': 11405, '방한': 11406, '때릴': 11407, '돌려주는것': 11408, '많아졌음': 11409, '무뚝뚝하고': 11410, '별명': 11411, '만들었을': 11412, '빠질지도': 11413, '모릅니다': 11414, '방정': 11415, '조잡하구': 11416, '유치할수가': 11417, '접임': 11418, '강렬': 11419, '먹한': 11420, '붙은': 11421, '총사': 11422, '훔쳐서': 11423, '노린다': 11424, '믕지': 11425, '잇는거': 11426, '싶어지게': 11427, '잇어': 11428, 'ㅠㅠㅠㅠㅠㅠㅠㅠㅠㅠㅠ': 11429, '마술': 11430, '나볼': 11431, '수나': 11432, '있을지': 11433, '관음증': 11434, '드러나': 11435, '빌려서': 11436, '유명했으면': 11437, '그림형제': 11438, '가까': 11439, '지송': 11440, '입가': 11441, '방사': 11442, '수합': 11443, '지나쳤던': 11444, '야스쿠니': 11445, '올리버': 11446, '망가질': 11447, '에플랙': 11448, '과소': 11449, '차기': 11450, '돌려차기': 11451, '오르기': 11452, '작으면서': 11453, '쓴거니': 11454, '조니': 11455, '스패': 11456, '먹하다': 11457, '뷰욕': 11458, '됐을까': 11459, '스럽네': 11460, '드러내는가': 11461, '살용': 11462, '절댜': 11463, '가당': 11464, '팬심': 11465, '안좋게': 11466, '꾸밈': 11467, '지루하오': 11468, '허무함이로세': 11469, '갈구하던': 11470, '바라면서도': 11471, '깨어남을': 11472, '지나가고': 11473, '오겠지만': 11474, '제자리': 11475, '영원하다': 11476, '치고싶다': 11477, '불쾌해지는': 11478, '용도못': 11479, '주귀': 11480, '들어왔나': 11481, '고려': 11482, '은위': 11483, '해낸거': 11484, '러물': 11485, '격투': 11486, '애쓰지만': 11487, '경전': 11488, '지었으나': 11489, '껄끄러웠다': 11490, '좋았을지': 11491, '뭐람': 11492, '했다는것을': 11493, '상식': 11494, '원폭': 11495, '다름': 11496, '부러웠음': 11497, '크레이븐': 11498, '머피': 11499, '일침': 11500, '잃었다': 11501, '매튜': 11502, '맥커너히': 11503, '빼듯': 11504, '초대': 11505, '시나리오작가': 11506, '밋게봣': 11507, '포르노그라피': 11508, '야했지만': 11509, '비정하네요': 11510, '로세': 11511, '잔대': 11512, '유캔': 11513, '해드릴께요': 11514, '퀀시': 11515, '시네마천국': 11516, '코러스': 11517, 'ㅏㅏㅏ': 11518, '박하사탕': 11519, '녹는': 11520, '행복했던': 11521, '해보는': 11522, '파헤치는': 11523, '지루한데다가': 11524, '밝혀진': 11525, '울었는데': 11526, '남아있어서': 11527, '다시다운': 11528, '어떤아이였던걸': 11529, '남다니': 11530, '했었나': 11531, '보고있을수가': 11532, '최지우': 11533, '색다르다': 11534, '낮아': 11535, '완벽한데': 11536, '만든거라': 11537, '좋나': 11538, '익살스러운': 11539, '평인': 11540, '궁금해진다': 11541, '예원': 11542, '찍어놨나': 11543, '씬정도': 11544, '찍어': 11545, '하향': 11546, '평준화': 11547, '나눔': 11548, '보던거라': 11549, '보고있는데': 11550, '느리고': 11551, '끝나나': 11552, '있구만': 11553, '따지고': 11554, '보냐': 11555, '들긔': 11556, '코스프레': 11557, '찾아볼수도': 11558, '시궁창': 11559, '주는거다': 11560, '한다는게': 11561, '싱겁다': 11562, '링컨': 11563, '하치': 11564, '봤던거': 11565, '돼게': 11566, 'ㅋㄷㅋㄷ': 11567, '하다못해': 11568, '시미즈': 11569, '받은거': 11570, '똑같': 11571, '답니': 11572, '배웠던': 11573, '용감함': 11574, '얻고': 11575, '스트라이커': 11576, '되겠지만': 11577, '쫓아간다': 11578, '밋밋하다': 11579, '만족했어요': 11580, '살고싶어요': 11581, '엔딩크레딧': 11582, '분신사바': 11583, '실사영화': 11584, '파이퍼': 11585, '성숙하고': 11586, '받은이': 11587, '때때로': 11588, '웃기다는': 11589, '재미없다하면': 11590, '나온거냐': 11591, '달아라': 11592, '망쳐': 11593, '보죠': 11594, '쯔무시': 11595, '보느냐에': 11596, '감정씬': 11597, '원어민': 11598, '보여줬는데': 11599, '조성은': 11600, '송새벽': 11601, '멀지': 11602, '않았지': 11603, '본전': 11604, '건진다': 11605, '놀랍나': 11606, '하면은': 11607, '잇던': 11608, '일어': 11609, '해롭습니다': 11610, '하네용': 11611, '발기부전': 11612, '로리타': 11613, '쩔었던': 11614, '졸리운': 11615, '밋밋한': 11616, '할줄이야': 11617, '아론': 11618, '존슨': 11619, '레논': 11620, '서울': 11621, '왔냐': 11622, '이슬람교': 11623, '절묘해진': 11624, '천년': 11625, '유혼': 11626, '마니마니': 11627, '어머님': 11628, '어케': 11629, '썼었는데': 11630, '너무해서': 11631, '드리고요': 11632, '훔치는': 11633, '해왔어요': 11634, '라우': 11635, '매치': 11636, '했군': 11637, '않더라도': 11638, '뮤직': 11639, '비됴': 11640, '실습': 11641, '어정쩡하게': 11642, '맞춘듯': 11643, '진부하기만': 11644, '무너지는것': 11645, '왜놈': 11646, '화산': 11647, '징그러': 11648, '초능력자': 11649, '헤어져': 11650, '야한다니': 11651, '배아': 11652, '낳은아이를': 11653, '보내야한': 11654, '비고': 11655, '모텐슨': 11656, '나오는것': 11657, '이스턴': 11658, '기다리던': 11659, '머임': 11660, '살아있을': 11661, '수식어': 11662, '나야': 11663, '허세쩌': 11664, '같으면': 11665, '짱짱한': 11666, '진임': 11667, '심심하기': 11668, '부패한': 11669, '로마노프': 11670, '왕조': 11671, '뭣같': 11672, '항거': 11673, '폭도': 11674, '친하게': 11675, '지내고': 11676, '욕좀': 11677, '해줘라': 11678, '잠들었어요': 11679, '늘어지고': 11680, '끝나기만을': 11681, '기다렸다는': 11682, '구니스': 11683, '구디넙': 11684, '통쾌하네': 11685, '나타내는거': 11686, '뜯어도': 11687, '모자랄': 11688, '재미있군요': 11689, '코닌': 11690, '나가질': 11691, '외상': 11692, '계셔서': 11693, '없애지': 11694, '별루란걸': 11695, '디질레': 11696, '됬긴': 11697, '슈타인': 11698, '지울': 11699, '강도': 11700, '인질': 11701, '중요한지': 11702, '졸린': 11703, '고르라면': 11704, '고를것이다': 11705, '먹을려고': 11706, '내버리는거': 11707, '고립': 11708, '혈육': 11709, '바뀌는': 11710, '어이없어보다': 11711, '남겨요': 11712, '허구가있어야': 11713, '잼있다지만': 11714, '멸망한다': 11715, '수십': 11716, '만드냐': 11717, '올밴': 11718, '유세윤': 11719, '음주운전': 11720, '스러울': 11721, '이주환': 11722, '장종': 11723, '리설주': 11724, '맛있더라': 11725, '많앗곸': 11726, '정녕': 11727, '계곡': 11728, '어우러진': 11729, '찍었나': 11730, '있군': 11731, '뭉클하더라': 11732, '죽이길': 11733, '바랬다': 11734, '혼났어요': 11735, '높았습니다': 11736, '없고요': 11737, '말장난': 11738, '덴젤와싱턴': 11739, '모레쯔': 11740, '후덕': 11741, '식견': 11742, '갔음': 11743, '미루다': 11744, '미루다가': 11745, '썩었네': 11746, '취학': 11747, '먹으려고': 11748, '스탈': 11749, '할데': 11750, '산삼': 11751, '무림': 11752, '씻고': 11753, '찾아봐도': 11754, '열린다는': 11755, '대회': 11756, '가차': 11757, '뒀다': 11758, 'ㅉㅉㅉㅉ': 11759, '되돌려': 11760, '나타나야': 11761, '달아오를텐': 11762, '부탁드림': 11763, '보고시퍼요': 11764, '나타나주시길': 11765, '충무로': 11766, '넘은데': 11767, '최동훈': 11768, '전우치': 11769, '싱그러': 11770, '풋풋함을': 11771, '브라운관': 11772, '옮겨놓은': 11773, '보고싶게': 11774, '대단하다는': 11775, '넘는데': 11776, '나갔고': 11777, '희한함이': 11778, '결투': 11779, '폭풍눈물': 11780, '팝핀현준': 11781, '울버린': 11782, '매년': 11783, '드류': 11784, '모어': 11785, '꼴사납다': 11786, '보건': 11787, '살리면': 11788, '정치범': 11789, '대에게': 11790, '여행가': 11791, '고파': 11792, '국판': 11793, '첫째': 11794, '트레일러': 11795, '때린': 11796, '초록물고기': 11797, '체인지': 11798, '접속': 11799, '올가미': 11800, '말아주세요': 11801, '쌕시': 11802, '시종': 11803, '시샘': 11804, '노희경': 11805, '괜찮았으나': 11806, '아니고요': 11807, '죽였다': 11808, '빼았긴': 11809, '안재욱': 11810, '개새': 11811, '왔어요': 11812, '휼륭했습니다': 11813, '보편': 11814, '파시즘': 11815, '훌륭하였는데': 11816, '유대': 11817, '벗어나서도': 11818, '이러한': 11819, '견지되': 11820, '담겨져있어서': 11821, '스톱모션': 11822, '필요없고': 11823, '이긴한데': 11824, '끝나면다시': 11825, '얻어맞다가': 11826, '분노해서': 11827, '여우': 11828, '챠크라': 11829, '뽑아내고': 11830, '날고기': 11831, '코스': 11832, '다양한': 11833, '해가며': 11834, '찾을수가': 11835, '나온지도': 11836, '오래되었네': 11837, '학원물': 11838, '손호영': 11839, '일으키는': 11840, '말함': 11841, '모르겠다는': 11842, '암툰': 11843, '골깜': 11844, '부라릴': 11845, '쓰러짐': 11846, '만들었나보다': 11847, '사빠': 11848, '재미있었지만': 11849, '검열': 11850, '폭스라이프': 11851, '합니다요': 11852, '어줍잖지는': 11853, '태우는': 11854, '싶다면': 11855, '국물': 11856, '아닌지': 11857, '기관사': 11858, '짜임': 11859, '태권도': 11860, '공익': 11861, '건전한': 11862, '다방면': 11863, '들지마라': 11864, '이기대': 11865, '창희': 11866, '강산': 11867, '많으셨습니다': 11868, '있게하려고': 11869, '포션': 11870, '떠나는거였었나': 11871, '라던가': 11872, '훌륭햇음': 11873, '넘어가다니': 11874, '재밌네용': 11875, '유치할': 11876, '써용': 11877, '그래비티': 11878, '영화제작사': 11879, '어울리지도': 11880, '돌리고싶네요': 11881, '비강': 11882, '후퇴': 11883, '마십시오': 11884, '앞서가세요': 11885, '돌아볼': 11886, '빈약하고': 11887, '붉은': 11888, '쯤보고있을때': 11889, '유치해서못': 11890, '보겠더라': 11891, '이쁘니': 11892, '보고서': 11893, '뻔했어': 11894, '박상면': 11895, '낚였어': 11896, '럼스': 11897, '신민아': 11898, '귀엽게': 11899, '봤고요': 11900, '살아가는데': 11901, '지표': 11902, '찍어놓은': 11903, '안되지': 11904, '한다든': 11905, '잃었을': 11906, '트인': 11907, '어우러지는': 11908, '하잖는가': 11909, '팔았다는': 11910, '소비자': 11911, '상급': 11912, '상호': 11913, '됐다면': 11914, '만이라도': 11915, '절말': 11916, '다루지': 11917, '중견': 11918, '싸워': 11919, '술사': 11920, '용일': 11921, '뿐이였다': 11922, '넘사': 11923, '재밍': 11924, '하기에도': 11925, '버거워': 11926, '소블': 11927, '공블리': 11928, '지출': 11929, '금고': 11930, '조만간': 11931, '터틀': 11932, '주크박스': 11933, '준다는것은': 11934, '기립박수': 11935, '퀸즈': 11936, '무식': 11937, '깔끔하다': 11938, '짧았으면': 11939, '덜했을듯': 11940, '맑게': 11941, '이럴수있지': 11942, '필요할까': 11943, '건조한듯': 11944, '평땜': 11945, '웃네': 11946, '해줘': 11947, '자음': 11948, '한다니': 11949, '황홀한': 11950, '혈팬': 11951, '지루해지네요': 11952, '혜람이죽엇네': 11953, '살앗': 11954, '넘어갑시다': 11955, '생긴게': 11956, '생텀': 11957, '처녀': 11958, '플랜카드': 11959, '환영': 11960, '자신있다': 11961, '한다지만': 11962, '들어요': 11963, '메릴': 11964, '스트립': 11965, '어려워요': 11966, '힘들건데': 11967, '두어': 11968, '꿈꾸게': 11969, '로보캅': 11970, '여사': 11971, '떼는': 11972, '병구': 11973, '샙을': 11974, '따왔다고': 11975, '하죠': 11976, '나카타': 11977, '잼이졌어': 11978, '크리에이터': 11979, '부끄러운줄': 11980, '압시': 11981, '추강': 11982, '굿굿잼': 11983, '재밌을줄은': 11984, '할배': 11985, '익스펜더블': 11986, '찍어요': 11987, '헥헥거리': 11988, '숨소리': 11989, '방구': 11990, '이인기': 11991, '생강빵': 11992, '귀여운데': 11993, '말입': 11994, '격은': 11995, '만들어지다니': 11996, '이었더라': 11997, '맹신': 11998, '안되겠다는': 11999, '포퐁': 12000, '진호': 12001, '블록': 12002, '어려서': 12003, '풋함': 12004, '남겨줘요': 12005, '쪽지': 12006, '미치겟군': 12007, '재정': 12008, '축소': 12009, '뒤집으며': 12010, '처리': 12011, '스탈린': 12012, '크리스티나': 12013, '잘하는지': 12014, '몰랐어요': 12015, '희래': 12016, '찾으면서': 12017, '라기보다는': 12018, '느껴졌네요': 12019, '안타깝네': 12020, '속출': 12021, '의젓하면': 12022, '마스다': 12023, '미리': 12024, '괜찮을까': 12025, '찍어냈다는게': 12026, '내리던': 12027, '단성사': 12028, '황제펭귄': 12029, '김희로': 12030, '안소니': 12031, '했구만': 12032, '살아는': 12033, '재미있었던': 12034, '뛰어나긴': 12035, '정신의학': 12036, '분노조절': 12037, '증상': 12038, '일거다': 12039, '파손': 12040, '다르덴': 12041, '이냐리': 12042, '차이밍량': 12043, '담겨있다': 12044, '생선': 12045, '가져갔다고': 12046, '처분': 12047, '돌팔매': 12048, '당당하게': 12049, '나영석': 12050, '똑같다고': 12051, '학대': 12052, '장애자': 12053, '보이콧': 12054, '할로우': 12055, '졸렸다': 12056, '앉아있던': 12057, '한심했음': 12058, '날렸네': 12059, '불러일으켰던': 12060, '들마': 12061, '스러웠지만': 12062, '새게': 12063, '꾸준히': 12064, '진짴': 12065, '있슴': 12066, '박민영': 12067, '점더': 12068, '어딨는거냐': 12069, '분명해': 12070, '게왜': 12071, '물대포': 12072, '쏠때': 12073, '웃겻다': 12074, '보여줘도': 12075, '충분히지': 12076, '케드': 12077, '내려가고있는': 12078, '피해망상': 12079, '틀림없음': 12080, '그러니': 12081, '지루하지도': 12082, '하겠구': 12083, '싸려다가': 12084, '방귀만': 12085, '잔뜩뀌': 12086, '팬티': 12087, '올리니': 12088, '봉테일': 12089, '해와서': 12090, '헤니': 12091, '달던가': 12092, '찾는다와': 12093, '유작': 12094, '나왔네요': 12095, '로얄': 12096, '이런것': 12097, '김두영': 12098, '초라했': 12099, '불렀네': 12100, '갖기': 12101, '교육영화': 12102, '키웠어야': 12103, '사구조': 12104, '미결': 12105, '자고로': 12106, '소문난': 12107, '잔치': 12108, '먹을거': 12109, '아닌말로': 12110, '나오도록': 12111, '사표': 12112, '스러웟음': 12113, '색다르다고': 12114, '줄수있는건': 12115, '재밌겠당': 12116, '안내는데': 12117, '살아난것': 12118, '관대하지못하다': 12119, '나래': 12120, '바꿔주세요': 12121, '애쉬': 12122, '하물며': 12123, '자랑스러': 12124, '부인': 12125, '가엾다': 12126, '남이하면': 12127, '가하면': 12128, '입체': 12129, '즐기려는': 12130, '우롱': 12131, '지루했다는': 12132, '임신': 12133, '행복했음': 12134, '오죽': 12135, '하겠니': 12136, '남기': 12137, '민망함': 12138, '들어서서': 12139, '이또': 12140, '꼽는': 12141, '유해진': 12142, '구수한': 12143, '맛깔납니다': 12144, '이장님': 12145, '낸시': 12146, '알렌': 12147, '장엄하고': 12148, '엄숙한': 12149, '할께': 12150, '너리': 12151, '머랄': 12152, '만들어야': 12153, '리턴': 12154, '좋앗을': 12155, '예언': 12156, '당했다고': 12157, '프랑': 12158, '사강': 12159, '말이네요': 12160, '동감': 12161, '독특하지만': 12162, '고쳐야': 12163, '일편': 12164, '그랜트': 12165, '한자리': 12166, '모아놓은': 12167, '지루해서요': 12168, '오렌지': 12169, '비슷하지만': 12170, '참지': 12171, '만들어지지': 12172, '가보는게': 12173, '전설의고향': 12174, '의천도룡기': 12175, '난도': 12176, '보는거야': 12177, '실질': 12178, '알았죠': 12179, '안된다는건': 12180, '마파도': 12181, '하십니다': 12182, '만들었니': 12183, '변해가고있다': 12184, '복희': 12185, '바꾸면': 12186, '안됩니까': 12187, '낮으만': 12188, '바꿔': 12189, '읽는듯': 12190, '오글거려요': 12191, '끄는듯': 12192, '기다리고': 12193, '않는군요': 12194, '힘들지만': 12195, '사토미': 12196, '곱니다': 12197, '여현수': 12198, '이원종': 12199, '김사랑': 12200, '돋보이네요': 12201, '않거든': 12202, '안되는듯': 12203, '좋았': 12204, '예쁘지만': 12205, '터졌어요': 12206, '강츄': 12207, '그지같은지': 12208, '쳤던': 12209, '왈츠': 12210, '수면제': 12211, '나이틀리': 12212, '했던건': 12213, '정신장애': 12214, '틱장애': 12215, '그리워지는': 12216, '라이오넬': 12217, '아니이게': 12218, '가위손': 12219, '지까지': 12220, '개지': 12221, '안되어': 12222, '해보네여': 12223, '애도': 12224, '있다기에': 12225, '보는대': 12226, '발끝': 12227, '따라가내': 12228, '소환': 12229, '자새': 12230, '쪽팔려서': 12231, '돌리게': 12232, '교포': 12233, '찍어도': 12234, '쌀듯': 12235, '이주': 12236, '시키기': 12237, '막바지': 12238, '감출수': 12239, '보증수표': 12240, '불변': 12241, '주제넘은': 12242, '감별': 12243, '치졸하게': 12244, '씩받음': 12245, '이태임': 12246, '야하는거': 12247, '질왜': 12248, '일지냐고': 12249, '달이': 12250, '하더만': 12251, '작이냐고': 12252, '지존': 12253, '나왔어': 12254, '공정하지': 12255, '해왔던것': 12256, '오현민': 12257, '잇었다': 12258, '플라이': 12259, '캬캬캬': 12260, '윤제문': 12261, '됐어요': 12262, '머금': 12263, '줄게요': 12264, '속단': 12265, '진솔한': 12266, '비스티보이즈': 12267, '들렀는데': 12268, '떨거지': 12269, '느거': 12270, '알겟어': 12271, '인관': 12272, '떨거': 12273, '되는거라고': 12274, '인고고고가고가고': 12275, '고거': 12276, 'ㅏㄱ': 12277, '많은게': 12278, '감기하면서': 12279, '적당하다': 12280, '오메': 12281, '해야하는지': 12282, '싫음': 12283, '오달수': 12284, '주긴': 12285, '허하지만': 12286, '세계대전': 12287, '피고': 12288, '지휘': 12289, '고위': 12290, '장교': 12291, '눈물났음': 12292, '그다음': 12293, '궁금하게': 12294, '췌밌는데': 12295, '강석': 12296, '좋아하지는': 12297, '미그기': 12298, '발사': 12299, '격추': 12300, '기계': 12301, '들어주기야': 12302, '줍시다': 12303, '히스레져': 12304, '비견': 12305, '대강': 12306, '남기자': 12307, '생겨도': 12308, '리슨': 12309, '정웅인': 12310, '작이였죠': 12311, '망쳐놓았다': 12312, '좋아지네요': 12313, '그런거': 12314, '존쿠삭': 12315, '오그라들어서': 12316, '는듯': 12317, '이어도': 12318, '씨도둑': 12319, '후궁': 12320, '유산': 12321, '이러다': 12322, '작안에': 12323, '끝날듯이': 12324, '인수대비': 12325, '오글거리지만': 12326, '억지스럽군': 12327, '하워드': 12328, '유명했던': 12329, '스토커': 12330, '미져리': 12331, '칭한다': 12332, '피크타임': 12333, '궁금하오': 12334, '태반': 12335, '쏟은': 12336, '갔을': 12337, '샤시': 12338, '우아하고': 12339, '음미': 12340, '나온다던': 12341, '기다렸는데': 12342, '잘하군요': 12343, '휩싸이면서': 12344, '아더': 12345, '돼더라': 12346, '원탁': 12347, '랜슬롯': 12348, '낸거': 12349, '란슬롯': 12350, '검였나': 12351, '기네': 12352, '비어': 12353, '역도': 12354, '유혹': 12355, '흘리고': 12356, '어메이징': 12357, '가제': 12358, '한거냐고': 12359, '배짱': 12360, '인구': 12361, '이기만': 12362, '중박': 12363, '주지마라': 12364, '와이': 12365, '무쳐': 12366, '뒈지는줄': 12367, '완점잼': 12368, '리바이': 12369, '찍어내니': 12370, '똑같지': 12371, '싶단다': 12372, '머나먼': 12373, '박지수': 12374, '자잘한': 12375, '숏컷': 12376, '관계성': 12377, '탄탄하게': 12378, '더하지도': 12379, '냉정': 12380, '남아돌면': 12381, '봤는': 12382, '가실께요': 12383, 'ㅃㅋ': 12384, '날라가요': 12385, '알맞네': 12386, '윤시윤': 12387, '좋앗다': 12388, '신남': 12389, '헬스장': 12390, '사키': 12391, '평범하다': 12392, '왜만듬': 12393, '안되겠다': 12394, '난잡하고': 12395, '됐냐': 12396, '이롭기': 12397, '키우려고': 12398, '생생함': 12399, '괜찮았을': 12400, '김수로': 12401, '몰랐을꼬': 12402, '단발머리': 12403, '짜증나냐': 12404, '해냈다': 12405, '괜찮았어': 12406, '부르셔서': 12407, '있나이다': 12408, '범죄영화': 12409, '허위': 12410, '했기': 12411, '해놓았고': 12412, '때우기도': 12413, '빠담빠담': 12414, '하지못': 12415, '잇는가': 12416, '미이': 12417, '이취': 12418, '재밋는': 12419, '가톨릭': 12420, '쓴다는': 12421, '식당': 12422, '웃기다고': 12423, '무의미했던거지': 12424, '마리모': 12425, '서일': 12426, '죽은우리': 12427, '고마워나도': 12428, '해보고싶다': 12429, '치사한': 12430, '사시': 12431, '만들었지만': 12432, '망했네요': 12433, '인과관계': 12434, '시킨건': 12435, '동기': 12436, '진득': 12437, '천안함프로젝트': 12438, '억지스런': 12439, '먹냐': 12440, '신춘': 12441, '과욕': 12442, '터질것': 12443, '같을까': 12444, '배우죠': 12445, '해주게': 12446, '있을테니까': 12447, '늙을수': 12448, '내려진': 12449, '키우고': 12450, '될까봐': 12451, '건전히': 12452, '풀수': 12453, '들었고': 12454, '전세계': 12455, '감임': 12456, '다각': 12457, '디디': 12458, '홀딱': 12459, '밝고': 12460, '보고싶어서': 12461, '무표': 12462, '홍혜정': 12463, '이그': 12464, '마도': 12465, '후련': 12466, '나머': 12467, '진다': 12468, '월요일': 12469, '내려가네': 12470, '허탈해': 12471, '떠난다': 12472, '껄욕': 12473, '유다': 12474, '어이없더라': 12475, '봤었다가': 12476, '랍니다': 12477, '내려주세요': 12478, '조가': 12479, '기대했으나': 12480, '가더라': 12481, '이제껏': 12482, '타레가': 12483, '풀리는것': 12484, '갖추지': 12485, '경극': 12486, '드라만데': 12487, '이선': 12488, '민지': 12489, '실망했어요': 12490, '돌더라구요': 12491, '한평생': 12492, '착하게만': 12493, '죽어야하나요': 12494, '좋아하실': 12495, '해드려야겠어요': 12496, '지하실': 12497, '갖혀서': 12498, '고사': 12499, '몰라': 12500, '공격': 12501, '유순한': 12502, '여성성': 12503, '일기토': 12504, '지략': 12505, '맞짱': 12506, '이수정': 12507, '젓통': 12508, '세아': 12509, '우마': 12510, '먼이': 12511, '순수했던': 12512, '빼어난': 12513, '본거야': 12514, '잼있다는': 12515, '몰겠다': 12516, '가누고': 12517, '멍멍': 12518, '쓰겠다': 12519, '열나네': 12520, '없는가보다': 12521, '실습생': 12522, '쓰는것': 12523, '되겠다': 12524, '큰작가되셩': 12525, '동근': 12526, '화단': 12527, '시켜라': 12528, '휴일': 12529, '틀어주길래': 12530, '벌떡': 12531, '앉아서': 12532, '아워스': 12533, '계승': 12534, '밋밋함은': 12535, '그루': 12536, '만들라면': 12537, '만들지도': 12538, '잘하고': 12539, '동민': 12540, '보고싶었던': 12541, '했죠': 12542, '뻔했기에': 12543, '다코타': 12544, '패닝': 12545, '화난': 12546, '제본': 12547, '미도리': 12548, '과다르': 12549, '보여줬다': 12550, '추격씬': 12551, '한풀': 12552, '꺾인': 12553, '멜번': 12554, '강박증': 12555, '증세': 12556, '나기': 12557, '변한': 12558, '영향력': 12559, '봉황': 12560, '수식': 12561, '이명박': 12562, '사대강': 12563, '순응': 12564, '세밀': 12565, '담담히': 12566, '가주세요': 12567, '결심': 12568, '이런대': 12569, '나올만': 12570, '살리려고': 12571, '거임': 12572, '느낄것': 12573, '잇나': 12574, '도인줄모를정도로': 12575, '종착역': 12576, '대유': 12577, '트레비스': 12578, '흘러간다': 12579, '잔인하던데': 12580, '일하기에': 12581, '짜리다': 12582, '돌아와요': 12583, '닮은': 12584, '츠차오': 12585, '발레': 12586, '매카시즘': 12587, '떠다니고': 12588, '흡연량': 12589, '만들었다면': 12590, '되었을지도': 12591, '막히고': 12592, '털어': 12593, '버려야': 12594, '할텐데': 12595, '알리고자': 12596, '했을듯': 12597, '배우다': 12598, '활보': 12599, '양대': 12600, '산맥': 12601, '는거': 12602, '훑어': 12603, '보더': 12604, '진실된': 12605, '않겠는가': 12606, '방지법': 12607, '잼나더니': 12608, '숀펜': 12609, '안된다고': 12610, '어겼다': 12611, '욘사마': 12612, '빠져들어': 12613, '안될듯': 12614, '피곤해서': 12615, '잤음': 12616, '썼잖아': 12617, '모양': 12618, '기대하면서': 12619, '설치는': 12620, '쌓인': 12621, '정점': 12622, '단조로운': 12623, '부족하군': 12624, '불법': 12625, '직하게말': 12626, '느건데': 12627, '황당한데': 12628, '찾았는데': 12629, '지워짐': 12630, '보수': 12631, '좋군': 12632, '상쾌': 12633, '발랄한': 12634, '껄끄런': 12635, '돌리다': 12636, '뚜렷해서': 12637, '안좋고': 12638, '안좋음': 12639, '컬트영화': 12640, '굼뜨': 12641, '긴박한': 12642, '느릿느릿': 12643, '선하네요': 12644, '호들갑': 12645, '떠는게': 12646, '스럽겠지만': 12647, '가며': 12648, '살아야하는': 12649, '만질줄': 12650, '만지는게': 12651, '서안': 12652, '딴엔': 12653, '우쭐': 12654, '했겠지만': 12655, '주물럭거리는': 12656, '앓은거다': 12657, '착한거': 12658, '남질': 12659, '비범해': 12660, '부러워하던': 12661, '평범함에': 12662, '화려하지만': 12663, '화려함': 12664, '갇히고': 12665, '참새': 12666, '평범하지만': 12667, '자유롭게': 12668, '날아가는': 12669, '헐씬': 12670, '멋있게': 12671, '보여주자': 12672, '붙여': 12673, '졌다면': 12674, '숨어있었던': 12675, '찾아보는': 12676, '저렇지': 12677, '되어가고': 12678, '안도': 12679, '얻는다': 12680, '열뻐치': 12681, '그러세요': 12682, '세게': 12683, '잡아서': 12684, '모라': 12685, '않겠지만': 12686, '나을것': 12687, '홍길동전': 12688, '힐줄': 12689, '어머나': 12690, '죽을듯': 12691, '끌었음': 12692, '쓴거지': 12693, '예쁘단': 12694, '필요없다는걸': 12695, '두고두고': 12696, '기억나고': 12697, '아닐런지': 12698, '스티플러': 12699, '미안한': 12700, '장신영': 12701, '송일국': 12702, '이엇다': 12703, '실패하고': 12704, '회복할듯': 12705, '무책임한': 12706, '뒈지는': 12707, '됐지': 12708, '즐거웠습니다': 12709, '싶다는': 12710, '오면': 12711, '해낼': 12712, '였어': 12713, '벌어지고': 12714, '끝나라': 12715, '으이': 12716, '재밌는줄': 12717, '알았는데이게': 12718, '여전했다': 12719, '토막': 12720, '할수있을까': 12721, '묻고싶습니다': 12722, '스탠리': 12723, '존스': 12724, '절묘': 12725, '능청': 12726, '좋구': 12727, '됬으면': 12728, '지영': 12729, '만들었나요': 12730, '실망했다': 12731, '환포': 12732, '지라치': 12733, '높고': 12734, '공기': 12735, '다크라이': 12736, '빠름': 12737, '디안시': 12738, '쓰는대': 12739, '화남': 12740, '멋있었당': 12741, '식스센스': 12742, '류작': 12743, '믿게': 12744, '하드코어': 12745, '부각시킨듯': 12746, '드물게': 12747, '탄탄함': 12748, '어마어마함': 12749, '뽑는다면': 12750, '불신': 12751, '전라': 12752, '찍게': 12753, '달리기': 12754, '없었다면': 12755, '처절했을': 12756, '이민자': 12757, '우아하면서': 12758, '느낌있다': 12759, '불쾌하지만': 12760, '추석': 12761, '재미없네요': 12762, '모션': 12763, '이렇게나': 12764, '심오하고': 12765, '재밌을수가': 12766, '시켰는가': 12767, '넌센스': 12768, '어울릴': 12769, '틀리다고': 12770, '틀리지': 12771, '단것': 12772, '알려주었다': 12773, '레즈비언': 12774, '배렸다': 12775, '살이였는데': 12776, '명필름': 12777, '심재명': 12778, '당함': 12779, '붕뜬': 12780, '남자란': 12781, '관지림': 12782, '시켜주네요': 12783, '났을꺼야': 12784, '감사함': 12785, '해안가': 12786, '지킨': 12787, '인어공주': 12788, '씁쓸하다': 12789, '아웅': 12790, '신선했고': 12791, 'ㅆㄹㄱ': 12792, '보지말아야': 12793, '갈라티아': 12794, '이수경': 12795, '효리': 12796, '외도': 12797, '통채': 12798, '버렸을': 12799, '꺼다': 12800, '황추생': 12801, '오진우': 12802, '버려서': 12803, '슬프당': 12804, '보질못': 12805, '조성하': 12806, '구체': 12807, '아쉬운거': 12808, '경선': 12809, '낭비해': 12810, '버렸군': 12811, '알트': 12812, '성해지는게': 12813, '구성은': 12814, '역겨': 12815, '일으키지': 12816, '할래': 12817, '재및음': 12818, '잡을데': 12819, '월러스': 12820, '처형': 12821, '당하는데': 12822, '지켜만': 12823, '민망': 12824, '진흙': 12825, '해지는데': 12826, '조정석': 12827, '이혼': 12828, '불평등': 12829, '잡다': 12830, '선거': 12831, '되다가': 12832, '되더니': 12833, '카페': 12834, '눈알': 12835, '어따': 12836, '먹는거냐': 12837, '장승': 12838, '나왔지만': 12839, '처절함이': 12840, '씁쓸함을': 12841, '착한데': 12842, '계집': 12843, '치르네': 12844, '재밌었': 12845, '하윤': 12846, '루저': 12847, '쏘아': 12848, '용하는': 12849, '통일한국': 12850, '하는데에': 12851, '감사하고': 12852, '그리스도인': 12853, '살아가야겠다': 12854, '룬드': 12855, '토니쟈': 12856, '살아야': 12857, '해보게끔': 12858, '찍을수': 12859, '찾을수': 12860, '토종': 12861, '가고싶을': 12862, '살던데': 12863, '극빈': 12864, '증가': 12865, '선화': 12866, '계급': 12867, '걸어가고있는듯': 12868, '파라다이스': 12869, '순수하기만': 12870, '기다립니다': 12871, '엄태구': 12872, '할거도': 12873, '혜영': 12874, '빠져나올수': 12875, '설레는거죠': 12876, '써요': 12877, '씁쓸하': 12878, '빼앗아야만': 12879, '알려주었으면': 12880, '하는지를': 12881, '보여줬다면': 12882, '떨어져라': 12883, '브랜드': 12884, '듣는': 12885, '얻게되': 12886, '황홀경': 12887, '즐겨라': 12888, '맞니': 12889, '멍청해': 12890, '보일수가': 12891, '보느니': 12892, '서프라이즈': 12893, '도망가고': 12894, '표본': 12895, '하려니': 12896, '내려': 12897, '아키': 12898, '카우': 12899, '하지요': 12900, '트레': 12901, '이뻤어요': 12902, '일테지': 12903, '강하지도': 12904, '도도': 12905, '지리멸렬한': 12906, '차이나타운': 12907, '짜증나긴': 12908, '유덕': 12909, '행복하게': 12910, '너무하다': 12911, '심한디': 12912, '비춰': 12913, '괜찮어요': 12914, '예비': 12915, '간듯': 12916, '몽골': 12917, '인양': 12918, '그려내냐': 12919, '미라': 12920, '스케이트장': 12921, '사랑스러웠네요': 12922, '박한': 12923, '폐가': 12924, '감고': 12925, '운율': 12926, '돋으면서': 12927, '보고싶당': 12928, '허비하고': 12929, '노출하냐': 12930, '장벽': 12931, '족족': 12932, '들까': 12933, '잊어버린': 12934, '였으나': 12935, '촘촘하': 12936, '맞추지': 12937, '교코': 12938, '케이코': 12939, '아이리스': 12940, '너무하는거': 12941, '자시': 12942, '접합': 12943, '넘는지': 12944, '붙였는지': 12945, '날므': 12946, '인간성': 12947, '아는것도': 12948, '바꿔놓고': 12949, '내놓고': 12950, '파는': 12951, '앱스토어': 12952, '애플': 12953, '안드로이드': 12954, '나온거야': 12955, '알겠냐': 12956, '허무했다': 12957, '딱지': 12958, '지루했어요': 12959, '보겠더군요': 12960, '볼것이': 12961, '지루할수': 12962, '샤워씬': 12963, '올라가나': 12964, '이요원': 12965, '가지신': 12966, '버시': 12967, '재밋엇어': 12968, '돌아가게': 12969, '해준다는': 12970, '없으리만치': 12971, '달까': 12972, '없었단': 12973, '그리울': 12974, '아빠어디가': 12975, '찾는것도': 12976, '뺀질': 12977, '형역': 12978, '올드보이': 12979, '벡터맨': 12980, '프로도': 12981, '디게': 12982, '재미없나': 12983, '강하지': 12984, '개간': 12985, '왕중': 12986, '말을마라': 12987, '무섭지': 12988, '시시': 12989, '껄렁해서': 12990, '천박': 12991, '유희왕': 12992, '아쉽게': 12993, '가버린다니': 12994, '할거예요': 12995, '해줬으면': 12996, '떠나지': 12997, '보고싶을': 12998, '오다': 12999, '활용': 13000, '꼽히는': 13001, '졸았음': 13002, '김현숙': 13003, '여실히': 13004, '들어나는': 13005, '게모': 13006, '조잡함의': 13007, '들어온다': 13008, '중국어': 13009, '유승준': 13010, '나오구': 13011, '끌려서': 13012, '마리옹': 13013, '꼬띠': 13014, '남을것': 13015, '킹콩': 13016, '졸아': 13017, '농촌': 13018, '스크림': 13019, '같은거나': 13020, '정신차리겠냐': 13021, '아이맥스': 13022, '조우': 13023, '잖다': 13024, '만드는지': 13025, '그립구나': 13026, '왜안됫': 13027, '남았나': 13028, '가봤었던': 13029, '안전모': 13030, '전철': 13031, '용암': 13032, '죽는거': 13033, '장례식': 13034, '엘레나': 13035, '흘리는': 13036, '미유키': 13037, '싫어짐': 13038, '빠졌습니다': 13039, '일하게': 13040, '더기': 13041, '승려': 13042, '안되는구나': 13043, '부실하고': 13044, '로프': 13045, '사라지다나': 13046, '인디펜던스': 13047, '재미없을듯': 13048, '샬라샬': 13049, '감싸는': 13050, '알콜중독자': 13051, '고집쟁이': 13052, '베네딕트': 13053, '컴버배치': 13054, '제보': 13055, '중국역사': 13056, '데일': 13057, '들었을텐데': 13058, '재밌었던것': 13059, '나아지는': 13060, '파치노': 13061, '팔마': 13062, '알려주지': 13063, '마라톤': 13064, '달려': 13065, '챙기고': 13066, '일석이조': 13067, '찾아다닌': 13068, '비주류': 13069, '불가피한': 13070, '막히게': 13071, '메트로': 13072, '요시노': 13073, '오크': 13074, '브금': 13075, '되던데': 13076, '놀라는': 13077, '가만': 13078, '있다가': 13079, '말씀드립니다': 13080, '웃기고자': 13081, '흥미로웠지만': 13082, '허탈': 13083, '게일': 13084, '야해서': 13085, '훈훈했음': 13086, '양면': 13087, 'ㄱㄱㄱ': 13088, '순순함의': 13089, '끌리는': 13090, '되살리는': 13091, '약물': 13092, '드레곤': 13093, '기형': 13094, '느끼기에': 13095, '힘없는': 13096, '어김없이': 13097, '해야겠다': 13098, '시킬만': 13099, '장백지': 13100, '비로소': 13101, '중요함을': 13102, '안토니오': 13103, '모티프': 13104, '뼈대': 13105, '섞었지만': 13106, '박정아': 13107, '비롯': 13108, '민망한': 13109, '펼치고': 13110, '드는게': 13111, '다듬으면': 13112, '아주아주': 13113, '찍지마라': 13114, '역사드라마': 13115, '라곤': 13116, '지어줘': 13117, '보는니': 13118, '목욕': 13119, '정좌': 13120, '세로': 13121, '하겠어요': 13122, '전생': 13123, '지었길래': 13124, '써야하나': 13125, '것땜': 13126, '담날': 13127, '졸리던지': 13128, '안젤리나': 13129, '졸려': 13130, '비크티니': 13131, '봤늡데': 13132, '벗김': 13133, '생겻': 13134, '당할꺼이': 13135, '박신양': 13136, '정지': 13137, '팔뚝': 13138, '이렇지만은': 13139, '여교사': 13140, '플래닛': 13141, '비보': 13142, '햇님': 13143, '태양빛': 13144, '케함': 13145, '되는소': 13146, '행여': 13147, '여름방학': 13148, '특선': 13149, '훈훈하네요': 13150, '최헌': 13151, '무의미하게': 13152, '지나갔습니다': 13153, '가득하고': 13154, '버릴꺼야': 13155, '나올만큼': 13156, '비즐러': 13157, '타인': 13158, '지키려': 13159, '엿들으': 13160, '철저한': 13161, '찾아보이': 13162, '기인': 13163, '시아란': 13164, '힌즈': 13165, '어울리는듯': 13166, '박형식': 13167, '심즈': 13168, '아기자기함': 13169, '소소하게': 13170, '유쾌함': 13171, '리키': 13172, '슈러더': 13173, '주근깨': 13174, '울부짖던': 13175, '잊혀지질': 13176, '자아도취': 13177, '유행': 13178, '원조': 13179, '이거였구나': 13180, '유치할줄': 13181, '유명했는지': 13182, '만드는것도': 13183, '잊지말자': 13184, '우주기지': 13185, '튼실하면': 13186, '우기기만': 13187, '키우는게': 13188, '반항': 13189, '재미있다고': 13190, '터지게': 13191, '웃었다니': 13192, '한일': 13193, '질렸을': 13194, '용형': 13195, '호제': 13196, '아쉽기만': 13197, '나뉜다는': 13198, '않거나': 13199, '앞선': 13200, '온전히': 13201, '리프': 13202, '약하다는데': 13203, '재미있는거': 13204, '야했습니다': 13205, '세야': 13206, '치켜뜨고': 13207, '부릅뜨는': 13208, '어설퍼요': 13209, '걸음걸이': 13210, '본분': 13211, '몇대': 13212, '맞았다고': 13213, '됬냐': 13214, '건디': 13215, '홈피': 13216, '가봤는데': 13217, '예정': 13218, '떴다가': 13219, '질랜드': 13220, '보고싶다고': 13221, '봐야겠져': 13222, '쩔었다': 13223, '보내서': 13224, '배울수': 13225, '많은건': 13226, '체험': 13227, '하느냐에': 13228, '뜻대로': 13229, '안될': 13230, '킥킥': 13231, '거침': 13232, '솟아오르는': 13233, '자연스런': 13234, '샘물': 13235, '여친': 13236, '내서': 13237, '싸웠다': 13238, '김영민': 13239, '살리는데에': 13240, '남았으나': 13241, '따오': 13242, '장담': 13243, '컨데': 13244, '만들었으니': 13245, '이라고는': 13246, '찾아볼수': 13247, '네네': 13248, '옥보단': 13249, '가닥': 13250, '잡었구만': 13251, '모독': 13252, '여경': 13253, '경첨': 13254, '띄는': 13255, '있고하지만': 13256, '신기하거나': 13257, '엄청난게': 13258, '멍청하고': 13259, '미련': 13260, '건축학개론': 13261, '제겐': 13262, '닿는': 13263, '이영애': 13264, '도랏': 13265, '김연아': 13266, '크면': 13267, '에리': 13268, '쿨한': 13269, '불사신': 13270, '꼬여도': 13271, '풀림': 13272, '야하다는': 13273, '입도': 13274, '사운트': 13275, '트랙': 13276, '어울릴까': 13277, '갖지': 13278, '중요시': 13279, '모해': 13280, '힘들겠다': 13281, '아닌자는': 13282, '듣지도': 13283, '말지어다': 13284, '작아요': 13285, '공연장': 13286, '원했는데': 13287, '높기': 13288, '간략해서': 13289, '불편': 13290, '서울시장': 13291, '후보': 13292, '달라붙고': 13293, '불쾌함을': 13294, '안좋은': 13295, '확실하네요': 13296, '돌아보지': 13297, '지상': 13298, '통렬': 13299, '못만드': 13300, '나부랭이': 13301, '올려논': 13302, '박한별': 13303, '수년': 13304, '남기는': 13305, '상대성': 13306, '이론': 13307, '기댈수': 13308, '공동체': 13309, '상영작': 13310, '천원': 13311, '현혹': 13312, '이빠이': 13313, '고객': 13314, '센터': 13315, '낚시': 13316, '황폐': 13317, '해져가는': 13318, '각심': 13319, '했다만': 13320, '같다고': 13321, '게살': 13322, '후에도': 13323, '탈거': 13324, '펑점': 13325, '킁킁': 13326, '썅내': 13327, '참음': 13328, '잠기냐': 13329, '저력': 13330, '나올려': 13331, '광팬': 13332, '불편할듯': 13333, '무섭던데': 13334, '뽑을': 13335, '안젤라베이비': 13336, '똥멋': 13337, '난간': 13338, '매달리고': 13339, '펙트': 13340, '실재': 13341, '아프거나': 13342, '달콤하거나': 13343, '내는거': 13344, '받고도': 13345, '징징대는': 13346, '풍선': 13347, '쓸모없는': 13348, '뻣뻣하기': 13349, '퇴보': 13350, '알린다': 13351, '유쾌할수가': 13352, '똥꼬': 13353, '드시고': 13354, '넘어가십니까': 13355, '재밌어오': 13356, '덜하지만': 13357, '안전': 13358, '어색하지만': 13359, '해장국': 13360, '촌빨': 13361, '날리는': 13362, '만이라': 13363, '잘안나서': 13364, '집년': 13365, '일어날수있는': 13366, '이하고': 13367, '일어날수': 13368, '퀸카': 13369, '싫다는': 13370, '쓰레기통': 13371, '물벼락': 13372, '맞고도': 13373, '지냄': 13374, '해지': 13375, '베테': 13376, '류승완': 13377, '무산': 13378, '버렸어요': 13379, '그러네요': 13380, '잼있겠다': 13381, '손손': 13382, '강압': 13383, '시키는게': 13384, '다룬게': 13385, '저러지': 13386, '평화로운': 13387, '숙청': 13388, '강행': 13389, '힘듭니다': 13390, '앳된': 13391, '나오기도': 13392, '간다는': 13393, '들어준다': 13394, '화나네': 13395, '어째서': 13396, '틴토': 13397, '널린': 13398, '감사해진다': 13399, '개줄려다': 13400, '말았': 13401, '무릅쏴': 13402, '사격': 13403, '남았으면': 13404, '볼텐데': 13405, '답임': 13406, '확실해서': 13407, '뭐시기': 13408, '끝났네': 13409, '빠져들었다': 13410, '그만했으면': 13411, '카메오': 13412, '지났지만': 13413, '만족스럽네요': 13414, '난왜릏': 13415, '태조': 13416, '연상연하': 13417, '들어갈': 13418, '틀리다더니': 13419, '시켰어요': 13420, '어린게': 13421, '취조': 13422, '쏘요': 13423, '통편집': 13424, '미흡하다': 13425, '낮은건데': 13426, '화려함에만': 13427, '길들여져': 13428, '헐거운': 13429, '참신하니': 13430, '는줄': 13431, '살인씬': 13432, '친절': 13433, '외는': 13434, '오른': 13435, '뻐기기': 13436, '가구야': 13437, '나니': 13438, '들렸었구요': 13439, '터진': 13440, '괜차늠': 13441, '사라졌다': 13442, '돌려서': 13443, '얼버무림': 13444, '블레어': 13445, '시프트': 13446, '정통': 13447, '메뚜기': 13448, '달려든다': 13449, '끝냇': 13450, 'ㄷㅔ': 13451, '줘야되': 13452, '적당할': 13453, '떼지': 13454, '였을까': 13455, '주정뱅이': 13456, '들어준': 13457, '나왓으': 13458, '좋겟어요': 13459, '기대했다가': 13460, '틸리': 13461, '깜찍': 13462, 'ㅋㅋㅋㅋㅋㅋㅋㅋㅋㅋㅋㅋㅋㅋㅋㅋㅋㅋㅋㅋㅋㅋㅋㅋㅋㅋㅋㅋㅋㅋㅋㅋㅋ': 13463, '미친아내와': 13464, '지루한지를': 13465, '재미있어야': 13466, '불발': 13467, '십이': 13468, '기댄다': 13469, '심리학자': 13470, '탐정': 13471, '받으러': 13472, '던져주고': 13473, '직소': 13474, '박얘쁜': 13475, '빠수니': 13476, '글쎼': 13477, '업죠': 13478, '동반': 13479, '에이은': 13480, '걸짝': 13481, '쏘리': 13482, '빠졌네': 13483, '수학': 13484, '지루할꺼라': 13485, '알러뷰': 13486, '관용': 13487, '저럼': 13488, '섬머': 13489, '심한듯': 13490, '조아요': 13491, '힘든거': 13492, '만든거마': 13493, '나오나': 13494, 'ㅠㅠㅠㅠㅠㅠㅠㅠ': 13495, '모른다면': 13496, '느껴질수있다': 13497, '살수': 13498, '없다면': 13499, '루퍼트': 13500, '버리게': 13501, '난날': 13502, '잘한': 13503, '했었지만': 13504, '즈음': 13505, '순대볶음': 13506, '자칭': 13507, '인심': 13508, '드러워서': 13509, '주겠냐': 13510, '어그': 13511, '끌고서는': 13512, '심빠들': 13513, '돌았냐': 13514, '근처': 13515, '에라도': 13516, '유민': 13517, '어땠는지': 13518, '생각나게': 13519, '내다볼': 13520, '가량': 13521, '내다봤네': 13522, '지루한면도': 13523, '있는거지': 13524, '만들던가': 13525, '영양가': 13526, '명탐정코난': 13527, '남도일': 13528, '보여주세요': 13529, '허큘리스': 13530, '하던디': 13531, '만족했습니다': 13532, '노노': 13533, '불록': 13534, '읽는게': 13535, '행간': 13536, '잃어버렸다': 13537, '찼었던': 13538, '빈약했다': 13539, '본만': 13540, '하반신': 13541, '쏘라는': 13542, '죽이지도': 13543, '똘볼수': 13544, '반대말': 13545, '왜냐하면': 13546, '의료인': 13547, '교육인': 13548, '받읍시다': 13549, '아멘': 13550, '비율': 13551, '익숙': 13552, '안정감': 13553, '풍취': 13554, '폴란드': 13555, '투영': 13556, '차분하고': 13557, '흔들리는': 13558, '박당': 13559, '어울렸다': 13560, '낮을수가': 13561, '일대': 13562, '암울한': 13563, '신랄하게': 13564, '대담한': 13565, '하비에르': 13566, '바르뎀': 13567, '금세기': 13568, '불릴': 13569, '미치도록': 13570, '괴기': 13571, '깔리는데': 13572, '부을': 13573, '높으니': 13574, '가할': 13575, '나았다': 13576, '쓰지안고': 13577, '순수함에만': 13578, '착해하는': 13579, '거슬리겠지만': 13580, '다가옴': 13581, '곽부성': 13582, '낮은대': 13583, '그만하길': 13584, '필요하죠': 13585, '떠오르는군요': 13586, '나본': 13587, '도박': 13588, '사치': 13589, '입음': 13590, '트림': 13591, '일으킴': 13592, '이보희': 13593, '볼수있었던': 13594, '영채': 13595, '재미있다길래': 13596, '인소': 13597, '아프네': 13598, '알아요': 13599, '극악': 13600, '아끼워': 13601, '템포': 13602, '드라들': 13603, '감사해용': 13604, '기억나는게': 13605, '이소재': 13606, '말아먹을': 13607, '정신과': 13608, '된듯': 13609, '혐덕': 13610, '변하질': 13611, '혐덕들': 13612, '크로싱': 13613, '따라가라': 13614, '무모할': 13615, '휴먼': 13616, '빠다': 13617, '채움': 13618, '권인지': 13619, '싸이는': 13620, '마이클잭슨': 13621, '비칭할때': 13622, '정확히는': 13623, '살이었음': 13624, '맞서': 13625, '투쟁': 13626, '기였으면': 13627, '아카데미상': 13628, '받았음': 13629, '벤츠': 13630, '느낀게': 13631, '찾앗다': 13632, '피우길': 13633, '기다리는': 13634, '김지석': 13635, '하시네요': 13636, '돌아보게끔': 13637, '살아야겠어요': 13638, '발동': 13639, '짠하기도': 13640, '있었다고': 13641, '대느라': 13642, '레이싱': 13643, '소희': 13644, '졸귀': 13645, '흘렷다': 13646, '창업': 13647, '꿈꾸는가': 13648, '아이템': 13649, '하려하는가': 13650, '그렇다면': 13651, '험한': 13652, '스승': 13653, '될것이요': 13654, '단념': 13655, '될지도': 13656, '대소': 13657, '최전선': 13658, '데려가는': 13659, '독일어': 13660, '병사': 13661, '조잡하다': 13662, '라이브': 13663, '터지는줄': 13664, '스티치': 13665, '스피드': 13666, '늘어지지': 13667, '빠져들어서': 13668, '나갈듯': 13669, '휴대폰': 13670, '빠뜨릴': 13671, '줘라': 13672, '아웃사이더': 13673, '죽을거': 13674, '덕질': 13675, '하실거': 13676, '정기': 13677, '된면이': 13678, '없내요': 13679, '잔잔하다가': 13680, 'ㅡㅜ': 13681, '스티브유': 13682, '닮아': 13683, '비슷한데': 13684, '저조했을까': 13685, '귀요미': 13686, '망해': 13687, '부추기는': 13688, '백지': 13689, '황석': 13690, '조마조마하면서': 13691, '초초': 13692, '에스프레소': 13693, '땡기는군': 13694, '같노': 13695, '사병': 13696, '했을것': 13697, '천일': 13698, '김민준': 13699, '톱스타': 13700, '똑같음': 13701, '스럽습니다': 13702, '나가자': 13703, '그러긴': 13704, '이네요': 13705, '영관': 13706, '아니면서': 13707, '작작': 13708, '우겨라': 13709, '독도': 13710, '망국': 13711, '건지는게': 13712, '덤덤하고': 13713, '있재': 13714, '라거': 13715, '찜찜함': 13716, '재밓당': 13717, '슬래셔': 13718, '기다려졌는데': 13719, '정치사': 13720, '있었던것도': 13721, 'ㅠㅅㅠ': 13722, '심각한거': 13723, '볼랫더': 13724, '제대': 13725, '찍으면': 13726, '조이스틱': 13727, '지그': 13728, '심각하고': 13729, '해오질': 13730, '빅매치': 13731, '컴텨': 13732, '없는거야': 13733, '아니더라도': 13734, '원주고': 13735, '보시는걸': 13736, '강수연': 13737, '나가있어': 13738, '최정원': 13739, '신음': 13740, '재밌긴': 13741, '시켜야': 13742, '의심스러울': 13743, '흐트러뜨리': 13744, '리허설': 13745, '호박': 13746, '신선할지': 13747, '나비효과': 13748, '뛰어넘는다고': 13749, '세월호': 13750, '선진': 13751, '일어났다면': 13752, '달랐을것': 13753, '콩남': 13754, '콩녀': 13755, '다이어리': 13756, '보고있어요': 13757, '심하던데': 13758, '기름': 13759, '갚이랑': 13760, '소감': 13761, '아까운것밖에': 13762, '만들었지난': 13763, '알았더니만': 13764, '웃었겠다': 13765, '새미': 13766, '어드벤쳐': 13767, '용검': 13768, '스렉': 13769, '친일': 13770, '되지도': 13771, '다음팟': 13772, '장창': 13773, '저작권': 13774, '살아나면': 13775, '쿵푸': 13776, '경매': 13777, '팔리던': 13778, '터뜨리던': 13779, '티앙': 13780, '카타': 13781, '도르는': 13782, '재활용품': 13783, '줍는': 13784, '까지가': 13785, '한계였다': 13786, '유능한': 13787, '주면': 13788, '진실로': 13789, '숨겨져있는것': 13790, '불편하지만': 13791, '의혹': 13792, '라파스': 13793, '신봉선': 13794, '닮아서': 13795, '찾느라고': 13796, '꼬박': 13797, '노래실력': 13798, '뽑는게': 13799, '나가면': 13800, '괜찬': 13801, '아닐수있지만': 13802, '떼놓는것도': 13803, '짜증나고': 13804, '사주든가': 13805, '돌아와서': 13806, '것좀': 13807, '나오나보다': 13808, '가다간': 13809, '큰일': 13810, '다르게': 13811, '쓸엑': 13812, '없애는거': 13813, '해볼려고': 13814, '예쁘니': 13815, '아름': 13816, '뜨니까': 13817, '찍을껀데': 13818, '뜨는지': 13819, '모르는거야': 13820, '면상': 13821, '알겠구만': 13822, '모를까': 13823, '나온거는': 13824, '다재': 13825, '봤었는': 13826, '적게나와': 13827, '아쉽내요': 13828, '이기는': 13829, '볼수는': 13830, '성숙해': 13831, '터지던데': 13832, '거북하면': 13833, '있겠지만': 13834, '할수있으며': 13835, '어렵지': 13836, '좋아하는지': 13837, '따라하지마라': 13838, '꺼지라': 13839, '자지러지고': 13840, '내도': 13841, '안아까': 13842, '전역': 13843, '생활관': 13844, '살아왔고': 13845, '망측하고': 13846, '만들어내는지': 13847, '입는것부터': 13848, '놈이라니까': 13849, '코엑스': 13850, '공각기동대': 13851, '분이라면': 13852, '느껴질거예요': 13853, '아랫쪽': 13854, '배치': 13855, '되어있어': 13856, '결여': 13857, '나왔었던': 13858, '반을': 13859, '허비했': 13860, '오프라인': 13861, '나오셨던': 13862, '고결': 13863, '해보이기까지': 13864, '재일동포': 13865, '필요성': 13866, '분단': 13867, '생겨난': 13868, '조총련': 13869, '받지못하고': 13870, '소외': 13871, '힘들었을것': 13872, '둔것': 13873, '안타까워요': 13874, '묻힌다': 13875, '보려는': 13876, '여분': 13877, '가상현실': 13878, '오해': 13879, '해악': 13880, '확확': 13881, '꽂히는': 13882, '풀어내시나요': 13883, '자느라': 13884, '였다하나': 13885, '뺑소니': 13886, '눈감아': 13887, '주려하는': 13888, '다를께': 13889, '봐주어야': 13890, '점심': 13891, '불쌍함으로': 13892, '봐주어하나운': 13893, '부러지는': 13894, '이착': 13895, '척움': 13896, '흉한': 13897, '죽임것': 13898, '도개': 13899, '운치': 13900, '올려주느라': 13901, '보았고': 13902, '미셸': 13903, '드리의': 13904, '많았던것': 13905, '레오': 13906, '홀리모터스': 13907, '적지': 13908, '톡톡히': 13909, '보았다고': 13910, '감옥살이': 13911, '돼요': 13912, '바뀌었': 13913, '뭐함': 13914, '이식': 13915, '안되잖아': 13916, '먹자는': 13917, '윤은혜': 13918, '무조': 13919, '아포칼립토': 13920, '초입': 13921, '찌그러졌다': 13922, '끝나야': 13923, '부활': 13924, '있겠습니까': 13925, '아는디': 13926, '알다시피': 13927, '주근': 13928, '아련하네요': 13929, '할테다': 13930, '헤어지자': 13931, '미안해서': 13932, '숨고': 13933, '끌어도': 13934, '터미널': 13935, '싫으면': 13936, '넘겨주든가': 13937, '서막': 13938, '나락': 13939, '게봣습': 13940, '치우죠': 13941, '유익하지': 13942, '걸리버': 13943, '여행기': 13944, '한심하다는걸': 13945, '비평': 13946, '승격': 13947, '시키다니': 13948, '드려고': 13949, '애쓰는': 13950, '유사': 13951, '누르고': 13952, '뜻밖': 13953, '권태기': 13954, '비일': 13955, '반적': 13956, '피트': 13957, '어우러져서': 13958, '호세': 13959, '어설픔을': 13960, '벗어나다': 13961, '아젛': 13962, '평민': 13963, '동원': 13964, '먼지': 13965, '일으켜': 13966, '대군': 13967, '제나라': 13968, '속이는': 13969, '물어봐서': 13970, '찾음': 13971, '울었엇다': 13972, '찍어주세요': 13973, '현기증': 13974, '난단': 13975, '편찮게': 13976, '패널': 13977, '하는거지': 13978, '서운하다': 13979, '어색하게': 13980, '좍좍': 13981, '감아가며': 13982, 'ㅋㅋㅋㅋㅋㅋㅋㅋㅋㅋㅋㅋㅋㅋㅋㅋㅋㅋㅋㅋㅋㅋㅋㅋㅋㅋㅋ': 13983, '용은': 13984, '괜찮을듯': 13985, '가상해서': 13986, '울었었음': 13987, '적인듯': 13988, '신상옥': 13989, '유학': 13990, '왔구만': 13991, '읽어도': 13992, '낫겠음': 13993, '만들어놨음': 13994, '공채': 13995, '텔런튼데': 13996, '학예회': 13997, '꿔는': 13998, '중학생': 13999, '양념': 14000, '인과': 14001, '뒤통수': 14002, '주차': 14003, '싸우던': 14004, '생각나': 14005, '따지러': 14006, '칼부림': 14007, '내는': 14008, '재밌었고': 14009, '잡다한': 14010, '샛길': 14011, '새지': 14012, '만족스러웠음': 14013, '고명환': 14014, '쓴거냐': 14015, '볼가치가': 14016, '살어라': 14017, '애매': 14018, '몰랐었는데': 14019, '다룬것': 14020, '했는데도': 14021, '봤슴당': 14022, '이등병': 14023, '읊어': 14024, '삭카': 14025, '로제': 14026, '주문': 14027, '영화리뷰': 14028, '제곱': 14029, '뮤턴트': 14030, '아련하게': 14031, '현충일': 14032, '짜고치는데': 14033, '끝나기': 14034, '샤우팅': 14035, '얻음': 14036, '낚시꾼': 14037, '신발': 14038, '응응': 14039, '믿은': 14040, '볼려면': 14041, '순수함을': 14042, '찾게': 14043, '오죽하면': 14044, '나왔다면': 14045, '투캇': 14046, '따였다': 14047, '있을것이지': 14048, '클러버': 14049, '아늠': 14050, '뽀뽀': 14051, '질임': 14052, 'ㄲㅈ': 14053, '필요없어요': 14054, '닥친': 14055, '무력한': 14056, '마시고': 14057, '앨리': 14058, '이혜영': 14059, '강남': 14060, '은색': 14061, '재규어': 14062, '다니더라': 14063, '외제차': 14064, '캡슐': 14065, '뽑는': 14066, '갸차폰': 14067, '완구': 14068, '뽑으니': 14069, '절세': 14070, '몰락해': 14071, '화판': 14072, '도학': 14073, '위룡': 14074, '발가락': 14075, '만큼만': 14076, '해와': 14077, '오글거리지도': 14078, '네러티브': 14079, '취미': 14080, '올인': 14081, '사고뭉치': 14082, '뜨건운': 14083, '눌물': 14084, '겨워': 14085, '유쾌함과': 14086, '어울려진': 14087, '꺼내': 14088, '정명석': 14089, '군침': 14090, '돌게하는': 14091, '어쩌자': 14092, '테일러': 14093, '장님': 14094, '김남길': 14095, 'ㅈㅈ': 14096, '그랬어': 14097, '이성재': 14098, '무서운듯': 14099, '재밌었으니': 14100, '궁금한': 14101, '똑똑해진': 14102, '보이는건': 14103, '좋아할까': 14104, '진좀': 14105, '올려주': 14106, '노리고자': 14107, '잡지못한': 14108, '배웠다': 14109, '행복하길': 14110, '왜케많음': 14111, '핵꿀잼졸잼': 14112, '번봄': 14113, '배구': 14114, '뻘짓': 14115, '멘붕': 14116, '페러다임': 14117, '깔수': 14118, '양파': 14119, '보고있': 14120, '엿보다': 14121, '따지며': 14122, '빠지는것이': 14123, '광장': 14124, '많았던': 14125, '보던거니까': 14126, '파란색': 14127, '적이에': 14128, '판을치네': 14129, '까지와': 14130, '판치': 14131, '들엇네': 14132, '난뭐': 14133, '본다만': 14134, '였겠지만': 14135, '침팬지': 14136, '였을텐데': 14137, '기대했는': 14138, '나수윤': 14139, '알맞는듯': 14140, '낄낄대며': 14141, '메튜': 14142, '오레': 14143, '얼짱': 14144, '잘생김': 14145, '소리치는건': 14146, '남습니다': 14147, '부터안빠지고시청': 14148, '보지말하': 14149, '야할꺼': 14150, '무제한': 14151, '지장': 14152, '철저하게': 14153, '늘려': 14154, '나갔으면': 14155, '미셀': 14156, '즐거웠어': 14157, '빛난다': 14158, '만만하냐': 14159, '울어야': 14160, '재밌어도': 14161, '추기경': 14162, '계셨고': 14163, '교황': 14164, '가셨습니다': 14165, '하시며': 14166, '부르실': 14167, '격었': 14168, '흐릅니다': 14169, '더안계시나요': 14170, '신비': 14171, '뼈채': 14172, '잭슨': 14173, '성재': 14174, '차돌': 14175, '백이': 14176, '형돈': 14177, '누워있고': 14178, '불쌍했음': 14179, '안무가': 14180, '하시질': 14181, '말던가여': 14182, '낚인건': 14183, '들지는': 14184, '진지함이': 14185, '안하나요': 14186, '이럴거에요': 14187, '뺏엇다': 14188, '겼다': 14189, '이상하네요': 14190, '기발했다': 14191, '보여주지못하고': 14192, '놀고': 14193, '허둥대는': 14194, '사라질': 14195, '남겨놓듯': 14196, '남겨놓고': 14197, '사라진것': 14198, '무서웠다': 14199, '굿닥터': 14200, '갈아탐': 14201, '배틀로얄': 14202, '버리고는': 14203, '해보겠다고': 14204, '좆망': 14205, '리뉴': 14206, '얼하는게': 14207, '소피아': 14208, '있었군요': 14209, '전쯤': 14210, '윤한': 14211, '소연': 14212, '잇는데': 14213, '끌음': 14214, '끄는것도': 14215, '되려는': 14216, '서인국': 14217, '이태준': 14218, '찬란': 14219, '뻔하기': 14220, '독선': 14221, '받지말던가': 14222, '괜찮을지도': 14223, '만을': 14224, '맞춰놓은': 14225, '방세옥': 14226, '그럴듯하고': 14227, '몰라라': 14228, '페제': 14229, '끝내주고': 14230, '다양해서': 14231, '완벽함이': 14232, '만났으면': 14233, '좋아하데요': 14234, '림프비즈킷': 14235, '이입': 14236, '되던': 14237, '일해': 14238, '간하면': 14239, '영화떄문': 14240, '우울해지고': 14241, '지고싶으면': 14242, '마야': 14243, '불안감': 14244, '라오스': 14245, '했었던': 14246, '끝나는게': 14247, '해빙': 14248, '사릉': 14249, '만주': 14250, '빈약한': 14251, '헤더': 14252, '이엄': 14253, '깬다': 14254, '왜색': 14255, '작고': 14256, '교활한': 14257, '웃기는게': 14258, '넘어가는줄': 14259, '알았어요': 14260, '감출': 14261, '없으며': 14262, '카운트': 14263, '특출나지': 14264, '통쾌하게': 14265, '박대동': 14266, '홍도': 14267, '상극': 14268, '건너편': 14269, '밀려오는': 14270, '열린': 14271, '지겨웠다': 14272, '소박함이': 14273, '따스한': 14274, '뜯어서': 14275, '황당했음': 14276, '보고있지': 14277, '한심하게': 14278, '느껴진': 14279, '믿기지': 14280, '우스워': 14281, '잇죠': 14282, '말이아니에요': 14283, '피디': 14284, '잔아요': 14285, '찍는거': 14286, '밧는데': 14287, '페테': 14288, '그루지': 14289, '지잔': 14290, '얄팍하다': 14291, '참아가며': 14292, '지루한게': 14293, '유치하지만': 14294, '썩어야': 14295, '아려오는': 14296, '만들어진것치곤': 14297, '길어서': 14298, '다듬었으면': 14299, '한듯': 14300, '라디오헤드': 14301, '삽입곡': 14302, '화룡': 14303, '점정': 14304, '거창하구': 14305, '유치하냐': 14306, '깊었으나': 14307, '현저': 14308, '남긴다': 14309, '된것': 14310, '후회될': 14311, '다녔을까': 14312, '운운하길': 14313, '나리': 14314, '어울려요': 14315, '고르신': 14316, '부자연스럽고': 14317, '트루': 14318, '스내치': 14319, '교묘하게': 14320, '무린거': 14321, '정두홍': 14322, '액숀': 14323, '해병': 14324, '나와야만': 14325, '년놈': 14326, '뵜는데': 14327, '날렸음': 14328, '하려는게': 14329, '봤을텐데': 14330, '보고왔는데': 14331, '착륙': 14332, '승객': 14333, '신기해': 14334, '깨평': 14335, '상한': 14336, '패가': 14337, '돌아간다': 14338, '육식': 14339, '빌딩': 14340, '딧노': 14341, '없어용': 14342, '지독하고': 14343, '거만한': 14344, '사형수': 14345, '레기': 14346, '유연석': 14347, '손호준': 14348, '떠서': 14349, '섭외': 14350, '요청': 14351, '뜨면': 14352, '좋겟네': 14353, '싫어': 14354, '개대': 14355, '쌩뚱맞다': 14356, '주려다': 14357, '이럼': 14358, '윽수': 14359, '하구만': 14360, '겪고있으니': 14361, '벡실': 14362, '츽오': 14363, '모욕감': 14364, '다지': 14365, '중동': 14366, '하나라': 14367, '밑밥': 14368, '깔더니': 14369, '끝낼떄': 14370, '싶은말': 14371, '진해': 14372, '집니다': 14373, '빡치게': 14374, '고스트': 14375, '헬로': 14376, '성지': 14377, '있노': 14378, '이쁘': 14379, '유치해서리': 14380, '지조': 14381, '베키': 14382, '들썩이게': 14383, '훈훈하구나': 14384, '없노': 14385, '기괴한': 14386, '테크닉': 14387, '따라잡기': 14388, '올려놨네': 14389, '따라갔음': 14390, '진부': 14391, '진지하면서도': 14392, '있을테니': 14393, '아니죠': 14394, '얹어지는': 14395, '소수자': 14396, '지루해지지만': 14397, '갇힌': 14398, '명과': 14399, '도구로': 14400, '원망하겠냐': 14401, '미군정': 14402, '이승': 14403, '행적': 14404, '규명': 14405, '넘어갈': 14406, '만드심': 14407, '망쳐놓을수가': 14408, '방학기': 14409, '동명': 14410, '대실': 14411, '해밋': 14412, '수확': 14413, '셰인': 14414, '카라스': 14415, '트롤': 14416, '파이널판타지': 14417, '빠져든다는': 14418, '약탈': 14419, '전이다': 14420, '혼합': 14421, '이민호': 14422, '없긴': 14423, '핟러': 14424, '준다고': 14425, '틀렸다': 14426, '나약한': 14427, '없는데도': 14428, '뿌리는거': 14429, '장통': 14430, '가격': 14431, '흥정': 14432, '단원': 14433, '훑는다': 14434, '생생히': 14435, '몸짓': 14436, '힘내시고': 14437, '석가탄신일': 14438, '석탄일': 14439, '날이예여': 14440, '붙여넣기': 14441, '얼버무리지': 14442, '순수하구': 14443, '맡아야': 14444, '왜썻을까': 14445, '티켓파워': 14446, '풀어놓고': 14447, '살피는것도': 14448, '들인': 14449, '해나': 14450, '이뿐': 14451, '슬프다는': 14452, '막막하고': 14453, '답답했다': 14454, '나무랄데': 14455, '강심장': 14456, '터졌음': 14457, '유쾌해지며': 14458, '가벼워지는': 14459, '옳은것인지': 14460, '옳은것이있을까': 14461, '찬았음': 14462, '황당했지만': 14463, '상큼': 14464, '있긴한데': 14465, '핑도네': 14466, '싫으나': 14467, '배필': 14468, '필요하다는': 14469, '늘었다': 14470, '트루먼쇼': 14471, '믿으려는': 14472, '가라앉아': 14473, '없었는데': 14474, '횡포': 14475, '까는거': 14476, '살려내지못': 14477, '패왕색': 14478, '패기': 14479, '지자': 14480, '하교': 14481, '라닥': 14482, '눈물날': 14483, '바뀌': 14484, '어수선하면서도': 14485, '볼진': 14486, '모르겟지만': 14487, '설마설마': 14488, '원하지': 14489, '즐기는': 14490, '일보': 14491, '배야': 14492, '가리네': 14493, '빠져들었어요': 14494, '했단': 14495, '나오는지는': 14496, '끌어당기는': 14497, '잔잔하기만': 14498, '잔잔해서': 14499, '되는줄': 14500, '로그': 14501, '할수있다': 14502, '마법사': 14503, '실비': 14504, '폐쇄된': 14505, '습격': 14506, '거죽': 14507, '입혀': 14508, '창피한': 14509, '졸료': 14510, '따뜻해지고': 14511, '감도을': 14512, '잭블랙': 14513, '네이스': 14514, '디도': 14515, '알면서도': 14516, '웃네요': 14517, '살색': 14518, '추한': 14519, '안과': 14520, '실실': 14521, '잔잔한데': 14522, '아이돌가수': 14523, '마에다': 14524, '아츠코': 14525, '라일': 14526, '알제리': 14527, '닿지도': 14528, '동질감': 14529, '참잘': 14530, '주웠다': 14531, '할지라도': 14532, '버릴듯': 14533, '어수선한지': 14534, '어두워서': 14535, '나빠진다': 14536, '모나리자': 14537, '식민지': 14538, '건설': 14539, '관광객': 14540, '망쳐놓았네': 14541, '정은': 14542, '암살': 14543, '영계': 14544, '장병': 14545, '노땅녀': 14546, '베베': 14547, '하기보단': 14548, '갔다면': 14549, '에로스': 14550, '빠닼': 14551, '공이': 14552, '타면서': 14553, '보였음': 14554, '보던걸': 14555, '쓰네': 14556, '크리스': 14557, '파인이나': 14558, '환대': 14559, '뻔하다는것만': 14560, '꼽아': 14561, '올라가야지': 14562, '기나오네요': 14563, '만들어줘서': 14564, '수행': 14565, '쓴거': 14566, '삼사': 14567, '커피숍': 14568, '의논': 14569, '보도록': 14570, '한자': 14571, '다른데': 14572, '시시하다': 14573, '즐거웠다': 14574, '아름다우나': 14575, '탄탄': 14576, '피프때': 14577, '꼽으라': 14578, '드라마틱해서': 14579, '떨어지는것': 14580, '여태껏': 14581, '저지른': 14582, '만행': 14583, '악의': 14584, '담고': 14585, '단면': 14586, '사죄': 14587, '잡기': 14588, '듣던': 14589, '연맹': 14590, '있나요': 14591, '하더군요': 14592, '후레쉬맨': 14593, '수배': 14594, '쫓아가는게': 14595, '남는데': 14596, '런닝': 14597, '임도': 14598, '센치한': 14599, '직업여성': 14600, '끝없이': 14601, '느낀거라곤': 14602, '서양': 14603, '똑같다는것': 14604, '중량': 14605, '세기말': 14606, '지키지': 14607, '깔끔하게': 14608, '만들다가': 14609, '때려치고': 14610, '도망간': 14611, '딴판': 14612, '들어주기': 14613, '가보기엔': 14614, '살자': 14615, '팀버': 14616, '레이크': 14617, '시우민': 14618, '진배': 14619, '높입시다': 14620, '하세': 14621, '부족해': 14622, '무서운거도': 14623, '웃긴거도': 14624, '싱거운': 14625, '되있네': 14626, '레빗': 14627, '다소간': 14628, '봐주겟네': 14629, '신선하구': 14630, '신기있다구': 14631, '어울리네': 14632, '볼케이노': 14633, '라비': 14634, '로즈': 14635, '부른': 14636, '누굴까': 14637, '해봤습니다': 14638, '이디스': 14639, '아프를': 14640, '미시': 14641, '지났다': 14642, '장민': 14643, '푼수': 14644, '오맹달': 14645, '주네': 14646, '나간것': 14647, '빵터졌다': 14648, '늦가을': 14649, '산책': 14650, '일본도': 14651, '한결같네': 14652, '웃스': 14653, '잼는데': 14654, '도서관': 14655, '보실수있습니다': 14656, '가볍지만은': 14657, '쓰라린': 14658, '시러': 14659, '우느라': 14660, '사하나': 14661, '니키타': 14662, '기이한': 14663, '배송': 14664, '답답하면서': 14665, '직시': 14666, '무겁게': 14667, '하셨네요': 14668, '멋지십니다': 14669, '매기': 14670, '큐땜': 14671, '자연스럽고': 14672, '할꺼': 14673, '다운로드': 14674, '백봉기': 14675, '투입': 14676, '실망했지만': 14677, '이거였으면': 14678, '버틸수나있었을까': 14679, '보낼려고': 14680, '되다니': 14681, '무서우': 14682, '즐거': 14683, '리만': 14684, '있네여': 14685, '맸는데': 14686, '봐야지요': 14687, '채밌네': 14688, '텔레비전': 14689, '봐다': 14690, '쓰잘': 14691, '안타까웠다': 14692, '아프': 14693, '그렇게만': 14694, '필요하면': 14695, '해보지': 14696, '왜남': 14697, '보석같은': 14698, '민국이': 14699, '시키면': 14700, '안되겠네': 14701, '데뷔': 14702, '뭐라고하는': 14703, '가보자': 14704, '솔직함을': 14705, '있을텐데': 14706, '저래': 14707, '노찌': 14708, '오스먼트': 14709, '낯설군': 14710, '망설이지말고': 14711, '마가렛': 14712, '없엇으': 14713, '더재밋엇을듯': 14714, '죽이고싶네': 14715, '백제': 14716, '지역': 14717, '모르나': 14718, '오컬트': 14719, '더한것도': 14720, '끌고가기': 14721, '벅찬데': 14722, '전문직': 14723, '호령': 14724, '더하려니': 14725, '아깝다는': 14726, '펑샤': 14727, '오강': 14728, '묵직하게': 14729, '우습게': 14730, '현수': 14731, '돋아요': 14732, '끝내도': 14733, '티켓': 14734, '보는건': 14735, '끄러': 14736, '리모콘': 14737, '집어던질': 14738, '좋앗습니다': 14739, '비추하겟습니다': 14740, '밨는데': 14741, '맞대고': 14742, '오죽하겠는가': 14743, '아바': 14744, '온라인': 14745, '사골': 14746, '먹듯': 14747, '중반인데': 14748, '났지': 14749, '쉬망': 14750, '연감': 14751, '기묘함': 14752, '는대': 14753, '가을로': 14754, '할리': 14755, '아작': 14756, '떠돌게': 14757, '위대하다': 14758, '괜찮았던듯': 14759, '차분하게': 14760, '바라볼': 14761, '와이비': 14762, '가년': 14763, '야한다은': 14764, '희수': 14765, '싶기보단': 14766, '입었는지가': 14767, '실었는진': 14768, '장난없네': 14769, '오펀': 14770, '개라면': 14771, '와아아': 14772, '모자이크': 14773, '않하나': 14774, '더러워서': 14775, '구토': 14776, '바뀌었습니다': 14777, '깠어야': 14778, '인내력': 14779, '재밌었죠': 14780, '거금': 14781, '푸하하하': 14782, '어색해서': 14783, '오글거렸지만': 14784, '닌깐': 14785, '려니': 14786, '김재덕': 14787, '뜨겠고': 14788, '토토가': 14789, '유플러스': 14790, '한재석': 14791, '정겨운': 14792, '최정희': 14793, '태문': 14794, '좋았겠네': 14795, '꿈이있다는것은': 14796, '행복한것이란': 14797, '재미없군': 14798, '저런거': 14799, '부럽네': 14800, '천정명': 14801, '온주완': 14802, '넘치다는걸': 14803, '느껴지게': 14804, '씨익': 14805, '지루할듯': 14806, '보이나전혀': 14807, '게리': 14808, '로드무비': 14809, '겨짐': 14810, '페이크': 14811, '스완': 14812, '약한듯': 14813, '이런저런': 14814, '괜찮을려나': 14815, '거슬리는': 14816, '성한건': 14817, '유익하다': 14818, '아드레날린': 14819, '과다복용': 14820, '산만한듯': 14821, '어색합니다': 14822, '없다지만': 14823, '개구리': 14824, '블리치': 14825, '때우': 14826, '미친다': 14827, '의의': 14828, '임정은': 14829, '게이물': 14830, '조문탁': 14831, '막혀': 14832, '내려가지': 14833, '뱅뱅': 14834, '쩌내': 14835, '높은거야': 14836, '신기했음': 14837, '빠질': 14838, '뻔했네': 14839, '번뜩이는': 14840, '채트원': 14841, '개엿': 14842, '태운': 14843, '괜츈타': 14844, '이방인': 14845, '죽이는지가': 14846, '동양인': 14847, '크니까': 14848, '서양인': 14849, '됐네': 14850, '해왔던걸': 14851, '해준듯': 14852, '야구모': 14853, '이게뭐얌': 14854, 'ㅠㅠㅠㅠㅠㅠㅠ': 14855, '어이없네요': 14856, '찜찜한': 14857, '적나라하고': 14858, '생각났던': 14859, '학위': 14860, '성범죄자': 14861, '모아서': 14862, '찍음': 14863, '그랬으까': 14864, '아끼려': 14865, '월리스': 14866, '그루밋때': 14867, '보았으나': 14868, '기기': 14869, '틀어놓으면': 14870, '볼듯': 14871, '민감한': 14872, '접하구': 14873, '만족하면서': 14874, '맞장구': 14875, '칠듯': 14876, '잔인하네요': 14877, '두드리는': 14878, '감돈': 14879, '터치': 14880, '누규': 14881, '싶었던거': 14882, '다가오지': 14883, '절친': 14884, '관여': 14885, '풀다': 14886, '틀고': 14887, '종일': 14888, '틀어': 14889, '대니': 14890, '헷갈려서': 14891, '퀜틴영화': 14892, '진솔함이': 14893, '없기': 14894, '짠해요': 14895, '옥한흠': 14896, '엿볼수있는': 14897, 'ㅠㅂㅠ': 14898, '포도': 14899, '딸기': 14900, '슬픈거': 14901, '망쳤네요': 14902, '잡은것': 14903, '어벤져스': 14904, '휩쓸': 14905, '린듯': 14906, '돌아보다가': 14907, '서유기': 14908, '들어있는': 14909, '엘리샤': 14910, '커스버트': 14911, '절묘하네요': 14912, '스트로': 14913, '팬팬': 14914, '않았어': 14915, '성공한': 14916, '이율': 14917, '폐기물': 14918, '이럴려면': 14919, '조자룡': 14920, '박희': 14921, '괜찮았을듯': 14922, '봐주겠다': 14923, '어캐봐': 14924, '보고싶내여': 14925, '미녀와야수': 14926, '했으요': 14927, '토로': 14928, '여장': 14929, '화장': 14930, '웃으라고': 14931, '협박': 14932, '멋있었다는': 14933, '개꿀': 14934, '번디': 14935, '가져': 14936, '보았을': 14937, 'ㅠㅠㅜㅠ': 14938, '안하던데': 14939, '높아졌음': 14940, '보냐고': 14941, '돼길': 14942, '이경실': 14943, '볼거니까': 14944, '해온다': 14945, '알려졌다니': 14946, '환자연기': 14947, '남으면': 14948, '기량': 14949, '딸리네': 14950, '시방': 14951, '미술': 14952, '무극': 14953, '망극': 14954, '주고싶었나': 14955, '본데': 14956, '달려갈수록': 14957, '기능': 14958, '완젼히': 14959, '올리는': 14960, '가지가지': 14961, '더티': 14962, '올리려': 14963, '작전': 14964, '측은해': 14965, '흘러가도': 14966, '묵직한': 14967, '만들었다는': 14968, '최진실': 14969, '해보니까': 14970, '주려': 14971, '무분별': 14972, '넘었네': 14973, '아프게': 14974, '손현': 14975, '워리어': 14976, '봤더니만': 14977, '아시안': 14978, '지나가는': 14979, '웃겠다': 14980, '굴렁쇠': 14981, '갑날': 14982, '상쾌한': 14983, '라이드': 14984, '티란': 14985, '니노': 14986, '힐러': 14987, '아끼지만': 14988, '신현준': 14989, '셋트메뉴': 14990, '프라': 14991, '알려주고': 14992, '잘생기고': 14993, '순수해야': 14994, '여학생': 14995, '백마': 14996, '시범': 14997, '밌다': 14998, '드리는': 14999, '관계자': 15000, '갸웃': 15001, '편하지': 15002, '던지고': 15003, '자위행위': 15004, '해달라는': 15005, '벅차고': 15006, '지루하다가': 15007, '어이없이': 15008, '여자아이': 15009, '청순하고': 15010, '잼슴': 15011, 'ㅇㅎ': 15012, '죽을텐데': 15013, '는가': 15014, '쓰레길': 15015, '불쾌함': 15016, '나왔다니': 15017, '넘었다': 15018, '약한데': 15019, '청순': 15020, '이뻤는데': 15021, '배웁니다': 15022, '이세창': 15023, '가나다라': 15024, '재미엄': 15025, '멋있었긴': 15026, '중요한': 15027, '리플릿': 15028, '불안하더니만': 15029, '해파리': 15030, '돌아올것을': 15031, '보고있었는데': 15032, '쌩뚱맞': 15033, '사자후': 15034, '잘려': 15035, '나갔다는': 15036, '사실이길': 15037, '빈다': 15038, '간해': 15039, '봐줄라고': 15040, '있나싶다': 15041, '덴마': 15042, '사라': 15043, '사라져라': 15044, '미세': 15045, '스미스': 15046, '치렁치렁': 15047, '헤어쇼': 15048, '최정윤': 15049, '캔슬': 15050, '거물': 15051, '보고싶었는데': 15052, '갚자기': 15053, '사운드트랙': 15054, '줄기': 15055, '성공함으로써': 15056, '통쾌함을': 15057, '느낄것이다': 15058, '잇엇슴다': 15059, '이뻐여': 15060, '재수없는': 15061, '졸립다': 15062, '데빌': 15063, '까브리머싯씀': 15064, '왠만해': 15065, '안문숙': 15066, '닮았어': 15067, '일이구': 15068, '너무한': 15069, '성질': 15070, '이이해': 15071, '멀이해': 15072, '하는거라는': 15073, '막내': 15074, '않을지': 15075, '음성': 15076, '뛰었음': 15077, '없슴다': 15078, '절묘한': 15079, '쎼뇨리따': 15080, '갑시다': 15081, '전지': 15082, '만들었을가': 15083, '스위프트': 15084, '비슷한건': 15085, '수트': 15086, '입으면': 15087, '미남': 15088, '변하구': 15089, '입으라': 15090, '권유': 15091, '받구': 15092, '창조': 15093, '중복': 15094, '될수': 15095, '모르': 15096, '겠네여': 15097, '잼있네': 15098, '김효진': 15099, '꼰다': 15100, '난해하기만': 15101, '돼야지': 15102, '믿었건만': 15103, '초이스': 15104, '적혀있는거': 15105, '작아도': 15106, '믿음직한': 15107, '있었나': 15108, '놀라면서': 15109, '많았다': 15110, '재밌으니': 15111, '부실한': 15112, '식겁한': 15113, '넘고': 15114, '싶다던': 15115, '가졌던': 15116, '소신': 15117, '보고따': 15118, '만들어놨네': 15119, '되라고': 15120, '드냐': 15121, '재밌으라고만': 15122, '들어놨겠지만': 15123, '봤던걸': 15124, '기억난': 15125, '죽는겈': 15126, '하더군': 15127, '만들라고': 15128, '대주던': 15129, '썼냐': 15130, '아니면되': 15131, '간단하네': 15132, '토나올것': 15133, '먹는다': 15134, '유치하고어이가': 15135, '쓰지마라': 15136, '우울해하는': 15137, '여치니를': 15138, '단번': 15139, '빵터지게': 15140, '백프로': 15141, '덥지': 15142, '바란건': 15143, '지루하긴하지만': 15144, '없애주지': 15145, '붙이기도': 15146, '민망하다': 15147, '하시던데': 15148, '어딨었다고': 15149, '초늑녁': 15150, '유치한것만': 15151, '기언': 15152, '거창한': 15153, '미미한': 15154, '도신': 15155, '범한': 15156, '나로': 15157, '억지스럽네요': 15158, '기대했으면': 15159, '미칠': 15160, '짜증나고말았다': 15161, '있을만한': 15162, '모건': 15163, '먼은': 15164, '멋찌': 15165, '났더니': 15166, '더러워졌다': 15167, '만들었어': 15168, '꾸고안': 15169, '추심': 15170, '괜찮을줄': 15171, '알았지만': 15172, '헛된': 15173, '유튜브': 15174, '학교괴담': 15175, '보겠습니다': 15176, '껀줄': 15177, '알앗는데': 15178, '목도리': 15179, '백화': 15180, '외로': 15181, '내보내더니': 15182, '였는듯': 15183, '확실하지': 15184, '않더니': 15185, '흘렸네요': 15186, '울렸다': 15187, '찰흙': 15188, '흘렸을지도': 15189, '저러고': 15190, '지웠다': 15191, '사십': 15192, '만듬': 15193, '살림': 15194, '왜왜왜': 15195, '미궁': 15196, '못하겄내': 15197, '사고내서': 15198, '모른다구': 15199, '하문': 15200, '미제': 15201, '되는거여': 15202, '느그': 15203, '하는거여': 15204, '중거': 15205, '넣어야': 15206, '아니냐구': 15207, '따리': 15208, '가지고싶단': 15209, '했었다': 15210, '사라진거냐': 15211, '위대한지': 15212, '은테': 15213, '영희': 15214, '느님': 15215, 'ㅜㅜㅜㅜㅜㅜㅜㅜㅜㅜㅜㅜㅜㅜㅜㅜㅜㅜㅜㅜㅜㅜㅜㅜㅜㅜㅜ': 15216, '준놈': 15217, '복잡해도': 15218, '얻는': 15219, '낚였': 15220, '남아도': 15221, '죄악': 15222, '돌리면': 15223, '낫냐': 15224, '동안본': 15225, '입맛': 15226, '맞는듯': 15227, '나이트워치': 15228, '몬스터': 15229, '주식회사': 15230, '약해져': 15231, '문서': 15232, '어긋나고': 15233, '비틀어진': 15234, '깔끔하고': 15235, '토대': 15236, '적다는': 15237, '퀵실버': 15238, '정신차려라': 15239, '저따위': 15240, '아름답지만': 15241, '챙겨야만하는': 15242, '비참함에': 15243, '파워': 15244, '약하지만': 15245, '필요하니': 15246, '동행': 15247, '유태인': 15248, '가족사진': 15249, '사슴': 15250, '밟아까': 15251, '셋트': 15252, '정승': 15253, '감사해야': 15254, '연가시': 15255, '화제': 15256, '됬던': 15257, '망정': 15258, '사태': 15259, '맨홀': 15260, '났을': 15261, '윈다졸': 15262, '박고': 15263, '김명민': 15264, '물질': 15265, '겜블러': 15266, '박경원': 15267, '아팠어요': 15268, '만들어져야': 15269, '안되노': 15270, '자빠졌네': 15271, 'ㅡㅡㅗ': 15272, '노파': 15273, '이러': 15274, '욕먹었던': 15275, '원더풀': 15276, '급작': 15277, '돼었다': 15278, '채팅': 15279, '돼있으면': 15280, '재밌어야': 15281, '돌아서': 15282, '돌네요': 15283, '석호': 15284, '올라선거': 15285, '늘어짐': 15286, '언더월드': 15287, '바운': 15288, '운스': 15289, '라민': 15290, '시에라': 15291, '하들리': 15292, '구매': 15293, '흘림': 15294, '부르고': 15295, '원하는게': 15296, '모르는거': 15297, '괴리감': 15298, '떨쳐': 15299, '영홥': 15300, '깐느': 15301, '은성': 15302, '유치해졌어요': 15303, '찌질해지고': 15304, '생겼으면': 15305, '가난하건': 15306, '부자건': 15307, '어리석은': 15308, '기득권': 15309, '하려는거야': 15310, '징그러워도': 15311, '말아먹고': 15312, '찬란하신': 15313, '드신': 15314, '같았네요': 15315, '주고싶을': 15316, '추연': 15317, '기력': 15318, '뛰어나다': 15319, '빅맨': 15320, '햐하핯': 15321, '였던거': 15322, '필요한지': 15323, '시간대': 15324, '해줘야': 15325, '처가': 15326, '차린건': 15327, '먹을게': 15328, '끝내줬어': 15329, '끼치는': 15330, '따를자': 15331, '있으리': 15332, '해서라도': 15333, '로맨스코미디': 15334, '디다': 15335, '도러': 15336, '퍼트': 15337, '묻어놓았다': 15338, '오드리햅번': 15339, '존예': 15340, '당했는데': 15341, '선배': 15342, '남는듯': 15343, '만난거': 15344, '반가웠다': 15345, '오려내어': 15346, '붙여놓고': 15347, '헛소리': 15348, '훈훈해지는': 15349, '비오는데': 15350, '희귀': 15351, '멀까': 15352, '잘데기': 15353, '통행': 15354, '직진': 15355, '깨끗한': 15356, '않았을거라고': 15357, '맺히던데요': 15358, '박스': 15359, '오피스': 15360, '몰아주기': 15361, '빔나가나': 15362, '나가나': 15363, '쩔던데': 15364, '좋았다고': 15365, '미란': 15366, '깁슨': 15367, '합니당': 15368, '헌재': 15369, '판결': 15370, '났습니다': 15371, '일으키므로': 15372, '교복': 15373, '적대': 15374, '되므로': 15375, '된답니다': 15376, '만큼의': 15377, '불친절함을': 15378, '내해': 15379, '담백함이': 15380, '방화': 15381, '재미썽': 15382, '즐기고': 15383, '볼수있던': 15384, '천만이': 15385, '구제불': 15386, '능이': 15387, '칠흑': 15388, '이러다가': 15389, '회태': 15390, '방터': 15391, '없어진다': 15392, '똥망': 15393, '물소': 15394, '어딨냐': 15395, '끼쳤다': 15396, '끝장': 15397, '포근해지는': 15398, '신선했지만': 15399, '족구': 15400, '닿지는': 15401, '마담': 15402, '프루스트': 15403, '견줄만': 15404, '메뉴': 15405, '나더만': 15406, '드삼': 15407, '놀았으면': 15408, '좋겠음': 15409, '봐야겠네': 15410, '나문희': 15411, '시어머니': 15412, '조르는': 15413, '촬영장': 15414, '됬다죠': 15415, '문과': 15416, '모의고사': 15417, '풀면서': 15418, '싸우고도': 15419, '수원': 15420, '중앙': 15421, '번지르르한': 15422, '미안함이': 15423, '불편하게': 15424, '멀쩡해': 15425, '사라예보': 15426, '반대편': 15427, '라푼젤': 15428, '재미없었을': 15429, '싫어하지만': 15430, '싶어지는': 15431, '후처': 15432, '받어야': 15433, '가진건': 15434, '이징': 15435, '류승': 15436, '쏟게': 15437, '행복하지': 15438, '징그럽게': 15439, '꾸준히도': 15440, '출시': 15441, '하지는못': 15442, '보던거': 15443, '않다는': 15444, '흘러간다는': 15445, '백선엽': 15446, '뜯는': 15447, '알겠네': 15448, '남기마': 15449, '자만': 15450, '딸아이': 15451, '눈시울': 15452, '붉히며': 15453, '나서는': 15454, '꿀벌': 15455, '썼구만': 15456, '나아지겠지': 15457, '아쉬운면도': 15458, '되드라구': 15459, '연령': 15460, '대별': 15461, '태민': 15462, '멤버': 15463, '서나': 15464, '경제': 15465, '걸쳐': 15466, '가져올': 15467, '신년': 15468, '베를릴': 15469, '쮸쮸': 15470, '사서': 15471, '보앗던': 15472, '미칠거': 15473, '환장하게': 15474, '죽이려고': 15475, '에어컨': 15476, '틀어라': 15477, '피곤한': 15478, '솔직': 15479, '조정래': 15480, '종방': 15481, '받았고요': 15482, '지쳐있었는데': 15483, '어이없지도': 15484, '않았고요': 15485, '안좋았다': 15486, '직장': 15487, '미생': 15488, '넘겼을것': 15489, '무거울': 15490, '있지는': 15491, '피어나려는': 15492, '꽃봉오리': 15493, '분별': 15494, '멋있을': 15495, '깝깝': 15496, '요망': 15497, '뿐이겠지': 15498, '뿌린': 15499, '거두는': 15500, '되겠지': 15501, '퍼지': 15502, '인어': 15503, '꼬리': 15504, '신비롭게': 15505, '보였던': 15506, '츤데레': 15507, '광경': 15508, '밥말': 15509, '빠지는지': 15510, '더블린': 15511, '가는데': 15512, '남극': 15513, '걸릴까': 15514, '모도': 15515, '바르의': 15516, '떠드는데': 15517, '안가네요': 15518, '빠진다는': 15519, '참신한데': 15520, '위태': 15521, '되는지': 15522, '대재앙': 15523, '기담': 15524, '퀴어': 15525, '좋은걸': 15526, '드라마정': 15527, '다람쥐': 15528, '여울': 15529, '해가는지': 15530, '찾아주는': 15531, '빼놓치': 15532, '잇구': 15533, '유나': 15534, '친일파': 15535, '알지도': 15536, '시켜서': 15537, '내논': 15538, '충성': 15539, '부업': 15540, '모인': 15541, '읽을줄': 15542, '시키지도': 15543, '고어': 15544, '행운': 15545, '이었죠': 15546, '재미있었죠': 15547, '짚어내고': 15548, '뚫리고': 15549, '두근거린다': 15550, '빙점': 15551, '最高': 15552, '망하는군': 15553, '진찌': 15554, '힘들어지는': 15555, '만일': 15556, '시프': 15557, '돌아왔다': 15558, '늘이면서': 15559, '호홉': 15560, '지치고': 15561, '토닥토닥': 15562, '강렬합니다': 15563, '박카스': 15564, '먹고싶어지더군': 15565, '확실하게': 15566, '들어가있음': 15567, '죽이지말지': 15568, '느끼며': 15569, '하규': 15570, '먹어서': 15571, '신선하네': 15572, '이연서': 15573, '뵙길': 15574, '어쨋': 15575, '재밌었을까': 15576, '인간시장': 15577, '않으실': 15578, '떨렸던': 15579, '아름다웠다고': 15580, '아쉬웠던건': 15581, '미쳤나': 15582, '믿어지지': 15583, '성숙': 15584, '시키는': 15585, '좋아여': 15586, '궁굼': 15587, '기다려져용': 15588, '지켜': 15589, '끝낸': 15590, '윤여정': 15591, '진술': 15592, '되느': 15593, '윤하': 15594, '버텨': 15595, '삼계탕': 15596, '후라이드': 15597, '삼겹살': 15598, '논스톱': 15599, '탁구': 15600, '질때': 15601, '술술': 15602, '났었다': 15603, '커진': 15604, '특유의슬': 15605, '더이': 15606, '상통': 15607, '않는것': 15608, '궁금하면서': 15609, '짜여있지만': 15610, '끼어있으니': 15611, '줄놓고': 15612, '차리게': 15613, '랄거': 15614, '날짜': 15615, '왜정': 15616, '폐지': 15617, '가만있는': 15618, '불똥': 15619, '튀는지': 15620, '제우스': 15621, '박살': 15622, '해놨어': 15623, '끌려다니고': 15624, '지루하네요': 15625, '그룹': 15626, '주진모': 15627, '나왔다고': 15628, '더럽힌': 15629, '올려놓냐': 15630, '쯔요시': 15631, '마러줘': 15632, '박어': 15633, '사이더': 15634, '주앙': 15635, '질하네': 15636, '나물': 15637, '하등': 15638, '던거': 15639, '고릴라': 15640, '거도': 15641, '했긴': 15642, '찌릿': 15643, '가져야지': 15644, '하자는건': 15645, '흘리며': 15646, '웃던': 15647, '간신히': 15648, '힘들었다': 15649, '뚜렷하게': 15650, '하더라': 15651, '울린': 15652, '시꺼먼게': 15653, '말아먹다': 15654, '데이빗': 15655, '필추': 15656, '와아': 15657, '익스트림': 15658, '맞겠네': 15659, '조민수': 15660, '늘렸으면': 15661, '이지현': 15662, '잔잔하니': 15663, '기대합니다': 15664, '성장하길': 15665, '궁궐': 15666, '흑인음악': 15667, '아이스': 15668, '느끼겠더라': 15669, '억배': 15670, '답답할': 15671, '돌아감': 15672, '콘택트': 15673, '빠짐': 15674, '권하고': 15675, '희극배우': 15676, '훌륭했던': 15677, '주고싶기에': 15678, '가득했고': 15679, '영화제작': 15680, '꿈이라면': 15681, '이룬것에만': 15682, '만족하는건': 15683, '그립습니다': 15684, '한가운데': 15685, '헤매다': 15686, '사리': 15687, '짜릿한': 15688, '맛보았습니다': 15689, '있었구요': 15690, '분명한': 15691, '아쉬웠습니다': 15692, '그래두': 15693, '정말루': 15694, '보았어요': 15695, '멋있으': 15696, '씨짘': 15697, '나올때마닼': 15698, '으헠': 15699, '스메': 15700, '소드': 15701, '잃다가': 15702, '코스모폴리스': 15703, '퇴물': 15704, '이럴': 15705, '찍겠죠': 15706, '남아돌': 15707, '그대': 15708, '마시오': 15709, '바랬어': 15710, '잔데도': 15711, '유치함이란': 15712, '알고싶고': 15713, '친해지고싶다': 15714, '하자는거냐': 15715, '맨오브스틸': 15716, '였단': 15717, '되었네요': 15718, '재밌겠네': 15719, '상관없네요': 15720, '남자인것': 15721, '간질': 15722, '긁어주는': 15723, '조용하구': 15724, '외롭구': 15725, '젬슴': 15726, '정정은': 15727, '어케된거': 15728, '호화로워서': 15729, '고안': 15730, '원스': 15731, '미의': 15732, '간지남': 15733, '사랑스러워': 15734, '발싸개': 15735, '그지같다고': 15736, '떙떙': 15737, '틴틴': 15738, '강변': 15739, '헤어지고': 15740, '울고불고': 15741, '필수였는가': 15742, '무심하게': 15743, '살아지는': 15744, '왕년': 15745, '박노식': 15746, '박준규': 15747, '긴데': 15748, '주머니': 15749, '비슷하지도': 15750, '않네': 15751, '루카스': 15752, '하늘나라': 15753, '편히': 15754, '따뜻해': 15755, '어우러지면서': 15756, '흐름안에서의': 15757, '이어짐을': 15758, '워킹데드': 15759, '어지럽힌다': 15760, '아니였어요': 15761, '특이함에': 15762, '끌리는건': 15763, '메가박스': 15764, '핵폐기물': 15765, '자존심': 15766, '나준': 15767, '줄거': 15768, '글래머': 15769, '지리는줄': 15770, '대단했습니다': 15771, '멋있었네요': 15772, '같구요': 15773, 'ㅈㄷㄹ': 15774, '쩍발': 15775, '인색하군': 15776, '포르코': 15777, '저음': 15778, '던지는': 15779, '놀랐어요': 15780, '보여주셔서': 15781, '좋아용': 15782, '짜가인가': 15783, '개보': 15784, '할것': 15785, '싫어하는지': 15786, '깨워': 15787, '편협': 15788, '바뀔수': 15789, '어린아이니깐': 15790, '당연하고': 15791, '맞을것이라는': 15792, '노렸으나': 15793, '연구': 15794, '똑같냐': 15795, '끊기는': 15796, '주려는': 15797, '유하': 15798, '말죽거리': 15799, '혹사': 15800, '깊고': 15801, '전꺼다': 15802, '구관': 15803, '명관': 15804, '콧구멍': 15805, '스캇': 15806, '쩌리': 15807, '보내주는거였는데': 15808, '기겁': 15809, '쓰게': 15810, '이러케': 15811, '임이거': 15812, '파일량': 15813, '후려': 15814, '치고싶었다': 15815, '특이하고': 15816, '굿바이': 15817, '레닌': 15818, '없어지냐': 15819, '인식': 15820, '재밌다고는': 15821, '못느꼇': 15822, '아노하나': 15823, '슈타게': 15824, '개구쟁이': 15825, '질소': 15826, '샀더니': 15827, '과자': 15828, '약했다': 15829, '약한것': 15830, '버무린': 15831, '지나간': 15832, '시에라리온': 15833, '자이몬': 15834, '훈수': 15835, '횡단보도': 15836, '건널': 15837, '쳐나': 15838, '화초': 15839, '힌트': 15840, '약함': 15841, '애매하게': 15842, '키포인트': 15843, '치사하다고나': 15844, '웃겨서': 15845, '긴지': 15846, '보지말것을': 15847, '강력하게': 15848, '말리고싶다': 15849, '처참한': 15850, '난해하고': 15851, '떠있다': 15852, '김태균': 15853, '재능': 15854, '보군': 15855, '본지오래': 15856, '바꿔야': 15857, '돌았나': 15858, '미쳤군': 15859, '미쳤어': 15860, '좋앗음': 15861, '무섭딘': 15862, '건지는': 15863, '겠지': 15864, '늦다': 15865, '둬라': 15866, '주룩': 15867, '김성균': 15868, '알려진': 15869, '꼬부라진': 15870, '혓소리': 15871, '였어야': 15872, '강하': 15873, '흥미롭지도': 15874, '묻어가려는': 15875, '기운': 15876, '강할': 15877, '저급한': 15878, '사교': 15879, '만들고도': 15880, '탔을': 15881, '황당하군': 15882, '툭툭': 15883, '쌩뚱': 15884, '맞구': 15885, '고의': 15886, '정연식': 15887, '있으시다': 15888, '파장': 15889, '무얼': 15890, '바라나': 15891, '켈리': 15892, '섹시한': 15893, '쇄골': 15894, '있으므로': 15895, '눈떠가는': 15896, '있었나보다': 15897, '컨디션': 15898, '개안음': 15899, '일뚱': 15900, '하기만': 15901, '애고': 15902, '이색': 15903, '날리네': 15904, '받았더니': 15905, '베를린': 15906, '찍어오면': 15907, '해주는구나': 15908, '보였다면': 15909, '많어': 15910, '어슬픔': 15911, '이상향': 15912, '비원에이포': 15913, '멋진날': 15914, '좋겠어용': 15915, '스웨덴': 15916, '쫓아가지': 15917, '흐헬': 15918, '해탈': 15919, '커츠': 15920, '잃어버림': 15921, '더스틴': 15922, '니콜': 15923, '불쾌하다': 15924, '늘어지는': 15925, '반갑습니다': 15926, '뻑뻑': 15927, '좋았어여': 15928, '되는것': 15929, '알수록': 15930, '섰네요': 15931, '영화장르': 15932, '넘겼다': 15933, '살린게': 15934, '에네스': 15935, '카야': 15936, '꺼리도': 15937, '뵈기': 15938, '개무시': 15939, '찾아가': 15940, '경기': 15941, '쑤시는': 15942, '독사': 15943, '진저리': 15944, '아기자기하고': 15945, '현영': 15946, '낮은거야': 15947, '까지나': 15948, '가져가': 15949, '김선빈': 15950, '조심하세요': 15951, '버리게끔': 15952, '따분한': 15953, '찾아보고싶게만': 15954, '가능하다니': 15955, '역행': 15956, '교향곡': 15957, '대초반의': 15958, '계명': 15959, '병동': 15960, '로뎅': 15961, '아릅답': 15962, '까미유': 15963, '지루한지': 15964, '지루해지고': 15965, '끌지를': 15966, '이몸': 15967, '바꼇': 15968, '윤재몸': 15969, '보겠어요': 15970, '단조롭': 15971, '단조롭게': 15972, '낸게': 15973, '짱꼴라': 15974, '중화사상': 15975, '쏟아져': 15976, '멀었어': 15977, '재미있엇다': 15978, '음슴': 15979, '읽은': 15980, '답답합니다': 15981, '티브': 15982, '나뉘게': 15983, '원호': 15984, '살려내라': 15985, '우우': 15986, '무시무시하게': 15987, '홍성': 15988, '됫으': 15989, '어딜': 15990, '더록': 15991, '비슷하냐': 15992, '따스해지는': 15993, '화끈하긴': 15994, '문성우': 15995, '써주세요': 15996, '필요없소이다': 15997, 'ㄹㅋ': 15998, '높냐': 15999, '비밥': 16000, '넘는': 16001, '아지': 16002, '임꺽정': 16003, '끔찍하겠지': 16004, '아린다': 16005, '재밋구': 16006, '재밌다하면': 16007, '이본': 16008, '최저': 16009, '심승보': 16010, '종북주의자': 16011, '판명': 16012, '국보법': 16013, '엄중하게': 16014, '다스려야': 16015, '할려면': 16016, '할하': 16017, '옥상': 16018, '겨눌': 16019, '꺼져': 16020, '사겼고': 16021, '반만에': 16022, '헤어졌어요': 16023, '싸웠는데': 16024, '연락': 16025, '덱스터': 16026, '헤어질수있을거': 16027, '로디': 16028, '유일했던': 16029, '믿을래': 16030, '실버': 16031, '이뿌고': 16032, '견디는건': 16033, '윌슨': 16034, '느꼇다': 16035, '때리는': 16036, '인종': 16037, '비하': 16038, '재미있었던건': 16039, '이순신': 16040, '봐야만': 16041, '꾸며': 16042, '갔으면': 16043, '알려주세요': 16044, '담주는': 16045, '마시기': 16046, '모세': 16047, '닮았네': 16048, '젊어서': 16049, '싱싱하긴': 16050, '출시되': 16051, '오마주': 16052, '특수분장': 16053, '울트라맨': 16054, '후짐': 16055, '멸망': 16056, '길고': 16057, '민망해': 16058, '잘만드': 16059, '저하': 16060, '치밀함도': 16061, '브래들리': 16062, '쿠퍼': 16063, '때리고싶다': 16064, '말안': 16065, '같나요': 16066, '삽시다': 16067, '종은': 16068, '창피하게': 16069, '인스피릿': 16070, '비스트': 16071, '같은인': 16072, '아이슬란드': 16073, '아일럔드': 16074, '표기': 16075, '해놨네': 16076, '일상다반사': 16077, '나누고': 16078, '베푸는': 16079, '배운다': 16080, '변하고': 16081, '봤는디': 16082, '실물': 16083, '웃기기까지': 16084, '거여': 16085, '아니잖여': 16086, '설킨': 16087, '란함': 16088, '됐습니다': 16089, '이겠네요': 16090, '잇었네': 16091, '빠졌던': 16092, '아스테릭스': 16093, '실사판': 16094, '간달프': 16095, '얙션': 16096, '보냈다': 16097, '끝나자마자': 16098, '울었음': 16099, '특성': 16100, '알맞게': 16101, '출하': 16102, '오직': 16103, '나타난다': 16104, '훨낫다': 16105, '적재적소': 16106, '넣어놓았어': 16107, '오씨': 16108, '비안': 16109, '나이트': 16110, '비슷해서': 16111, '순결': 16112, '정신차리고': 16113, '해거': 16114, '명문': 16115, '달안에': 16116, '김용': 16117, '스피릿': 16118, '치밀하다': 16119, '김영애': 16120, '서영': 16121, '주접': 16122, '있는것이': 16123, '가방': 16124, '압꿘': 16125, '촌스럽지만': 16126, '적기가': 16127, '멘트': 16128, '실패했는지': 16129, '재구': 16130, '축하': 16131, '나사': 16132, '지렸다': 16133, '웃었던지': 16134, '랄프': 16135, '들여다보는': 16136, '시원': 16137, '고마': 16138, '심장마비': 16139, '오네요': 16140, '안좋아서': 16141, '그렇지만': 16142, '뚝심': 16143, '조건': 16144, '편리함만을': 16145, '따지는': 16146, '짜증스러웠던': 16147, '살았다': 16148, '가물가물': 16149, '통쾌하면서도': 16150, '망쳤어': 16151, '하유미': 16152, '였다니': 16153, '웨버': 16154, '써놓고': 16155, '가네요': 16156, '피좀': 16157, '흘려주는': 16158, '궁금합니다': 16159, '어런': 16160, '알았나': 16161, '참내': 16162, '독특해서': 16163, '안되었다': 16164, '있더니': 16165, '그리웠나': 16166, '이그리': 16167, '트는': 16168, '잊은거니': 16169, '피지': 16170, '모르네': 16171, '추잡한': 16172, '어럈을때': 16173, '마스크': 16174, '변할': 16175, '숨던': 16176, '그러는지': 16177, '신도아니고': 16178, '이기는게': 16179, '이럴줄': 16180, '죽여주는': 16181, '클한': 16182, '있는가': 16183, '조성': 16184, '필요할': 16185, '처넌': 16186, '씁시다': 16187, '들하네요': 16188, '별룹니': 16189, '임밸류': 16190, '많으': 16191, '완젼빠': 16192, '분만': 16193, '고고': 16194, '우디': 16195, '럴슨': 16196, '할말을': 16197, '잃을': 16198, '떠나는': 16199, '지저분해': 16200, '욕정': 16201, '불타는': 16202, '얍얍': 16203, '뚝딱': 16204, '팬픽': 16205, '지겹더라': 16206, '재미없겠디': 16207, '알아도': 16208, '있었으나': 16209, '들었음': 16210, '신라': 16211, '달밤': 16212, '푸근하고': 16213, '따뜻함': 16214, '두려워하지': 16215, '찌잉': 16216, '무차별': 16217, '미해결': 16218, '암시': 16219, '고풍': 16220, '데드풀': 16221, '나왔었다니': 16222, '찜찜하네': 16223, '소유진': 16224, '백만불': 16225, '들어가고': 16226, '건진건': 16227, '어울리면': 16228, '보겠는데': 16229, '가본것': 16230, '놀랄': 16231, '모아': 16232, '두는것': 16233, '안산': 16234, '예술의전당': 16235, '연합': 16236, '보러오세요': 16237, '넘치게': 16238, '찍으시구요': 16239, '성현': 16240, '더프': 16241, '마십': 16242, '않구나': 16243, '어케되는': 16244, '해봄': 16245, '리아나': 16246, '높은거': 16247, '낚였네': 16248, '맞다고': 16249, '심되': 16250, '나긴한데': 16251, '나오니깐': 16252, '재미있었어': 16253, '화끈하기만': 16254, '인간드': 16255, '잼있구만': 16256, '이쁘구': 16257, '했겠다': 16258, '안데': 16259, '있다는게': 16260, '신기하': 16261, '짜리영화': 16262, '짝짝': 16263, '종합': 16264, '그이': 16265, '하도아니다': 16266, '담론': 16267, '다가오네요': 16268, '하지못하는': 16269, '죽는게': 16270, '하는지는': 16271, '일본군': 16272, '점단': 16273, '샛기들': 16274, '재미없으면': 16275, '달지를': 16276, '말던가': 16277, '들일까': 16278, '잘봣으': 16279, '봣다': 16280, '맞는게': 16281, '아닌게': 16282, '잇지': 16283, '들에': 16284, '소용': 16285, '빵터지': 16286, '캣우먼': 16287, '긴줄': 16288, '따라잡으려면': 16289, '나빠요': 16290, '험버트': 16291, '그럴듯한': 16292, '언변': 16293, '넘어가': 16294, '대단하군': 16295, '이상현': 16296, '찌질하게': 16297, '생기셔가지고': 16298, '보았던것': 16299, '아까운지': 16300, '금단비': 16301, '받았다는것은': 16302, '열나게': 16303, '어브': 16304, '연쇄살인범': 16305, '진부하게': 16306, '나갔음': 16307, '극찬': 16308, '선구자': 16309, '부실': 16310, '봉작': 16311, '생사람': 16312, '잡힌거잖아요': 16313, '이었나': 16314, '들어갑니다': 16315, '애매한게': 16316, '친절해도': 16317, '는고': 16318, '좌파': 16319, '양영희': 16320, '느끼시면': 16321, '적네요': 16322, '간접': 16323, '탄탄하지못한': 16324, '어후': 16325, '아름답던': 16326, '살의': 16327, '준듯': 16328, '잼있고': 16329, '짧았어요': 16330, '음량': 16331, '천은': 16332, '가렸지만': 16333, '구식': 16334, '떨어뜨리고': 16335, '답답하다': 16336, '돌아온': 16337, '중령': 16338, '품인줄': 16339, '아이폰': 16340, '멋지네요': 16341, '아리따운': 16342, '다케우치': 16343, '기모노': 16344, '형수': 16345, '관우': 16346, '좋아합니다': 16347, '좀하지': 16348, '따라잡을려면': 16349, '오경': 16350, '주목할만하다': 16351, '애니메': 16352, '거북이': 16353, '모터': 16354, '달린': 16355, '최첨단': 16356, '그러기에': 16357, '했던거다': 16358, '했기에': 16359, '사소한': 16360, '만들던': 16361, '없으시잖아요': 16362, '끌어다': 16363, '붙이냐': 16364, '쏘았다는데': 16365, '탄피': 16366, '다쳤는데': 16367, '다쳤는지를': 16368, '법부': 16369, '버려야지': 16370, '싶어도': 16371, '읭스러움': 16372, '일어났다': 16373, '호갱': 16374, '짜게': 16375, '찔끔': 16376, '가박': 16377, '장대': 16378, '소하': 16379, '풀었네': 16380, '그만할까': 16381, '부자연스럽': 16382, '풀려가는': 16383, '사로잡을': 16384, '만든다는것': 16385, '대단하다는것': 16386, '떨어지니까': 16387, '별것': 16388, '끼는것도': 16389, '강하늘': 16390, 's': 16391, '추악한': 16392, '국방': 16393, '외치': 16394, '저럴지도': 16395, '몰아내': 16396, '족속': 16397, '에두': 16398, '리모컨': 16399, '최곤데': 16400, '어줍잖은': 16401, '맹승지': 16402, '전쯤나왔다면': 16403, '했으려나': 16404, '만든다는게': 16405, '만들지만': 16406, '안좋을거란': 16407, '아깝운': 16408, '알앗슴': 16409, '잇엇다': 16410, '뫼산': 16411, '현정': 16412, '먹히는': 16413, '처절하고': 16414, '학부모': 16415, '권합니다': 16416, '올킬': 16417, '같기는': 16418, '많은거': 16419, '비수': 16420, '살타': 16421, '갈현': 16422, '두루': 16423, '고창': 16424, '절단': 16425, '높은거지': 16426, '에드먼드': 16427, '젤리': 16428, '먹고싶어진다': 16429, '하겠는데': 16430, '이건모': 16431, '치매': 16432, '오셨는지': 16433, '영화대본': 16434, '가위바위보': 16435, '하기로': 16436, '웬만해': 16437, '안주는데': 16438, '바꾸지': 16439, '마란': 16440, '웃기고': 16441, '되였네요': 16442, '쩌구': 16443, '저쩌구': 16444, '화해': 16445, '뻔하지': 16446, '아가': 16447, '생각남': 16448, 'ㅜㅜㅜㅜㅜㅜㅜ': 16449, '오역': 16450, '어색했지만': 16451, '클린트': 16452, '이스트': 16453, '됨을': 16454, '북받쳐': 16455, '올라오는': 16456, '닿습니다': 16457, '길래': 16458, '몰겠음': 16459, '살거나': 16460, '살지도': 16461, '품고': 16462, '녀놈': 16463, '사만': 16464, '다는이': 16465, '개줘': 16466, '밀양': 16467, '깊숙히': 16468, '떨어지': 16469, '전차': 16470, '쟁쟁': 16471, '묻힐것': 16472, '봐야해': 16473, '많은만큼': 16474, '올려줬을거': 16475, '맥락': 16476, '오그라드는건': 16477, '줬을라': 16478, '나온것': 16479, '공룡대탐험': 16480, '됬고': 16481, '졌군요': 16482, '유니크': 16483, '꿋꿋히': 16484, '발랄하게': 16485, '지내는': 16486, '정시': 16487, '키우며': 16488, '살아온': 16489, '예민해지고': 16490, '날카로워질': 16491, '도와준다는': 16492, '짠하게와': 16493, '닿는다': 16494, '끙끙': 16495, '지루하다는걸': 16496, 'ㅎㅎㅎㅎㅎㅎㅎㅎ': 16497, '앨런': 16498, '포탈': 16499, '아이로봇': 16500, '필요했다': 16501, '이상하게도': 16502, '상전': 16503, '특이하다': 16504, '지웠음': 16505, '웃겨요': 16506, '높군요': 16507, '감사하다고': 16508, '썰매': 16509, '목적지': 16510, '가니': 16511, '돌아온다는': 16512, '데몰리션맨': 16513, '이퀄리브리엄': 16514, '신선함도': 16515, 'ㄴㅅ': 16516, '정욕': 16517, '중국인': 16518, '조차도': 16519, '악한': 16520, '쉼을': 16521, '흑암': 16522, '김규리': 16523, '많아지고': 16524, '허울': 16525, '스키니진': 16526, '싸우자': 16527, '노틸러스호': 16528, '공중': 16529, '격침': 16530, '시킬': 16531, '통쾌함': 16532, '잼있습니다': 16533, '여기거나': 16534, '웃으라는': 16535, '흐림': 16536, '잠들어': 16537, '운운하긴': 16538, '놓고만': 16539, '봣을떄': 16540, '있었는지': 16541, '놀라울': 16542, '나아가자': 16543, '투철': 16544, '구급대원': 16545, '걸리는줄': 16546, '월터': 16547, '비장함과': 16548, '지못미': 16549, '코리안': 16550, '재밌기는': 16551, '빼앗을': 16552, '개쩜': 16553, '황당해서': 16554, '뛰어넘기': 16555, '견뎌': 16556, '냈음': 16557, '종잡': 16558, '보여줄려고': 16559, '끝나니': 16560, '스페셜': 16561, '나왔어도': 16562, '버리는건데': 16563, '리셋': 16564, '비슷할까': 16565, '환경': 16566, '설키': 16567, '스러웠던': 16568, '중국드라마': 16569, '준정': 16570, '하느듯': 16571, '몬지': 16572, '보지말자': 16573, '자란': 16574, '포토': 16575, '켜도': 16576, '이라는게': 16577, '자명해': 16578, '보이는데도': 16579, '있기': 16580, '익숙해진': 16581, '떼기': 16582, '있기를': 16583, '뿐입니다': 16584, '나올꺼': 16585, '할련': 16586, '싶었지만': 16587, '도중': 16588, '베데스다': 16589, '작부': 16590, '애란': 16591, '채나요': 16592, '보는것만으로도': 16593, '소박하지고': 16594, '햇살': 16595, '부엌': 16596, '얼씬': 16597, '북경어': 16598, '유치함이다': 16599, '갈피': 16600, '못잡는': 16601, '어수선한': 16602, '넋두리': 16603, '쓰야지': 16604, '황금시간대': 16605, '수신료': 16606, '펜대': 16607, '놓아라': 16608, '과장하나': 16609, '태고': 16610, '머리털': 16611, '워스트': 16612, '빙의': 16613, '거꾸로': 16614, '매달려': 16615, '쏘는거': 16616, '폭소': 16617, '까지라도': 16618, '대다': 16619, '없었고': 16620, '촬영기': 16621, '늘어져서': 16622, '싶어하는': 16623, '형용': 16624, '쓸쓸하지만': 16625, '해피앤드': 16626, '컷팅': 16627, '당했나': 16628, '진지함이라니': 16629, '선곡': 16630, '관성': 16631, '떨어지는군요': 16632, '지키는것이': 16633, '어렵습니다': 16634, '산를': 16635, '푸르게': 16636, '과민': 16637, '알았으며': 16638, '망우': 16639, '묘소': 16640, '흘렀습니다': 16641, '아사카': 16642, '와다': 16643, '이돈': 16644, '퇴보한': 16645, '훌륭함': 16646, '미스테리영화': 16647, '행크스': 16648, '외우느라': 16649, '힘들었겠음': 16650, '흔들릴지언정': 16651, '꺾이진': 16652, '않으리라': 16653, '윤호': 16654, '알린': 16655, '호탄': 16656, '맺는': 16657, '아쉽군': 16658, '수도원': 16659, '루마니아': 16660, '몬쥬': 16661, '유치원': 16662, '바라본': 16663, '엇갈린': 16664, '박정민': 16665, '끼데': 16666, '쓰까': 16667, '부시맨': 16668, '삿다': 16669, '최진혁': 16670, '꺄악': 16671, '따분하다': 16672, '셀카': 16673, '있었다는': 16674, '그랬기': 16675, '효율': 16676, '가성': 16677, '반타작': 16678, '하고싶은지': 16679, '남주에': 16680, '갔습니다': 16681, '좋을지도': 16682, '된다는': 16683, '뺀다': 16684, '무너': 16685, '맞추자': 16686, '차븟': 16687, 'ㅇㄱ': 16688, '디시': 16689, '따지자면': 16690, '스필버그': 16691, '단계': 16692, '생긴것부터': 16693, '윤주': 16694, '정호': 16695, '연씨': 16696, '에스팀': 16697, '유래': 16698, '탈락': 16699, '가는건': 16700, '청탁': 16701, '사라지련': 16702, '기대했나': 16703, 'ㅠㅜㅠ': 16704, '감도우': 16705, '상품': 16706, '사사로운': 16707, '이었군': 16708, '빤히': 16709, '말랑말랑': 16710, '으아아': 16711, '나팔': 16712, '배우고싶어진다': 16713, 'ㅋㄲㅈㅁ': 16714, '아니어도': 16715, '수바': 16716, '보이는것보다': 16717, '않는것이': 16718, '취권': 16719, '스타트랙': 16720, '짤랐을꺼': 16721, '없었던거야': 16722, '그럴꺼야': 16723, '그랬던걸': 16724, '꺼야': 16725, '빠져나온': 16726, '겨운': 16727, '스킵': 16728, '받는데': 16729, '딸리고': 16730, '만들어져': 16731, '살던': 16732, '것일': 16733, '나한데': 16734, '만들겟다': 16735, 'ㅡㅡㅋ': 16736, '쟁장': 16737, '아프네요': 16738, '잠자는': 16739, '숲속': 16740, '눈의여왕': 16741, '쓰뤠긔': 16742, '완죤반했엇': 16743, '지엔': 16744, '박지성': 16745, '뛰어나': 16746, '담아놓은': 16747, '후휘': 16748, '암세포': 16749, '구스': 16750, '산트': 16751, '지난번': 16752, '봐야겟다': 16753, '좋지도': 16754, '싫지도': 16755, '입니다만': 16756, '운영': 16757, '뭐라하': 16758, '없도록': 16759, '요따위': 16760, '만들려면': 16761, '촤근': 16762, '보고와라': 16763, '가르고': 16764, '죽이는거': 16765, '얻었냐': 16766, '애절한': 16767, '황신혜': 16768, '티남': 16769, '면도': 16770, '빼놓을': 16771, '스쳐도': 16772, '돌아봐도': 16773, '싶엇다': 16774, '아름다워를': 16775, '아름다웠음': 16776, '매장': 16777, '보고나니': 16778, '애매하고': 16779, '사향': 16780, '파스텔': 16781, '놀라웠습니다': 16782, '아쉬웠지만': 16783, '찾을수있는': 16784, '죽지': 16785, '않았네요': 16786, '꼴통': 16787, '페미니즘': 16788, '페미나치': 16789, '마인드': 16790, '만들거다': 16791, '안타까워': 16792, '생명체': 16793, '진화': 16794, '아름답': 16795, '이아니라': 16796, '나았으려나': 16797, '했을것도': 16798, '죽일거면': 16799, '됐을거': 16800, '쎄다': 16801, '복용': 16802, '되어가지만': 16803, '유효하다': 16804, '미덕': 16805, '해주었다는데': 16806, '사고싶어질': 16807, '군상': 16808, '스걸형님': 16809, '남겼다': 16810, '헨젤': 16811, '그레텔': 16812, '힘든데': 16813, '빈번': 16814, '다임': 16815, '재밋네': 16816, '달팽이': 16817, '십분': 16818, '잠오네': 16819, '이남': 16820, '달라져있고': 16821, '블라인드': 16822, '탄식': 16823, '나가고': 16824, '싶단': 16825, '여겼던': 16826, '흠뻑': 16827, '돌아왔네요': 16828, '달아놓은': 16829, '이상자': 16830, '할려나': 16831, '하찮은': 16832, '지치게': 16833, '재밌지는': 16834, '잡으려다': 16835, '놓쳤다': 16836, '듣기': 16837, '힘들었네요': 16838, '좋았겠다는': 16839, '헤롱헤롱': 16840, '술처': 16841, '먹구': 16842, '징글': 16843, '한결같은지': 16844, '좋아하는것은': 16845, '이로써': 16846, '있는것은': 16847, '하는것이다': 16848, '많으셨': 16849, '양키': 16850, '헛짓': 16851, '저렴함은': 16852, '신선하기보단': 16853, '식상하게': 16854, '웃긴것과': 16855, '재밌는것은': 16856, '일장춘몽': 16857, '견디고': 16858, '남겨지고': 16859, '고통': 16860, '살아갔던': 16861, '경비': 16862, '오토바이': 16863, '따돌릴': 16864, '갔지': 16865, '할라고': 16866, '들어오기는': 16867, '추잡': 16868, '연산군': 16869, '삭막': 16870, '잡히지': 16871, '보지말것': 16872, '빈스본': 16873, '볼거면': 16874, '맞서는': 16875, '다이빙벨': 16876, '침몰': 16877, '싶은지는': 16878, '출품': 16879, '나타나': 16880, '유애': 16881, '나아나': 16882, '머냐고': 16883, '뒤지냐': 16884, '안아': 16885, '박하고': 16886, '정준호': 16887, '특이하게': 16888, '가스펠': 16889, '편곡': 16890, '색다르네': 16891, '브리짓스': 16892, '가래': 16893, '헤일': 16894, '벨트': 16895, '있었네': 16896, '가정은': 16897, '파탄': 16898, '꽁꽁': 16899, '메고': 16900, '뒤졌네요': 16901, '갠찬네요': 16902, '장터': 16903, '어리게': 16904, '다가올듯': 16905, '트라우마': 16906, '풀어주긴': 16907, '옥죄': 16908, '리더십': 16909, '훈남': 16910, '되지요': 16911, '매너': 16912, '줘야죠': 16913, '소중하고': 16914, '풍족하게': 16915, '멍청': 16916, '천하': 16917, '양녕대군': 16918, '거슬리는게': 16919, '주고다운': 16920, '받았는지': 16921, '좋아하고': 16922, '특출난': 16923, '나앗을': 16924, '대관': 16925, '협회': 16926, '벗어난': 16927, '돼안': 16928, '높아도': 16929, '단순하게': 16930, '작도': 16931, '져아': 16932, '가원': 16933, '울다': 16934, '혜결': 16935, '따라하는거': 16936, '알고싶소': 16937, '까니': 16938, '닥본할끙': 16939, '없으면서': 16940, '재방송': 16941, '시나': 16942, '봐줘도': 16943, '찬란하기': 16944, '이긴': 16945, '오지명': 16946, '들어주겠더라': 16947, '참을수가': 16948, '갈비': 16949, '뜯으로': 16950, '걸륜': 16951, '걸륜팬': 16952, '보는것이': 16953, '빠름과': 16954, '느림': 16955, '즐기지': 16956, '달란': 16957, '노자': 16958, '끼리끼리': 16959, '사냐고': 16960, '순수함은': 16961, '더러운것': 16962, '화이자': 16963, '행복했다': 16964, '돈가': 16965, '고학년': 16966, '본거냐': 16967, '올리는데': 16968, '받는지': 16969, '모르겟': 16970, '태어났고': 16971, '파다': 16972, '무능력해서': 16973, '거슬린다': 16974, '치건': 16975, '웃긴것도': 16976, '껐네요': 16977, '라라피포': 16978, '다루며': 16979, '살아간다': 16980, '하찮을': 16981, '가다': 16982, '생겼다고': 16983, '평수': 16984, '높였네': 16985, '생겼어': 16986, '화산고': 16987, '왼쪽': 16988, '팔자': 16989, '심하더니': 16990, '잘생겨졌고': 16991, '늙었네': 16992, '웃기진': 16993, '유명하고': 16994, '됐었다지': 16995, '올라가신': 16996, '나가다가': 16997, '맹기용': 16998, '불러오': 16999, '잘가': 17000, '냉장고': 17001, '봐줄께': 17002, '쉴드': 17003, '치시고': 17004, '협찬': 17005, '오븐': 17006, '죽을래': 17007, '정신분열증': 17008, '심한거': 17009, '아니냐고': 17010, '그러더라': 17011, '에어': 17012, '리언': 17013, '심하고': 17014, '나는지': 17015, '늘린': 17016, '우스꽝스런': 17017, '숨막히게': 17018, '간절한': 17019, '고향': 17020, '주무': 17021, '꽃게': 17022, '삼길': 17023, '다니엘': 17024, '어루만지는': 17025, '스콜': 17026, '세지': 17027, '사악한': 17028, '펌프': 17029, '싶구나': 17030, '저렇다': 17031, '분명한건': 17032, '해줌': 17033, '종이': 17034, '받을것이다': 17035, '진데': 17036, '구러': 17037, '잼나는디': 17038, '밋밋하네요': 17039, '나갔다': 17040, '찌푸려지는': 17041, '아름답지': 17042, '보았을텐데': 17043, '끝났을': 17044, '허무함과': 17045, '재밋게봣는데': 17046, '없으시나': 17047, '진구': 17048, '둘이잘': 17049, '됫음': 17050, '좋겟다': 17051, '높다니': 17052, '재밌데': 17053, '아까워라': 17054, '멋있기만': 17055, '해선': 17056, '곤란한': 17057, '달라졌습니다': 17058, '같은데요': 17059, '성공할거라': 17060, '예감': 17061, '관람객': 17062, '단호': 17063, '해주네요': 17064, '됬다': 17065, '스캔들': 17066, '딱인데': 17067, '곽재용': 17068, '망첬': 17069, '썩었냐': 17070, '주게': 17071, '재밌군': 17072, '권선': 17073, '징악': 17074, '않군': 17075, '슬프다길래': 17076, '노골': 17077, '은은하고': 17078, '부르고싶다': 17079, '쇼생': 17080, '재미없는듯': 17081, '김예림': 17082, '연결하기만': 17083, '해봐': 17084, '배척': 17085, '당했던': 17086, '부끄러울': 17087, '무색': 17088, '상반': 17089, '떡실신': 17090, '달지말던가': 17091, '규칙': 17092, '슬로우': 17093, '슬링': 17094, '접때': 17095, '오네': 17096, '거때매': 17097, '낭비함': 17098, '경도': 17099, '강렬하게': 17100, '파낸': 17101, '탐구': 17102, '황금시대': 17103, '찾아본': 17104, '고요하다': 17105, '적적하다': 17106, '쓸쓸하다': 17107, '따뜻함과': 17108, '쾌감': 17109, '불러일으키기에': 17110, '나왔으니': 17111, '개요': 17112, '살렸음': 17113, '가져다가': 17114, '반했음': 17115, '만듭': 17116, '우울': 17117, '많은것을': 17118, '어려워서': 17119, '모시': 17120, '오션스일레븐': 17121, '되죠': 17122, '모르겟네': 17123, '사인방': 17124, '쉬운가요': 17125, '겨운거': 17126, '고소영': 17127, '알고싶으면': 17128, '앉아있던것이': 17129, '느낄수있는': 17130, '결집': 17131, '맞길': 17132, '투닥': 17133, '대더군요': 17134, '보디가드': 17135, '사로잡는데': 17136, '어설품': 17137, '있을거다': 17138, '우발': 17139, '재활용': 17140, '왕가네': 17141, '사대': 17142, '낫네요': 17143, '찾아볼만': 17144, '말씀': 17145, '피부': 17146, '뚫겠다는데': 17147, 'ㅋㄱㅋ': 17148, '박규리': 17149, '한승연': 17150, '정니콜': 17151, '구하라': 17152, '강지영': 17153, '카라': 17154, '카밀리아': 17155, '뉴완다': 17156, '깨서': 17157, '해줬다면': 17158, '가까웠을텐데': 17159, '잔인하거나': 17160, '압박': 17161, '해오는': 17162, '라빈': 17163, '낚였눼': 17164, '죽어뿌': 17165, '그릇된': 17166, '일부분': 17167, '많으면': 17168, '힘든면도': 17169, '좋을수도': 17170, '샤이': 17171, '라보프': 17172, '힘쓰는': 17173, '볼라': 17174, '화신': 17175, '지르르': 17176, '나줘야지': 17177, '걸어줄': 17178, '고마웠어요': 17179, '훨훨': 17180, '날아요': 17181, '애절함은': 17182, '덜해도': 17183, '우수함과': 17184, '기타등등': 17185, '잘껄': 17186, '위험함이': 17187, '이었을지': 17188, '과오': 17189, '보여지는': 17190, '카일': 17191, '뽑네': 17192, '삼총사': 17193, '추노': 17194, '판인줄': 17195, '저급': 17196, '가르엔': 17197, '근친상간': 17198, '다닐지라도': 17199, '니스': 17200, '드래곤': 17201, '멋지네': 17202, '잡수셨을지라도': 17203, '선방': 17204, '빅팬': 17205, '멀미': 17206, '아이즈': 17207, '하고있는': 17208, '에누리': 17209, '브스': 17210, '이다윗': 17211, '뜨게': 17212, '다물어지지': 17213, '필요한건': 17214, '조은숙': 17215, '무거우면서도': 17216, '전수진': 17217, '이은우': 17218, '후진국': 17219, '환가': 17220, '잘생겨서': 17221, '앞바다': 17222, '오염시키고': 17223, '주민': 17224, '생계': 17225, '밟은': 17226, '상대로': 17227, '싸워줄': 17228, '없을까': 17229, '적꿈': 17230, '나타난데': 17231, '므흣': 17232, '웃기는거': 17233, '아니닠': 17234, '나도꽃': 17235, '느끼고': 17236, '흥분하고': 17237, '나마': 17238, '만족한것으로': 17239, '고마웠다': 17240, '봤었지만': 17241, '밋엇다': 17242, '만들어지게': 17243, '전말': 17244, '않았나라는': 17245, '한공주': 17246, '외치는': 17247, '받아라': 17248, '토나올': 17249, '잠오고': 17250, '패럴': 17251, '해오든가': 17252, '낭랑히': 17253, '읽고있는': 17254, '리딩': 17255, '레드라이트': 17256, '소중히': 17257, '하시라': 17258, '무용': 17259, '써놨듯이': 17260, '개구': 17261, '쳤다던': 17262, '입니당': 17263, '않은가': 17264, '옳게': 17265, '회수': 17266, '많던데': 17267, '재미있더': 17268, '정연기': 17269, '별루엿': 17270, '전병': 17271, '답답해요': 17272, '빠른': 17273, '되었으면': 17274, '당하는게': 17275, '당하는거': 17276, '불쾌하네요': 17277, '신선하지도': 17278, '니뽄류': 17279, '도시괴담': 17280, '시갈영홪우': 17281, '먹을듯': 17282, '놀랐습니다': 17283, '끌어가는': 17284, '대적': 17285, '잡히고': 17286, '죽임을': 17287, '당하는지': 17288, '조달환': 17289, '신선해': 17290, '고통스런': 17291, '홀홀': 17292, '괜찮았지만': 17293, '나영': 17294, '예뻤음': 17295, '없었습니까': 17296, '요일': 17297, '금토': 17298, '독살': 17299, '안되겠니': 17300, '죽여도': 17301, '알것이야': 17302, '진부하고말': 17303, '환타지': 17304, '수꼴': 17305, '인민재판': 17306, '없다는거': 17307, '보내라': 17308, '김정은': 17309, '좋아하겟다': 17310, '심은하': 17311, '대단하군요': 17312, '쓰던': 17313, '똑같다': 17314, '자세히': 17315, '미스테리': 17316, '그럼에도': 17317, '장난스럽다': 17318, '너무했다이거': 17319, '패션쇼': 17320, '학기': 17321, '불꽃': 17322, '번성': 17323, '여전하다': 17324, '두려운가': 17325, '났지만': 17326, '느껴졌어요': 17327, '감격시대': 17328, '빠져들게': 17329, '보조': 17330, '한물갔군': 17331, '허무맹랑': 17332, '나멋쪙': 17333, '남규리': 17334, '대구': 17335, '이었다나도': 17336, '보고싶던': 17337, '자마자': 17338, '여보세요': 17339, '쓰고있었다': 17340}\n"
          ]
        }
      ]
    },
    {
      "cell_type": "code",
      "source": [
        "# 등장 빈도수 3회 미만인 토큰이 전체에서 얼마나 비중을 차지하는지 확인\n",
        "threshold = 3\n",
        "total_cnt = len(tokenizer.word_index) # 단어의 수\n",
        "rare_cnt = 0 # 등장 빈도수가 threshold보다 작은 단어의 개수를 카운트\n",
        "total_freq = 0 # 훈련 데이터의 전체 단어 빈도수 총 합\n",
        "rare_freq = 0 # 등장 빈도수가 threshold보다 작은 단어의 등장 빈도수의 총 합\n",
        "\n",
        "# 단어와 빈도수의 쌍(pair)을 key와 value로 받는다.\n",
        "for key, value in tokenizer.word_counts.items(): # word_counts : 단어의 빈도수를 계산해주는 함수 # items() : kev값과 value값을 쌍으로 받음\n",
        "  total_freq += value\n",
        "\n",
        "  # 단어의 등장 빈도수가 threshold보다 작으면\n",
        "  if(value < threshold):\n",
        "    rare_cnt += 1\n",
        "    rare_freq += value\n",
        "\n",
        "print('단어 집합(vocabulary)의 크기 :',total_cnt)\n",
        "print('등장 빈도가 %s번 이하인 희귀 단어의 수: %s'%(threshold - 1, rare_cnt))\n",
        "print(\"단어 집합에서 희귀 단어의 비율:\", (rare_cnt / total_cnt)*100)\n",
        "print(\"전체 등장 빈도에서 희귀 단어 등장 빈도 비율:\", (rare_freq / total_freq)*100)"
      ],
      "metadata": {
        "colab": {
          "base_uri": "https://localhost:8080/"
        },
        "id": "ZdwSy6BE1E7c",
        "outputId": "ed2a60a2-16eb-4d30-c69f-c00a56bb6a37"
      },
      "execution_count": 160,
      "outputs": [
        {
          "output_type": "stream",
          "name": "stdout",
          "text": [
            "단어 집합(vocabulary)의 크기 : 17340\n",
            "등장 빈도가 2번 이하인 희귀 단어의 수: 13455\n",
            "단어 집합에서 희귀 단어의 비율: 77.59515570934255\n",
            "전체 등장 빈도에서 희귀 단어 등장 빈도 비율: 23.594787750917494\n"
          ]
        }
      ]
    },
    {
      "cell_type": "code",
      "source": [
        "vocab_size = total_cnt - rare_cnt + 1\n",
        "print('단어 집합의 크기 :',vocab_size)"
      ],
      "metadata": {
        "colab": {
          "base_uri": "https://localhost:8080/"
        },
        "id": "RsolRJwD3zlF",
        "outputId": "775919c5-1bcf-427a-9f20-13a85f7192ad"
      },
      "execution_count": 144,
      "outputs": [
        {
          "output_type": "stream",
          "name": "stdout",
          "text": [
            "단어 집합의 크기 : 3886\n"
          ]
        }
      ]
    },
    {
      "cell_type": "code",
      "source": [
        "from tensorflow.keras.preprocessing.text import Tokenizer\n",
        "from sklearn.model_selection import train_test_split\n",
        "\n",
        "x_train, x_test, y_train, y_test = train_test_split(x, y, test_size = 0.2,\n",
        "                                                    random_state = 2) # test_size 의 디폴트값은 0.25from sklearn.model_selection import train_test_split\n",
        "\n",
        "tokenizer = Tokenizer(vocab_size)\n",
        "tokenizer.fit_on_texts(x_train)\n",
        "x_train = tokenizer.texts_to_sequences(x_train)\n",
        "x_test = tokenizer.texts_to_sequences(x_test)"
      ],
      "metadata": {
        "id": "aLmpy9QP34WQ"
      },
      "execution_count": 170,
      "outputs": []
    },
    {
      "cell_type": "code",
      "source": [
        "print(x_train[:3])"
      ],
      "metadata": {
        "colab": {
          "base_uri": "https://localhost:8080/"
        },
        "id": "rAZjCJgABY5q",
        "outputId": "64a2efff-3129-4855-b09f-767df347f5a3"
      },
      "execution_count": 171,
      "outputs": [
        {
          "output_type": "stream",
          "name": "stdout",
          "text": [
            "[[5, 1317, 3, 62, 23, 607, 128, 101, 21, 3, 765, 172, 46, 148, 12, 62], [649, 128, 26, 96, 1318, 26, 8, 2210, 1527, 202, 221, 1319, 2804, 2805, 2806, 1320, 250, 1321, 265, 1322, 2211], [396, 1026, 2807, 173, 2808, 564, 1027, 35, 1]]\n"
          ]
        }
      ]
    },
    {
      "cell_type": "markdown",
      "source": [
        "### 패딩(padding)"
      ],
      "metadata": {
        "id": "E7fSnxe6DS4M"
      }
    },
    {
      "cell_type": "code",
      "source": [
        "import matplotlib.pyplot as plt\n",
        "\n",
        "print('리뷰의 최대 길이 :',max(len(review) for review in x_train))\n",
        "print('리뷰의 평균 길이 :',sum(map(len, x_train))/len(x_train))\n",
        "plt.hist([len(review) for review in x_train], bins=50)\n",
        "plt.xlabel('length of samples')\n",
        "plt.ylabel('number of samples')\n",
        "plt.show()"
      ],
      "metadata": {
        "colab": {
          "base_uri": "https://localhost:8080/",
          "height": 487
        },
        "id": "bJm2p0qDBk2C",
        "outputId": "fd01fad8-6d92-4fa8-f2e8-0b89cb59a246"
      },
      "execution_count": 172,
      "outputs": [
        {
          "output_type": "stream",
          "name": "stdout",
          "text": [
            "리뷰의 최대 길이 : 33\n",
            "리뷰의 평균 길이 : 6.427875\n"
          ]
        },
        {
          "output_type": "display_data",
          "data": {
            "text/plain": [
              "<Figure size 640x480 with 1 Axes>"
            ],
            "image/png": "[encoded data removed]"
          },
          "metadata": {}
        }
      ]
    },
    {
      "cell_type": "code",
      "source": [
        "# 그래프 왜이래..??"
      ],
      "metadata": {
        "id": "zko6uOEaIkqC"
      },
      "execution_count": null,
      "outputs": []
    },
    {
      "cell_type": "code",
      "source": [
        "def below_threshold_len(max_len, nested_list):\n",
        "  count = 0\n",
        "  for sentence in nested_list:\n",
        "    if(len(sentence) <= max_len):\n",
        "        count = count + 1\n",
        "  print('전체 샘플 중 길이가 %s 이하인 샘플의 비율: %s'%(max_len, (count / len(nested_list))*100))"
      ],
      "metadata": {
        "id": "whPSmfd2C9eK"
      },
      "execution_count": 176,
      "outputs": []
    },
    {
      "cell_type": "code",
      "source": [
        "max_len = 30\n",
        "below_threshold_len(max_len, x_train)"
      ],
      "metadata": {
        "colab": {
          "base_uri": "https://localhost:8080/"
        },
        "id": "Hono8QZTDJZh",
        "outputId": "0ce5ce7f-e221-4cb4-c867-bb32f8291bbf"
      },
      "execution_count": 177,
      "outputs": [
        {
          "output_type": "stream",
          "name": "stdout",
          "text": [
            "전체 샘플 중 길이가 30 이하인 샘플의 비율: 99.77829942618675\n"
          ]
        }
      ]
    },
    {
      "cell_type": "code",
      "source": [
        "from tensorflow.keras.preprocessing.sequence import pad_sequences\n",
        "x_train = pad_sequences(x_train, maxlen=max_len)\n",
        "x_test = pad_sequences(x_test, maxlen=max_len)"
      ],
      "metadata": {
        "id": "TqC5AxF7D93e"
      },
      "execution_count": 180,
      "outputs": []
    },
    {
      "cell_type": "markdown",
      "source": [
        "### 감정분석 모델링"
      ],
      "metadata": {
        "id": "pvpDmBtWDq3M"
      }
    },
    {
      "cell_type": "code",
      "source": [
        "from tensorflow.keras.layers import Embedding, Dense, LSTM\n",
        "from tensorflow.keras.models import Sequential\n",
        "from tensorflow.keras.models import load_model\n",
        "from tensorflow.keras.callbacks import EarlyStopping, ModelCheckpoint\n",
        "\n",
        "embedding_dim = 100\n",
        "hidden_units = 128\n",
        "\n",
        "model = Sequential()\n",
        "model.add(Embedding(vocab_size, embedding_dim))\n",
        "model.add(LSTM(hidden_units))\n",
        "model.add(Dense(1, activation='sigmoid'))\n",
        "\n",
        "es = EarlyStopping(monitor='val_loss', mode='min', verbose=1, patience=4) # 과적합 방지를 위해 조기 중단\n",
        "mc = ModelCheckpoint('best_model.h5', monitor='val_acc', mode='max', verbose=1, save_best_only=True)\n",
        "\n",
        "model.compile(optimizer='rmsprop', loss='binary_crossentropy', metrics=['acc'])\n",
        "history = model.fit(x_train, y_train, epochs=15, callbacks=[es, mc], batch_size=64, validation_split=0.2)"
      ],
      "metadata": {
        "colab": {
          "base_uri": "https://localhost:8080/"
        },
        "id": "O7Q9A8lv6FKV",
        "outputId": "9c8c4350-9cea-43ed-cfcf-eea140d6377d"
      },
      "execution_count": 181,
      "outputs": [
        {
          "output_type": "stream",
          "name": "stdout",
          "text": [
            "Epoch 1/15\n",
            "96/96 [==============================] - ETA: 0s - loss: 0.6934 - acc: 0.4995\n",
            "Epoch 1: val_acc improved from -inf to 0.49870, saving model to best_model.h5\n",
            "96/96 [==============================] - 14s 106ms/step - loss: 0.6934 - acc: 0.4995 - val_loss: 0.6936 - val_acc: 0.4987\n",
            "Epoch 2/15\n",
            " 2/96 [..............................] - ETA: 5s - loss: 0.6891 - acc: 0.5703"
          ]
        },
        {
          "output_type": "stream",
          "name": "stderr",
          "text": [
            "/usr/local/lib/python3.10/dist-packages/keras/src/engine/training.py:3000: UserWarning: You are saving your model as an HDF5 file via `model.save()`. This file format is considered legacy. We recommend using instead the native Keras format, e.g. `model.save('my_model.keras')`.\n",
            "  saving_api.save_model(\n"
          ]
        },
        {
          "output_type": "stream",
          "name": "stdout",
          "text": [
            "96/96 [==============================] - ETA: 0s - loss: 0.6915 - acc: 0.5326\n",
            "Epoch 2: val_acc did not improve from 0.49870\n",
            "96/96 [==============================] - 10s 101ms/step - loss: 0.6915 - acc: 0.5326 - val_loss: 0.6944 - val_acc: 0.4817\n",
            "Epoch 3/15\n",
            "96/96 [==============================] - ETA: 0s - loss: 0.6845 - acc: 0.5672\n",
            "Epoch 3: val_acc did not improve from 0.49870\n",
            "96/96 [==============================] - 8s 80ms/step - loss: 0.6845 - acc: 0.5672 - val_loss: 0.6997 - val_acc: 0.4941\n",
            "Epoch 4/15\n",
            "96/96 [==============================] - ETA: 0s - loss: 0.6619 - acc: 0.6130\n",
            "Epoch 4: val_acc did not improve from 0.49870\n",
            "96/96 [==============================] - 9s 99ms/step - loss: 0.6619 - acc: 0.6130 - val_loss: 0.7287 - val_acc: 0.4804\n",
            "Epoch 5/15\n",
            "96/96 [==============================] - ETA: 0s - loss: 0.6139 - acc: 0.6731\n",
            "Epoch 5: val_acc did not improve from 0.49870\n",
            "96/96 [==============================] - 7s 78ms/step - loss: 0.6139 - acc: 0.6731 - val_loss: 0.7820 - val_acc: 0.4791\n",
            "Epoch 5: early stopping\n"
          ]
        }
      ]
    },
    {
      "cell_type": "markdown",
      "source": [
        "### 정확도(acc), f1 score 구하기"
      ],
      "metadata": {
        "id": "KOykyU01Es4H"
      }
    },
    {
      "cell_type": "code",
      "source": [
        "model.evaluate(x_test, y_test)"
      ],
      "metadata": {
        "colab": {
          "base_uri": "https://localhost:8080/"
        },
        "id": "9ZFmHPCZHibJ",
        "outputId": "1102a82f-43f7-4ca3-dea7-80ea4da939f5"
      },
      "execution_count": 185,
      "outputs": [
        {
          "output_type": "stream",
          "name": "stdout",
          "text": [
            "63/63 [==============================] - 3s 41ms/step - loss: 0.7542 - acc: 0.4965\n"
          ]
        },
        {
          "output_type": "execute_result",
          "data": {
            "text/plain": [
              "[0.7541602253913879, 0.4964999854564667]"
            ]
          },
          "metadata": {},
          "execution_count": 185
        }
      ]
    },
    {
      "cell_type": "code",
      "source": [
        "plt.figure(figsize=(10,10))\n",
        "plt.plot(history.history['loss'][1:], label='Train', color='red')\n",
        "plt.plot(history.history['val_loss'][1:], label='Test', color='purple')\n",
        "plt.xlabel('Epochs')\n",
        "plt.ylabel('Cost')\n",
        "plt.legend()\n",
        "plt.show()"
      ],
      "metadata": {
        "colab": {
          "base_uri": "https://localhost:8080/",
          "height": 850
        },
        "id": "9bMtNud_Hvdg",
        "outputId": "3bd7c0d5-3ca5-46b4-e1f7-7b43a7ce3a13"
      },
      "execution_count": 187,
      "outputs": [
        {
          "output_type": "display_data",
          "data": {
            "text/plain": [
              "<Figure size 1000x1000 with 1 Axes>"
            ],
            "image/png": "[encoded data removed]"
          },
          "metadata": {}
        }
      ]
    },
    {
      "cell_type": "code",
      "source": [
        "### 그래프 왜이래!!!!!!!!!!!!\n",
        "### 나중에 모델링 뜯어 고치기"
      ],
      "metadata": {
        "id": "hSsmGjItIUvR"
      },
      "execution_count": null,
      "outputs": []
    }
  ]
}