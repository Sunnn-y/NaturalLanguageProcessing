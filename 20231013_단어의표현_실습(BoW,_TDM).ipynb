{
  "nbformat": 4,
  "nbformat_minor": 0,
  "metadata": {
    "colab": {
      "provenance": [],
      "gpuType": "T4",
      "authorship_tag": "ABX9TyPhVHfK5OjdenSEdwR2+hHo",
      "include_colab_link": true
    },
    "kernelspec": {
      "name": "python3",
      "display_name": "Python 3"
    },
    "language_info": {
      "name": "python"
    },
    "accelerator": "GPU"
  },
  "cells": [
    {
      "cell_type": "markdown",
      "metadata": {
        "id": "view-in-github",
        "colab_type": "text"
      },
      "source": [
        "<a href=\"https://colab.research.google.com/github/Sunnn-y/NaturalLanguageProcessing/blob/main/20231013_%EB%8B%A8%EC%96%B4%EC%9D%98%ED%91%9C%ED%98%84_%EC%8B%A4%EC%8A%B5(BoW%2C_TDM).ipynb\" target=\"_parent\"><img src=\"https://colab.research.google.com/assets/colab-badge.svg\" alt=\"Open In Colab\"/></a>"
      ]
    },
    {
      "cell_type": "markdown",
      "source": [
        "# BOW 직접 구현"
      ],
      "metadata": {
        "id": "QPHkjO4uCA7e"
      }
    },
    {
      "cell_type": "markdown",
      "source": [
        "## 실습"
      ],
      "metadata": {
        "id": "wj0Rn72RpkB2"
      }
    },
    {
      "cell_type": "code",
      "execution_count": 3,
      "metadata": {
        "id": "awdBqW0U8kQT"
      },
      "outputs": [],
      "source": [
        "docs = ['오늘 동물원에서 코끼리 원숭이를 보고 코끼리 원숭이에게 먹이를 줬어',\n",
        "        '오늘 동물원에서 원숭이에게 사과를 줬어']"
      ]
    },
    {
      "cell_type": "code",
      "source": [
        "docs_ls = []\n",
        "\n",
        "for doc in docs:\n",
        "  docs_ls.append(doc.split(' '))\n",
        "\n",
        "docs_ls"
      ],
      "metadata": {
        "colab": {
          "base_uri": "https://localhost:8080/"
        },
        "id": "pyXuXiM6CQRr",
        "outputId": "1853eedd-138b-42ee-dd6a-2877ea207bca"
      },
      "execution_count": 4,
      "outputs": [
        {
          "output_type": "execute_result",
          "data": {
            "text/plain": [
              "[['오늘', '동물원에서', '코끼리', '원숭이를', '보고', '코끼리', '원숭이에게', '먹이를', '줬어'],\n",
              " ['오늘', '동물원에서', '원숭이에게', '사과를', '줬어']]"
            ]
          },
          "metadata": {},
          "execution_count": 4
        }
      ]
    },
    {
      "cell_type": "code",
      "source": [
        "# 고유 토큰 추출 후 인덱스 붙이기\n",
        "docu = set() # 중복값 제거를 위해 빈 세트 설정\n",
        "dict1 = {}\n",
        "for i in range(2):\n",
        "  for k in range(len(docs_ls[i])):\n",
        "    docu.add(docs_ls[i][k])\n",
        "for idx, val in enumerate(docu):\n",
        "  dict1[idx] = val\n",
        "\n",
        "dict1"
      ],
      "metadata": {
        "colab": {
          "base_uri": "https://localhost:8080/"
        },
        "id": "0SNtTstWCuUQ",
        "outputId": "c59554f2-7015-4d34-dbc6-20c665e16e93"
      },
      "execution_count": 5,
      "outputs": [
        {
          "output_type": "execute_result",
          "data": {
            "text/plain": [
              "{0: '코끼리',\n",
              " 1: '원숭이에게',\n",
              " 2: '동물원에서',\n",
              " 3: '보고',\n",
              " 4: '원숭이를',\n",
              " 5: '오늘',\n",
              " 6: '사과를',\n",
              " 7: '줬어',\n",
              " 8: '먹이를'}"
            ]
          },
          "metadata": {},
          "execution_count": 5
        }
      ]
    },
    {
      "cell_type": "code",
      "source": [
        "lis = []\n",
        "for val in dict1.values():\n",
        "  lis.append(val)\n",
        "lis"
      ],
      "metadata": {
        "colab": {
          "base_uri": "https://localhost:8080/"
        },
        "id": "2mRQMC5nZsYL",
        "outputId": "f62c3f78-94fc-4175-f835-41119553e594"
      },
      "execution_count": 6,
      "outputs": [
        {
          "output_type": "execute_result",
          "data": {
            "text/plain": [
              "['코끼리', '원숭이에게', '동물원에서', '보고', '원숭이를', '오늘', '사과를', '줬어', '먹이를']"
            ]
          },
          "metadata": {},
          "execution_count": 6
        }
      ]
    },
    {
      "cell_type": "code",
      "source": [
        "bow1 = {} # 문서 1의 토큰 등장 횟수를 기록할 변수 설정\n",
        "bow2 = {} # 문서 2의 토큰 등장 횟수를 기록할 변수 설정\n",
        "docu1 = docs_ls[0] # 문서 1\n",
        "docu2 = docs_ls[1] # 문서 2\n",
        "for c in range(len(lis)):\n",
        "    bow1[lis[c]] = docu1.count(lis[c])\n",
        "    bow2[lis[c]] = docu2.count(lis[c])"
      ],
      "metadata": {
        "id": "YosPNe-eVPgZ"
      },
      "execution_count": 7,
      "outputs": []
    },
    {
      "cell_type": "code",
      "source": [
        "print(bow1, bow2)"
      ],
      "metadata": {
        "colab": {
          "base_uri": "https://localhost:8080/"
        },
        "id": "-m8OHaceXFOa",
        "outputId": "b1f535a5-ea1b-4812-ce45-8eb458e42678"
      },
      "execution_count": 11,
      "outputs": [
        {
          "output_type": "stream",
          "name": "stdout",
          "text": [
            "{'코끼리': 2, '원숭이에게': 1, '동물원에서': 1, '보고': 1, '원숭이를': 1, '오늘': 1, '사과를': 0, '줬어': 1, '먹이를': 1} {'코끼리': 0, '원숭이에게': 1, '동물원에서': 1, '보고': 0, '원숭이를': 0, '오늘': 1, '사과를': 1, '줬어': 1, '먹이를': 0}\n"
          ]
        }
      ]
    },
    {
      "cell_type": "markdown",
      "source": [
        "## 다른 방식"
      ],
      "metadata": {
        "id": "hmmr7Vc2pc3s"
      }
    },
    {
      "cell_type": "code",
      "source": [
        "docs = ['오늘 동물원에서 코끼리 원숭이를 보고 코끼리 원숭이에게 먹이를 줬어',\n",
        "        '오늘 동물원에서 원숭이에게 사과를 줬어']\n",
        "# '오늘 동물원에서 코끼리 원숭이를 보고 코끼리 원숭이에게 먹이를 줬어 오늘 동물원에서 원숭이에게 사과를 줬어'"
      ],
      "metadata": {
        "id": "iadTqSi6qKlR"
      },
      "execution_count": null,
      "outputs": []
    },
    {
      "cell_type": "code",
      "source": [
        "docs_ls = []\n",
        "\n",
        "for doc in docs:\n",
        "  docs_ls.append(doc.split(' '))\n",
        "\n",
        "docs_ls"
      ],
      "metadata": {
        "colab": {
          "base_uri": "https://localhost:8080/"
        },
        "id": "VceBoP4jqPI4",
        "outputId": "23a5e4b7-0961-4b3c-c851-a1f5099cc63a"
      },
      "execution_count": null,
      "outputs": [
        {
          "output_type": "execute_result",
          "data": {
            "text/plain": [
              "[['오늘', '동물원에서', '코끼리', '원숭이를', '보고', '코끼리', '원숭이에게', '먹이를', '줬어'],\n",
              " ['오늘', '동물원에서', '원숭이에게', '사과를', '줬어']]"
            ]
          },
          "metadata": {},
          "execution_count": 95
        }
      ]
    },
    {
      "cell_type": "markdown",
      "source": [
        "1. 유니크한 토큰 사전 구하기"
      ],
      "metadata": {
        "id": "Wje9I8Mrewu4"
      }
    },
    {
      "cell_type": "code",
      "source": [
        "from collections import defaultdict\n",
        "\n",
        "word2id = defaultdict(lambda : len(word2id))\n",
        "\n",
        "for doc in docs_ls:\n",
        "  for token in doc:\n",
        "    word2id[token]\n",
        "\n",
        "word2id"
      ],
      "metadata": {
        "colab": {
          "base_uri": "https://localhost:8080/"
        },
        "id": "P_Ni1RcPpvex",
        "outputId": "ab6cb96d-f07a-477a-8bd0-3cd96d04a1ac"
      },
      "execution_count": null,
      "outputs": [
        {
          "output_type": "execute_result",
          "data": {
            "text/plain": [
              "defaultdict(<function __main__.<lambda>()>,\n",
              "            {'오늘': 0,\n",
              "             '동물원에서': 1,\n",
              "             '코끼리': 2,\n",
              "             '원숭이를': 3,\n",
              "             '보고': 4,\n",
              "             '원숭이에게': 5,\n",
              "             '먹이를': 6,\n",
              "             '줬어': 7,\n",
              "             '사과를': 8})"
            ]
          },
          "metadata": {},
          "execution_count": 96
        }
      ]
    },
    {
      "cell_type": "markdown",
      "source": [
        "2. BOW 구하기"
      ],
      "metadata": {
        "id": "TtKgoOipqRX7"
      }
    },
    {
      "cell_type": "code",
      "source": [
        "import numpy as np\n",
        "BoW_ls = []\n",
        "for i, doc in enumerate(docs_ls):\n",
        "  bow = np.zeros(len(word2id), dtype = int)\n",
        "  for token in doc:\n",
        "    bow[word2id[token]] += 1\n",
        "  BoW_ls.append(bow.tolist())"
      ],
      "metadata": {
        "id": "hxG6K5JfdLAy"
      },
      "execution_count": null,
      "outputs": []
    },
    {
      "cell_type": "code",
      "source": [
        "BoW_ls"
      ],
      "metadata": {
        "colab": {
          "base_uri": "https://localhost:8080/"
        },
        "id": "Khx8ERxPqxFW",
        "outputId": "a1af3666-1a30-41c7-d8dc-c2d848264af1"
      },
      "execution_count": null,
      "outputs": [
        {
          "output_type": "execute_result",
          "data": {
            "text/plain": [
              "[[1, 1, 2, 1, 1, 1, 1, 1, 0], [1, 1, 0, 0, 0, 1, 0, 1, 1]]"
            ]
          },
          "metadata": {},
          "execution_count": 98
        }
      ]
    },
    {
      "cell_type": "code",
      "source": [
        "from IPython.core import display as ICD\n",
        "import pandas as pd\n",
        "sorted_vocab = sorted((value, key) for key, value in word2id.items())\n",
        "print('sorted_vocab', sorted_vocab)\n",
        "\n",
        "vocab = []\n",
        "for v in sorted_vocab:\n",
        "  vocab.append(v[1])\n",
        "print('vocab', vocab)\n",
        "\n",
        "for i in range(len(docs)):\n",
        "  print(\"문서{} : {}\".format(i,docs[i]))\n",
        "  ICD.display(pd.DataFrame([BoW_ls[i]], columns=vocab))\n",
        "  print(\"\\n\\n\")"
      ],
      "metadata": {
        "colab": {
          "base_uri": "https://localhost:8080/",
          "height": 335
        },
        "id": "pNn5B2MqqzNQ",
        "outputId": "54474c7f-d41e-4ba7-bf43-5b11edb03884"
      },
      "execution_count": null,
      "outputs": [
        {
          "output_type": "stream",
          "name": "stdout",
          "text": [
            "sorted_vocab [(0, '오늘'), (1, '동물원에서'), (2, '코끼리'), (3, '원숭이를'), (4, '보고'), (5, '원숭이에게'), (6, '먹이를'), (7, '줬어'), (8, '사과를')]\n",
            "vocab ['오늘', '동물원에서', '코끼리', '원숭이를', '보고', '원숭이에게', '먹이를', '줬어', '사과를']\n",
            "문서0 : 오늘 동물원에서 코끼리 원숭이를 보고 코끼리 원숭이에게 먹이를 줬어\n"
          ]
        },
        {
          "output_type": "display_data",
          "data": {
            "text/plain": [
              "   오늘  동물원에서  코끼리  원숭이를  보고  원숭이에게  먹이를  줬어  사과를\n",
              "0   1      1    2     1   1      1    1   1    0"
            ],
            "text/html": [
              "\n",
              "  <div id=\"df-1ac61572-5d84-4d2f-b36a-369ccfeb633a\" class=\"colab-df-container\">\n",
              "    <div>\n",
              "<style scoped>\n",
              "    .dataframe tbody tr th:only-of-type {\n",
              "        vertical-align: middle;\n",
              "    }\n",
              "\n",
              "    .dataframe tbody tr th {\n",
              "        vertical-align: top;\n",
              "    }\n",
              "\n",
              "    .dataframe thead th {\n",
              "        text-align: right;\n",
              "    }\n",
              "</style>\n",
              "<table border=\"1\" class=\"dataframe\">\n",
              "  <thead>\n",
              "    <tr style=\"text-align: right;\">\n",
              "      <th></th>\n",
              "      <th>오늘</th>\n",
              "      <th>동물원에서</th>\n",
              "      <th>코끼리</th>\n",
              "      <th>원숭이를</th>\n",
              "      <th>보고</th>\n",
              "      <th>원숭이에게</th>\n",
              "      <th>먹이를</th>\n",
              "      <th>줬어</th>\n",
              "      <th>사과를</th>\n",
              "    </tr>\n",
              "  </thead>\n",
              "  <tbody>\n",
              "    <tr>\n",
              "      <th>0</th>\n",
              "      <td>1</td>\n",
              "      <td>1</td>\n",
              "      <td>2</td>\n",
              "      <td>1</td>\n",
              "      <td>1</td>\n",
              "      <td>1</td>\n",
              "      <td>1</td>\n",
              "      <td>1</td>\n",
              "      <td>0</td>\n",
              "    </tr>\n",
              "  </tbody>\n",
              "</table>\n",
              "</div>\n",
              "    <div class=\"colab-df-buttons\">\n",
              "\n",
              "  <div class=\"colab-df-container\">\n",
              "    <button class=\"colab-df-convert\" onclick=\"convertToInteractive('df-1ac61572-5d84-4d2f-b36a-369ccfeb633a')\"\n",
              "            title=\"Convert this dataframe to an interactive table.\"\n",
              "            style=\"display:none;\">\n",
              "\n",
              "  <svg xmlns=\"http://www.w3.org/2000/svg\" height=\"24px\" viewBox=\"0 -960 960 960\">\n",
              "    <path d=\"M120-120v-720h720v720H120Zm60-500h600v-160H180v160Zm220 220h160v-160H400v160Zm0 220h160v-160H400v160ZM180-400h160v-160H180v160Zm440 0h160v-160H620v160ZM180-180h160v-160H180v160Zm440 0h160v-160H620v160Z\"/>\n",
              "  </svg>\n",
              "    </button>\n",
              "\n",
              "  <style>\n",
              "    .colab-df-container {\n",
              "      display:flex;\n",
              "      gap: 12px;\n",
              "    }\n",
              "\n",
              "    .colab-df-convert {\n",
              "      background-color: #E8F0FE;\n",
              "      border: none;\n",
              "      border-radius: 50%;\n",
              "      cursor: pointer;\n",
              "      display: none;\n",
              "      fill: #1967D2;\n",
              "      height: 32px;\n",
              "      padding: 0 0 0 0;\n",
              "      width: 32px;\n",
              "    }\n",
              "\n",
              "    .colab-df-convert:hover {\n",
              "      background-color: #E2EBFA;\n",
              "      box-shadow: 0px 1px 2px rgba(60, 64, 67, 0.3), 0px 1px 3px 1px rgba(60, 64, 67, 0.15);\n",
              "      fill: #174EA6;\n",
              "    }\n",
              "\n",
              "    .colab-df-buttons div {\n",
              "      margin-bottom: 4px;\n",
              "    }\n",
              "\n",
              "    [theme=dark] .colab-df-convert {\n",
              "      background-color: #3B4455;\n",
              "      fill: #D2E3FC;\n",
              "    }\n",
              "\n",
              "    [theme=dark] .colab-df-convert:hover {\n",
              "      background-color: #434B5C;\n",
              "      box-shadow: 0px 1px 3px 1px rgba(0, 0, 0, 0.15);\n",
              "      filter: drop-shadow(0px 1px 2px rgba(0, 0, 0, 0.3));\n",
              "      fill: #FFFFFF;\n",
              "    }\n",
              "  </style>\n",
              "\n",
              "    <script>\n",
              "      const buttonEl =\n",
              "        document.querySelector('#df-1ac61572-5d84-4d2f-b36a-369ccfeb633a button.colab-df-convert');\n",
              "      buttonEl.style.display =\n",
              "        google.colab.kernel.accessAllowed ? 'block' : 'none';\n",
              "\n",
              "      async function convertToInteractive(key) {\n",
              "        const element = document.querySelector('#df-1ac61572-5d84-4d2f-b36a-369ccfeb633a');\n",
              "        const dataTable =\n",
              "          await google.colab.kernel.invokeFunction('convertToInteractive',\n",
              "                                                    [key], {});\n",
              "        if (!dataTable) return;\n",
              "\n",
              "        const docLinkHtml = 'Like what you see? Visit the ' +\n",
              "          '<a target=\"_blank\" href=https://colab.research.google.com/notebooks/data_table.ipynb>data table notebook</a>'\n",
              "          + ' to learn more about interactive tables.';\n",
              "        element.innerHTML = '';\n",
              "        dataTable['output_type'] = 'display_data';\n",
              "        await google.colab.output.renderOutput(dataTable, element);\n",
              "        const docLink = document.createElement('div');\n",
              "        docLink.innerHTML = docLinkHtml;\n",
              "        element.appendChild(docLink);\n",
              "      }\n",
              "    </script>\n",
              "  </div>\n",
              "\n",
              "    </div>\n",
              "  </div>\n"
            ]
          },
          "metadata": {}
        },
        {
          "output_type": "stream",
          "name": "stdout",
          "text": [
            "\n",
            "\n",
            "\n",
            "문서1 : 오늘 동물원에서 원숭이에게 사과를 줬어\n"
          ]
        },
        {
          "output_type": "display_data",
          "data": {
            "text/plain": [
              "   오늘  동물원에서  코끼리  원숭이를  보고  원숭이에게  먹이를  줬어  사과를\n",
              "0   1      1    0     0   0      1    0   1    1"
            ],
            "text/html": [
              "\n",
              "  <div id=\"df-71732a3a-0f14-4564-b041-e964c3d46c84\" class=\"colab-df-container\">\n",
              "    <div>\n",
              "<style scoped>\n",
              "    .dataframe tbody tr th:only-of-type {\n",
              "        vertical-align: middle;\n",
              "    }\n",
              "\n",
              "    .dataframe tbody tr th {\n",
              "        vertical-align: top;\n",
              "    }\n",
              "\n",
              "    .dataframe thead th {\n",
              "        text-align: right;\n",
              "    }\n",
              "</style>\n",
              "<table border=\"1\" class=\"dataframe\">\n",
              "  <thead>\n",
              "    <tr style=\"text-align: right;\">\n",
              "      <th></th>\n",
              "      <th>오늘</th>\n",
              "      <th>동물원에서</th>\n",
              "      <th>코끼리</th>\n",
              "      <th>원숭이를</th>\n",
              "      <th>보고</th>\n",
              "      <th>원숭이에게</th>\n",
              "      <th>먹이를</th>\n",
              "      <th>줬어</th>\n",
              "      <th>사과를</th>\n",
              "    </tr>\n",
              "  </thead>\n",
              "  <tbody>\n",
              "    <tr>\n",
              "      <th>0</th>\n",
              "      <td>1</td>\n",
              "      <td>1</td>\n",
              "      <td>0</td>\n",
              "      <td>0</td>\n",
              "      <td>0</td>\n",
              "      <td>1</td>\n",
              "      <td>0</td>\n",
              "      <td>1</td>\n",
              "      <td>1</td>\n",
              "    </tr>\n",
              "  </tbody>\n",
              "</table>\n",
              "</div>\n",
              "    <div class=\"colab-df-buttons\">\n",
              "\n",
              "  <div class=\"colab-df-container\">\n",
              "    <button class=\"colab-df-convert\" onclick=\"convertToInteractive('df-71732a3a-0f14-4564-b041-e964c3d46c84')\"\n",
              "            title=\"Convert this dataframe to an interactive table.\"\n",
              "            style=\"display:none;\">\n",
              "\n",
              "  <svg xmlns=\"http://www.w3.org/2000/svg\" height=\"24px\" viewBox=\"0 -960 960 960\">\n",
              "    <path d=\"M120-120v-720h720v720H120Zm60-500h600v-160H180v160Zm220 220h160v-160H400v160Zm0 220h160v-160H400v160ZM180-400h160v-160H180v160Zm440 0h160v-160H620v160ZM180-180h160v-160H180v160Zm440 0h160v-160H620v160Z\"/>\n",
              "  </svg>\n",
              "    </button>\n",
              "\n",
              "  <style>\n",
              "    .colab-df-container {\n",
              "      display:flex;\n",
              "      gap: 12px;\n",
              "    }\n",
              "\n",
              "    .colab-df-convert {\n",
              "      background-color: #E8F0FE;\n",
              "      border: none;\n",
              "      border-radius: 50%;\n",
              "      cursor: pointer;\n",
              "      display: none;\n",
              "      fill: #1967D2;\n",
              "      height: 32px;\n",
              "      padding: 0 0 0 0;\n",
              "      width: 32px;\n",
              "    }\n",
              "\n",
              "    .colab-df-convert:hover {\n",
              "      background-color: #E2EBFA;\n",
              "      box-shadow: 0px 1px 2px rgba(60, 64, 67, 0.3), 0px 1px 3px 1px rgba(60, 64, 67, 0.15);\n",
              "      fill: #174EA6;\n",
              "    }\n",
              "\n",
              "    .colab-df-buttons div {\n",
              "      margin-bottom: 4px;\n",
              "    }\n",
              "\n",
              "    [theme=dark] .colab-df-convert {\n",
              "      background-color: #3B4455;\n",
              "      fill: #D2E3FC;\n",
              "    }\n",
              "\n",
              "    [theme=dark] .colab-df-convert:hover {\n",
              "      background-color: #434B5C;\n",
              "      box-shadow: 0px 1px 3px 1px rgba(0, 0, 0, 0.15);\n",
              "      filter: drop-shadow(0px 1px 2px rgba(0, 0, 0, 0.3));\n",
              "      fill: #FFFFFF;\n",
              "    }\n",
              "  </style>\n",
              "\n",
              "    <script>\n",
              "      const buttonEl =\n",
              "        document.querySelector('#df-71732a3a-0f14-4564-b041-e964c3d46c84 button.colab-df-convert');\n",
              "      buttonEl.style.display =\n",
              "        google.colab.kernel.accessAllowed ? 'block' : 'none';\n",
              "\n",
              "      async function convertToInteractive(key) {\n",
              "        const element = document.querySelector('#df-71732a3a-0f14-4564-b041-e964c3d46c84');\n",
              "        const dataTable =\n",
              "          await google.colab.kernel.invokeFunction('convertToInteractive',\n",
              "                                                    [key], {});\n",
              "        if (!dataTable) return;\n",
              "\n",
              "        const docLinkHtml = 'Like what you see? Visit the ' +\n",
              "          '<a target=\"_blank\" href=https://colab.research.google.com/notebooks/data_table.ipynb>data table notebook</a>'\n",
              "          + ' to learn more about interactive tables.';\n",
              "        element.innerHTML = '';\n",
              "        dataTable['output_type'] = 'display_data';\n",
              "        await google.colab.output.renderOutput(dataTable, element);\n",
              "        const docLink = document.createElement('div');\n",
              "        docLink.innerHTML = docLinkHtml;\n",
              "        element.appendChild(docLink);\n",
              "      }\n",
              "    </script>\n",
              "  </div>\n",
              "\n",
              "    </div>\n",
              "  </div>\n"
            ]
          },
          "metadata": {}
        },
        {
          "output_type": "stream",
          "name": "stdout",
          "text": [
            "\n",
            "\n",
            "\n"
          ]
        }
      ]
    },
    {
      "cell_type": "markdown",
      "source": [
        "## sklearn 사용"
      ],
      "metadata": {
        "id": "3lryx2x0sK4k"
      }
    },
    {
      "cell_type": "code",
      "source": [
        "docs = ['오늘 동물원에서 코끼리 원숭이를 보고 코끼리 원숭이에게 먹이를 줬어',\n",
        "        '오늘 동물원에서 원숭이에게 사과를 줬어']"
      ],
      "metadata": {
        "id": "DZQsz_TvsO1P"
      },
      "execution_count": 1,
      "outputs": []
    },
    {
      "cell_type": "code",
      "source": [
        "# 토큰 빈도 계산 : CountVectorizer\n",
        "from sklearn.feature_extraction.text import CountVectorizer\n",
        "# 선언\n",
        "count_vect = CountVectorizer()\n",
        "\n",
        "BoW = count_vect.fit_transform(docs)\n",
        "BoW.toarray()"
      ],
      "metadata": {
        "id": "d_gctpResR7B",
        "colab": {
          "base_uri": "https://localhost:8080/"
        },
        "outputId": "28149ac0-2e50-4d1c-c2bc-9044c9b6bfdd"
      },
      "execution_count": 2,
      "outputs": [
        {
          "output_type": "execute_result",
          "data": {
            "text/plain": [
              "array([[1, 1, 1, 0, 1, 1, 1, 1, 2],\n",
              "       [1, 0, 0, 1, 1, 0, 1, 1, 0]])"
            ]
          },
          "metadata": {},
          "execution_count": 2
        }
      ]
    },
    {
      "cell_type": "markdown",
      "source": [
        "# TDM 직접 구현"
      ],
      "metadata": {
        "id": "vmnS-cl4iCY9"
      }
    },
    {
      "cell_type": "markdown",
      "source": [
        "## 실습"
      ],
      "metadata": {
        "id": "IPQ0tW4V6WUV"
      }
    },
    {
      "cell_type": "code",
      "source": [
        "docs = ['동물원 코끼리',\n",
        "        '동물원 원숭이 바나나',\n",
        "        '엄마 코끼리 아기 코끼리',\n",
        "        '원숭이 바나나 코끼리 바나나']\n",
        "\n",
        "docs_ls = []\n",
        "\n",
        "for doc in docs:\n",
        "  docs_ls.append(doc.split(' '))\n",
        "\n",
        "docs_ls"
      ],
      "metadata": {
        "colab": {
          "base_uri": "https://localhost:8080/"
        },
        "id": "dL_UoGl-iGhO",
        "outputId": "72963435-54c7-4c2c-f865-804c91ea9f05"
      },
      "execution_count": null,
      "outputs": [
        {
          "output_type": "execute_result",
          "data": {
            "text/plain": [
              "[['동물원', '코끼리'],\n",
              " ['동물원', '원숭이', '바나나'],\n",
              " ['엄마', '코끼리', '아기', '코끼리'],\n",
              " ['원숭이', '바나나', '코끼리', '바나나']]"
            ]
          },
          "metadata": {},
          "execution_count": 80
        }
      ]
    },
    {
      "cell_type": "code",
      "source": [
        "# 고유 토큰 추출 후 인덱스 붙이기\n",
        "docu = set() # 중복값 제거를 위해 빈 세트 설정\n",
        "dict2 = {}\n",
        "for i in range(4):\n",
        "  for k in range(len(docs_ls[i])):\n",
        "    docu.add(docs_ls[i][k])\n",
        "for idx, val in enumerate(docu):\n",
        "  dict2[idx] = val\n",
        "\n",
        "dict2"
      ],
      "metadata": {
        "colab": {
          "base_uri": "https://localhost:8080/"
        },
        "id": "Ii_TyDTKiGc6",
        "outputId": "016d88a4-eed6-45f6-d03f-b6611341f5c6"
      },
      "execution_count": null,
      "outputs": [
        {
          "output_type": "execute_result",
          "data": {
            "text/plain": [
              "{0: '아기', 1: '코끼리', 2: '엄마', 3: '동물원', 4: '바나나', 5: '원숭이'}"
            ]
          },
          "metadata": {},
          "execution_count": 81
        }
      ]
    },
    {
      "cell_type": "code",
      "source": [
        "lis = []\n",
        "for val in dict2.values():\n",
        "  lis.append(val)\n",
        "lis"
      ],
      "metadata": {
        "colab": {
          "base_uri": "https://localhost:8080/"
        },
        "id": "BDNGfQXmiGTc",
        "outputId": "e89c631d-9b83-4f62-919d-7baaad1b95ba"
      },
      "execution_count": null,
      "outputs": [
        {
          "output_type": "execute_result",
          "data": {
            "text/plain": [
              "['아기', '코끼리', '엄마', '동물원', '바나나', '원숭이']"
            ]
          },
          "metadata": {},
          "execution_count": 82
        }
      ]
    },
    {
      "cell_type": "code",
      "source": [
        "import pandas as pd\n",
        "import numpy as np\n",
        "\n",
        "tdm1 = [] # 각각의 row에 들어갈 변수 설정\n",
        "tdm2 = []\n",
        "tdm3 = []\n",
        "tdm4 = []\n",
        "docu1 = docs_ls[0]\n",
        "docu2 = docs_ls[1]\n",
        "docu3 = docs_ls[2]\n",
        "docu4 = docs_ls[3]\n",
        "# 문서 별로 각각의 토큰 등장 횟수 세기\n",
        "for c in range(len(lis)):\n",
        "  for i in range(4):\n",
        "    tdm1.append(docu1.count(lis[c]))\n",
        "    tdm2.append(docu2.count(lis[c]))\n",
        "    tdm3.append(docu3.count(lis[c]))\n",
        "    tdm4.append(docu4.count(lis[c]))"
      ],
      "metadata": {
        "colab": {
          "base_uri": "https://localhost:8080/"
        },
        "id": "f0n2P7qwj22-",
        "outputId": "41c872af-1f3e-4a57-b320-237799ce224b"
      },
      "execution_count": null,
      "outputs": [
        {
          "output_type": "stream",
          "name": "stdout",
          "text": [
            "[0, 1, 0, 1, 0, 0] [0, 0, 0, 1, 1, 1] [1, 2, 1, 0, 0, 0] [0, 1, 0, 0, 2, 1]\n"
          ]
        }
      ]
    },
    {
      "cell_type": "code",
      "source": [
        "df = pd.DataFrame({'문서1' : tdm1,\n",
        "                  '문서2' : tdm2,\n",
        "                  '문서3' : tdm3,\n",
        "                  '문서4' : tdm4},\n",
        "                  index = lis\n",
        "                 )\n",
        "df"
      ],
      "metadata": {
        "colab": {
          "base_uri": "https://localhost:8080/",
          "height": 237
        },
        "id": "yIOLNg8vkV5_",
        "outputId": "0d0fe534-ef48-481c-e16b-26eaf47d0301"
      },
      "execution_count": null,
      "outputs": [
        {
          "output_type": "execute_result",
          "data": {
            "text/plain": [
              "     문서1  문서2  문서3  문서4\n",
              "아기     0    0    1    0\n",
              "코끼리    1    0    2    1\n",
              "엄마     0    0    1    0\n",
              "동물원    1    1    0    0\n",
              "바나나    0    1    0    2\n",
              "원숭이    0    1    0    1"
            ],
            "text/html": [
              "\n",
              "  <div id=\"df-4495566d-c076-47af-b92a-ccd98095a9f0\" class=\"colab-df-container\">\n",
              "    <div>\n",
              "<style scoped>\n",
              "    .dataframe tbody tr th:only-of-type {\n",
              "        vertical-align: middle;\n",
              "    }\n",
              "\n",
              "    .dataframe tbody tr th {\n",
              "        vertical-align: top;\n",
              "    }\n",
              "\n",
              "    .dataframe thead th {\n",
              "        text-align: right;\n",
              "    }\n",
              "</style>\n",
              "<table border=\"1\" class=\"dataframe\">\n",
              "  <thead>\n",
              "    <tr style=\"text-align: right;\">\n",
              "      <th></th>\n",
              "      <th>문서1</th>\n",
              "      <th>문서2</th>\n",
              "      <th>문서3</th>\n",
              "      <th>문서4</th>\n",
              "    </tr>\n",
              "  </thead>\n",
              "  <tbody>\n",
              "    <tr>\n",
              "      <th>아기</th>\n",
              "      <td>0</td>\n",
              "      <td>0</td>\n",
              "      <td>1</td>\n",
              "      <td>0</td>\n",
              "    </tr>\n",
              "    <tr>\n",
              "      <th>코끼리</th>\n",
              "      <td>1</td>\n",
              "      <td>0</td>\n",
              "      <td>2</td>\n",
              "      <td>1</td>\n",
              "    </tr>\n",
              "    <tr>\n",
              "      <th>엄마</th>\n",
              "      <td>0</td>\n",
              "      <td>0</td>\n",
              "      <td>1</td>\n",
              "      <td>0</td>\n",
              "    </tr>\n",
              "    <tr>\n",
              "      <th>동물원</th>\n",
              "      <td>1</td>\n",
              "      <td>1</td>\n",
              "      <td>0</td>\n",
              "      <td>0</td>\n",
              "    </tr>\n",
              "    <tr>\n",
              "      <th>바나나</th>\n",
              "      <td>0</td>\n",
              "      <td>1</td>\n",
              "      <td>0</td>\n",
              "      <td>2</td>\n",
              "    </tr>\n",
              "    <tr>\n",
              "      <th>원숭이</th>\n",
              "      <td>0</td>\n",
              "      <td>1</td>\n",
              "      <td>0</td>\n",
              "      <td>1</td>\n",
              "    </tr>\n",
              "  </tbody>\n",
              "</table>\n",
              "</div>\n",
              "    <div class=\"colab-df-buttons\">\n",
              "\n",
              "  <div class=\"colab-df-container\">\n",
              "    <button class=\"colab-df-convert\" onclick=\"convertToInteractive('df-4495566d-c076-47af-b92a-ccd98095a9f0')\"\n",
              "            title=\"Convert this dataframe to an interactive table.\"\n",
              "            style=\"display:none;\">\n",
              "\n",
              "  <svg xmlns=\"http://www.w3.org/2000/svg\" height=\"24px\" viewBox=\"0 -960 960 960\">\n",
              "    <path d=\"M120-120v-720h720v720H120Zm60-500h600v-160H180v160Zm220 220h160v-160H400v160Zm0 220h160v-160H400v160ZM180-400h160v-160H180v160Zm440 0h160v-160H620v160ZM180-180h160v-160H180v160Zm440 0h160v-160H620v160Z\"/>\n",
              "  </svg>\n",
              "    </button>\n",
              "\n",
              "  <style>\n",
              "    .colab-df-container {\n",
              "      display:flex;\n",
              "      gap: 12px;\n",
              "    }\n",
              "\n",
              "    .colab-df-convert {\n",
              "      background-color: #E8F0FE;\n",
              "      border: none;\n",
              "      border-radius: 50%;\n",
              "      cursor: pointer;\n",
              "      display: none;\n",
              "      fill: #1967D2;\n",
              "      height: 32px;\n",
              "      padding: 0 0 0 0;\n",
              "      width: 32px;\n",
              "    }\n",
              "\n",
              "    .colab-df-convert:hover {\n",
              "      background-color: #E2EBFA;\n",
              "      box-shadow: 0px 1px 2px rgba(60, 64, 67, 0.3), 0px 1px 3px 1px rgba(60, 64, 67, 0.15);\n",
              "      fill: #174EA6;\n",
              "    }\n",
              "\n",
              "    .colab-df-buttons div {\n",
              "      margin-bottom: 4px;\n",
              "    }\n",
              "\n",
              "    [theme=dark] .colab-df-convert {\n",
              "      background-color: #3B4455;\n",
              "      fill: #D2E3FC;\n",
              "    }\n",
              "\n",
              "    [theme=dark] .colab-df-convert:hover {\n",
              "      background-color: #434B5C;\n",
              "      box-shadow: 0px 1px 3px 1px rgba(0, 0, 0, 0.15);\n",
              "      filter: drop-shadow(0px 1px 2px rgba(0, 0, 0, 0.3));\n",
              "      fill: #FFFFFF;\n",
              "    }\n",
              "  </style>\n",
              "\n",
              "    <script>\n",
              "      const buttonEl =\n",
              "        document.querySelector('#df-4495566d-c076-47af-b92a-ccd98095a9f0 button.colab-df-convert');\n",
              "      buttonEl.style.display =\n",
              "        google.colab.kernel.accessAllowed ? 'block' : 'none';\n",
              "\n",
              "      async function convertToInteractive(key) {\n",
              "        const element = document.querySelector('#df-4495566d-c076-47af-b92a-ccd98095a9f0');\n",
              "        const dataTable =\n",
              "          await google.colab.kernel.invokeFunction('convertToInteractive',\n",
              "                                                    [key], {});\n",
              "        if (!dataTable) return;\n",
              "\n",
              "        const docLinkHtml = 'Like what you see? Visit the ' +\n",
              "          '<a target=\"_blank\" href=https://colab.research.google.com/notebooks/data_table.ipynb>data table notebook</a>'\n",
              "          + ' to learn more about interactive tables.';\n",
              "        element.innerHTML = '';\n",
              "        dataTable['output_type'] = 'display_data';\n",
              "        await google.colab.output.renderOutput(dataTable, element);\n",
              "        const docLink = document.createElement('div');\n",
              "        docLink.innerHTML = docLinkHtml;\n",
              "        element.appendChild(docLink);\n",
              "      }\n",
              "    </script>\n",
              "  </div>\n",
              "\n",
              "\n",
              "<div id=\"df-b81dc699-efb7-43c5-88dc-7c7ee4b27701\">\n",
              "  <button class=\"colab-df-quickchart\" onclick=\"quickchart('df-b81dc699-efb7-43c5-88dc-7c7ee4b27701')\"\n",
              "            title=\"Suggest charts.\"\n",
              "            style=\"display:none;\">\n",
              "\n",
              "<svg xmlns=\"http://www.w3.org/2000/svg\" height=\"24px\"viewBox=\"0 0 24 24\"\n",
              "     width=\"24px\">\n",
              "    <g>\n",
              "        <path d=\"M19 3H5c-1.1 0-2 .9-2 2v14c0 1.1.9 2 2 2h14c1.1 0 2-.9 2-2V5c0-1.1-.9-2-2-2zM9 17H7v-7h2v7zm4 0h-2V7h2v10zm4 0h-2v-4h2v4z\"/>\n",
              "    </g>\n",
              "</svg>\n",
              "  </button>\n",
              "\n",
              "<style>\n",
              "  .colab-df-quickchart {\n",
              "      --bg-color: #E8F0FE;\n",
              "      --fill-color: #1967D2;\n",
              "      --hover-bg-color: #E2EBFA;\n",
              "      --hover-fill-color: #174EA6;\n",
              "      --disabled-fill-color: #AAA;\n",
              "      --disabled-bg-color: #DDD;\n",
              "  }\n",
              "\n",
              "  [theme=dark] .colab-df-quickchart {\n",
              "      --bg-color: #3B4455;\n",
              "      --fill-color: #D2E3FC;\n",
              "      --hover-bg-color: #434B5C;\n",
              "      --hover-fill-color: #FFFFFF;\n",
              "      --disabled-bg-color: #3B4455;\n",
              "      --disabled-fill-color: #666;\n",
              "  }\n",
              "\n",
              "  .colab-df-quickchart {\n",
              "    background-color: var(--bg-color);\n",
              "    border: none;\n",
              "    border-radius: 50%;\n",
              "    cursor: pointer;\n",
              "    display: none;\n",
              "    fill: var(--fill-color);\n",
              "    height: 32px;\n",
              "    padding: 0;\n",
              "    width: 32px;\n",
              "  }\n",
              "\n",
              "  .colab-df-quickchart:hover {\n",
              "    background-color: var(--hover-bg-color);\n",
              "    box-shadow: 0 1px 2px rgba(60, 64, 67, 0.3), 0 1px 3px 1px rgba(60, 64, 67, 0.15);\n",
              "    fill: var(--button-hover-fill-color);\n",
              "  }\n",
              "\n",
              "  .colab-df-quickchart-complete:disabled,\n",
              "  .colab-df-quickchart-complete:disabled:hover {\n",
              "    background-color: var(--disabled-bg-color);\n",
              "    fill: var(--disabled-fill-color);\n",
              "    box-shadow: none;\n",
              "  }\n",
              "\n",
              "  .colab-df-spinner {\n",
              "    border: 2px solid var(--fill-color);\n",
              "    border-color: transparent;\n",
              "    border-bottom-color: var(--fill-color);\n",
              "    animation:\n",
              "      spin 1s steps(1) infinite;\n",
              "  }\n",
              "\n",
              "  @keyframes spin {\n",
              "    0% {\n",
              "      border-color: transparent;\n",
              "      border-bottom-color: var(--fill-color);\n",
              "      border-left-color: var(--fill-color);\n",
              "    }\n",
              "    20% {\n",
              "      border-color: transparent;\n",
              "      border-left-color: var(--fill-color);\n",
              "      border-top-color: var(--fill-color);\n",
              "    }\n",
              "    30% {\n",
              "      border-color: transparent;\n",
              "      border-left-color: var(--fill-color);\n",
              "      border-top-color: var(--fill-color);\n",
              "      border-right-color: var(--fill-color);\n",
              "    }\n",
              "    40% {\n",
              "      border-color: transparent;\n",
              "      border-right-color: var(--fill-color);\n",
              "      border-top-color: var(--fill-color);\n",
              "    }\n",
              "    60% {\n",
              "      border-color: transparent;\n",
              "      border-right-color: var(--fill-color);\n",
              "    }\n",
              "    80% {\n",
              "      border-color: transparent;\n",
              "      border-right-color: var(--fill-color);\n",
              "      border-bottom-color: var(--fill-color);\n",
              "    }\n",
              "    90% {\n",
              "      border-color: transparent;\n",
              "      border-bottom-color: var(--fill-color);\n",
              "    }\n",
              "  }\n",
              "</style>\n",
              "\n",
              "  <script>\n",
              "    async function quickchart(key) {\n",
              "      const quickchartButtonEl =\n",
              "        document.querySelector('#' + key + ' button');\n",
              "      quickchartButtonEl.disabled = true;  // To prevent multiple clicks.\n",
              "      quickchartButtonEl.classList.add('colab-df-spinner');\n",
              "      try {\n",
              "        const charts = await google.colab.kernel.invokeFunction(\n",
              "            'suggestCharts', [key], {});\n",
              "      } catch (error) {\n",
              "        console.error('Error during call to suggestCharts:', error);\n",
              "      }\n",
              "      quickchartButtonEl.classList.remove('colab-df-spinner');\n",
              "      quickchartButtonEl.classList.add('colab-df-quickchart-complete');\n",
              "    }\n",
              "    (() => {\n",
              "      let quickchartButtonEl =\n",
              "        document.querySelector('#df-b81dc699-efb7-43c5-88dc-7c7ee4b27701 button');\n",
              "      quickchartButtonEl.style.display =\n",
              "        google.colab.kernel.accessAllowed ? 'block' : 'none';\n",
              "    })();\n",
              "  </script>\n",
              "</div>\n",
              "    </div>\n",
              "  </div>\n"
            ]
          },
          "metadata": {},
          "execution_count": 90
        }
      ]
    },
    {
      "cell_type": "code",
      "source": [],
      "metadata": {
        "id": "FwHqhluLle1H"
      },
      "execution_count": null,
      "outputs": []
    }
  ]
}